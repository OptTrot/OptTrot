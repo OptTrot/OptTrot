{
 "cells": [
  {
   "cell_type": "code",
   "execution_count": 1,
   "metadata": {},
   "outputs": [],
   "source": [
    "from imag import *"
   ]
  },
  {
   "cell_type": "code",
   "execution_count": 2,
   "metadata": {},
   "outputs": [],
   "source": [
    "# @title Test code space\n",
    "import networkx as nx\n",
    "import numpy as np\n",
    "import pandas as pd\n",
    "import matplotlib.pyplot as plt\n",
    "\n",
    "from copy import deepcopy\n",
    "from networkx.algorithms.approximation import max_clique"
   ]
  },
  {
   "cell_type": "markdown",
   "metadata": {},
   "source": [
    "## Ising model test"
   ]
  },
  {
   "cell_type": "code",
   "execution_count": 37,
   "metadata": {},
   "outputs": [
    {
     "name": "stdout",
     "output_type": "stream",
     "text": [
      "[-0.5 -0.5 -0.5 -0.1 -0.1 -0.1 -0.1]\n"
     ]
    }
   ],
   "source": [
    "# @title Ising model Periodic\n",
    "n = 4\n",
    "\n",
    "coeffs_Z = -0.5*np.ones(3)\n",
    "coeffs_X = -0.1*np.ones(4)\n",
    "coeffs = np.concatenate([coeffs_Z, coeffs_X])\n",
    "\n",
    "print(coeffs)\n",
    "ops = [\n",
    "    qml.PauliZ(0) @ qml.PauliZ(1),\n",
    "    qml.PauliZ(1) @ qml.PauliZ(2),\n",
    "    qml.PauliZ(2) @ qml.PauliZ(3),\n",
    "    #qml.PauliZ(0) @ qml.PauliZ(3), # periodic boundary condition\n",
    "    qml.PauliX(0),\n",
    "    qml.PauliX(1),\n",
    "    qml.PauliX(2),\n",
    "    qml.PauliX(3)\n",
    "    ]\n",
    "\n",
    "H_ising = qml.Hamiltonian(coeffs, ops)\n",
    "H_ising = np.matrix(qml.matrix(H_ising))\n",
    "#print(H_ising)\n",
    "#H = #np.array(...) 2D matrix\n",
    "hamiltonian = Hamiltonian(H_ising, commute_map=True)"
   ]
  },
  {
   "cell_type": "code",
   "execution_count": 38,
   "metadata": {},
   "outputs": [],
   "source": [
    "# Get exact eigen-value and vector pairs"
   ]
  },
  {
   "cell_type": "code",
   "execution_count": 39,
   "metadata": {},
   "outputs": [],
   "source": [
    "evals, evectors = np.linalg.eig(H_ising)"
   ]
  },
  {
   "cell_type": "code",
   "execution_count": 68,
   "metadata": {},
   "outputs": [
    {
     "data": {
      "text/plain": [
       "array([-1.5308674 , -1.52933139, -0.65375097, -0.65221496, -0.50153601,\n",
       "       -0.5       , -0.37711643, -0.37558042,  0.37558042,  0.37711643,\n",
       "        0.5       ,  0.50153601,  0.65221496,  0.65375097,  1.52933139,\n",
       "        1.5308674 ])"
      ]
     },
     "execution_count": 68,
     "metadata": {},
     "output_type": "execute_result"
    }
   ],
   "source": [
    "evales = evals.real\n",
    "evales.sort()\n",
    "evales"
   ]
  },
  {
   "cell_type": "code",
   "execution_count": 41,
   "metadata": {},
   "outputs": [
    {
     "data": {
      "text/plain": [
       "(16, 16)"
      ]
     },
     "execution_count": 41,
     "metadata": {},
     "output_type": "execute_result"
    }
   ],
   "source": [
    "evectors.shape"
   ]
  },
  {
   "cell_type": "code",
   "execution_count": 100,
   "metadata": {},
   "outputs": [],
   "source": [
    "# @title Ising model\n",
    "n = 4\n",
    "\n",
    "#coeffs_Z = -0.5*np.ones(3)\n",
    "coeffs_X = -0.1*np.ones(4)\n",
    "coeffs = np.concatenate([coeffs_Z, coeffs_X])\n",
    "coeffs = coeffs_X\n",
    "#print(coeffs)\n",
    "ops = [\n",
    "    #qml.PauliZ(0) @ qml.PauliZ(1),\n",
    "    #qml.PauliZ(1) @ qml.PauliZ(2),\n",
    "    #qml.PauliZ(2) @ qml.PauliZ(3),\n",
    "    #qml.PauliZ(0) @ qml.PauliZ(3), # periodic boundary condition\n",
    "    qml.PauliX(0),\n",
    "    qml.PauliX(1),\n",
    "    qml.PauliX(2),\n",
    "    qml.PauliX(3)\n",
    "    ]\n",
    "\n",
    "H_ising = qml.Hamiltonian(coeffs, ops)\n",
    "H_ising = np.matrix(qml.matrix(H_ising))\n",
    "#print(H_ising)\n",
    "#H = #np.array(...) 2D matrix\n",
    "hamiltonian = Hamiltonian(H_ising, commute_map=True)"
   ]
  },
  {
   "cell_type": "code",
   "execution_count": 101,
   "metadata": {},
   "outputs": [
    {
     "data": {
      "text/plain": [
       "<matplotlib.image.AxesImage at 0x17d783150>"
      ]
     },
     "execution_count": 101,
     "metadata": {},
     "output_type": "execute_result"
    },
    {
     "data": {
      "image/png": "[encoded data removed]",
      "text/plain": [
       "<Figure size 640x480 with 1 Axes>"
      ]
     },
     "metadata": {},
     "output_type": "display_data"
    }
   ],
   "source": [
    "plt.imshow(H_ising.real)"
   ]
  },
  {
   "cell_type": "code",
   "execution_count": 102,
   "metadata": {},
   "outputs": [
    {
     "name": "stdout",
     "output_type": "stream",
     "text": [
      "[{'IXII', 'IIXI', 'IIIX', 'XIII'}]\n"
     ]
    }
   ],
   "source": [
    "G_b = get_binary_graph(hamiltonian) # get commuting graph\n",
    "g_classic = deepcopy(G_b)\n",
    "max_cliques = []\n",
    "while len(g_classic.nodes) >0:\n",
    "    clique = max_clique(g_classic)\n",
    "    max_cliques.append(clique)\n",
    "    for node in clique:\n",
    "        g_classic.remove_node(node)\n",
    "print(max_cliques)"
   ]
  },
  {
   "cell_type": "code",
   "execution_count": 103,
   "metadata": {},
   "outputs": [],
   "source": [
    "N = hamiltonian.qubit_num # number of qubits\n",
    "dev = qml.device('default.qubit', wires=N+1, shots=2000)"
   ]
  },
  {
   "cell_type": "code",
   "execution_count": 104,
   "metadata": {},
   "outputs": [
    {
     "data": {
      "text/plain": [
       "0    IIIX\n",
       "1    IIXI\n",
       "2    IXII\n",
       "3    XIII\n",
       "Name: Pstring, dtype: object"
      ]
     },
     "execution_count": 104,
     "metadata": {},
     "output_type": "execute_result"
    }
   ],
   "source": [
    "hamiltonian.local_decomposition[\"Pstring\"]\n"
   ]
  },
  {
   "cell_type": "code",
   "execution_count": null,
   "metadata": {},
   "outputs": [],
   "source": []
  },
  {
   "cell_type": "code",
   "execution_count": 105,
   "metadata": {},
   "outputs": [],
   "source": [
    "#@qml.defer_measurements\n",
    "@qml.qnode(dev)\n",
    "def evolve_hamiltonian(h:Hamiltonian, max_cliques:list, t:float, iter:int, N:int, get_state= False):\n",
    "    for i in range(N-1):\n",
    "        qml.Hadamard(i)\n",
    "    print(f\"Evolve time:{t*iter}\")\n",
    "    print(f\"Trotter-Level:{iter}\")\n",
    "    print(f\"Wires:{N}\")\n",
    "    if np.fabs(t)<1E-8:\n",
    "        hermit = qml.Hermitian(h.Hamiltonian, wires=range(h.qubit_num))\n",
    "        return qml.expval(hermit)\n",
    "\n",
    "    qml.Barrier(wires=range(N))\n",
    "    # coef \n",
    "    gamma = coef_scale = np.abs(h.local_decomposition.iloc[:, 4]).max()\n",
    "     \n",
    "    for k in range(iter):\n",
    "        #print(f\"{k+1}/{iter}\", end=\"\\t\")\n",
    "        i=0\n",
    "        l = len(max_cliques)\n",
    "        for i, c in enumerate(max_cliques):\n",
    "            for j, p in enumerate(c):\n",
    "                coef_i = complex(h.local_decomposition.loc[h.local_decomposition[\"Pstring\"] == p].iloc[0, 3])\n",
    "                #print(coef)\n",
    "                evolve_circuit(\n",
    "                    p,\n",
    "                    0,\n",
    "                    coef_i,\n",
    "                    t,\n",
    "                    True, #imaginary,\n",
    "                    gamma\n",
    "                )\n",
    "                qml.Barrier(wires=range(h.qubit_num))\n",
    "                i+=1\n",
    "                # mid-measurement\n",
    "                m0 = qml.measure(N-1, postselect=0)#-requires new wires for each mid-measurement.\n",
    "                #print(m0)\n",
    "                #qml.cond((m0 == 1), qml.Hadamard)(N+1)\n",
    "                #m1 = (qml.measure(N +1))\n",
    "                #qml.cond(m0 == 1 and m1 == 0, qml.PauliX)(N+1)\n",
    "                #if m0 == 1:\n",
    "                #    print(\"Failed\")\n",
    "                #    break\n",
    "                #\n",
    "            #if m0==1:\n",
    "            #    break\n",
    "    if get_state:\n",
    "        return qml.state()\n",
    "    else:\n",
    "        hermit = qml.Hermitian(h.Hamiltonian, wires=range(h.qubit_num))\n",
    "        return qml.expval(hermit)"
   ]
  },
  {
   "cell_type": "code",
   "execution_count": 106,
   "metadata": {},
   "outputs": [
    {
     "name": "stdout",
     "output_type": "stream",
     "text": [
      "Evolve time:0.1\n",
      "Trotter-Level:1\n",
      "Wires:5\n"
     ]
    },
    {
     "name": "stderr",
     "output_type": "stream",
     "text": [
      "/var/folders/wv/cwvgxcp14lxcs5jn0r6p87sr0000gn/T/ipykernel_11321/1822880935.py:3: UserWarning: Matplotlib is currently using module://matplotlib_inline.backend_inline, which is a non-GUI backend, so cannot show the figure.\n",
      "  fig.show()\n"
     ]
    },
    {
     "data": {
      "image/png": "[encoded data removed]",
      "text/plain": [
       "<Figure size 2100x600 with 1 Axes>"
      ]
     },
     "metadata": {},
     "output_type": "display_data"
    }
   ],
   "source": [
    "t=0.1\n",
    "fig, ax = qml.draw_mpl(evolve_hamiltonian)(hamiltonian, max_cliques, t, 1,N+1)\n",
    "fig.show()"
   ]
  },
  {
   "cell_type": "markdown",
   "metadata": {},
   "source": [
    "## Ground state test\n",
    "\n",
    "If the given state is a ground state, then the routine must act as Identity gate.\n",
    "\n",
    "$$H = \\sum_i X^i$$"
   ]
  },
  {
   "cell_type": "code",
   "execution_count": 107,
   "metadata": {},
   "outputs": [
    {
     "name": "stdout",
     "output_type": "stream",
     "text": [
      "Evolve time:0.2\n",
      "Trotter-Level:2\n",
      "Wires:5\n"
     ]
    },
    {
     "data": {
      "text/plain": [
       "-0.39999999999998587"
      ]
     },
     "execution_count": 107,
     "metadata": {},
     "output_type": "execute_result"
    }
   ],
   "source": [
    "evolve_hamiltonian(hamiltonian, max_cliques, 0.1, 2, N+1) # t = 0.2, (sec)"
   ]
  },
  {
   "cell_type": "code",
   "execution_count": 108,
   "metadata": {},
   "outputs": [
    {
     "name": "stdout",
     "output_type": "stream",
     "text": [
      "0.1\n",
      "Configuration:t=0.1, T_level:10\n",
      "Evolve time:0.0\n",
      "Trotter-Level:0\n",
      "Wires:5\n",
      "E:-0.4000000000000003\n",
      "Configuration:t=0.1, T_level:10\n",
      "Evolve time:1.0\n",
      "Trotter-Level:10\n",
      "Wires:5\n",
      "E:-0.39999999999998587\n",
      "Configuration:t=0.1, T_level:10\n",
      "Evolve time:2.0\n",
      "Trotter-Level:20\n",
      "Wires:5\n",
      "E:-0.39999999999998587\n",
      "Configuration:t=0.1, T_level:10\n",
      "Evolve time:3.0\n",
      "Trotter-Level:30\n",
      "Wires:5\n",
      "E:-0.39999999999998587\n"
     ]
    }
   ],
   "source": [
    "trotter_step = 10\n",
    "energies = []\n",
    "dt = 0.1\n",
    "print(dt)\n",
    "for i in range(0, 4):\n",
    "    print(f\"Configuration:t={dt}, T_level:{trotter_step}\")\n",
    "    e = evolve_hamiltonian(hamiltonian, max_cliques, dt, i*trotter_step, N+1) #\n",
    "    print(f\"E:{e}\")\n",
    "    energies.append(e)"
   ]
  },
  {
   "cell_type": "code",
   "execution_count": 78,
   "metadata": {},
   "outputs": [
    {
     "name": "stdout",
     "output_type": "stream",
     "text": [
      "Evolve time:3.0\n",
      "Trotter-Level:30\n",
      "Wires:5\n"
     ]
    },
    {
     "data": {
      "text/plain": [
       "-1.5308674019768724"
      ]
     },
     "execution_count": 78,
     "metadata": {},
     "output_type": "execute_result"
    }
   ],
   "source": [
    "i = 3\n",
    "evolve_hamiltonian(hamiltonian, max_cliques, dt, i*trotter_step, N+1) #"
   ]
  },
  {
   "cell_type": "code",
   "execution_count": 99,
   "metadata": {},
   "outputs": [
    {
     "name": "stdout",
     "output_type": "stream",
     "text": [
      "-1.530867401976872\n",
      "-1.5293313870342808\n",
      "-0.6537509705501752\n",
      "-0.652214955607584\n",
      "-0.5015360149425906\n",
      "-0.5000000000000002\n",
      "-0.37711643142669704\n",
      "-0.37558041648410556\n",
      "0.37558041648410667\n",
      "0.37711643142669754\n",
      "0.49999999999999983\n",
      "0.5015360149425908\n",
      "0.6522149556075842\n",
      "0.6537509705501754\n",
      "1.529331387034283\n",
      "1.5308674019768669\n"
     ]
    },
    {
     "data": {
      "image/png": "[encoded data removed]",
      "text/plain": [
       "<Figure size 640x480 with 1 Axes>"
      ]
     },
     "metadata": {},
     "output_type": "display_data"
    }
   ],
   "source": [
    "plt.plot(range(0, 4), energies)\n",
    "for e in evales:\n",
    "    print(e)\n",
    "    plt.axhline(e)\n",
    "plt.grid()"
   ]
  },
  {
   "cell_type": "code",
   "execution_count": 69,
   "metadata": {},
   "outputs": [
    {
     "data": {
      "text/plain": [
       "array([-1.5308674 , -1.52933139, -0.65375097, -0.65221496, -0.50153601,\n",
       "       -0.5       , -0.37711643, -0.37558042,  0.37558042,  0.37711643,\n",
       "        0.5       ,  0.50153601,  0.65221496,  0.65375097,  1.52933139,\n",
       "        1.5308674 ])"
      ]
     },
     "execution_count": 69,
     "metadata": {},
     "output_type": "execute_result"
    }
   ],
   "source": [
    "evales = evals.real\n",
    "evales.sort()\n",
    "evales"
   ]
  },
  {
   "cell_type": "code",
   "execution_count": 83,
   "metadata": {},
   "outputs": [],
   "source": [
    "N = hamiltonian.qubit_num # number of qubits\n",
    "dev2 = qml.device('default.qubit', wires=N+1, shots=None)"
   ]
  },
  {
   "cell_type": "code",
   "execution_count": 95,
   "metadata": {},
   "outputs": [],
   "source": [
    "#@qml.defer_measurements\n",
    "@qml.qnode(dev2)\n",
    "def evolve_hamiltonian2(h:Hamiltonian, max_cliques:list, t:float, iter:int, N:int, get_state= False):\n",
    "    for i in range(N-1):\n",
    "        qml.Hadamard(i)\n",
    "    print(f\"Evolve time:{t*iter}\")\n",
    "    print(f\"Trotter-Level:{iter}\")\n",
    "    print(f\"Wires:{N}\")\n",
    "    if np.fabs(t)<1E-8:\n",
    "        hermit = qml.Hermitian(h.Hamiltonian, wires=range(h.qubit_num))\n",
    "        return qml.expval(hermit)\n",
    "\n",
    "    qml.Barrier(wires=range(N))\n",
    "    # coef \n",
    "    gamma = coef_scale = np.abs(h.local_decomposition.iloc[:, 4]).max()\n",
    "     \n",
    "    for k in range(iter):\n",
    "        #print(f\"{k+1}/{iter}\", end=\"\\t\")\n",
    "        i=0\n",
    "        l = len(max_cliques)\n",
    "        for i, c in enumerate(max_cliques):\n",
    "            for j, p in enumerate(c):\n",
    "                coef_i = complex(h.local_decomposition.loc[h.local_decomposition[\"Pstring\"] == p].iloc[0, 3])\n",
    "                #print(coef)\n",
    "                evolve_circuit(\n",
    "                    p,\n",
    "                    0,\n",
    "                    coef_i,\n",
    "                    t,\n",
    "                    True, #imaginary,\n",
    "                    gamma\n",
    "                )\n",
    "                qml.Barrier(wires=range(h.qubit_num))\n",
    "                i+=1\n",
    "                # mid-measurement\n",
    "                m0 = qml.measure(N-1, postselect=0)#-requires new wires for each mid-measurement.\n",
    "                #print(m0)\n",
    "                #qml.cond((m0 == 1), qml.Hadamard)(N+1)\n",
    "                #m1 = (qml.measure(N +1))\n",
    "                #qml.cond(m0 == 1 and m1 == 0, qml.PauliX)(N+1)\n",
    "                #if m0 == 1:\n",
    "                #    print(\"Failed\")\n",
    "                #    break\n",
    "                #\n",
    "            #if m0==1:\n",
    "            #    break\n",
    "    if get_state:\n",
    "        return qml.state()\n",
    "    else:\n",
    "        hermit = qml.Hermitian(h.Hamiltonian, wires=range(h.qubit_num))\n",
    "        return qml.expval(hermit)"
   ]
  },
  {
   "cell_type": "code",
   "execution_count": 96,
   "metadata": {},
   "outputs": [
    {
     "name": "stdout",
     "output_type": "stream",
     "text": [
      "Evolve time:3.0\n",
      "Trotter-Level:30\n",
      "Wires:5\n"
     ]
    },
    {
     "ename": "ValueError",
     "evalue": "Cannot use StateMP as a measurement when using qml.defer_measurements. Deferred measurements can occur automatically when using mid-circuit measurements on a device that does not support them.",
     "output_type": "error",
     "traceback": [
      "\u001b[0;31m---------------------------------------------------------------------------\u001b[0m",
      "\u001b[0;31mValueError\u001b[0m                                Traceback (most recent call last)",
      "Cell \u001b[0;32mIn[96], line 2\u001b[0m\n\u001b[1;32m      1\u001b[0m i \u001b[38;5;241m=\u001b[39m \u001b[38;5;241m3\u001b[39m\n\u001b[0;32m----> 2\u001b[0m state \u001b[38;5;241m=\u001b[39m \u001b[43mevolve_hamiltonian2\u001b[49m\u001b[43m(\u001b[49m\u001b[43mhamiltonian\u001b[49m\u001b[43m,\u001b[49m\u001b[43m \u001b[49m\u001b[43mmax_cliques\u001b[49m\u001b[43m,\u001b[49m\u001b[43m \u001b[49m\u001b[43mdt\u001b[49m\u001b[43m,\u001b[49m\u001b[43m \u001b[49m\u001b[43mi\u001b[49m\u001b[38;5;241;43m*\u001b[39;49m\u001b[43mtrotter_step\u001b[49m\u001b[43m,\u001b[49m\u001b[43m \u001b[49m\u001b[43mN\u001b[49m\u001b[38;5;241;43m+\u001b[39;49m\u001b[38;5;241;43m1\u001b[39;49m\u001b[43m,\u001b[49m\u001b[43m \u001b[49m\u001b[43mget_state\u001b[49m\u001b[38;5;241;43m=\u001b[39;49m\u001b[38;5;28;43;01mTrue\u001b[39;49;00m\u001b[43m)\u001b[49m \u001b[38;5;66;03m#\u001b[39;00m\n\u001b[1;32m      4\u001b[0m state\n",
      "File \u001b[0;32m~/miniconda3/envs/quantum_computer/lib/python3.11/site-packages/pennylane/workflow/qnode.py:1048\u001b[0m, in \u001b[0;36mQNode.__call__\u001b[0;34m(self, *args, **kwargs)\u001b[0m\n\u001b[1;32m   1043\u001b[0m         full_transform_program\u001b[38;5;241m.\u001b[39m_set_all_argnums(\n\u001b[1;32m   1044\u001b[0m             \u001b[38;5;28mself\u001b[39m, args, kwargs, argnums\n\u001b[1;32m   1045\u001b[0m         )  \u001b[38;5;66;03m# pylint: disable=protected-access\u001b[39;00m\n\u001b[1;32m   1047\u001b[0m \u001b[38;5;66;03m# pylint: disable=unexpected-keyword-arg\u001b[39;00m\n\u001b[0;32m-> 1048\u001b[0m res \u001b[38;5;241m=\u001b[39m \u001b[43mqml\u001b[49m\u001b[38;5;241;43m.\u001b[39;49m\u001b[43mexecute\u001b[49m\u001b[43m(\u001b[49m\n\u001b[1;32m   1049\u001b[0m \u001b[43m    \u001b[49m\u001b[43m(\u001b[49m\u001b[38;5;28;43mself\u001b[39;49m\u001b[38;5;241;43m.\u001b[39;49m\u001b[43m_tape\u001b[49m\u001b[43m,\u001b[49m\u001b[43m)\u001b[49m\u001b[43m,\u001b[49m\n\u001b[1;32m   1050\u001b[0m \u001b[43m    \u001b[49m\u001b[43mdevice\u001b[49m\u001b[38;5;241;43m=\u001b[39;49m\u001b[38;5;28;43mself\u001b[39;49m\u001b[38;5;241;43m.\u001b[39;49m\u001b[43mdevice\u001b[49m\u001b[43m,\u001b[49m\n\u001b[1;32m   1051\u001b[0m \u001b[43m    \u001b[49m\u001b[43mgradient_fn\u001b[49m\u001b[38;5;241;43m=\u001b[39;49m\u001b[38;5;28;43mself\u001b[39;49m\u001b[38;5;241;43m.\u001b[39;49m\u001b[43mgradient_fn\u001b[49m\u001b[43m,\u001b[49m\n\u001b[1;32m   1052\u001b[0m \u001b[43m    \u001b[49m\u001b[43minterface\u001b[49m\u001b[38;5;241;43m=\u001b[39;49m\u001b[38;5;28;43mself\u001b[39;49m\u001b[38;5;241;43m.\u001b[39;49m\u001b[43minterface\u001b[49m\u001b[43m,\u001b[49m\n\u001b[1;32m   1053\u001b[0m \u001b[43m    \u001b[49m\u001b[43mtransform_program\u001b[49m\u001b[38;5;241;43m=\u001b[39;49m\u001b[43mfull_transform_program\u001b[49m\u001b[43m,\u001b[49m\n\u001b[1;32m   1054\u001b[0m \u001b[43m    \u001b[49m\u001b[43mconfig\u001b[49m\u001b[38;5;241;43m=\u001b[39;49m\u001b[43mconfig\u001b[49m\u001b[43m,\u001b[49m\n\u001b[1;32m   1055\u001b[0m \u001b[43m    \u001b[49m\u001b[43mgradient_kwargs\u001b[49m\u001b[38;5;241;43m=\u001b[39;49m\u001b[38;5;28;43mself\u001b[39;49m\u001b[38;5;241;43m.\u001b[39;49m\u001b[43mgradient_kwargs\u001b[49m\u001b[43m,\u001b[49m\n\u001b[1;32m   1056\u001b[0m \u001b[43m    \u001b[49m\u001b[43moverride_shots\u001b[49m\u001b[38;5;241;43m=\u001b[39;49m\u001b[43moverride_shots\u001b[49m\u001b[43m,\u001b[49m\n\u001b[1;32m   1057\u001b[0m \u001b[43m    \u001b[49m\u001b[38;5;241;43m*\u001b[39;49m\u001b[38;5;241;43m*\u001b[39;49m\u001b[38;5;28;43mself\u001b[39;49m\u001b[38;5;241;43m.\u001b[39;49m\u001b[43mexecute_kwargs\u001b[49m\u001b[43m,\u001b[49m\n\u001b[1;32m   1058\u001b[0m \u001b[43m\u001b[49m\u001b[43m)\u001b[49m\n\u001b[1;32m   1060\u001b[0m res \u001b[38;5;241m=\u001b[39m res[\u001b[38;5;241m0\u001b[39m]\n\u001b[1;32m   1062\u001b[0m \u001b[38;5;66;03m# convert result to the interface in case the qfunc has no parameters\u001b[39;00m\n",
      "File \u001b[0;32m~/miniconda3/envs/quantum_computer/lib/python3.11/site-packages/pennylane/workflow/execution.py:668\u001b[0m, in \u001b[0;36mexecute\u001b[0;34m(tapes, device, gradient_fn, interface, transform_program, config, grad_on_execution, gradient_kwargs, cache, cachesize, max_diff, override_shots, expand_fn, max_expansion, device_batch_transform, device_vjp)\u001b[0m\n\u001b[1;32m    663\u001b[0m     \u001b[38;5;28;01mif\u001b[39;00m \u001b[38;5;129;01mnot\u001b[39;00m device_batch_transform:\n\u001b[1;32m    664\u001b[0m         warnings\u001b[38;5;241m.\u001b[39mwarn(\n\u001b[1;32m    665\u001b[0m             \u001b[38;5;124m\"\u001b[39m\u001b[38;5;124mdevice batch transforms cannot be turned off with the new device interface.\u001b[39m\u001b[38;5;124m\"\u001b[39m,\n\u001b[1;32m    666\u001b[0m             \u001b[38;5;167;01mUserWarning\u001b[39;00m,\n\u001b[1;32m    667\u001b[0m         )\n\u001b[0;32m--> 668\u001b[0m     tapes, post_processing \u001b[38;5;241m=\u001b[39m \u001b[43mtransform_program\u001b[49m\u001b[43m(\u001b[49m\u001b[43mtapes\u001b[49m\u001b[43m)\u001b[49m\n\u001b[1;32m    669\u001b[0m \u001b[38;5;28;01melse\u001b[39;00m:\n\u001b[1;32m    670\u001b[0m     \u001b[38;5;66;03m# TODO: Remove once old device are removed\u001b[39;00m\n\u001b[1;32m    671\u001b[0m     tapes, program_post_processing \u001b[38;5;241m=\u001b[39m transform_program(tapes)\n",
      "File \u001b[0;32m~/miniconda3/envs/quantum_computer/lib/python3.11/site-packages/pennylane/transforms/core/transform_program.py:477\u001b[0m, in \u001b[0;36mTransformProgram.__call__\u001b[0;34m(self, tapes)\u001b[0m\n\u001b[1;32m    475\u001b[0m \u001b[38;5;28;01mif\u001b[39;00m \u001b[38;5;28mself\u001b[39m\u001b[38;5;241m.\u001b[39m_argnums \u001b[38;5;129;01mis\u001b[39;00m \u001b[38;5;129;01mnot\u001b[39;00m \u001b[38;5;28;01mNone\u001b[39;00m \u001b[38;5;129;01mand\u001b[39;00m \u001b[38;5;28mself\u001b[39m\u001b[38;5;241m.\u001b[39m_argnums[i] \u001b[38;5;129;01mis\u001b[39;00m \u001b[38;5;129;01mnot\u001b[39;00m \u001b[38;5;28;01mNone\u001b[39;00m:\n\u001b[1;32m    476\u001b[0m     tape\u001b[38;5;241m.\u001b[39mtrainable_params \u001b[38;5;241m=\u001b[39m \u001b[38;5;28mself\u001b[39m\u001b[38;5;241m.\u001b[39m_argnums[i][j]\n\u001b[0;32m--> 477\u001b[0m new_tapes, fn \u001b[38;5;241m=\u001b[39m \u001b[43mtransform\u001b[49m\u001b[43m(\u001b[49m\u001b[43mtape\u001b[49m\u001b[43m,\u001b[49m\u001b[43m \u001b[49m\u001b[38;5;241;43m*\u001b[39;49m\u001b[43mtargs\u001b[49m\u001b[43m,\u001b[49m\u001b[43m \u001b[49m\u001b[38;5;241;43m*\u001b[39;49m\u001b[38;5;241;43m*\u001b[39;49m\u001b[43mtkwargs\u001b[49m\u001b[43m)\u001b[49m\n\u001b[1;32m    478\u001b[0m execution_tapes\u001b[38;5;241m.\u001b[39mextend(new_tapes)\n\u001b[1;32m    480\u001b[0m fns\u001b[38;5;241m.\u001b[39mappend(fn)\n",
      "File \u001b[0;32m~/miniconda3/envs/quantum_computer/lib/python3.11/site-packages/pennylane/devices/preprocess.py:161\u001b[0m, in \u001b[0;36mmid_circuit_measurements\u001b[0;34m(tape, device)\u001b[0m\n\u001b[1;32m    159\u001b[0m \u001b[38;5;28;01mif\u001b[39;00m tape\u001b[38;5;241m.\u001b[39mshots \u001b[38;5;129;01mand\u001b[39;00m tape\u001b[38;5;241m.\u001b[39mbatch_size \u001b[38;5;129;01mis\u001b[39;00m \u001b[38;5;28;01mNone\u001b[39;00m:\n\u001b[1;32m    160\u001b[0m     \u001b[38;5;28;01mreturn\u001b[39;00m (tape,), null_postprocessing\n\u001b[0;32m--> 161\u001b[0m \u001b[38;5;28;01mreturn\u001b[39;00m \u001b[43mqml\u001b[49m\u001b[38;5;241;43m.\u001b[39;49m\u001b[43mdefer_measurements\u001b[49m\u001b[43m(\u001b[49m\u001b[43mtape\u001b[49m\u001b[43m,\u001b[49m\u001b[43m \u001b[49m\u001b[43mdevice\u001b[49m\u001b[38;5;241;43m=\u001b[39;49m\u001b[43mdevice\u001b[49m\u001b[43m)\u001b[49m\n",
      "File \u001b[0;32m~/miniconda3/envs/quantum_computer/lib/python3.11/site-packages/pennylane/transforms/core/transform_dispatcher.py:114\u001b[0m, in \u001b[0;36mTransformDispatcher.__call__\u001b[0;34m(self, *targs, **tkwargs)\u001b[0m\n\u001b[1;32m    111\u001b[0m         \u001b[38;5;28;01mreturn\u001b[39;00m expand_processing(processed_results)\n\u001b[1;32m    113\u001b[0m \u001b[38;5;28;01melse\u001b[39;00m:\n\u001b[0;32m--> 114\u001b[0m     transformed_tapes, processing_fn \u001b[38;5;241m=\u001b[39m \u001b[38;5;28;43mself\u001b[39;49m\u001b[38;5;241;43m.\u001b[39;49m\u001b[43m_transform\u001b[49m\u001b[43m(\u001b[49m\u001b[43mobj\u001b[49m\u001b[43m,\u001b[49m\u001b[43m \u001b[49m\u001b[38;5;241;43m*\u001b[39;49m\u001b[43mtargs\u001b[49m\u001b[43m,\u001b[49m\u001b[43m \u001b[49m\u001b[38;5;241;43m*\u001b[39;49m\u001b[38;5;241;43m*\u001b[39;49m\u001b[43mtkwargs\u001b[49m\u001b[43m)\u001b[49m\n\u001b[1;32m    116\u001b[0m \u001b[38;5;28;01mif\u001b[39;00m \u001b[38;5;28mself\u001b[39m\u001b[38;5;241m.\u001b[39mis_informative:\n\u001b[1;32m    117\u001b[0m     \u001b[38;5;28;01mreturn\u001b[39;00m processing_fn(transformed_tapes)\n",
      "File \u001b[0;32m~/miniconda3/envs/quantum_computer/lib/python3.11/site-packages/pennylane/transforms/defer_measurements.py:216\u001b[0m, in \u001b[0;36mdefer_measurements\u001b[0;34m(tape, **kwargs)\u001b[0m\n\u001b[1;32m    213\u001b[0m \u001b[38;5;28;01mif\u001b[39;00m \u001b[38;5;129;01mnot\u001b[39;00m \u001b[38;5;28many\u001b[39m(\u001b[38;5;28misinstance\u001b[39m(o, MidMeasureMP) \u001b[38;5;28;01mfor\u001b[39;00m o \u001b[38;5;129;01min\u001b[39;00m tape\u001b[38;5;241m.\u001b[39moperations):\n\u001b[1;32m    214\u001b[0m     \u001b[38;5;28;01mreturn\u001b[39;00m (tape,), null_postprocessing\n\u001b[0;32m--> 216\u001b[0m \u001b[43m_check_tape_validity\u001b[49m\u001b[43m(\u001b[49m\u001b[43mtape\u001b[49m\u001b[43m)\u001b[49m\n\u001b[1;32m    218\u001b[0m device \u001b[38;5;241m=\u001b[39m kwargs\u001b[38;5;241m.\u001b[39mget(\u001b[38;5;124m\"\u001b[39m\u001b[38;5;124mdevice\u001b[39m\u001b[38;5;124m\"\u001b[39m, \u001b[38;5;28;01mNone\u001b[39;00m)\n\u001b[1;32m    220\u001b[0m device \u001b[38;5;241m=\u001b[39m kwargs\u001b[38;5;241m.\u001b[39mget(\u001b[38;5;124m\"\u001b[39m\u001b[38;5;124mdevice\u001b[39m\u001b[38;5;124m\"\u001b[39m, \u001b[38;5;28;01mNone\u001b[39;00m)\n",
      "File \u001b[0;32m~/miniconda3/envs/quantum_computer/lib/python3.11/site-packages/pennylane/transforms/defer_measurements.py:53\u001b[0m, in \u001b[0;36m_check_tape_validity\u001b[0;34m(tape)\u001b[0m\n\u001b[1;32m     45\u001b[0m     \u001b[38;5;28;01mraise\u001b[39;00m \u001b[38;5;167;01mValueError\u001b[39;00m(\n\u001b[1;32m     46\u001b[0m         \u001b[38;5;124mf\u001b[39m\u001b[38;5;124m\"\u001b[39m\u001b[38;5;124mCannot use \u001b[39m\u001b[38;5;132;01m{\u001b[39;00mmp\u001b[38;5;241m.\u001b[39m\u001b[38;5;18m__class__\u001b[39m\u001b[38;5;241m.\u001b[39m\u001b[38;5;18m__name__\u001b[39m\u001b[38;5;132;01m}\u001b[39;00m\u001b[38;5;124m as a measurement without specifying wires \u001b[39m\u001b[38;5;124m\"\u001b[39m\n\u001b[1;32m     47\u001b[0m         \u001b[38;5;124m\"\u001b[39m\u001b[38;5;124mwhen using qml.defer_measurements. Deferred measurements can occur \u001b[39m\u001b[38;5;124m\"\u001b[39m\n\u001b[1;32m     48\u001b[0m         \u001b[38;5;124m\"\u001b[39m\u001b[38;5;124mautomatically when using mid-circuit measurements on a device that does not \u001b[39m\u001b[38;5;124m\"\u001b[39m\n\u001b[1;32m     49\u001b[0m         \u001b[38;5;124m\"\u001b[39m\u001b[38;5;124msupport them.\u001b[39m\u001b[38;5;124m\"\u001b[39m\n\u001b[1;32m     50\u001b[0m     )\n\u001b[1;32m     52\u001b[0m \u001b[38;5;28;01mif\u001b[39;00m mp\u001b[38;5;241m.\u001b[39m\u001b[38;5;18m__class__\u001b[39m\u001b[38;5;241m.\u001b[39m\u001b[38;5;18m__name__\u001b[39m \u001b[38;5;241m==\u001b[39m \u001b[38;5;124m\"\u001b[39m\u001b[38;5;124mStateMP\u001b[39m\u001b[38;5;124m\"\u001b[39m:\n\u001b[0;32m---> 53\u001b[0m     \u001b[38;5;28;01mraise\u001b[39;00m \u001b[38;5;167;01mValueError\u001b[39;00m(\n\u001b[1;32m     54\u001b[0m         \u001b[38;5;124m\"\u001b[39m\u001b[38;5;124mCannot use StateMP as a measurement when using qml.defer_measurements. \u001b[39m\u001b[38;5;124m\"\u001b[39m\n\u001b[1;32m     55\u001b[0m         \u001b[38;5;124m\"\u001b[39m\u001b[38;5;124mDeferred measurements can occur automatically when using mid-circuit \u001b[39m\u001b[38;5;124m\"\u001b[39m\n\u001b[1;32m     56\u001b[0m         \u001b[38;5;124m\"\u001b[39m\u001b[38;5;124mmeasurements on a device that does not support them.\u001b[39m\u001b[38;5;124m\"\u001b[39m\n\u001b[1;32m     57\u001b[0m     )\n",
      "\u001b[0;31mValueError\u001b[0m: Cannot use StateMP as a measurement when using qml.defer_measurements. Deferred measurements can occur automatically when using mid-circuit measurements on a device that does not support them."
     ]
    }
   ],
   "source": [
    "i = 3\n",
    "state = evolve_hamiltonian2(hamiltonian, max_cliques, dt, i*trotter_step, N+1, get_state=True) #\n",
    "\n",
    "state"
   ]
  },
  {
   "cell_type": "code",
   "execution_count": null,
   "metadata": {},
   "outputs": [],
   "source": []
  }
 ],
 "metadata": {
  "kernelspec": {
   "display_name": "quantum_computer",
   "language": "python",
   "name": "python3"
  },
  "language_info": {
   "codemirror_mode": {
    "name": "ipython",
    "version": 3
   },
   "file_extension": ".py",
   "mimetype": "text/x-python",
   "name": "python",
   "nbconvert_exporter": "python",
   "pygments_lexer": "ipython3",
   "version": "3.1.undefined"
  }
 },
 "nbformat": 4,
 "nbformat_minor": 2
}
