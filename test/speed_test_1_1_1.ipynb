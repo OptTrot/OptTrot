{
 "cells": [
  {
   "cell_type": "code",
   "execution_count": 1,
   "metadata": {},
   "outputs": [
    {
     "name": "stdout",
     "output_type": "stream",
     "text": [
      "First: /Users/hyunseongkim/Documents/GitHub/Org_OptTrot/OptTrot\n",
      "/Users/hyunseongkim/Documents/GitHub/Org_OptTrot/OptTrot/opttrot\n",
      "running build\n",
      "running build_py\n",
      "file /Users/hyunseongkim/Documents/GitHub/Org_OptTrot/OptTrot/opttrot/opttrot.py (for module opttrot) not found\n",
      "file /Users/hyunseongkim/Documents/GitHub/Org_OptTrot/OptTrot/opttrot/opttrot.py (for module opttrot) not found\n",
      "running build_ext\n",
      "building 'pauli_c' extension\n",
      "clang -fno-strict-overflow -DNDEBUG -O2 -Wall -fPIC -O2 -isystem /Users/hyunseongkim/miniconda3/envs/opttrot/include -arch arm64 -fPIC -O2 -isystem /Users/hyunseongkim/miniconda3/envs/opttrot/include -arch arm64 -DBIG_NUM_BYTES=512 -I/Users/hyunseongkim/Documents/GitHub/Org_OptTrot/OptTrot/opttrot -I/Users/hyunseongkim/Documents/GitHub/Org_OptTrot/OptTrot/opttrot/c_src -I/Users/hyunseongkim/Documents/GitHub/Org_OptTrot/OptTrot/opttrot/c_src/bn -I/Users/hyunseongkim/miniconda3/envs/opttrot/include/python3.12 -c /Users/hyunseongkim/Documents/GitHub/Org_OptTrot/OptTrot/opttrot/c_src/bn/bn.c -o build/temp.macosx-11.1-arm64-cpython-312/Users/hyunseongkim/Documents/GitHub/Org_OptTrot/OptTrot/opttrot/c_src/bn/bn.o\n",
      "clang -fno-strict-overflow -DNDEBUG -O2 -Wall -fPIC -O2 -isystem /Users/hyunseongkim/miniconda3/envs/opttrot/include -arch arm64 -fPIC -O2 -isystem /Users/hyunseongkim/miniconda3/envs/opttrot/include -arch arm64 -DBIG_NUM_BYTES=512 -I/Users/hyunseongkim/Documents/GitHub/Org_OptTrot/OptTrot/opttrot -I/Users/hyunseongkim/Documents/GitHub/Org_OptTrot/OptTrot/opttrot/c_src -I/Users/hyunseongkim/Documents/GitHub/Org_OptTrot/OptTrot/opttrot/c_src/bn -I/Users/hyunseongkim/miniconda3/envs/opttrot/include/python3.12 -c /Users/hyunseongkim/Documents/GitHub/Org_OptTrot/OptTrot/opttrot/c_src/bn/bn_ext.c -o build/temp.macosx-11.1-arm64-cpython-312/Users/hyunseongkim/Documents/GitHub/Org_OptTrot/OptTrot/opttrot/c_src/bn/bn_ext.o\n",
      "clang -fno-strict-overflow -DNDEBUG -O2 -Wall -fPIC -O2 -isystem /Users/hyunseongkim/miniconda3/envs/opttrot/include -arch arm64 -fPIC -O2 -isystem /Users/hyunseongkim/miniconda3/envs/opttrot/include -arch arm64 -DBIG_NUM_BYTES=512 -I/Users/hyunseongkim/Documents/GitHub/Org_OptTrot/OptTrot/opttrot -I/Users/hyunseongkim/Documents/GitHub/Org_OptTrot/OptTrot/opttrot/c_src -I/Users/hyunseongkim/Documents/GitHub/Org_OptTrot/OptTrot/opttrot/c_src/bn -I/Users/hyunseongkim/miniconda3/envs/opttrot/include/python3.12 -c /Users/hyunseongkim/Documents/GitHub/Org_OptTrot/OptTrot/opttrot/c_src/bn/bn_python.c -o build/temp.macosx-11.1-arm64-cpython-312/Users/hyunseongkim/Documents/GitHub/Org_OptTrot/OptTrot/opttrot/c_src/bn/bn_python.o\n",
      "clang -fno-strict-overflow -DNDEBUG -O2 -Wall -fPIC -O2 -isystem /Users/hyunseongkim/miniconda3/envs/opttrot/include -arch arm64 -fPIC -O2 -isystem /Users/hyunseongkim/miniconda3/envs/opttrot/include -arch arm64 -DBIG_NUM_BYTES=512 -I/Users/hyunseongkim/Documents/GitHub/Org_OptTrot/OptTrot/opttrot -I/Users/hyunseongkim/Documents/GitHub/Org_OptTrot/OptTrot/opttrot/c_src -I/Users/hyunseongkim/Documents/GitHub/Org_OptTrot/OptTrot/opttrot/c_src/bn -I/Users/hyunseongkim/miniconda3/envs/opttrot/include/python3.12 -c /Users/hyunseongkim/Documents/GitHub/Org_OptTrot/OptTrot/opttrot/c_src/pauli_bn.c -o build/temp.macosx-11.1-arm64-cpython-312/Users/hyunseongkim/Documents/GitHub/Org_OptTrot/OptTrot/opttrot/c_src/pauli_bn.o\n",
      "clang -fno-strict-overflow -DNDEBUG -O2 -Wall -fPIC -O2 -isystem /Users/hyunseongkim/miniconda3/envs/opttrot/include -arch arm64 -fPIC -O2 -isystem /Users/hyunseongkim/miniconda3/envs/opttrot/include -arch arm64 -DBIG_NUM_BYTES=512 -I/Users/hyunseongkim/Documents/GitHub/Org_OptTrot/OptTrot/opttrot -I/Users/hyunseongkim/Documents/GitHub/Org_OptTrot/OptTrot/opttrot/c_src -I/Users/hyunseongkim/Documents/GitHub/Org_OptTrot/OptTrot/opttrot/c_src/bn -I/Users/hyunseongkim/miniconda3/envs/opttrot/include/python3.12 -c /Users/hyunseongkim/Documents/GitHub/Org_OptTrot/OptTrot/opttrot/c_src/pauli_bn_methods.c -o build/temp.macosx-11.1-arm64-cpython-312/Users/hyunseongkim/Documents/GitHub/Org_OptTrot/OptTrot/opttrot/c_src/pauli_bn_methods.o\n",
      "clang -fno-strict-overflow -DNDEBUG -O2 -Wall -fPIC -O2 -isystem /Users/hyunseongkim/miniconda3/envs/opttrot/include -arch arm64 -fPIC -O2 -isystem /Users/hyunseongkim/miniconda3/envs/opttrot/include -arch arm64 -DBIG_NUM_BYTES=512 -I/Users/hyunseongkim/Documents/GitHub/Org_OptTrot/OptTrot/opttrot -I/Users/hyunseongkim/Documents/GitHub/Org_OptTrot/OptTrot/opttrot/c_src -I/Users/hyunseongkim/Documents/GitHub/Org_OptTrot/OptTrot/opttrot/c_src/bn -I/Users/hyunseongkim/miniconda3/envs/opttrot/include/python3.12 -c /Users/hyunseongkim/Documents/GitHub/Org_OptTrot/OptTrot/opttrot/c_src/pauli_bn_utils.c -o build/temp.macosx-11.1-arm64-cpython-312/Users/hyunseongkim/Documents/GitHub/Org_OptTrot/OptTrot/opttrot/c_src/pauli_bn_utils.o\n",
      "clang -fno-strict-overflow -DNDEBUG -O2 -Wall -fPIC -O2 -isystem /Users/hyunseongkim/miniconda3/envs/opttrot/include -arch arm64 -fPIC -O2 -isystem /Users/hyunseongkim/miniconda3/envs/opttrot/include -arch arm64 -DBIG_NUM_BYTES=512 -I/Users/hyunseongkim/Documents/GitHub/Org_OptTrot/OptTrot/opttrot -I/Users/hyunseongkim/Documents/GitHub/Org_OptTrot/OptTrot/opttrot/c_src -I/Users/hyunseongkim/Documents/GitHub/Org_OptTrot/OptTrot/opttrot/c_src/bn -I/Users/hyunseongkim/miniconda3/envs/opttrot/include/python3.12 -c /Users/hyunseongkim/Documents/GitHub/Org_OptTrot/OptTrot/opttrot/c_src/pauli_c.c -o build/temp.macosx-11.1-arm64-cpython-312/Users/hyunseongkim/Documents/GitHub/Org_OptTrot/OptTrot/opttrot/c_src/pauli_c.o\n",
      "clang -bundle -undefined dynamic_lookup -Wl,-rpath,/Users/hyunseongkim/miniconda3/envs/opttrot/lib -L/Users/hyunseongkim/miniconda3/envs/opttrot/lib -Wl,-rpath,/Users/hyunseongkim/miniconda3/envs/opttrot/lib -L/Users/hyunseongkim/miniconda3/envs/opttrot/lib build/temp.macosx-11.1-arm64-cpython-312/Users/hyunseongkim/Documents/GitHub/Org_OptTrot/OptTrot/opttrot/c_src/bn/bn.o build/temp.macosx-11.1-arm64-cpython-312/Users/hyunseongkim/Documents/GitHub/Org_OptTrot/OptTrot/opttrot/c_src/bn/bn_ext.o build/temp.macosx-11.1-arm64-cpython-312/Users/hyunseongkim/Documents/GitHub/Org_OptTrot/OptTrot/opttrot/c_src/bn/bn_python.o build/temp.macosx-11.1-arm64-cpython-312/Users/hyunseongkim/Documents/GitHub/Org_OptTrot/OptTrot/opttrot/c_src/pauli_bn.o build/temp.macosx-11.1-arm64-cpython-312/Users/hyunseongkim/Documents/GitHub/Org_OptTrot/OptTrot/opttrot/c_src/pauli_bn_methods.o build/temp.macosx-11.1-arm64-cpython-312/Users/hyunseongkim/Documents/GitHub/Org_OptTrot/OptTrot/opttrot/c_src/pauli_bn_utils.o build/temp.macosx-11.1-arm64-cpython-312/Users/hyunseongkim/Documents/GitHub/Org_OptTrot/OptTrot/opttrot/c_src/pauli_c.o -o build/lib.macosx-11.1-arm64-cpython-312/pauli_c.cpython-312-darwin.so\n",
      "ld: warning: duplicate -rpath '/Users/hyunseongkim/miniconda3/envs/opttrot/lib' ignored\n",
      "First: /Users/hyunseongkim/Documents/GitHub/Org_OptTrot/OptTrot\n",
      "/Users/hyunseongkim/Documents/GitHub/Org_OptTrot/OptTrot/opttrot\n",
      "running build_ext\n",
      "copying build/lib.macosx-11.1-arm64-cpython-312/pauli_c.cpython-312-darwin.so -> /Users/hyunseongkim/Documents/GitHub/Org_OptTrot/OptTrot/opttrot\n"
     ]
    }
   ],
   "source": [
    "!python ../setup.py build \n",
    "!python ../setup.py build_ext --inplace"
   ]
  },
  {
   "cell_type": "code",
   "execution_count": 2,
   "metadata": {},
   "outputs": [],
   "source": [
    "import os, sys\n",
    "sys.path.append(\"..\")"
   ]
  },
  {
   "cell_type": "markdown",
   "metadata": {},
   "source": [
    "# Qiskit 1.1.1\n"
   ]
  },
  {
   "cell_type": "code",
   "execution_count": 1,
   "metadata": {},
   "outputs": [],
   "source": [
    "import os, sys\n",
    "sys.path.append(\"..\")"
   ]
  },
  {
   "cell_type": "code",
   "execution_count": 2,
   "metadata": {},
   "outputs": [],
   "source": [
    "from opttrot.pauli import PauliElement\n",
    "from opttrot.pauli import PauliPoly\n",
    "from opttrot.pauli_utils import get_pstrs, pstr2sym_code\n",
    "\n",
    "from importlib import reload\n",
    "import ten_con\n",
    "reload(ten_con)\n",
    "from ten_con import _mat_to_coef_mat, _coef_to_mat\n",
    "\n",
    "import numpy as np\n",
    "from qiskit.quantum_info import SparsePauliOp\n",
    "from qiskit.quantum_info import Pauli\n",
    "\n",
    "from copy import deepcopy"
   ]
  },
  {
   "cell_type": "code",
   "execution_count": 3,
   "metadata": {},
   "outputs": [],
   "source": [
    "pl = []\n",
    "pl_qiskit = []\n",
    "n = 10\n",
    "pstrs = get_pstrs(n)\n",
    "l = len(pstrs)\n",
    "reps = 1\n",
    "pstrs = pstrs[:int(l/reps)]\n",
    "for p in pstrs:\n",
    "    nx, nz = pstr2sym_code(p)\n",
    "    pl.append(PauliElement(nx=nx, nz=nz, n =n, weight=1))\n",
    "    pl_qiskit.append(Pauli(p))"
   ]
  },
  {
   "cell_type": "code",
   "execution_count": 4,
   "metadata": {},
   "outputs": [],
   "source": [
    "sample_ppoly = PauliPoly(pl)\n",
    "pmat = sample_ppoly.matrix\n",
    "cmat = sample_ppoly.coef_matrix"
   ]
  },
  {
   "cell_type": "code",
   "execution_count": 5,
   "metadata": {},
   "outputs": [
    {
     "data": {
      "text/plain": [
       "array([0, 1, 2, 3, 4])"
      ]
     },
     "execution_count": 5,
     "metadata": {},
     "output_type": "execute_result"
    }
   ],
   "source": [
    "np.arange(5)"
   ]
  },
  {
   "cell_type": "code",
   "execution_count": 6,
   "metadata": {},
   "outputs": [],
   "source": [
    "pmat2 = deepcopy(pmat)"
   ]
  },
  {
   "cell_type": "markdown",
   "metadata": {},
   "source": [
    "### Decomposition\n",
    "\n",
    "Qiskit method is a tensorized decomposition of hermit matrix into pauli terms.\n",
    "See Hantzko et al, 2023.\n",
    "\n",
    "|          |Qiksit|OptTrot|\n",
    "|:--------:|:----:|:-----:|\n",
    "|Language| Rust| Python+Numba(JIT)|\n",
    "| Method| TPD| TPD|\n",
    "\n",
    "- Qiskit: Decompose and element construct in Rust -> return Python.\n",
    "- OptTrot: Decompose in JIT and construct element in Python(-> Structure is not optimal)."
   ]
  },
  {
   "cell_type": "code",
   "execution_count": 9,
   "metadata": {},
   "outputs": [
    {
     "name": "stdout",
     "output_type": "stream",
     "text": [
      "288 ms ± 2.23 ms per loop (mean ± std. dev. of 7 runs, 1 loop each)\n"
     ]
    }
   ],
   "source": [
    "%%timeit\n",
    "sp1 = SparsePauliOp.from_operator(pmat2) # Using a rust module including parallelism."
   ]
  },
  {
   "cell_type": "code",
   "execution_count": 10,
   "metadata": {},
   "outputs": [
    {
     "name": "stdout",
     "output_type": "stream",
     "text": [
      "252 ms ± 5.9 ms per loop (mean ± std. dev. of 7 runs, 1 loop each)\n"
     ]
    }
   ],
   "source": [
    "%%timeit\n",
    "mat = _mat_to_coef_mat(pmat) # Core"
   ]
  },
  {
   "cell_type": "code",
   "execution_count": 11,
   "metadata": {},
   "outputs": [],
   "source": [
    "mat = _mat_to_coef_mat(pmat)"
   ]
  },
  {
   "cell_type": "code",
   "execution_count": 8,
   "metadata": {},
   "outputs": [],
   "source": [
    "sp = SparsePauliOp.from_operator(pmat2)"
   ]
  },
  {
   "cell_type": "code",
   "execution_count": 12,
   "metadata": {},
   "outputs": [
    {
     "name": "stdout",
     "output_type": "stream",
     "text": [
      "885 ms ± 65.1 ms per loop (mean ± std. dev. of 7 runs, 1 loop each)\n"
     ]
    }
   ],
   "source": [
    "%%timeit\n",
    "omat = sp.to_matrix()"
   ]
  },
  {
   "cell_type": "code",
   "execution_count": 13,
   "metadata": {},
   "outputs": [],
   "source": [
    "cmat2 = deepcopy(cmat)\n",
    "omat = _coef_to_mat(cmat2)"
   ]
  },
  {
   "cell_type": "code",
   "execution_count": 14,
   "metadata": {},
   "outputs": [
    {
     "name": "stdout",
     "output_type": "stream",
     "text": [
      "275 ms ± 7.6 ms per loop (mean ± std. dev. of 7 runs, 1 loop each)\n"
     ]
    }
   ],
   "source": [
    "%%timeit\n",
    "omat = _coef_to_mat(cmat)"
   ]
  },
  {
   "cell_type": "code",
   "execution_count": 15,
   "metadata": {},
   "outputs": [
    {
     "name": "stdout",
     "output_type": "stream",
     "text": [
      "1min 3s ± 199 ms per loop (mean ± std. dev. of 7 runs, 1 loop each)\n"
     ]
    }
   ],
   "source": [
    "%%timeit\n",
    "cmat = sample_ppoly.coef_matrix # 이 부분의 속도를 개선해보자.\n",
    "omat = _coef_to_mat(cmat)"
   ]
  },
  {
   "cell_type": "code",
   "execution_count": 26,
   "metadata": {},
   "outputs": [
    {
     "ename": "KeyboardInterrupt",
     "evalue": "",
     "output_type": "error",
     "traceback": [
      "\u001b[0;31m---------------------------------------------------------------------------\u001b[0m",
      "\u001b[0;31mKeyboardInterrupt\u001b[0m                         Traceback (most recent call last)",
      "Cell \u001b[0;32mIn[26], line 1\u001b[0m\n\u001b[0;32m----> 1\u001b[0m \u001b[43mget_ipython\u001b[49m\u001b[43m(\u001b[49m\u001b[43m)\u001b[49m\u001b[38;5;241;43m.\u001b[39;49m\u001b[43mrun_cell_magic\u001b[49m\u001b[43m(\u001b[49m\u001b[38;5;124;43m'\u001b[39;49m\u001b[38;5;124;43mtimeit\u001b[39;49m\u001b[38;5;124;43m'\u001b[39;49m\u001b[43m,\u001b[49m\u001b[43m \u001b[49m\u001b[38;5;124;43m'\u001b[39;49m\u001b[38;5;124;43m'\u001b[39;49m\u001b[43m,\u001b[49m\u001b[43m \u001b[49m\u001b[38;5;124;43m'\u001b[39;49m\u001b[38;5;124;43mzero = np.zeros(cmat.shape, dtype = complex)\u001b[39;49m\u001b[38;5;130;43;01m\\n\u001b[39;49;00m\u001b[38;5;124;43mfor p in pl_qiskit:\u001b[39;49m\u001b[38;5;130;43;01m\\n\u001b[39;49;00m\u001b[38;5;124;43m    zero += p.to_matrix()\u001b[39;49m\u001b[38;5;130;43;01m\\n\u001b[39;49;00m\u001b[38;5;124;43m'\u001b[39;49m\u001b[43m)\u001b[49m\n",
      "File \u001b[0;32m~/miniconda3/envs/opttrot/lib/python3.12/site-packages/IPython/core/interactiveshell.py:2541\u001b[0m, in \u001b[0;36mInteractiveShell.run_cell_magic\u001b[0;34m(self, magic_name, line, cell)\u001b[0m\n\u001b[1;32m   2539\u001b[0m \u001b[38;5;28;01mwith\u001b[39;00m \u001b[38;5;28mself\u001b[39m\u001b[38;5;241m.\u001b[39mbuiltin_trap:\n\u001b[1;32m   2540\u001b[0m     args \u001b[38;5;241m=\u001b[39m (magic_arg_s, cell)\n\u001b[0;32m-> 2541\u001b[0m     result \u001b[38;5;241m=\u001b[39m \u001b[43mfn\u001b[49m\u001b[43m(\u001b[49m\u001b[38;5;241;43m*\u001b[39;49m\u001b[43margs\u001b[49m\u001b[43m,\u001b[49m\u001b[43m \u001b[49m\u001b[38;5;241;43m*\u001b[39;49m\u001b[38;5;241;43m*\u001b[39;49m\u001b[43mkwargs\u001b[49m\u001b[43m)\u001b[49m\n\u001b[1;32m   2543\u001b[0m \u001b[38;5;66;03m# The code below prevents the output from being displayed\u001b[39;00m\n\u001b[1;32m   2544\u001b[0m \u001b[38;5;66;03m# when using magics with decorator @output_can_be_silenced\u001b[39;00m\n\u001b[1;32m   2545\u001b[0m \u001b[38;5;66;03m# when the last Python token in the expression is a ';'.\u001b[39;00m\n\u001b[1;32m   2546\u001b[0m \u001b[38;5;28;01mif\u001b[39;00m \u001b[38;5;28mgetattr\u001b[39m(fn, magic\u001b[38;5;241m.\u001b[39mMAGIC_OUTPUT_CAN_BE_SILENCED, \u001b[38;5;28;01mFalse\u001b[39;00m):\n",
      "File \u001b[0;32m~/miniconda3/envs/opttrot/lib/python3.12/site-packages/IPython/core/magics/execution.py:1189\u001b[0m, in \u001b[0;36mExecutionMagics.timeit\u001b[0;34m(self, line, cell, local_ns)\u001b[0m\n\u001b[1;32m   1186\u001b[0m         \u001b[38;5;28;01mif\u001b[39;00m time_number \u001b[38;5;241m>\u001b[39m\u001b[38;5;241m=\u001b[39m \u001b[38;5;241m0.2\u001b[39m:\n\u001b[1;32m   1187\u001b[0m             \u001b[38;5;28;01mbreak\u001b[39;00m\n\u001b[0;32m-> 1189\u001b[0m all_runs \u001b[38;5;241m=\u001b[39m \u001b[43mtimer\u001b[49m\u001b[38;5;241;43m.\u001b[39;49m\u001b[43mrepeat\u001b[49m\u001b[43m(\u001b[49m\u001b[43mrepeat\u001b[49m\u001b[43m,\u001b[49m\u001b[43m \u001b[49m\u001b[43mnumber\u001b[49m\u001b[43m)\u001b[49m\n\u001b[1;32m   1190\u001b[0m best \u001b[38;5;241m=\u001b[39m \u001b[38;5;28mmin\u001b[39m(all_runs) \u001b[38;5;241m/\u001b[39m number\n\u001b[1;32m   1191\u001b[0m worst \u001b[38;5;241m=\u001b[39m \u001b[38;5;28mmax\u001b[39m(all_runs) \u001b[38;5;241m/\u001b[39m number\n",
      "File \u001b[0;32m~/miniconda3/envs/opttrot/lib/python3.12/timeit.py:208\u001b[0m, in \u001b[0;36mTimer.repeat\u001b[0;34m(self, repeat, number)\u001b[0m\n\u001b[1;32m    206\u001b[0m r \u001b[38;5;241m=\u001b[39m []\n\u001b[1;32m    207\u001b[0m \u001b[38;5;28;01mfor\u001b[39;00m i \u001b[38;5;129;01min\u001b[39;00m \u001b[38;5;28mrange\u001b[39m(repeat):\n\u001b[0;32m--> 208\u001b[0m     t \u001b[38;5;241m=\u001b[39m \u001b[38;5;28;43mself\u001b[39;49m\u001b[38;5;241;43m.\u001b[39;49m\u001b[43mtimeit\u001b[49m\u001b[43m(\u001b[49m\u001b[43mnumber\u001b[49m\u001b[43m)\u001b[49m\n\u001b[1;32m    209\u001b[0m     r\u001b[38;5;241m.\u001b[39mappend(t)\n\u001b[1;32m    210\u001b[0m \u001b[38;5;28;01mreturn\u001b[39;00m r\n",
      "File \u001b[0;32m~/miniconda3/envs/opttrot/lib/python3.12/site-packages/IPython/core/magics/execution.py:173\u001b[0m, in \u001b[0;36mTimer.timeit\u001b[0;34m(self, number)\u001b[0m\n\u001b[1;32m    171\u001b[0m gc\u001b[38;5;241m.\u001b[39mdisable()\n\u001b[1;32m    172\u001b[0m \u001b[38;5;28;01mtry\u001b[39;00m:\n\u001b[0;32m--> 173\u001b[0m     timing \u001b[38;5;241m=\u001b[39m \u001b[38;5;28;43mself\u001b[39;49m\u001b[38;5;241;43m.\u001b[39;49m\u001b[43minner\u001b[49m\u001b[43m(\u001b[49m\u001b[43mit\u001b[49m\u001b[43m,\u001b[49m\u001b[43m \u001b[49m\u001b[38;5;28;43mself\u001b[39;49m\u001b[38;5;241;43m.\u001b[39;49m\u001b[43mtimer\u001b[49m\u001b[43m)\u001b[49m\n\u001b[1;32m    174\u001b[0m \u001b[38;5;28;01mfinally\u001b[39;00m:\n\u001b[1;32m    175\u001b[0m     \u001b[38;5;28;01mif\u001b[39;00m gcold:\n",
      "File \u001b[0;32m<magic-timeit>:3\u001b[0m, in \u001b[0;36minner\u001b[0;34m(_it, _timer)\u001b[0m\n",
      "File \u001b[0;32m~/miniconda3/envs/opttrot/lib/python3.12/site-packages/qiskit/quantum_info/operators/symplectic/pauli.py:426\u001b[0m, in \u001b[0;36mPauli.to_matrix\u001b[0;34m(self, sparse)\u001b[0m\n\u001b[1;32m    416\u001b[0m \u001b[38;5;28;01mdef\u001b[39;00m \u001b[38;5;21mto_matrix\u001b[39m(\u001b[38;5;28mself\u001b[39m, sparse: \u001b[38;5;28mbool\u001b[39m \u001b[38;5;241m=\u001b[39m \u001b[38;5;28;01mFalse\u001b[39;00m) \u001b[38;5;241m-\u001b[39m\u001b[38;5;241m>\u001b[39m np\u001b[38;5;241m.\u001b[39mndarray:\n\u001b[1;32m    417\u001b[0m \u001b[38;5;250m    \u001b[39m\u001b[38;5;124mr\u001b[39m\u001b[38;5;124;03m\"\"\"Convert to a Numpy array or sparse CSR matrix.\u001b[39;00m\n\u001b[1;32m    418\u001b[0m \n\u001b[1;32m    419\u001b[0m \u001b[38;5;124;03m    Args:\u001b[39;00m\n\u001b[0;32m   (...)\u001b[0m\n\u001b[1;32m    424\u001b[0m \u001b[38;5;124;03m        array: The Pauli matrix.\u001b[39;00m\n\u001b[1;32m    425\u001b[0m \u001b[38;5;124;03m    \"\"\"\u001b[39;00m\n\u001b[0;32m--> 426\u001b[0m     \u001b[38;5;28;01mreturn\u001b[39;00m \u001b[38;5;28;43mself\u001b[39;49m\u001b[38;5;241;43m.\u001b[39;49m\u001b[43m_to_matrix\u001b[49m\u001b[43m(\u001b[49m\u001b[38;5;28;43mself\u001b[39;49m\u001b[38;5;241;43m.\u001b[39;49m\u001b[43mz\u001b[49m\u001b[43m,\u001b[49m\u001b[43m \u001b[49m\u001b[38;5;28;43mself\u001b[39;49m\u001b[38;5;241;43m.\u001b[39;49m\u001b[43mx\u001b[49m\u001b[43m,\u001b[49m\u001b[43m \u001b[49m\u001b[38;5;28;43mself\u001b[39;49m\u001b[38;5;241;43m.\u001b[39;49m\u001b[43m_phase\u001b[49m\u001b[43m[\u001b[49m\u001b[38;5;241;43m0\u001b[39;49m\u001b[43m]\u001b[49m\u001b[43m,\u001b[49m\u001b[43m \u001b[49m\u001b[43msparse\u001b[49m\u001b[38;5;241;43m=\u001b[39;49m\u001b[43msparse\u001b[49m\u001b[43m)\u001b[49m\n",
      "File \u001b[0;32m~/miniconda3/envs/opttrot/lib/python3.12/site-packages/qiskit/quantum_info/operators/symplectic/base_pauli.py:471\u001b[0m, in \u001b[0;36mBasePauli._to_matrix\u001b[0;34m(z, x, phase, group_phase, sparse)\u001b[0m\n\u001b[1;32m    468\u001b[0m     \u001b[38;5;28;01mreturn\u001b[39;00m csr_matrix((data, indices, indptr), shape\u001b[38;5;241m=\u001b[39m(dim, dim), dtype\u001b[38;5;241m=\u001b[39m\u001b[38;5;28mcomplex\u001b[39m)\n\u001b[1;32m    470\u001b[0m \u001b[38;5;66;03m# Build dense matrix using csr format\u001b[39;00m\n\u001b[0;32m--> 471\u001b[0m mat \u001b[38;5;241m=\u001b[39m \u001b[43mnp\u001b[49m\u001b[38;5;241;43m.\u001b[39;49m\u001b[43mzeros\u001b[49m\u001b[43m(\u001b[49m\u001b[43m(\u001b[49m\u001b[43mdim\u001b[49m\u001b[43m,\u001b[49m\u001b[43m \u001b[49m\u001b[43mdim\u001b[49m\u001b[43m)\u001b[49m\u001b[43m,\u001b[49m\u001b[43m \u001b[49m\u001b[43mdtype\u001b[49m\u001b[38;5;241;43m=\u001b[39;49m\u001b[38;5;28;43mcomplex\u001b[39;49m\u001b[43m)\u001b[49m\n\u001b[1;32m    472\u001b[0m mat[\u001b[38;5;28mrange\u001b[39m(dim), indices[:dim]] \u001b[38;5;241m=\u001b[39m data[:dim]\n\u001b[1;32m    473\u001b[0m \u001b[38;5;28;01mreturn\u001b[39;00m mat\n",
      "\u001b[0;31mKeyboardInterrupt\u001b[0m: "
     ]
    }
   ],
   "source": [
    "%%timeit\n",
    "zero = np.zeros(cmat.shape, dtype = complex)\n",
    "for p in pl_qiskit:\n",
    "    zero += p.to_matrix()"
   ]
  },
  {
   "cell_type": "code",
   "execution_count": 38,
   "metadata": {},
   "outputs": [
    {
     "data": {
      "text/plain": [
       "array([[1, 2],\n",
       "       [2, 3],\n",
       "       [4, 5]], dtype=object)"
      ]
     },
     "execution_count": 38,
     "metadata": {},
     "output_type": "execute_result"
    }
   ],
   "source": [
    "arr = np.array([(1, 2), (2, 3), (4, 5)], dtype=object)\n",
    "arr"
   ]
  },
  {
   "cell_type": "code",
   "execution_count": 40,
   "metadata": {},
   "outputs": [
    {
     "data": {
      "text/plain": [
       "(3, 2)"
      ]
     },
     "execution_count": 40,
     "metadata": {},
     "output_type": "execute_result"
    }
   ],
   "source": [
    "arr = np.array([(1, 2), (2, 3), (4, 5)], dtype=object)\n",
    "arr.shape"
   ]
  },
  {
   "cell_type": "code",
   "execution_count": 42,
   "metadata": {},
   "outputs": [
    {
     "data": {
      "text/plain": [
       "array([[1, 2],\n",
       "       [2, 3],\n",
       "       [4, 5]], dtype=object)"
      ]
     },
     "execution_count": 42,
     "metadata": {},
     "output_type": "execute_result"
    }
   ],
   "source": [
    "arr_1d = np.array([tuple(row) for row in arr], dtype=object)\n",
    "arr_1d"
   ]
  },
  {
   "cell_type": "code",
   "execution_count": 43,
   "metadata": {},
   "outputs": [],
   "source": [
    "arr = np.empty(3, dtype=object)\n",
    "arr[0] = (1, 2)\n",
    "arr[1] = (2, 3)\n",
    "arr[2] = (4, 5)"
   ]
  },
  {
   "cell_type": "code",
   "execution_count": 44,
   "metadata": {},
   "outputs": [
    {
     "data": {
      "text/plain": [
       "array([(1, 2), (2, 3), (4, 5)], dtype=object)"
      ]
     },
     "execution_count": 44,
     "metadata": {},
     "output_type": "execute_result"
    }
   ],
   "source": [
    "arr"
   ]
  },
  {
   "cell_type": "code",
   "execution_count": 45,
   "metadata": {},
   "outputs": [],
   "source": [
    "result = np.vstack(arr)"
   ]
  },
  {
   "cell_type": "code",
   "execution_count": 46,
   "metadata": {},
   "outputs": [
    {
     "data": {
      "text/plain": [
       "array([[1, 2],\n",
       "       [2, 3],\n",
       "       [4, 5]])"
      ]
     },
     "execution_count": 46,
     "metadata": {},
     "output_type": "execute_result"
    }
   ],
   "source": [
    "result"
   ]
  },
  {
   "cell_type": "code",
   "execution_count": null,
   "metadata": {},
   "outputs": [],
   "source": []
  }
 ],
 "metadata": {
  "kernelspec": {
   "display_name": "QC",
   "language": "python",
   "name": "python3"
  },
  "language_info": {
   "codemirror_mode": {
    "name": "ipython",
    "version": 3
   },
   "file_extension": ".py",
   "mimetype": "text/x-python",
   "name": "python",
   "nbconvert_exporter": "python",
   "pygments_lexer": "ipython3",
   "version": "3.11.8"
  }
 },
 "nbformat": 4,
 "nbformat_minor": 2
}
