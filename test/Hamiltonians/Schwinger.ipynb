{
 "cells": [
  {
   "cell_type": "markdown",
   "metadata": {},
   "source": [
    "# Schwinger model Hamiltonian\n",
    "\n",
    "```\n",
    " C. Kokail, C. Maier, R. van Bijnen, T. Brydges, M. K.\n",
    "Joshi, P. Jurcevic, C. A. Muschik, P. Silvi, R. Blatt, C.\n",
    "F. Roos, and P. Zoller, Self-verifying variational quantum\n",
    "simulation of lattice models, Nature 569, 355 (2019)\n",
    "```\n",
    "\n",
    "$$H = H_m + H_{kin} + H_{el}$$\n",
    "\n",
    "$$= \\frac{m}{2} \\sum_{j=0}^{2L-1} \\left[(-1)^j Z_j + I \\right] + \\frac{1}{2} \\sum_{j=0}^{2L-2} \\left( \\sigma_j \\sigma_{j+1} + H.c.\\right) + \\frac{g^2}{2} \\sum_{j=0}^{2L-2} \\left( \\sum_{k \\leq j} Q_k \\right)^2$$\n",
    "\n",
    "$$Q_k = - \\frac{1}{2} \\left[Z_k + (-1)^k I \\right]$$\n",
    "\n",
    "\n",
    "- $L$ : Number of spatial lattice sites, corresponding to $2L$ staggered sites.\n",
    "- $m$ : Electron mass\n",
    "- $g$ : electron charge\n",
    "- $a$ : staggered lattice spacing, set to 1\n"
   ]
  },
  {
   "cell_type": "markdown",
   "metadata": {},
   "source": [
    "\n",
    "## $Q=0$ sector \n",
    "\n",
    "In the lowest-energy sector, the charge is vanished so that $Q = \\sum_n Q_n = 0$.\n",
    "\n",
    "$$H_{el} = \\frac{g^2}{2} \\left\\{ \\sum_{n=0}^{L-1} (L-n) [Q_n^2 + (1- \\delta_{n0}) Q_{2L-n}^2] + 2 \\sum_{n=0}^{L-1} \\left[\\sum_{m = n+1}^{L-1} (L-m) Q_m Q_n + \\sum_{m=1}^{n-1} (L-n) Q_{2L-m} Q_{2L-n} \\right]\\right\\}$$"
   ]
  },
  {
   "cell_type": "code",
   "execution_count": null,
   "metadata": {},
   "outputs": [],
   "source": []
  }
 ],
 "metadata": {
  "language_info": {
   "name": "python"
  }
 },
 "nbformat": 4,
 "nbformat_minor": 2
}
