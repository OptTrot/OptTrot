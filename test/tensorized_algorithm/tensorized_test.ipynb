{
 "cells": [
  {
   "cell_type": "code",
   "execution_count": 1,
   "metadata": {},
   "outputs": [],
   "source": [
    "from ten_con import *\n",
    "from pauli_utils import *"
   ]
  },
  {
   "cell_type": "code",
   "execution_count": 2,
   "metadata": {},
   "outputs": [],
   "source": [
    "from copy import copy\n",
    "import numpy as np\n",
    "from numba import jit"
   ]
  },
  {
   "cell_type": "code",
   "execution_count": 3,
   "metadata": {},
   "outputs": [],
   "source": [
    "@jit\n",
    "def mat_compose(coef_matrix:np.matrix):\n",
    "    mat = coef_matrix\n",
    "    _2n = mat.shape[0] # 2^n\n",
    "    steps = int(np.log2(_2n))# n\n",
    "    unit_size= 1\n",
    " \n",
    "    for step in range(steps):\n",
    "        step1 = step+1\n",
    "        mat_size = int(2*(unit_size))\n",
    "        indexes = np.arange(_2n/(2**step1)).astype(np.uint)\n",
    "        indexes_ij = mat_size * indexes\n",
    "        for i in indexes_ij:\n",
    "            for j in indexes_ij:\n",
    "                # (i, j)\n",
    "                r1i     = i\n",
    "                r1f2i   = r1i + unit_size\n",
    "                c1i     = j\n",
    "                c1f2i   = c1i + +unit_size\n",
    "                r2f     = r1f2i + unit_size\n",
    "                c2f     = c1f2i + unit_size\n",
    "                # I - Z\n",
    "                coef = 1\n",
    "                mat[r1i: r1f2i, c1i:c1f2i] = mat[r1i: r1f2i, c1i:c1f2i] + coef*mat[r1f2i: r2f, c1f2i:c2f]\n",
    "                mat[r1f2i: r2f, c1f2i:c2f] = mat[r1i: r1f2i, c1i:c1f2i] -2*coef *mat[r1f2i: r2f, c1f2i:c2f]\n",
    "                # X -Y\n",
    "                coef = -1j\n",
    "                mat[r1i: r1f2i, c1f2i:c2f] = mat[r1i: r1f2i, c1f2i:c2f]  + coef*mat[r1f2i: r2f, c1i:c1f2i]\n",
    "                mat[r1f2i: r2f, c1i:c1f2i] = mat[r1i: r1f2i, c1f2i:c2f] - 2*coef*mat[r1f2i: r2f, c1i:c1f2i]\n",
    "                # Here is a but with numba jit, the below two line code is correct\n",
    "                # However, with jit decorator the phase get different. \n",
    "                #mat[r1i: r1f2i, c1f2i:c2f] += coef*mat[r1f2i: r2f, c1i:c1f2i]\n",
    "                #mat[r1f2i: r2f, c1i:c1f2i] = mat[r1i: r1f2i, c1f2i:c2f] - 2*coef*mat[r1f2i: r2f, c1i:c1f2i]\n",
    "        \n",
    "        unit_size *=2\n",
    "    return mat"
   ]
  },
  {
   "cell_type": "code",
   "execution_count": 4,
   "metadata": {},
   "outputs": [],
   "source": [
    "H = pstr2mat(\"XX\") + 2j*pstr2mat(\"ZI\") + pstr2mat(\"XY\") + pstr2mat(\"ZX\")"
   ]
  },
  {
   "cell_type": "code",
   "execution_count": 5,
   "metadata": {},
   "outputs": [
    {
     "data": {
      "text/plain": [
       "matrix([[ 0.+2.j,  1.+0.j,  0.+0.j,  1.-1.j],\n",
       "        [ 1.+0.j,  0.+2.j,  1.+1.j,  0.+0.j],\n",
       "        [ 0.+0.j,  1.-1.j,  0.-2.j, -1.+0.j],\n",
       "        [ 1.+1.j,  0.+0.j, -1.+0.j,  0.-2.j]])"
      ]
     },
     "execution_count": 5,
     "metadata": {},
     "output_type": "execute_result"
    }
   ],
   "source": [
    "H"
   ]
  },
  {
   "cell_type": "code",
   "execution_count": 6,
   "metadata": {},
   "outputs": [
    {
     "data": {
      "text/plain": [
       "matrix([[0.+0.j, 0.+0.j, 0.+0.j, 1.+0.j],\n",
       "        [0.+0.j, 0.+0.j, 1.+0.j, 0.+0.j],\n",
       "        [0.+0.j, 0.+0.j, 0.+2.j, 1.+0.j],\n",
       "        [0.+0.j, 0.+0.j, 0.+0.j, 0.+0.j]])"
      ]
     },
     "execution_count": 6,
     "metadata": {},
     "output_type": "execute_result"
    }
   ],
   "source": [
    "coef = copy(H)\n",
    "mat_decompose(coef)"
   ]
  },
  {
   "cell_type": "code",
   "execution_count": 7,
   "metadata": {},
   "outputs": [
    {
     "data": {
      "text/plain": [
       "matrix([[ 0.+2.j,  1.+0.j,  0.+0.j,  1.-1.j],\n",
       "        [ 1.+0.j,  0.+2.j,  1.+1.j,  0.+0.j],\n",
       "        [ 0.+0.j,  1.-1.j,  0.-2.j, -1.+0.j],\n",
       "        [ 1.+1.j,  0.+0.j, -1.+0.j,  0.-2.j]])"
      ]
     },
     "execution_count": 7,
     "metadata": {},
     "output_type": "execute_result"
    }
   ],
   "source": [
    "restore = copy(coef)\n",
    "mat_compose(restore)"
   ]
  },
  {
   "cell_type": "code",
   "execution_count": 8,
   "metadata": {},
   "outputs": [
    {
     "data": {
      "text/plain": [
       "matrix([[ 0.+2.j,  1.+0.j,  0.+0.j,  1.-1.j],\n",
       "        [ 1.+0.j,  0.+2.j,  1.+1.j,  0.+0.j],\n",
       "        [ 0.+0.j,  1.-1.j,  0.-2.j, -1.+0.j],\n",
       "        [ 1.+1.j,  0.+0.j, -1.+0.j,  0.-2.j]])"
      ]
     },
     "execution_count": 8,
     "metadata": {},
     "output_type": "execute_result"
    }
   ],
   "source": [
    "restore = copy(coef)\n",
    "mat_compose_no_jit(restore)"
   ]
  },
  {
   "cell_type": "markdown",
   "metadata": {},
   "source": [
    "## Numpy"
   ]
  },
  {
   "cell_type": "code",
   "execution_count": 2,
   "metadata": {},
   "outputs": [],
   "source": [
    "import numpy as np"
   ]
  },
  {
   "cell_type": "code",
   "execution_count": 3,
   "metadata": {},
   "outputs": [],
   "source": [
    "arr = np.array(\n",
    "    [\n",
    "    [0., 1., 0.2, 3.2, 0.1, 0.00001],\n",
    "    [0., 1., 0.2, 3.2, 0.1, 0.00001],\n",
    "    [0., 1., 0.2, 3.2, 0.1, 0.00001],\n",
    "    [0., 1., 0.2, 3.2, 0.1, 0.00001]\n",
    "    ]\n",
    ")"
   ]
  },
  {
   "cell_type": "code",
   "execution_count": 7,
   "metadata": {},
   "outputs": [
    {
     "data": {
      "text/plain": [
       "(array([0, 0, 0, 1, 1, 1, 2, 2, 2, 3, 3, 3], dtype=int64),\n",
       " array([1, 2, 3, 1, 2, 3, 1, 2, 3, 1, 2, 3], dtype=int64))"
      ]
     },
     "execution_count": 7,
     "metadata": {},
     "output_type": "execute_result"
    }
   ],
   "source": [
    "np.nonzero(arr>0.1)"
   ]
  },
  {
   "cell_type": "code",
   "execution_count": null,
   "metadata": {},
   "outputs": [],
   "source": []
  }
 ],
 "metadata": {
  "kernelspec": {
   "display_name": "opttrot",
   "language": "python",
   "name": "python3"
  },
  "language_info": {
   "codemirror_mode": {
    "name": "ipython",
    "version": 3
   },
   "file_extension": ".py",
   "mimetype": "text/x-python",
   "name": "python",
   "nbconvert_exporter": "python",
   "pygments_lexer": "ipython3",
   "version": "3.11.8"
  }
 },
 "nbformat": 4,
 "nbformat_minor": 2
}
