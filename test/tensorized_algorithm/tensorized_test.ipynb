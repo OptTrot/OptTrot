{
 "cells": [
  {
   "cell_type": "code",
   "execution_count": 1,
   "metadata": {},
   "outputs": [],
   "source": [
    "from ten_con import *\n",
    "from pauli_utils import *"
   ]
  },
  {
   "cell_type": "code",
   "execution_count": 2,
   "metadata": {},
   "outputs": [],
   "source": [
    "from copy import copy\n",
    "import numpy as np\n",
    "from numba import jit"
   ]
  },
  {
   "cell_type": "code",
   "execution_count": 41,
   "metadata": {},
   "outputs": [],
   "source": [
    "@jit\n",
    "def mat_decompose(H:np.matrix):\n",
    "        \"\"\"Tensorized decomposition of hermit matrix into pauli terms.\n",
    "            See Hantzko et al, 2023.\n",
    "\n",
    "        Args:\n",
    "            H (np.matrix): Hermit matrix.\n",
    "\n",
    "        Returns:\n",
    "            np.matrix: Coefficient matrix of the given matrix.\n",
    "        \"\"\"\n",
    "\n",
    "        n1, n2 = H.shape\n",
    "        assert n1 == n2, \"The given matrix must be a square matrix.\"\n",
    "        n= int(np.log2(n1))\n",
    "        l = n1\n",
    "        for i in range(n):\n",
    "            m = int(2**i) # Number of submatrix\n",
    "            l = int(l/2) # Sub matrix size, square\n",
    "            for j in range(m):\n",
    "                for k in range(m):\n",
    "                    num_i = j*(2*l) # Initial position of sub matrix row\n",
    "                    num_j = k*(2*l) # Initial position of sub matrix column\n",
    "                    \n",
    "                    row1 = slice(num_i, num_i +l)\n",
    "                    row2 = slice(num_i+l, num_i +2*l)\n",
    "                    col1 = slice(num_j, num_j +l)\n",
    "                    col2 = slice(num_j+l, num_j +2*l)\n",
    "                    # I-Z\n",
    "                    H[row1, col1] += H[row2, col2] \n",
    "                    H[row2, col2]  = H[row1, col1] - 2*H[row2, col2]\n",
    "                    # X-Y\n",
    "                    H[row1, col2] += H[row2, col1] \n",
    "                    H[row2, col1]  = H[row1, col2] - 2*H[row2, col1]\n",
    "                    H[row2, col1]  *= 1j\n",
    "\n",
    "        H *= (1/(2**n))\n",
    "        return H"
   ]
  },
  {
   "cell_type": "code",
   "execution_count": 59,
   "metadata": {},
   "outputs": [],
   "source": [
    "H = pstr2mat(\"XZ\") + 2j*pstr2mat(\"XZ\") + 0.5*pstr2mat(\"YY\") + pstr2mat(\"ZI\")"
   ]
  },
  {
   "cell_type": "code",
   "execution_count": 60,
   "metadata": {},
   "outputs": [
    {
     "data": {
      "text/plain": [
       "matrix([[ 1. +0.j,  0. +0.j,  1. +2.j, -0.5+0.j],\n",
       "        [ 0. +0.j,  1. +0.j,  0.5+0.j, -1. -2.j],\n",
       "        [ 1. +2.j,  0.5+0.j, -1. +0.j,  0. +0.j],\n",
       "        [-0.5+0.j, -1. -2.j,  0. +0.j, -1. +0.j]])"
      ]
     },
     "execution_count": 60,
     "metadata": {},
     "output_type": "execute_result"
    }
   ],
   "source": [
    "H"
   ]
  },
  {
   "cell_type": "code",
   "execution_count": 61,
   "metadata": {},
   "outputs": [
    {
     "name": "stdout",
     "output_type": "stream",
     "text": [
      "475 µs ± 10.4 µs per loop (mean ± std. dev. of 7 runs, 1,000 loops each)\n"
     ]
    }
   ],
   "source": [
    "%%timeit\n",
    "mat = copy(H)\n",
    "mat_decompose_xz(mat)"
   ]
  },
  {
   "cell_type": "code",
   "execution_count": 62,
   "metadata": {},
   "outputs": [
    {
     "name": "stdout",
     "output_type": "stream",
     "text": [
      "8.23 µs ± 104 ns per loop (mean ± std. dev. of 7 runs, 100,000 loops each)\n"
     ]
    }
   ],
   "source": [
    "%%timeit\n",
    "coef = copy(H)\n",
    "mat_decompose(coef)"
   ]
  },
  {
   "cell_type": "code",
   "execution_count": 63,
   "metadata": {},
   "outputs": [
    {
     "data": {
      "text/plain": [
       "matrix([[0. +0.j, 0. +0.j, 1. +0.j, 0. +0.j],\n",
       "        [0. +0.j, 0. +0.j, 0. +0.j, 0. +0.j],\n",
       "        [0. +0.j, 1. +2.j, 0. +0.j, 0. +0.j],\n",
       "        [0. +0.j, 0. +0.j, 0. +0.j, 0.5+0.j]])"
      ]
     },
     "execution_count": 63,
     "metadata": {},
     "output_type": "execute_result"
    }
   ],
   "source": [
    "mat = copy(H)\n",
    "mat_decompose_xz(mat)"
   ]
  },
  {
   "cell_type": "code",
   "execution_count": 64,
   "metadata": {},
   "outputs": [
    {
     "data": {
      "text/plain": [
       "matrix([[0. +0.j, 0. +0.j, 0. +0.j, 0. +0.j],\n",
       "        [0. +0.j, 0. +0.j, 0. +0.j, 1. +2.j],\n",
       "        [0. +0.j, 0. +0.j, 1. +0.j, 0. +0.j],\n",
       "        [0.5+0.j, 0. +0.j, 0. +0.j, 0. +0.j]])"
      ]
     },
     "execution_count": 64,
     "metadata": {},
     "output_type": "execute_result"
    }
   ],
   "source": [
    "coef = copy(H)\n",
    "mat_decompose(coef)"
   ]
  },
  {
   "cell_type": "code",
   "execution_count": 65,
   "metadata": {},
   "outputs": [
    {
     "data": {
      "text/plain": [
       "matrix([[ 1. +0.j,  0. +0.j,  1. +2.j, -0.5+0.j],\n",
       "        [ 0. +0.j,  1. +0.j,  0.5+0.j, -1. -2.j],\n",
       "        [ 1. +2.j,  0.5+0.j, -1. +0.j,  0. +0.j],\n",
       "        [-0.5+0.j, -1. -2.j,  0. +0.j, -1. +0.j]])"
      ]
     },
     "execution_count": 65,
     "metadata": {},
     "output_type": "execute_result"
    }
   ],
   "source": [
    "restore = copy(coef)\n",
    "mat_compose(restore)"
   ]
  },
  {
   "cell_type": "code",
   "execution_count": 51,
   "metadata": {},
   "outputs": [
    {
     "data": {
      "text/plain": [
       "matrix([[ 0. +2.j,  0. +0.j,  2. +0.j, -0.5+0.j],\n",
       "        [ 0. +0.j,  0. -2.j,  0.5+0.j,  0. +0.j],\n",
       "        [ 2. +0.j,  0.5+0.j,  0. +2.j,  0. +0.j],\n",
       "        [-0.5+0.j,  0. +0.j,  0. +0.j,  0. -2.j]])"
      ]
     },
     "execution_count": 51,
     "metadata": {},
     "output_type": "execute_result"
    }
   ],
   "source": [
    "H"
   ]
  },
  {
   "cell_type": "code",
   "execution_count": 58,
   "metadata": {},
   "outputs": [
    {
     "data": {
      "text/plain": [
       "matrix([[ 0. +0.j,  0. +0.j,  1. +0.j, -0.5+0.j,  0. +0.j,  0. +0.j,\n",
       "          0. +0.j,  0. +0.j,  1. +2.j,  0. +0.j,  0. +0.j,  0. +0.j,\n",
       "          0. +0.j,  0. +0.j,  0. +0.j,  0. +0.j],\n",
       "        [ 0. +0.j,  0. +0.j,  0.5+0.j,  1. +0.j,  0. +0.j,  0. +0.j,\n",
       "          0. +0.j,  0. +0.j,  0. +0.j,  1. -2.j,  0. +0.j,  0. +0.j,\n",
       "          0. +0.j,  0. +0.j,  0. +0.j,  0. +0.j],\n",
       "        [ 1. +0.j,  0.5+0.j,  0. +0.j,  0. +0.j,  0. +0.j,  0. +0.j,\n",
       "          0. +0.j,  0. +0.j,  0. +0.j,  0. +0.j,  1. +2.j,  0. +0.j,\n",
       "          0. +0.j,  0. +0.j,  0. +0.j,  0. +0.j],\n",
       "        [-0.5+0.j,  1. +0.j,  0. +0.j,  0. +0.j,  0. +0.j,  0. +0.j,\n",
       "          0. +0.j,  0. +0.j,  0. +0.j,  0. +0.j,  0. +0.j,  1. -2.j,\n",
       "          0. +0.j,  0. +0.j,  0. +0.j,  0. +0.j],\n",
       "        [ 0. +0.j,  0. +0.j,  0. +0.j,  0. +0.j,  0. +0.j,  0. +0.j,\n",
       "         -1. +0.j, -0.5+0.j,  0. +0.j,  0. +0.j,  0. +0.j,  0. +0.j,\n",
       "         -1. -2.j,  0. +0.j,  0. +0.j,  0. +0.j],\n",
       "        [ 0. +0.j,  0. +0.j,  0. +0.j,  0. +0.j,  0. +0.j,  0. +0.j,\n",
       "          0.5+0.j, -1. +0.j,  0. +0.j,  0. +0.j,  0. +0.j,  0. +0.j,\n",
       "          0. +0.j, -1. +2.j,  0. +0.j,  0. +0.j],\n",
       "        [ 0. +0.j,  0. +0.j,  0. +0.j,  0. +0.j, -1. +0.j,  0.5+0.j,\n",
       "          0. +0.j,  0. +0.j,  0. +0.j,  0. +0.j,  0. +0.j,  0. +0.j,\n",
       "          0. +0.j,  0. +0.j, -1. -2.j,  0. +0.j],\n",
       "        [ 0. +0.j,  0. +0.j,  0. +0.j,  0. +0.j, -0.5+0.j, -1. +0.j,\n",
       "          0. +0.j,  0. +0.j,  0. +0.j,  0. +0.j,  0. +0.j,  0. +0.j,\n",
       "          0. +0.j,  0. +0.j,  0. +0.j, -1. +2.j],\n",
       "        [ 1. +2.j,  0. +0.j,  0. +0.j,  0. +0.j,  0. +0.j,  0. +0.j,\n",
       "          0. +0.j,  0. +0.j,  0. +0.j,  0. +0.j, -1. +0.j,  0.5+0.j,\n",
       "          0. +0.j,  0. +0.j,  0. +0.j,  0. +0.j],\n",
       "        [ 0. +0.j,  1. -2.j,  0. +0.j,  0. +0.j,  0. +0.j,  0. +0.j,\n",
       "          0. +0.j,  0. +0.j,  0. +0.j,  0. +0.j, -0.5+0.j, -1. +0.j,\n",
       "          0. +0.j,  0. +0.j,  0. +0.j,  0. +0.j],\n",
       "        [ 0. +0.j,  0. +0.j,  1. +2.j,  0. +0.j,  0. +0.j,  0. +0.j,\n",
       "          0. +0.j,  0. +0.j, -1. +0.j, -0.5+0.j,  0. +0.j,  0. +0.j,\n",
       "          0. +0.j,  0. +0.j,  0. +0.j,  0. +0.j],\n",
       "        [ 0. +0.j,  0. +0.j,  0. +0.j,  1. -2.j,  0. +0.j,  0. +0.j,\n",
       "          0. +0.j,  0. +0.j,  0.5+0.j, -1. +0.j,  0. +0.j,  0. +0.j,\n",
       "          0. +0.j,  0. +0.j,  0. +0.j,  0. +0.j],\n",
       "        [ 0. +0.j,  0. +0.j,  0. +0.j,  0. +0.j, -1. -2.j,  0. +0.j,\n",
       "          0. +0.j,  0. +0.j,  0. +0.j,  0. +0.j,  0. +0.j,  0. +0.j,\n",
       "          0. +0.j,  0. +0.j,  1. +0.j,  0.5+0.j],\n",
       "        [ 0. +0.j,  0. +0.j,  0. +0.j,  0. +0.j,  0. +0.j, -1. +2.j,\n",
       "          0. +0.j,  0. +0.j,  0. +0.j,  0. +0.j,  0. +0.j,  0. +0.j,\n",
       "          0. +0.j,  0. +0.j, -0.5+0.j,  1. +0.j],\n",
       "        [ 0. +0.j,  0. +0.j,  0. +0.j,  0. +0.j,  0. +0.j,  0. +0.j,\n",
       "         -1. -2.j,  0. +0.j,  0. +0.j,  0. +0.j,  0. +0.j,  0. +0.j,\n",
       "          1. +0.j, -0.5+0.j,  0. +0.j,  0. +0.j],\n",
       "        [ 0. +0.j,  0. +0.j,  0. +0.j,  0. +0.j,  0. +0.j,  0. +0.j,\n",
       "          0. +0.j, -1. +2.j,  0. +0.j,  0. +0.j,  0. +0.j,  0. +0.j,\n",
       "          0.5+0.j,  1. +0.j,  0. +0.j,  0. +0.j]])"
      ]
     },
     "execution_count": 58,
     "metadata": {},
     "output_type": "execute_result"
    }
   ],
   "source": [
    "restore = copy(coef)\n",
    "mat_compose_no_jit(restore)"
   ]
  },
  {
   "cell_type": "markdown",
   "metadata": {},
   "source": [
    "## Numpy"
   ]
  },
  {
   "cell_type": "code",
   "execution_count": 2,
   "metadata": {},
   "outputs": [],
   "source": [
    "import numpy as np"
   ]
  },
  {
   "cell_type": "code",
   "execution_count": 3,
   "metadata": {},
   "outputs": [],
   "source": [
    "arr = np.array(\n",
    "    [\n",
    "    [0., 1., 0.2, 3.2, 0.1, 0.00001],\n",
    "    [0., 1., 0.2, 3.2, 0.1, 0.00001],\n",
    "    [0., 1., 0.2, 3.2, 0.1, 0.00001],\n",
    "    [0., 1., 0.2, 3.2, 0.1, 0.00001]\n",
    "    ]\n",
    ")"
   ]
  },
  {
   "cell_type": "code",
   "execution_count": 7,
   "metadata": {},
   "outputs": [
    {
     "data": {
      "text/plain": [
       "(array([0, 0, 0, 1, 1, 1, 2, 2, 2, 3, 3, 3], dtype=int64),\n",
       " array([1, 2, 3, 1, 2, 3, 1, 2, 3, 1, 2, 3], dtype=int64))"
      ]
     },
     "execution_count": 7,
     "metadata": {},
     "output_type": "execute_result"
    }
   ],
   "source": [
    "np.nonzero(arr>0.1)"
   ]
  },
  {
   "cell_type": "code",
   "execution_count": null,
   "metadata": {},
   "outputs": [],
   "source": []
  }
 ],
 "metadata": {
  "kernelspec": {
   "display_name": "opttrot",
   "language": "python",
   "name": "python3"
  },
  "language_info": {
   "codemirror_mode": {
    "name": "ipython",
    "version": 3
   },
   "file_extension": ".py",
   "mimetype": "text/x-python",
   "name": "python",
   "nbconvert_exporter": "python",
   "pygments_lexer": "ipython3",
   "version": "3.11.8"
  }
 },
 "nbformat": 4,
 "nbformat_minor": 2
}
