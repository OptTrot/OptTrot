{
 "cells": [
  {
   "cell_type": "markdown",
   "metadata": {},
   "source": [
    "## Greedy Algorithm"
   ]
  },
  {
   "cell_type": "code",
   "execution_count": 30,
   "metadata": {},
   "outputs": [],
   "source": [
    "import os, sys\n",
    "sys.path.append(\"..\")"
   ]
  },
  {
   "cell_type": "code",
   "execution_count": 31,
   "metadata": {},
   "outputs": [],
   "source": [
    "from opttrot.pauli import PauliElement\n",
    "from opttrot.pauli_utils import sym_code2pstr\n",
    "\n",
    "import numpy as np"
   ]
  },
  {
   "cell_type": "code",
   "execution_count": 32,
   "metadata": {},
   "outputs": [],
   "source": [
    "N = 3"
   ]
  },
  {
   "cell_type": "code",
   "execution_count": 33,
   "metadata": {},
   "outputs": [],
   "source": [
    "p1 = PauliElement(2, 2, N, 1)"
   ]
  },
  {
   "cell_type": "code",
   "execution_count": 34,
   "metadata": {},
   "outputs": [
    {
     "data": {
      "text/plain": [
       "array([PauliElement(n=3, weight=1.000000+(0.000000)j, III),\n",
       "       PauliElement(n=3, weight=1.000000+(0.000000)j, IIX),\n",
       "       PauliElement(n=3, weight=1.000000+(0.000000)j, IIZ)], dtype=object)"
      ]
     },
     "execution_count": 34,
     "metadata": {},
     "output_type": "execute_result"
    }
   ],
   "source": [
    "parr = np.array([PauliElement(0, 0, N, 1), PauliElement(1, 0, N, 1), PauliElement(0, 1, N, 1)])\n",
    "parr"
   ]
  },
  {
   "cell_type": "code",
   "execution_count": 35,
   "metadata": {},
   "outputs": [],
   "source": [
    "parr[0] = p1@parr[0]"
   ]
  },
  {
   "cell_type": "code",
   "execution_count": 36,
   "metadata": {},
   "outputs": [],
   "source": [
    "parr[2] = p1@parr[2]"
   ]
  },
  {
   "cell_type": "code",
   "execution_count": 37,
   "metadata": {},
   "outputs": [
    {
     "data": {
      "text/plain": [
       "array([PauliElement(n=3, weight=1.000000+(0.000000)j, IYI),\n",
       "       PauliElement(n=3, weight=1.000000+(0.000000)j, IIX),\n",
       "       PauliElement(n=3, weight=1.000000+(0.000000)j, IYZ)], dtype=object)"
      ]
     },
     "execution_count": 37,
     "metadata": {},
     "output_type": "execute_result"
    }
   ],
   "source": [
    "parr"
   ]
  },
  {
   "cell_type": "code",
   "execution_count": 90,
   "metadata": {},
   "outputs": [],
   "source": [
    "class PauliFrame:\n",
    "    def __init__(self, n):\n",
    "        self.qubit = n\n",
    "\n",
    "        self.front = np.vstack([np.zeros(self.qubit), 2**np.arange(self.qubit)]).T.astype(int)\n",
    "        self.back  = np.vstack([2**np.arange(self.qubit), np.zeros(self.qubit)]).T.astype(int)\n",
    "        self.sign = np.ones(self.qubit, dtype=int)\n",
    "    def __repr__(self):\n",
    "        reps = []\n",
    "        for i, (x1, z1, x2, z2)  in enumerate(np.hstack([self.front, self.back])):\n",
    "            reps.append(f\"{self.sign[i]}, {sym_code2pstr((x1, z1),self.qubit)}, {sym_code2pstr((x2, z2), self.qubit)}\\n\")\n",
    "        return \"\".join(reps)\n",
    "    \n",
    "    def h(self, i):\n",
    "        self.back[i][0], self.front[i][0] = self.front[i][0], self.back[i][0]\n",
    "        self.back[i][1], self.front[i][1] = self.front[i][1], self.back[i][1]\n",
    "    def s(self, i):\n",
    "        pass\n",
    "    def s_d(self, i):\n",
    "        pass \n",
    "    def two_entangle(self, i, j, c_type = 0):\n",
    "        # 0 = cx\n",
    "        # 1 = cz\n",
    "        # 2 = cy"
   ]
  },
  {
   "cell_type": "code",
   "execution_count": 91,
   "metadata": {},
   "outputs": [
    {
     "data": {
      "text/plain": [
       "1, IIIIZ, IIIIX\n",
       "1, IIIZI, IIIXI\n",
       "1, IIZII, IIXII\n",
       "1, IZIII, IXIII\n",
       "1, ZIIII, XIIII"
      ]
     },
     "execution_count": 91,
     "metadata": {},
     "output_type": "execute_result"
    }
   ],
   "source": [
    "pf = PauliFrame(5)\n",
    "pf"
   ]
  },
  {
   "cell_type": "code",
   "execution_count": 93,
   "metadata": {},
   "outputs": [
    {
     "data": {
      "text/plain": [
       "1, IIIIZ, IIIIX\n",
       "1, IIIZI, IIIXI\n",
       "1, IIZII, IIXII\n",
       "1, IXIII, IZIII\n",
       "1, ZIIII, XIIII"
      ]
     },
     "execution_count": 93,
     "metadata": {},
     "output_type": "execute_result"
    }
   ],
   "source": [
    "pf.h(3)\n",
    "pf"
   ]
  },
  {
   "cell_type": "code",
   "execution_count": 89,
   "metadata": {},
   "outputs": [
    {
     "data": {
      "text/plain": [
       "(array([[ 0,  1],\n",
       "        [ 0,  2],\n",
       "        [ 0,  4],\n",
       "        [ 8,  0],\n",
       "        [ 0, 16]]),\n",
       " array([[ 1,  0],\n",
       "        [ 2,  0],\n",
       "        [ 4,  0],\n",
       "        [ 0,  8],\n",
       "        [16,  0]]))"
      ]
     },
     "execution_count": 89,
     "metadata": {},
     "output_type": "execute_result"
    }
   ],
   "source": [
    "pf.front, pf.back"
   ]
  },
  {
   "cell_type": "code",
   "execution_count": 64,
   "metadata": {},
   "outputs": [
    {
     "data": {
      "text/plain": [
       "array([0, 1, 2, 3])"
      ]
     },
     "execution_count": 64,
     "metadata": {},
     "output_type": "execute_result"
    }
   ],
   "source": [
    "np.arange(4)"
   ]
  },
  {
   "cell_type": "code",
   "execution_count": 21,
   "metadata": {},
   "outputs": [
    {
     "data": {
      "text/plain": [
       "array([[1., 0.],\n",
       "       [2., 0.],\n",
       "       [4., 0.],\n",
       "       [8., 0.]])"
      ]
     },
     "execution_count": 21,
     "metadata": {},
     "output_type": "execute_result"
    }
   ],
   "source": [
    "np.vstack([2**np.arange(4), np.zeros(4)]).T"
   ]
  },
  {
   "cell_type": "code",
   "execution_count": 23,
   "metadata": {},
   "outputs": [],
   "source": [
    "h = np.vstack([2**np.arange(4), np.zeros(4)]).T"
   ]
  },
  {
   "cell_type": "code",
   "execution_count": 26,
   "metadata": {},
   "outputs": [
    {
     "data": {
      "text/plain": [
       "array([[1., 0., 1., 0.],\n",
       "       [2., 0., 2., 0.],\n",
       "       [4., 0., 4., 0.],\n",
       "       [8., 0., 8., 0.]])"
      ]
     },
     "execution_count": 26,
     "metadata": {},
     "output_type": "execute_result"
    }
   ],
   "source": [
    "np.hstack([h, h])"
   ]
  },
  {
   "cell_type": "code",
   "execution_count": null,
   "metadata": {},
   "outputs": [],
   "source": []
  }
 ],
 "metadata": {
  "kernelspec": {
   "display_name": "opttrot",
   "language": "python",
   "name": "python3"
  },
  "language_info": {
   "codemirror_mode": {
    "name": "ipython",
    "version": 3
   },
   "file_extension": ".py",
   "mimetype": "text/x-python",
   "name": "python",
   "nbconvert_exporter": "python",
   "pygments_lexer": "ipython3",
   "version": "3.12.4"
  }
 },
 "nbformat": 4,
 "nbformat_minor": 2
}
