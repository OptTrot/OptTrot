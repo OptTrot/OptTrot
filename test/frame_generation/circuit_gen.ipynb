{
 "cells": [
  {
   "cell_type": "markdown",
   "metadata": {},
   "source": [
    "## Greedy Algorithm"
   ]
  },
  {
   "cell_type": "code",
   "execution_count": 1,
   "metadata": {},
   "outputs": [],
   "source": [
    "import os, sys\n",
    "sys.path.append(\"..\")\n",
    "sys.path.append(\"..\\\\..\")"
   ]
  },
  {
   "cell_type": "code",
   "execution_count": 2,
   "metadata": {},
   "outputs": [],
   "source": [
    "from opttrot.pauli import PauliElement\n",
    "from opttrot.pauli_utils import sym_code2pstr\n",
    "\n",
    "import numpy as np"
   ]
  },
  {
   "cell_type": "code",
   "execution_count": 3,
   "metadata": {},
   "outputs": [],
   "source": [
    "N = 3"
   ]
  },
  {
   "cell_type": "code",
   "execution_count": 4,
   "metadata": {},
   "outputs": [],
   "source": [
    "p1 = PauliElement(2, 2, N, 1)"
   ]
  },
  {
   "cell_type": "code",
   "execution_count": 5,
   "metadata": {},
   "outputs": [
    {
     "data": {
      "text/plain": [
       "array([PauliElement(n=3, weight=1.000000+(0.000000)j, III),\n",
       "       PauliElement(n=3, weight=1.000000+(0.000000)j, IIX),\n",
       "       PauliElement(n=3, weight=1.000000+(0.000000)j, IIZ)], dtype=object)"
      ]
     },
     "execution_count": 5,
     "metadata": {},
     "output_type": "execute_result"
    }
   ],
   "source": [
    "parr = np.array([PauliElement(0, 0, N, 1), PauliElement(1, 0, N, 1), PauliElement(0, 1, N, 1)])\n",
    "parr"
   ]
  },
  {
   "cell_type": "code",
   "execution_count": 6,
   "metadata": {},
   "outputs": [],
   "source": [
    "parr[0] = p1@parr[0]"
   ]
  },
  {
   "cell_type": "code",
   "execution_count": 7,
   "metadata": {},
   "outputs": [],
   "source": [
    "parr[2] = p1@parr[2]"
   ]
  },
  {
   "cell_type": "code",
   "execution_count": 8,
   "metadata": {},
   "outputs": [
    {
     "data": {
      "text/plain": [
       "array([PauliElement(n=3, weight=1.000000+(0.000000)j, IYI),\n",
       "       PauliElement(n=3, weight=1.000000+(0.000000)j, IIX),\n",
       "       PauliElement(n=3, weight=1.000000+(0.000000)j, IYZ)], dtype=object)"
      ]
     },
     "execution_count": 8,
     "metadata": {},
     "output_type": "execute_result"
    }
   ],
   "source": [
    "parr"
   ]
  },
  {
   "cell_type": "code",
   "execution_count": 9,
   "metadata": {},
   "outputs": [
    {
     "data": {
      "text/plain": [
       "1"
      ]
     },
     "execution_count": 9,
     "metadata": {},
     "output_type": "execute_result"
    }
   ],
   "source": [
    "int(True)"
   ]
  },
  {
   "cell_type": "code",
   "execution_count": 10,
   "metadata": {},
   "outputs": [
    {
     "data": {
      "text/plain": [
       "((1, 3), (1, 4), (2, 5))"
      ]
     },
     "execution_count": 10,
     "metadata": {},
     "output_type": "execute_result"
    }
   ],
   "source": [
    "tuple1 = (1,3)\n",
    "tuple2 = (5,2)\n",
    "tuple3 = (1,4)\n",
    "tuple(sorted(tuple(sorted(t)) for t in [tuple1, tuple2, tuple3]))"
   ]
  },
  {
   "cell_type": "code",
   "execution_count": 11,
   "metadata": {},
   "outputs": [],
   "source": [
    "from copy import copy\n",
    "class PauliFrame:\n",
    "    def __init__(self, n):\n",
    "        self.qubit = n\n",
    "\n",
    "        self.front = np.vstack([np.zeros(self.qubit), 2**np.arange(self.qubit)]).T.astype(int)\n",
    "        self.back  = np.vstack([2**np.arange(self.qubit), np.zeros(self.qubit)]).T.astype(int)\n",
    "        self.sign = np.ones(self.qubit, dtype=int)\n",
    "\n",
    "        self.history = []\n",
    "    def __repr__(self):\n",
    "        reps = []\n",
    "        for i, (x1, z1, x2, z2)  in enumerate(np.hstack([self.front, self.back])):\n",
    "            reps.append(f\"{self.sign[i]}, {sym_code2pstr((x1, z1),self.qubit)}, {sym_code2pstr((x2, z2), self.qubit)}\\n\")\n",
    "        return \"\".join(reps)\n",
    "    def _tuple_sort_triple(self, ts):\n",
    "        return tuple(sorted(tuple(sorted(t)) for t in ts))\n",
    "    def __eq__(self, other):\n",
    "        self_set = set()\n",
    "        other_set = set()\n",
    "        for si, sj in zip(self.front, self.back):\n",
    "            sk, _ = self._product(si, sj)\n",
    "            self_set.add(self._tuple_sort_triple([si, sj, sk]))\n",
    "        for si, sj in zip(other.front, other.back):\n",
    "            sk, _ = self._product(si, sj)\n",
    "            other_set.add(self._tuple_sort_triple([si, sj, sk]))\n",
    "        return self_set <= other_set\n",
    "    def __ne__(self, other):\n",
    "        return not self.__eq__(other)\n",
    "    def __hash__(self):\n",
    "        self_list = list()\n",
    "        for si, sj in zip(self.front, self.back):\n",
    "            sk, _ = self._product(si, sj)\n",
    "            self_list.append(self._tuple_sort_triple([si, sj, sk]))\n",
    "        sorted(self_list)\n",
    "        return hash(tuple(self_list))\n",
    "    @property\n",
    "    def matrix(self):\n",
    "        return np.hstack([self.front, self.back])\n",
    "    \n",
    "    def relative_supp(self, p):\n",
    "        supp = 0\n",
    "        for (si, si_t) in zip(self.front, self.back):\n",
    "            supp += int(self._commute(si, p)|self._commute(si_t, p))\n",
    "        return supp\n",
    "\n",
    "    def copy(self):\n",
    "        pf  = PauliFrame(self.qubit)\n",
    "        pf.front = copy(self.front)\n",
    "        pf.back = copy(self.back)\n",
    "        pf.sign = copy(self.sign)\n",
    "        pf.history = copy(self.history)\n",
    "        return pf\n",
    "    def get_previous(self):\n",
    "        pf = self.copy()\n",
    "        (i, j, c_type, hash_key) = pf.history[-1]\n",
    "        pf.two_entangle(i, j, c_type)\n",
    "        del(pf.history[-1])\n",
    "        del(pf.history[-1])\n",
    "        return pf\n",
    "    def h(self, i):\n",
    "        self.back[i][0], self.front[i][0] = self.front[i][0], self.back[i][0]\n",
    "        self.back[i][1], self.front[i][1] = self.front[i][1], self.back[i][1]\n",
    "    def s(self, i):\n",
    "        si, si_t = (self.front[i][0], self.front[i][1]), (self.back[i][0], self.back[i][1])\n",
    "        new_si_t, _ = self._product(si, si_t)\n",
    "        self.back[i][0] = new_si_t[0]\n",
    "        self.back[i][1] = new_si_t[1]\n",
    "        pass\n",
    "    def s_d(self, i):\n",
    "        self.s(i)\n",
    "        self.sign[i] *= -1  \n",
    "        pass \n",
    "    def _commute(self, p1, p2):\n",
    "        nx1, nz1 =  p1\n",
    "        nx2, nz2 =  p2\n",
    "        a = bin(nx1&nz2).count(\"1\")%2\n",
    "        b = bin(nx2&nz1).count(\"1\")%2\n",
    "        return a==b\n",
    "\n",
    "    def _product(self, p1, p2):\n",
    "        nx1, nz1 = p1\n",
    "        nx2, nz2 = p2\n",
    "\n",
    "        # update sign \n",
    "        #f=0\n",
    "        #tmp1 = nx1 & nz2\n",
    "        #tmp2 = nx2 & nz1\n",
    "        #f += bin(tmp1).count(\"1\")\n",
    "        #f += bin(tmp2).count(\"1\")\n",
    "        #f += 2*bin(nx1&nz2).count(\"1\")\n",
    "\n",
    "        return ((nx1 ^ nx2, nz1 ^ nz2), 1)\n",
    "    \n",
    "    def  _basis(self, i, j, c_type, front=True):\n",
    "        if c_type ==0:\n",
    "            return None\n",
    "        if c_type ==1:\n",
    "            #cz\n",
    "            self.h(j)\n",
    "            return None\n",
    "        if c_type == 2:\n",
    "            # cy\n",
    "            if front:\n",
    "                self.s_d(j)\n",
    "            else:\n",
    "                self.s(j)\n",
    "            return None\n",
    "        if c_type ==3:\n",
    "            self.h(i)\n",
    "            return None\n",
    "        if c_type ==4:\n",
    "            self.h(i)\n",
    "            if front:\n",
    "                self.s_d(j)\n",
    "            else:\n",
    "                self.s(j)\n",
    "            return None\n",
    "        if c_type==5:\n",
    "            if front:\n",
    "                self.s_d(i)\n",
    "                self.h(i)\n",
    "                self.s_d(j)\n",
    "            else:\n",
    "                self.s(i)\n",
    "                self.h(i)\n",
    "                self.s(j)\n",
    "            return None\n",
    "\n",
    "\n",
    "    def two_entangle(self, i, j, c_type = 0):\n",
    "        assert i>=0 and j>=0, \"i, j must be positive integer.\"\n",
    "        assert i<self.qubit and j<self.qubit, \"Exceeding the maximum index.\"\n",
    "\n",
    "        self._basis(i, j , c_type, front=True)\n",
    "        \n",
    "        # CX\n",
    "        si, si_t = (self.front[i][0], self.front[i][1]), (self.back[i][0], self.back[i][1])\n",
    "        sj, sj_t = (self.front[j][0], self.front[j][1]), (self.back[j][0], self.back[j][1])\n",
    "\n",
    "        new_sj, _ = self._product(sj, si)\n",
    "        new_si_t, _ = self._product(si_t, sj_t)\n",
    "\n",
    "        self.front[j][0] = new_sj[0]\n",
    "        self.front[j][1] = new_sj[1]\n",
    "        self.back[i][0] = new_si_t[0]\n",
    "        self.back[i][1] = new_si_t[1]\n",
    "        \n",
    "        self._basis(i, j , c_type, front=False)\n",
    "\n",
    "        self.history.append((i, j, c_type, hash(self)))"
   ]
  },
  {
   "cell_type": "code",
   "execution_count": 12,
   "metadata": {},
   "outputs": [
    {
     "data": {
      "text/plain": [
       "1, IIIIZ, IIIIX\n",
       "1, IIIZI, IIIXI\n",
       "1, IIZII, IIXII\n",
       "1, IZIII, IXIII\n",
       "1, ZIIII, XIIII"
      ]
     },
     "execution_count": 12,
     "metadata": {},
     "output_type": "execute_result"
    }
   ],
   "source": [
    "pf = PauliFrame(5)\n",
    "pf"
   ]
  },
  {
   "cell_type": "code",
   "execution_count": 13,
   "metadata": {},
   "outputs": [
    {
     "data": {
      "text/plain": [
       "1, IIIIZ, ZIIXX\n",
       "1, IIIZZ, IIIXI\n",
       "1, IIZII, XIXIZ\n",
       "1, IZIII, IXIII\n",
       "1, ZIZII, XIIIZ"
      ]
     },
     "execution_count": 13,
     "metadata": {},
     "output_type": "execute_result"
    }
   ],
   "source": [
    "pf = PauliFrame(5)\n",
    "pf.two_entangle(0, 4, 1)\n",
    "pf.two_entangle(0, 1, 0)\n",
    "pf.two_entangle(2, 4, 0)\n",
    "pf"
   ]
  },
  {
   "cell_type": "code",
   "execution_count": 14,
   "metadata": {},
   "outputs": [
    {
     "data": {
      "text/plain": [
       "[(0, 4, 1, 3061629624854387302),\n",
       " (0, 1, 0, 7102544670175337138),\n",
       " (2, 4, 0, 6865725205306480262)]"
      ]
     },
     "execution_count": 14,
     "metadata": {},
     "output_type": "execute_result"
    }
   ],
   "source": [
    "pf.history"
   ]
  },
  {
   "cell_type": "code",
   "execution_count": 15,
   "metadata": {},
   "outputs": [
    {
     "data": {
      "text/plain": [
       "1, IIIIZ, ZIIXX\n",
       "1, IIIZZ, IIIXI\n",
       "1, IIZII, IIXII\n",
       "1, IZIII, IXIII\n",
       "1, ZIIII, XIIIZ"
      ]
     },
     "execution_count": 15,
     "metadata": {},
     "output_type": "execute_result"
    }
   ],
   "source": [
    "pf2 = PauliFrame(5)\n",
    "pf2.two_entangle(0, 4, 1)\n",
    "pf2.two_entangle(0, 1, 0)\n",
    "pf2"
   ]
  },
  {
   "cell_type": "code",
   "execution_count": 16,
   "metadata": {},
   "outputs": [
    {
     "data": {
      "text/plain": [
       "[(0, 4, 1, 3061629624854387302), (0, 1, 0, 7102544670175337138)]"
      ]
     },
     "execution_count": 16,
     "metadata": {},
     "output_type": "execute_result"
    }
   ],
   "source": [
    "pf2.history"
   ]
  },
  {
   "cell_type": "code",
   "execution_count": 17,
   "metadata": {},
   "outputs": [],
   "source": [
    "pf_pre = pf.get_previous()"
   ]
  },
  {
   "cell_type": "code",
   "execution_count": 18,
   "metadata": {},
   "outputs": [
    {
     "data": {
      "text/plain": [
       "[(0, 4, 1, 3061629624854387302), (0, 1, 0, 7102544670175337138)]"
      ]
     },
     "execution_count": 18,
     "metadata": {},
     "output_type": "execute_result"
    }
   ],
   "source": [
    "pf_pre.history"
   ]
  },
  {
   "cell_type": "code",
   "execution_count": 19,
   "metadata": {},
   "outputs": [
    {
     "data": {
      "text/plain": [
       "True"
      ]
     },
     "execution_count": 19,
     "metadata": {},
     "output_type": "execute_result"
    }
   ],
   "source": [
    "pf2 == pf_pre"
   ]
  },
  {
   "cell_type": "code",
   "execution_count": 20,
   "metadata": {},
   "outputs": [
    {
     "data": {
      "text/plain": [
       "1, IIIIZ, ZIZXX\n",
       "1, IIIZZ, IIIXI\n",
       "1, IIZII, XIXII\n",
       "1, IZIII, IXIII\n",
       "1, ZIZII, XIIIZ"
      ]
     },
     "execution_count": 20,
     "metadata": {},
     "output_type": "execute_result"
    }
   ],
   "source": [
    "pf3 = PauliFrame(5)\n",
    "pf3.two_entangle(2, 4, 0)\n",
    "pf3.two_entangle(0, 4, 1)\n",
    "pf3.two_entangle(0, 1, 0)\n",
    "pf3"
   ]
  },
  {
   "cell_type": "code",
   "execution_count": 21,
   "metadata": {},
   "outputs": [
    {
     "data": {
      "text/plain": [
       "False"
      ]
     },
     "execution_count": 21,
     "metadata": {},
     "output_type": "execute_result"
    }
   ],
   "source": [
    "pf==pf3"
   ]
  },
  {
   "cell_type": "code",
   "execution_count": 22,
   "metadata": {},
   "outputs": [
    {
     "data": {
      "text/plain": [
       "(1, IIIIZ, ZIIXX\n",
       " 1, IIIZZ, IIIXI\n",
       " 1, IIZII, XIXIZ\n",
       " 1, IZIII, IXIII\n",
       " 1, ZIZII, XIIIZ,\n",
       " 1, IIIIZ, ZIZXX\n",
       " 1, IIIZZ, IIIXI\n",
       " 1, IIZII, XIXII\n",
       " 1, IZIII, IXIII\n",
       " 1, ZIZII, XIIIZ)"
      ]
     },
     "execution_count": 22,
     "metadata": {},
     "output_type": "execute_result"
    }
   ],
   "source": [
    "pf, pf3"
   ]
  },
  {
   "cell_type": "code",
   "execution_count": 23,
   "metadata": {},
   "outputs": [
    {
     "data": {
      "text/plain": [
       "1, IIIIZ, ZIZXX\n",
       "1, IIIZZ, IIIXI\n",
       "1, IIZII, XIXII\n",
       "1, IZIII, IXIII\n",
       "1, ZIZII, XIIIZ"
      ]
     },
     "execution_count": 23,
     "metadata": {},
     "output_type": "execute_result"
    }
   ],
   "source": [
    "pf4 = PauliFrame(5)\n",
    "pf4.two_entangle(2, 4, 0)\n",
    "pf4.two_entangle(0, 1, 0)\n",
    "pf4.two_entangle(0, 4, 1)\n",
    "pf4"
   ]
  },
  {
   "cell_type": "code",
   "execution_count": 24,
   "metadata": {},
   "outputs": [
    {
     "data": {
      "text/plain": [
       "1, IIIIZ, ZIZXX\n",
       "1, IIIZZ, IIIXI\n",
       "1, IIZII, XIXII\n",
       "1, IZIII, IXIII\n",
       "1, ZIZII, XIIIZ"
      ]
     },
     "execution_count": 24,
     "metadata": {},
     "output_type": "execute_result"
    }
   ],
   "source": [
    "pf5 = PauliFrame(5)\n",
    "pf5.two_entangle(0, 1, 0)\n",
    "pf5.two_entangle(2, 4, 0)\n",
    "pf5.two_entangle(0, 4, 1)\n",
    "pf5"
   ]
  },
  {
   "cell_type": "code",
   "execution_count": 25,
   "metadata": {},
   "outputs": [
    {
     "data": {
      "text/plain": [
       "1, IIIIZ, ZIIXX\n",
       "1, IIIZZ, IIIXI\n",
       "1, IIZII, XIXIZ\n",
       "1, IZIII, IXIII\n",
       "1, ZIZII, XIIIZ"
      ]
     },
     "execution_count": 25,
     "metadata": {},
     "output_type": "execute_result"
    }
   ],
   "source": [
    "pf6 = PauliFrame(5)\n",
    "pf6.two_entangle(0, 1, 0)\n",
    "pf6.two_entangle(0, 4, 1)\n",
    "pf6.two_entangle(2, 4, 0)\n",
    "pf6"
   ]
  },
  {
   "cell_type": "code",
   "execution_count": 26,
   "metadata": {},
   "outputs": [
    {
     "data": {
      "text/plain": [
       "(1, IIIIZ, ZIZXX\n",
       " 1, IIIZZ, IIIXI\n",
       " 1, IIZII, XIXII\n",
       " 1, IZIII, IXIII\n",
       " 1, ZIZII, XIIIZ,\n",
       " 1, IIIIZ, ZIIXX\n",
       " 1, IIIZZ, IIIXI\n",
       " 1, IIZII, XIXIZ\n",
       " 1, IZIII, IXIII\n",
       " 1, ZIZII, XIIIZ)"
      ]
     },
     "execution_count": 26,
     "metadata": {},
     "output_type": "execute_result"
    }
   ],
   "source": [
    "pf5, pf6"
   ]
  },
  {
   "cell_type": "code",
   "execution_count": 27,
   "metadata": {},
   "outputs": [
    {
     "data": {
      "text/plain": [
       "False"
      ]
     },
     "execution_count": 27,
     "metadata": {},
     "output_type": "execute_result"
    }
   ],
   "source": [
    "pf5 == pf6"
   ]
  },
  {
   "cell_type": "code",
   "execution_count": 28,
   "metadata": {},
   "outputs": [
    {
     "data": {
      "text/plain": [
       "array([[ 0,  1,  3, 20],\n",
       "       [ 0,  3,  2,  0],\n",
       "       [ 0,  4, 20,  0],\n",
       "       [ 0,  8,  8,  0],\n",
       "       [ 0, 20, 16,  1]])"
      ]
     },
     "execution_count": 28,
     "metadata": {},
     "output_type": "execute_result"
    }
   ],
   "source": [
    "pf5.matrix"
   ]
  },
  {
   "cell_type": "code",
   "execution_count": 29,
   "metadata": {},
   "outputs": [
    {
     "data": {
      "text/plain": [
       "array([[ 0,  1,  3, 16],\n",
       "       [ 0,  3,  2,  0],\n",
       "       [ 0,  4, 20,  1],\n",
       "       [ 0,  8,  8,  0],\n",
       "       [ 0, 20, 16,  1]])"
      ]
     },
     "execution_count": 29,
     "metadata": {},
     "output_type": "execute_result"
    }
   ],
   "source": [
    "pf6.matrix"
   ]
  },
  {
   "cell_type": "code",
   "execution_count": 30,
   "metadata": {},
   "outputs": [
    {
     "data": {
      "text/plain": [
       "array([[ 0,  1,  3, 16],\n",
       "       [ 0,  3,  2,  0],\n",
       "       [ 0,  4, 20,  1],\n",
       "       [ 0,  8,  8,  0],\n",
       "       [ 0, 20, 16,  1]])"
      ]
     },
     "execution_count": 30,
     "metadata": {},
     "output_type": "execute_result"
    }
   ],
   "source": [
    "pf.matrix"
   ]
  },
  {
   "cell_type": "code",
   "execution_count": 31,
   "metadata": {},
   "outputs": [
    {
     "data": {
      "text/plain": [
       "array([[ 0,  1,  3, 16],\n",
       "       [ 0,  3,  2,  0],\n",
       "       [ 0,  4,  4,  0],\n",
       "       [ 0,  8,  8,  0],\n",
       "       [ 0, 16, 16,  1]])"
      ]
     },
     "execution_count": 31,
     "metadata": {},
     "output_type": "execute_result"
    }
   ],
   "source": [
    "pf2.matrix"
   ]
  },
  {
   "cell_type": "code",
   "execution_count": 32,
   "metadata": {},
   "outputs": [
    {
     "data": {
      "text/plain": [
       "array([[ 0,  1,  3, 20],\n",
       "       [ 0,  3,  2,  0],\n",
       "       [ 0,  4, 20,  0],\n",
       "       [ 0,  8,  8,  0],\n",
       "       [ 0, 20, 16,  1]])"
      ]
     },
     "execution_count": 32,
     "metadata": {},
     "output_type": "execute_result"
    }
   ],
   "source": [
    "pf3.matrix"
   ]
  },
  {
   "cell_type": "code",
   "execution_count": 33,
   "metadata": {},
   "outputs": [],
   "source": [
    "from itertools import combinations, permutations"
   ]
  },
  {
   "cell_type": "code",
   "execution_count": 34,
   "metadata": {},
   "outputs": [
    {
     "data": {
      "text/plain": [
       "[(1, 2), (1, 3), (2, 3)]"
      ]
     },
     "execution_count": 34,
     "metadata": {},
     "output_type": "execute_result"
    }
   ],
   "source": [
    "list(combinations([1,2,3], 2))"
   ]
  },
  {
   "cell_type": "code",
   "execution_count": 35,
   "metadata": {},
   "outputs": [
    {
     "data": {
      "text/plain": [
       "[(0, 1), (0, 2), (1, 2)]"
      ]
     },
     "execution_count": 35,
     "metadata": {},
     "output_type": "execute_result"
    }
   ],
   "source": [
    "list(combinations(range(3), 2))"
   ]
  },
  {
   "cell_type": "code",
   "execution_count": 36,
   "metadata": {},
   "outputs": [
    {
     "data": {
      "text/plain": [
       "[(0, 1), (0, 2), (1, 0), (1, 2), (2, 0), (2, 1)]"
      ]
     },
     "execution_count": 36,
     "metadata": {},
     "output_type": "execute_result"
    }
   ],
   "source": [
    "list(permutations(range(3), 2))"
   ]
  },
  {
   "cell_type": "markdown",
   "metadata": {},
   "source": [
    "## Test"
   ]
  },
  {
   "cell_type": "code",
   "execution_count": 4,
   "metadata": {},
   "outputs": [],
   "source": [
    "from gen_qubits import PauliFrame"
   ]
  },
  {
   "cell_type": "code",
   "execution_count": 9,
   "metadata": {},
   "outputs": [
    {
     "name": "stdout",
     "output_type": "stream",
     "text": [
      "7934267287378752615\n",
      "1895826367948997221\n",
      "7770280598866912735\n"
     ]
    },
    {
     "data": {
      "text/plain": [
       "1, IIZ, IXX\n",
       "1, IZZ, XXI\n",
       "1, ZZZ, XII"
      ]
     },
     "execution_count": 9,
     "metadata": {},
     "output_type": "execute_result"
    }
   ],
   "source": [
    "pf = PauliFrame(3)\n",
    "print(hash(pf))\n",
    "pf.two_entangle(0, 1, c_type=0)\n",
    "print(hash(pf))\n",
    "pf.two_entangle(1, 2, c_type=0)\n",
    "print(hash(pf))\n",
    "pf"
   ]
  },
  {
   "cell_type": "code",
   "execution_count": 10,
   "metadata": {},
   "outputs": [
    {
     "data": {
      "text/plain": [
       "[(0, 1, 0, 1895826367948997221), (1, 2, 0, 7770280598866912735)]"
      ]
     },
     "execution_count": 10,
     "metadata": {},
     "output_type": "execute_result"
    }
   ],
   "source": [
    "pf.history"
   ]
  },
  {
   "cell_type": "code",
   "execution_count": 6,
   "metadata": {},
   "outputs": [
    {
     "data": {
      "text/plain": [
       "7770280598866912735"
      ]
     },
     "execution_count": 6,
     "metadata": {},
     "output_type": "execute_result"
    }
   ],
   "source": [
    "hash(pf)"
   ]
  },
  {
   "cell_type": "code",
   "execution_count": 38,
   "metadata": {},
   "outputs": [
    {
     "data": {
      "text/plain": [
       "1, IIZ, XXX\n",
       "1, IZZ, XXI\n",
       "1, ZZI, XII"
      ]
     },
     "execution_count": 38,
     "metadata": {},
     "output_type": "execute_result"
    }
   ],
   "source": [
    "pf = PauliFrame(3)\n",
    "pf.two_entangle(1, 2, c_type=0)\n",
    "pf.two_entangle(0, 1, c_type=0)\n",
    "pf"
   ]
  },
  {
   "cell_type": "markdown",
   "metadata": {},
   "source": [
    "## DataSet\n",
    "\n",
    "1. Controll gate를 모든 경우에 대해 적용시켜, B frame data를 만든다.\n",
    "   1. Frame 종류가 들어간 data,\n",
    "   2. Frame 별로 어느 Frame에서 조작을 해서 도달했는지 B_i = B_{i+1} mapping data를 만든다.\n",
    "2. H가 주어지면, Market 문제로 치환할 수 있다.\n",
    "### Data set generation\n",
    "\n",
    "- qubit 2: 12 (0.1 s)\n",
    "- qubit 3: 3384 (1 min 16 s)\n",
    "- qubit 4: >=4,433,615 (>= 276min)"
   ]
  },
  {
   "cell_type": "code",
   "execution_count": 3,
   "metadata": {},
   "outputs": [],
   "source": [
    "from gen_qubits import run"
   ]
  },
  {
   "cell_type": "code",
   "execution_count": 5,
   "metadata": {},
   "outputs": [
    {
     "name": "stdout",
     "output_type": "stream",
     "text": [
      "0-th:"
     ]
    },
    {
     "name": "stderr",
     "output_type": "stream",
     "text": [
      "Processing Frame 0: 100%|██████████| 1/1 [00:00<00:00,  2.79it/s]\n"
     ]
    },
    {
     "name": "stdout",
     "output_type": "stream",
     "text": [
      "15\n",
      "1-th:"
     ]
    },
    {
     "name": "stderr",
     "output_type": "stream",
     "text": [
      "Processing Frame 1: 100%|██████████| 15/15 [00:00<00:00, 29.44it/s]\n"
     ]
    },
    {
     "name": "stdout",
     "output_type": "stream",
     "text": [
      "235\n",
      "2-th:"
     ]
    },
    {
     "name": "stderr",
     "output_type": "stream",
     "text": [
      "Processing Frame 2: 100%|██████████| 235/235 [00:01<00:00, 205.89it/s]\n"
     ]
    },
    {
     "name": "stdout",
     "output_type": "stream",
     "text": [
      "1632\n",
      "3-th:"
     ]
    },
    {
     "name": "stderr",
     "output_type": "stream",
     "text": [
      "Processing Frame 3: 100%|██████████| 1632/1632 [00:05<00:00, 292.12it/s]\n"
     ]
    },
    {
     "name": "stdout",
     "output_type": "stream",
     "text": [
      "3162\n",
      "4-th:"
     ]
    },
    {
     "name": "stderr",
     "output_type": "stream",
     "text": [
      "Processing Frame 4: 100%|██████████| 3162/3162 [00:10<00:00, 300.96it/s]\n"
     ]
    },
    {
     "name": "stdout",
     "output_type": "stream",
     "text": [
      "3382\n",
      "5-th:"
     ]
    },
    {
     "name": "stderr",
     "output_type": "stream",
     "text": [
      "Processing Frame 5: 100%|██████████| 3382/3382 [00:12<00:00, 281.17it/s]\n"
     ]
    },
    {
     "name": "stdout",
     "output_type": "stream",
     "text": [
      "3384\n",
      "6-th:"
     ]
    },
    {
     "name": "stderr",
     "output_type": "stream",
     "text": [
      "Processing Frame 6: 100%|██████████| 3384/3384 [00:12<00:00, 262.38it/s]\n"
     ]
    },
    {
     "name": "stdout",
     "output_type": "stream",
     "text": [
      "3384\n"
     ]
    },
    {
     "data": {
      "text/plain": [
       "True"
      ]
     },
     "execution_count": 5,
     "metadata": {},
     "output_type": "execute_result"
    }
   ],
   "source": [
    "run(N=3, ppols=10)"
   ]
  },
  {
   "cell_type": "code",
   "execution_count": 40,
   "metadata": {},
   "outputs": [],
   "source": [
    "import pickle\n",
    "from itertools import permutations"
   ]
  },
  {
   "cell_type": "code",
   "execution_count": 51,
   "metadata": {},
   "outputs": [],
   "source": [
    "N = 6"
   ]
  },
  {
   "cell_type": "code",
   "execution_count": 52,
   "metadata": {},
   "outputs": [],
   "source": [
    "pf = PauliFrame(N)\n",
    "Frames = [set([pf])]\n",
    "i=0\n",
    "frames_len = 1\n",
    "\n",
    "num_core = 4"
   ]
  },
  {
   "cell_type": "code",
   "execution_count": 53,
   "metadata": {},
   "outputs": [
    {
     "name": "stdout",
     "output_type": "stream",
     "text": [
      "0-th:75\n",
      "1-th:5356\n",
      "2-th:"
     ]
    },
    {
     "ename": "KeyboardInterrupt",
     "evalue": "",
     "output_type": "error",
     "traceback": [
      "\u001b[1;31m---------------------------------------------------------------------------\u001b[0m",
      "\u001b[1;31mKeyboardInterrupt\u001b[0m                         Traceback (most recent call last)",
      "Cell \u001b[1;32mIn[53], line 10\u001b[0m\n\u001b[0;32m      8\u001b[0m p1 \u001b[38;5;241m=\u001b[39m p\u001b[38;5;241m.\u001b[39mcopy()\n\u001b[0;32m      9\u001b[0m p2 \u001b[38;5;241m=\u001b[39m p\u001b[38;5;241m.\u001b[39mcopy()\n\u001b[1;32m---> 10\u001b[0m p3 \u001b[38;5;241m=\u001b[39m \u001b[43mp\u001b[49m\u001b[38;5;241;43m.\u001b[39;49m\u001b[43mcopy\u001b[49m\u001b[43m(\u001b[49m\u001b[43m)\u001b[49m\n\u001b[0;32m     11\u001b[0m p4 \u001b[38;5;241m=\u001b[39m p\u001b[38;5;241m.\u001b[39mcopy()\n\u001b[0;32m     12\u001b[0m p5 \u001b[38;5;241m=\u001b[39m p\u001b[38;5;241m.\u001b[39mcopy()\n",
      "Cell \u001b[1;32mIn[11], line 48\u001b[0m, in \u001b[0;36mPauliFrame.copy\u001b[1;34m(self)\u001b[0m\n\u001b[0;32m     47\u001b[0m \u001b[38;5;28;01mdef\u001b[39;00m \u001b[38;5;21mcopy\u001b[39m(\u001b[38;5;28mself\u001b[39m):\n\u001b[1;32m---> 48\u001b[0m     pf  \u001b[38;5;241m=\u001b[39m \u001b[43mPauliFrame\u001b[49m\u001b[43m(\u001b[49m\u001b[38;5;28;43mself\u001b[39;49m\u001b[38;5;241;43m.\u001b[39;49m\u001b[43mqubit\u001b[49m\u001b[43m)\u001b[49m\n\u001b[0;32m     49\u001b[0m     pf\u001b[38;5;241m.\u001b[39mfront \u001b[38;5;241m=\u001b[39m copy(\u001b[38;5;28mself\u001b[39m\u001b[38;5;241m.\u001b[39mfront)\n\u001b[0;32m     50\u001b[0m     pf\u001b[38;5;241m.\u001b[39mback \u001b[38;5;241m=\u001b[39m copy(\u001b[38;5;28mself\u001b[39m\u001b[38;5;241m.\u001b[39mback)\n",
      "Cell \u001b[1;32mIn[11], line 7\u001b[0m, in \u001b[0;36mPauliFrame.__init__\u001b[1;34m(self, n)\u001b[0m\n\u001b[0;32m      4\u001b[0m \u001b[38;5;28mself\u001b[39m\u001b[38;5;241m.\u001b[39mqubit \u001b[38;5;241m=\u001b[39m n\n\u001b[0;32m      6\u001b[0m \u001b[38;5;28mself\u001b[39m\u001b[38;5;241m.\u001b[39mfront \u001b[38;5;241m=\u001b[39m np\u001b[38;5;241m.\u001b[39mvstack([np\u001b[38;5;241m.\u001b[39mzeros(\u001b[38;5;28mself\u001b[39m\u001b[38;5;241m.\u001b[39mqubit), \u001b[38;5;241m2\u001b[39m\u001b[38;5;241m*\u001b[39m\u001b[38;5;241m*\u001b[39mnp\u001b[38;5;241m.\u001b[39marange(\u001b[38;5;28mself\u001b[39m\u001b[38;5;241m.\u001b[39mqubit)])\u001b[38;5;241m.\u001b[39mT\u001b[38;5;241m.\u001b[39mastype(\u001b[38;5;28mint\u001b[39m)\n\u001b[1;32m----> 7\u001b[0m \u001b[38;5;28mself\u001b[39m\u001b[38;5;241m.\u001b[39mback  \u001b[38;5;241m=\u001b[39m \u001b[43mnp\u001b[49m\u001b[38;5;241;43m.\u001b[39;49m\u001b[43mvstack\u001b[49m\u001b[43m(\u001b[49m\u001b[43m[\u001b[49m\u001b[38;5;241;43m2\u001b[39;49m\u001b[38;5;241;43m*\u001b[39;49m\u001b[38;5;241;43m*\u001b[39;49m\u001b[43mnp\u001b[49m\u001b[38;5;241;43m.\u001b[39;49m\u001b[43marange\u001b[49m\u001b[43m(\u001b[49m\u001b[38;5;28;43mself\u001b[39;49m\u001b[38;5;241;43m.\u001b[39;49m\u001b[43mqubit\u001b[49m\u001b[43m)\u001b[49m\u001b[43m,\u001b[49m\u001b[43m \u001b[49m\u001b[43mnp\u001b[49m\u001b[38;5;241;43m.\u001b[39;49m\u001b[43mzeros\u001b[49m\u001b[43m(\u001b[49m\u001b[38;5;28;43mself\u001b[39;49m\u001b[38;5;241;43m.\u001b[39;49m\u001b[43mqubit\u001b[49m\u001b[43m)\u001b[49m\u001b[43m]\u001b[49m\u001b[43m)\u001b[49m\u001b[38;5;241m.\u001b[39mT\u001b[38;5;241m.\u001b[39mastype(\u001b[38;5;28mint\u001b[39m)\n\u001b[0;32m      8\u001b[0m \u001b[38;5;28mself\u001b[39m\u001b[38;5;241m.\u001b[39msign \u001b[38;5;241m=\u001b[39m np\u001b[38;5;241m.\u001b[39mones(\u001b[38;5;28mself\u001b[39m\u001b[38;5;241m.\u001b[39mqubit, dtype\u001b[38;5;241m=\u001b[39m\u001b[38;5;28mint\u001b[39m)\n\u001b[0;32m     10\u001b[0m \u001b[38;5;28mself\u001b[39m\u001b[38;5;241m.\u001b[39mhistory \u001b[38;5;241m=\u001b[39m []\n",
      "File \u001b[1;32mc:\\Users\\cmat411a\\anaconda3\\envs\\QC\\Lib\\site-packages\\numpy\\core\\shape_base.py:289\u001b[0m, in \u001b[0;36mvstack\u001b[1;34m(tup, dtype, casting)\u001b[0m\n\u001b[0;32m    287\u001b[0m \u001b[38;5;28;01mif\u001b[39;00m \u001b[38;5;129;01mnot\u001b[39;00m \u001b[38;5;28misinstance\u001b[39m(arrs, \u001b[38;5;28mlist\u001b[39m):\n\u001b[0;32m    288\u001b[0m     arrs \u001b[38;5;241m=\u001b[39m [arrs]\n\u001b[1;32m--> 289\u001b[0m \u001b[38;5;28;01mreturn\u001b[39;00m \u001b[43m_nx\u001b[49m\u001b[38;5;241;43m.\u001b[39;49m\u001b[43mconcatenate\u001b[49m\u001b[43m(\u001b[49m\u001b[43marrs\u001b[49m\u001b[43m,\u001b[49m\u001b[43m \u001b[49m\u001b[38;5;241;43m0\u001b[39;49m\u001b[43m,\u001b[49m\u001b[43m \u001b[49m\u001b[43mdtype\u001b[49m\u001b[38;5;241;43m=\u001b[39;49m\u001b[43mdtype\u001b[49m\u001b[43m,\u001b[49m\u001b[43m \u001b[49m\u001b[43mcasting\u001b[49m\u001b[38;5;241;43m=\u001b[39;49m\u001b[43mcasting\u001b[49m\u001b[43m)\u001b[49m\n",
      "\u001b[1;31mKeyboardInterrupt\u001b[0m: "
     ]
    }
   ],
   "source": [
    "frames = set()\n",
    "frames = frames|(Frames[0])\n",
    "for k in range(0, 4):\n",
    "    print(f\"{k}-th:\", end=\"\")\n",
    "    ith_set = set()\n",
    "    for p in Frames[k]:\n",
    "        for i, j in permutations(range(N), 2):\n",
    "            p1 = p.copy()\n",
    "            p2 = p.copy()\n",
    "            p3 = p.copy()\n",
    "            p4 = p.copy()\n",
    "            p5 = p.copy()\n",
    "            p6 = p.copy()\n",
    "\n",
    "            p1.two_entangle(i, j, c_type=0) \n",
    "            p2.two_entangle(i, j, c_type=1) \n",
    "            p3.two_entangle(i, j, c_type=2) \n",
    "            p4.two_entangle(i, j, c_type=3) \n",
    "            p5.two_entangle(i, j, c_type=4) \n",
    "            p6.two_entangle(i, j, c_type=5) \n",
    "            ith_set.add(p1)\n",
    "            ith_set.add(p2)\n",
    "            ith_set.add(p3)\n",
    "            ith_set.add(p4)\n",
    "            ith_set.add(p5)\n",
    "            ith_set.add(p6)\n",
    "    \n",
    "    \n",
    "    print(len(ith_set))\n",
    "    Frames.append((ith_set))\n",
    "    if frames >= ith_set:\n",
    "        break\n",
    "    frames = frames|Frames[k+1]\n",
    "    "
   ]
  },
  {
   "cell_type": "code",
   "execution_count": null,
   "metadata": {},
   "outputs": [],
   "source": [
    "with open(f\"qubit{N}_PauliFrame.data\", \"wb\") as file:\n",
    "    pickle.dump(Frames, file)\n",
    "    pickle.dump(frames, file)\n",
    "    "
   ]
  },
  {
   "cell_type": "code",
   "execution_count": 90,
   "metadata": {},
   "outputs": [],
   "source": [
    "with open(\"qubit2_PauliFrame.data\", \"rb\") as file:\n",
    "    Frames = pickle.load(file)\n",
    "    frames = pickle.load(file)\n",
    "    "
   ]
  },
  {
   "cell_type": "code",
   "execution_count": null,
   "metadata": {},
   "outputs": [],
   "source": [
    "# Pandas "
   ]
  },
  {
   "cell_type": "markdown",
   "metadata": {},
   "source": [
    "## Dynamic programming to find a evolution circuit."
   ]
  },
  {
   "cell_type": "markdown",
   "metadata": {},
   "source": []
  }
 ],
 "metadata": {
  "kernelspec": {
   "display_name": "opttrot",
   "language": "python",
   "name": "python3"
  },
  "language_info": {
   "codemirror_mode": {
    "name": "ipython",
    "version": 3
   },
   "file_extension": ".py",
   "mimetype": "text/x-python",
   "name": "python",
   "nbconvert_exporter": "python",
   "pygments_lexer": "ipython3",
   "version": "3.11.8"
  }
 },
 "nbformat": 4,
 "nbformat_minor": 2
}
