{
 "cells": [
  {
   "cell_type": "code",
   "execution_count": 1,
   "metadata": {},
   "outputs": [],
   "source": [
    "import pandas as pd\n",
    "import numpy as np\n",
    "import pickle"
   ]
  },
  {
   "cell_type": "code",
   "execution_count": 2,
   "metadata": {},
   "outputs": [],
   "source": [
    "qubit = 3"
   ]
  },
  {
   "cell_type": "markdown",
   "metadata": {},
   "source": [
    "## Qubit"
   ]
  },
  {
   "cell_type": "code",
   "execution_count": 3,
   "metadata": {},
   "outputs": [],
   "source": [
    "from functools import reduce\n",
    "from gen_qubits import PauliFrame"
   ]
  },
  {
   "cell_type": "code",
   "execution_count": 4,
   "metadata": {},
   "outputs": [
    {
     "data": {
      "text/plain": [
       "['Z0', 'X0', 'Y0', 'Z1', 'X1', 'Y1', 'Z2', 'X2', 'Y2']"
      ]
     },
     "execution_count": 4,
     "metadata": {},
     "output_type": "execute_result"
    }
   ],
   "source": [
    "qubit = 3\n",
    "pf = PauliFrame(3)\n",
    "initial_hash = hash(pf)\n",
    "cols = [ [f\"Z{i}\", f\"X{i}\", f\"Y{i}\"] for i in range(qubit)]\n",
    "columns = reduce(lambda a, b: a+b, cols)\n",
    "columns"
   ]
  },
  {
   "cell_type": "code",
   "execution_count": 5,
   "metadata": {},
   "outputs": [
    {
     "data": {
      "text/plain": [
       "[['Z0', 'X0', 'Y0'], ['Z1', 'X1', 'Y1'], ['Z2', 'X2', 'Y2']]"
      ]
     },
     "execution_count": 5,
     "metadata": {},
     "output_type": "execute_result"
    }
   ],
   "source": [
    "cols "
   ]
  },
  {
   "cell_type": "code",
   "execution_count": 6,
   "metadata": {},
   "outputs": [],
   "source": [
    "df_frame_data = pd.DataFrame(columns = [\"hash\", *columns])\n",
    "df_frame_connection_data = pd.DataFrame(columns = [\"hash1\", \"hash2\", \"i\", \"j\", \"type\"])"
   ]
  },
  {
   "cell_type": "code",
   "execution_count": 7,
   "metadata": {},
   "outputs": [],
   "source": [
    "j=0\n"
   ]
  },
  {
   "cell_type": "code",
   "execution_count": 8,
   "metadata": {},
   "outputs": [
    {
     "name": "stdout",
     "output_type": "stream",
     "text": [
      "0\n",
      "0 end\n",
      "1\n",
      "1 end\n",
      "2\n",
      "2 end\n",
      "3\n",
      "3 end\n",
      "4\n",
      "4 end\n",
      "5\n",
      "5 end\n",
      "6\n",
      "6 end\n"
     ]
    }
   ],
   "source": [
    "L = 0\n",
    "LE = 0\n",
    "for j in range(7):\n",
    "    with open(f\"qubit{qubit}_{j}_PauliFrame.data\", \"rb\") as file:\n",
    "        f = pickle.load(file)\n",
    "    frames = list(f[1])\n",
    "    \n",
    "    print(j)\n",
    "    \n",
    "    for i, frame in enumerate(frames):\n",
    "        arr = np.hstack([frame.matrix, np.bitwise_xor(frame.matrix[:, 0:2], frame.matrix[:, 2:])])\n",
    "        frame_data = [(a,b) for a, b in zip(arr.flat[::2], arr.flat[1::2])]\n",
    "        data = [hash(frame)] + frame_data \n",
    "        df_frame_data.loc[L] = data\n",
    "\n",
    "\n",
    "        hash_step = [initial_hash] + [l[3] for l in frame.history]\n",
    "        transofrmation = [l[:3] for l in frame.history]\n",
    "        edge_map = [(hash_step[i], hash_step[i+1], *(transofrmation[i])) for i in range(len(hash_step)-1)]\n",
    "\n",
    "        \n",
    "        for e in edge_map:\n",
    "            df_frame_connection_data.loc[LE] = e\n",
    "            LE +=1\n",
    "        L +=1\n",
    "    \n",
    "    print(j, \"end\")\n",
    "    with open(f\"qubit{qubit}_{j}_PauliFrame_ends.data\", \"rb\") as file2:\n",
    "        f2 = pickle.load(file2)\n",
    "    frames2 = list(f2[1])\n",
    "    for i, frame in enumerate(frames2):\n",
    "        arr = np.hstack([frame.matrix, np.bitwise_xor(frame.matrix[:, 0:2], frame.matrix[:, 2:])])\n",
    "        frame_data = [(a,b) for a, b in zip(arr.flat[::2], arr.flat[1::2])]\n",
    "        data = [hash(frame)] + frame_data \n",
    "        df_frame_data.loc[L] = data\n",
    "        \n",
    "        hash_step = [initial_hash] + [l[3] for l in frame.history]\n",
    "        transofrmation = [l[:3] for l in frame.history]\n",
    "        edge_map = [(hash_step[i], hash_step[i+1], *(transofrmation[i])) for i in range(len(hash_step)-1)]\n",
    "\n",
    "        for e in edge_map:\n",
    "            df_frame_connection_data.loc[LE] = e\n",
    "            LE +=1\n",
    "        L +=1\n",
    "\n"
   ]
  },
  {
   "cell_type": "code",
   "execution_count": 9,
   "metadata": {},
   "outputs": [],
   "source": [
    "df_frame_data.sort_values(by = columns, inplace=True)"
   ]
  },
  {
   "cell_type": "code",
   "execution_count": 18,
   "metadata": {},
   "outputs": [],
   "source": [
    "df_frame_data.drop_duplicates(subset=[\"hash\"], inplace=True)"
   ]
  },
  {
   "cell_type": "code",
   "execution_count": 19,
   "metadata": {},
   "outputs": [
    {
     "data": {
      "text/html": [
       "<div>\n",
       "<style scoped>\n",
       "    .dataframe tbody tr th:only-of-type {\n",
       "        vertical-align: middle;\n",
       "    }\n",
       "\n",
       "    .dataframe tbody tr th {\n",
       "        vertical-align: top;\n",
       "    }\n",
       "\n",
       "    .dataframe thead th {\n",
       "        text-align: right;\n",
       "    }\n",
       "</style>\n",
       "<table border=\"1\" class=\"dataframe\">\n",
       "  <thead>\n",
       "    <tr style=\"text-align: right;\">\n",
       "      <th></th>\n",
       "      <th>hash</th>\n",
       "      <th>Z0</th>\n",
       "      <th>X0</th>\n",
       "      <th>Y0</th>\n",
       "      <th>Z1</th>\n",
       "      <th>X1</th>\n",
       "      <th>Y1</th>\n",
       "      <th>Z2</th>\n",
       "      <th>X2</th>\n",
       "      <th>Y2</th>\n",
       "    </tr>\n",
       "  </thead>\n",
       "  <tbody>\n",
       "    <tr>\n",
       "      <th>3893</th>\n",
       "      <td>7934267287378752615</td>\n",
       "      <td>(0, 1)</td>\n",
       "      <td>(1, 0)</td>\n",
       "      <td>(1, 1)</td>\n",
       "      <td>(0, 2)</td>\n",
       "      <td>(2, 2)</td>\n",
       "      <td>(2, 0)</td>\n",
       "      <td>(4, 4)</td>\n",
       "      <td>(4, 0)</td>\n",
       "      <td>(0, 4)</td>\n",
       "    </tr>\n",
       "    <tr>\n",
       "      <th>9</th>\n",
       "      <td>-2543978279177338542</td>\n",
       "      <td>(0, 1)</td>\n",
       "      <td>(1, 0)</td>\n",
       "      <td>(1, 1)</td>\n",
       "      <td>(0, 2)</td>\n",
       "      <td>(2, 4)</td>\n",
       "      <td>(2, 6)</td>\n",
       "      <td>(0, 4)</td>\n",
       "      <td>(4, 2)</td>\n",
       "      <td>(4, 6)</td>\n",
       "    </tr>\n",
       "    <tr>\n",
       "      <th>7</th>\n",
       "      <td>-4465226254739119186</td>\n",
       "      <td>(0, 1)</td>\n",
       "      <td>(1, 0)</td>\n",
       "      <td>(1, 1)</td>\n",
       "      <td>(0, 2)</td>\n",
       "      <td>(6, 0)</td>\n",
       "      <td>(6, 2)</td>\n",
       "      <td>(0, 6)</td>\n",
       "      <td>(4, 0)</td>\n",
       "      <td>(4, 6)</td>\n",
       "    </tr>\n",
       "    <tr>\n",
       "      <th>5</th>\n",
       "      <td>727507648582393740</td>\n",
       "      <td>(0, 1)</td>\n",
       "      <td>(1, 0)</td>\n",
       "      <td>(1, 1)</td>\n",
       "      <td>(0, 2)</td>\n",
       "      <td>(6, 4)</td>\n",
       "      <td>(6, 6)</td>\n",
       "      <td>(0, 6)</td>\n",
       "      <td>(4, 2)</td>\n",
       "      <td>(4, 4)</td>\n",
       "    </tr>\n",
       "    <tr>\n",
       "      <th>3006</th>\n",
       "      <td>-8549410598421312604</td>\n",
       "      <td>(0, 1)</td>\n",
       "      <td>(1, 0)</td>\n",
       "      <td>(1, 1)</td>\n",
       "      <td>(0, 4)</td>\n",
       "      <td>(4, 4)</td>\n",
       "      <td>(4, 0)</td>\n",
       "      <td>(0, 2)</td>\n",
       "      <td>(2, 0)</td>\n",
       "      <td>(2, 2)</td>\n",
       "    </tr>\n",
       "    <tr>\n",
       "      <th>...</th>\n",
       "      <td>...</td>\n",
       "      <td>...</td>\n",
       "      <td>...</td>\n",
       "      <td>...</td>\n",
       "      <td>...</td>\n",
       "      <td>...</td>\n",
       "      <td>...</td>\n",
       "      <td>...</td>\n",
       "      <td>...</td>\n",
       "      <td>...</td>\n",
       "    </tr>\n",
       "    <tr>\n",
       "      <th>9160</th>\n",
       "      <td>5315319999447713569</td>\n",
       "      <td>(7, 6)</td>\n",
       "      <td>(2, 0)</td>\n",
       "      <td>(5, 6)</td>\n",
       "      <td>(4, 1)</td>\n",
       "      <td>(4, 4)</td>\n",
       "      <td>(0, 5)</td>\n",
       "      <td>(7, 5)</td>\n",
       "      <td>(5, 4)</td>\n",
       "      <td>(2, 1)</td>\n",
       "    </tr>\n",
       "    <tr>\n",
       "      <th>6274</th>\n",
       "      <td>5867513980184759253</td>\n",
       "      <td>(7, 6)</td>\n",
       "      <td>(2, 5)</td>\n",
       "      <td>(5, 3)</td>\n",
       "      <td>(3, 7)</td>\n",
       "      <td>(0, 5)</td>\n",
       "      <td>(3, 2)</td>\n",
       "      <td>(7, 5)</td>\n",
       "      <td>(2, 1)</td>\n",
       "      <td>(5, 4)</td>\n",
       "    </tr>\n",
       "    <tr>\n",
       "      <th>6854</th>\n",
       "      <td>3577838908738253112</td>\n",
       "      <td>(7, 6)</td>\n",
       "      <td>(3, 6)</td>\n",
       "      <td>(4, 0)</td>\n",
       "      <td>(4, 1)</td>\n",
       "      <td>(7, 3)</td>\n",
       "      <td>(3, 2)</td>\n",
       "      <td>(0, 3)</td>\n",
       "      <td>(2, 1)</td>\n",
       "      <td>(2, 2)</td>\n",
       "    </tr>\n",
       "    <tr>\n",
       "      <th>8884</th>\n",
       "      <td>-1143737878790462277</td>\n",
       "      <td>(7, 7)</td>\n",
       "      <td>(0, 4)</td>\n",
       "      <td>(7, 3)</td>\n",
       "      <td>(1, 1)</td>\n",
       "      <td>(3, 6)</td>\n",
       "      <td>(2, 7)</td>\n",
       "      <td>(1, 7)</td>\n",
       "      <td>(2, 2)</td>\n",
       "      <td>(3, 5)</td>\n",
       "    </tr>\n",
       "    <tr>\n",
       "      <th>909</th>\n",
       "      <td>8121258563751472396</td>\n",
       "      <td>(7, 7)</td>\n",
       "      <td>(1, 3)</td>\n",
       "      <td>(6, 4)</td>\n",
       "      <td>(0, 6)</td>\n",
       "      <td>(2, 1)</td>\n",
       "      <td>(2, 7)</td>\n",
       "      <td>(1, 7)</td>\n",
       "      <td>(7, 2)</td>\n",
       "      <td>(6, 5)</td>\n",
       "    </tr>\n",
       "  </tbody>\n",
       "</table>\n",
       "<p>3384 rows × 10 columns</p>\n",
       "</div>"
      ],
      "text/plain": [
       "                     hash      Z0      X0      Y0      Z1      X1      Y1  \\\n",
       "3893  7934267287378752615  (0, 1)  (1, 0)  (1, 1)  (0, 2)  (2, 2)  (2, 0)   \n",
       "9    -2543978279177338542  (0, 1)  (1, 0)  (1, 1)  (0, 2)  (2, 4)  (2, 6)   \n",
       "7    -4465226254739119186  (0, 1)  (1, 0)  (1, 1)  (0, 2)  (6, 0)  (6, 2)   \n",
       "5      727507648582393740  (0, 1)  (1, 0)  (1, 1)  (0, 2)  (6, 4)  (6, 6)   \n",
       "3006 -8549410598421312604  (0, 1)  (1, 0)  (1, 1)  (0, 4)  (4, 4)  (4, 0)   \n",
       "...                   ...     ...     ...     ...     ...     ...     ...   \n",
       "9160  5315319999447713569  (7, 6)  (2, 0)  (5, 6)  (4, 1)  (4, 4)  (0, 5)   \n",
       "6274  5867513980184759253  (7, 6)  (2, 5)  (5, 3)  (3, 7)  (0, 5)  (3, 2)   \n",
       "6854  3577838908738253112  (7, 6)  (3, 6)  (4, 0)  (4, 1)  (7, 3)  (3, 2)   \n",
       "8884 -1143737878790462277  (7, 7)  (0, 4)  (7, 3)  (1, 1)  (3, 6)  (2, 7)   \n",
       "909   8121258563751472396  (7, 7)  (1, 3)  (6, 4)  (0, 6)  (2, 1)  (2, 7)   \n",
       "\n",
       "          Z2      X2      Y2  \n",
       "3893  (4, 4)  (4, 0)  (0, 4)  \n",
       "9     (0, 4)  (4, 2)  (4, 6)  \n",
       "7     (0, 6)  (4, 0)  (4, 6)  \n",
       "5     (0, 6)  (4, 2)  (4, 4)  \n",
       "3006  (0, 2)  (2, 0)  (2, 2)  \n",
       "...      ...     ...     ...  \n",
       "9160  (7, 5)  (5, 4)  (2, 1)  \n",
       "6274  (7, 5)  (2, 1)  (5, 4)  \n",
       "6854  (0, 3)  (2, 1)  (2, 2)  \n",
       "8884  (1, 7)  (2, 2)  (3, 5)  \n",
       "909   (1, 7)  (7, 2)  (6, 5)  \n",
       "\n",
       "[3384 rows x 10 columns]"
      ]
     },
     "execution_count": 19,
     "metadata": {},
     "output_type": "execute_result"
    }
   ],
   "source": [
    "df_frame_data"
   ]
  },
  {
   "cell_type": "code",
   "execution_count": 26,
   "metadata": {},
   "outputs": [],
   "source": [
    "df_frame_data.to_csv(r\"df_frame_data_qubit3\", header=True, index=None)\n",
    "df_frame_connection_data.to_csv(r\"df_frame_data_edge_qubit3\", header=True, index=None)"
   ]
  },
  {
   "cell_type": "code",
   "execution_count": 21,
   "metadata": {},
   "outputs": [
    {
     "data": {
      "text/html": [
       "<div>\n",
       "<style scoped>\n",
       "    .dataframe tbody tr th:only-of-type {\n",
       "        vertical-align: middle;\n",
       "    }\n",
       "\n",
       "    .dataframe tbody tr th {\n",
       "        vertical-align: top;\n",
       "    }\n",
       "\n",
       "    .dataframe thead th {\n",
       "        text-align: right;\n",
       "    }\n",
       "</style>\n",
       "<table border=\"1\" class=\"dataframe\">\n",
       "  <thead>\n",
       "    <tr style=\"text-align: right;\">\n",
       "      <th></th>\n",
       "      <th>hash1</th>\n",
       "      <th>hash2</th>\n",
       "      <th>i</th>\n",
       "      <th>j</th>\n",
       "      <th>type</th>\n",
       "    </tr>\n",
       "  </thead>\n",
       "  <tbody>\n",
       "    <tr>\n",
       "      <th>23898</th>\n",
       "      <td>-9206615026885524136</td>\n",
       "      <td>487650781235202913</td>\n",
       "      <td>2</td>\n",
       "      <td>0</td>\n",
       "      <td>4</td>\n",
       "    </tr>\n",
       "    <tr>\n",
       "      <th>41988</th>\n",
       "      <td>-9206615026885524136</td>\n",
       "      <td>487650781235202913</td>\n",
       "      <td>0</td>\n",
       "      <td>2</td>\n",
       "      <td>4</td>\n",
       "    </tr>\n",
       "    <tr>\n",
       "      <th>63467</th>\n",
       "      <td>-9206615026885524136</td>\n",
       "      <td>487650781235202913</td>\n",
       "      <td>2</td>\n",
       "      <td>0</td>\n",
       "      <td>2</td>\n",
       "    </tr>\n",
       "    <tr>\n",
       "      <th>8668</th>\n",
       "      <td>-9206615026885524136</td>\n",
       "      <td>3151014126339180655</td>\n",
       "      <td>0</td>\n",
       "      <td>1</td>\n",
       "      <td>1</td>\n",
       "    </tr>\n",
       "    <tr>\n",
       "      <th>34778</th>\n",
       "      <td>-9206615026885524136</td>\n",
       "      <td>8016038942321655728</td>\n",
       "      <td>0</td>\n",
       "      <td>1</td>\n",
       "      <td>5</td>\n",
       "    </tr>\n",
       "    <tr>\n",
       "      <th>...</th>\n",
       "      <td>...</td>\n",
       "      <td>...</td>\n",
       "      <td>...</td>\n",
       "      <td>...</td>\n",
       "      <td>...</td>\n",
       "    </tr>\n",
       "    <tr>\n",
       "      <th>31247</th>\n",
       "      <td>9159861324757201004</td>\n",
       "      <td>7259727001935733252</td>\n",
       "      <td>2</td>\n",
       "      <td>0</td>\n",
       "      <td>2</td>\n",
       "    </tr>\n",
       "    <tr>\n",
       "      <th>9440</th>\n",
       "      <td>9159861324757201004</td>\n",
       "      <td>8549657490507590238</td>\n",
       "      <td>1</td>\n",
       "      <td>2</td>\n",
       "      <td>1</td>\n",
       "    </tr>\n",
       "    <tr>\n",
       "      <th>33173</th>\n",
       "      <td>9160794474742546931</td>\n",
       "      <td>-3086325893712175975</td>\n",
       "      <td>1</td>\n",
       "      <td>2</td>\n",
       "      <td>3</td>\n",
       "    </tr>\n",
       "    <tr>\n",
       "      <th>53118</th>\n",
       "      <td>9160794474742546931</td>\n",
       "      <td>-3086325893712175975</td>\n",
       "      <td>1</td>\n",
       "      <td>2</td>\n",
       "      <td>3</td>\n",
       "    </tr>\n",
       "    <tr>\n",
       "      <th>76452</th>\n",
       "      <td>9160794474742546931</td>\n",
       "      <td>-3086325893712175975</td>\n",
       "      <td>1</td>\n",
       "      <td>2</td>\n",
       "      <td>5</td>\n",
       "    </tr>\n",
       "  </tbody>\n",
       "</table>\n",
       "<p>78931 rows × 5 columns</p>\n",
       "</div>"
      ],
      "text/plain": [
       "                     hash1                hash2  i  j  type\n",
       "23898 -9206615026885524136   487650781235202913  2  0     4\n",
       "41988 -9206615026885524136   487650781235202913  0  2     4\n",
       "63467 -9206615026885524136   487650781235202913  2  0     2\n",
       "8668  -9206615026885524136  3151014126339180655  0  1     1\n",
       "34778 -9206615026885524136  8016038942321655728  0  1     5\n",
       "...                    ...                  ... .. ..   ...\n",
       "31247  9159861324757201004  7259727001935733252  2  0     2\n",
       "9440   9159861324757201004  8549657490507590238  1  2     1\n",
       "33173  9160794474742546931 -3086325893712175975  1  2     3\n",
       "53118  9160794474742546931 -3086325893712175975  1  2     3\n",
       "76452  9160794474742546931 -3086325893712175975  1  2     5\n",
       "\n",
       "[78931 rows x 5 columns]"
      ]
     },
     "execution_count": 21,
     "metadata": {},
     "output_type": "execute_result"
    }
   ],
   "source": [
    "df_frame_connection_data.sort_values(by=[\"hash1\", \"hash2\"])"
   ]
  },
  {
   "cell_type": "code",
   "execution_count": 17,
   "metadata": {},
   "outputs": [
    {
     "data": {
      "text/plain": [
       "1, IIZ, IIX\n",
       "1, IZI, IXI\n",
       "1, ZII, XII"
      ]
     },
     "execution_count": 17,
     "metadata": {},
     "output_type": "execute_result"
    }
   ],
   "source": [
    "pf"
   ]
  },
  {
   "cell_type": "code",
   "execution_count": 25,
   "metadata": {},
   "outputs": [
    {
     "data": {
      "text/plain": [
       "11448072"
      ]
     },
     "execution_count": 25,
     "metadata": {},
     "output_type": "execute_result"
    }
   ],
   "source": [
    "(3384* (3384-1))"
   ]
  },
  {
   "cell_type": "code",
   "execution_count": null,
   "metadata": {},
   "outputs": [],
   "source": []
  }
 ],
 "metadata": {
  "kernelspec": {
   "display_name": "QC",
   "language": "python",
   "name": "python3"
  },
  "language_info": {
   "codemirror_mode": {
    "name": "ipython",
    "version": 3
   },
   "file_extension": ".py",
   "mimetype": "text/x-python",
   "name": "python",
   "nbconvert_exporter": "python",
   "pygments_lexer": "ipython3",
   "version": "3.11.8"
  }
 },
 "nbformat": 4,
 "nbformat_minor": 2
}
