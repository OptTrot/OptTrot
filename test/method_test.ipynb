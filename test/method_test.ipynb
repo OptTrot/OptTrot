{
 "cells": [
  {
   "cell_type": "code",
   "execution_count": 1,
   "metadata": {},
   "outputs": [
    {
     "data": {
      "text/plain": [
       "'1.26.4'"
      ]
     },
     "execution_count": 1,
     "metadata": {},
     "output_type": "execute_result"
    }
   ],
   "source": [
    "#import numpy\n",
    "#numpy.version.version"
   ]
  },
  {
   "cell_type": "code",
   "execution_count": null,
   "metadata": {},
   "outputs": [],
   "source": [
    "#!pip install --upgrade numpy"
   ]
  },
  {
   "cell_type": "code",
   "execution_count": 1,
   "metadata": {},
   "outputs": [
    {
     "name": "stdout",
     "output_type": "stream",
     "text": [
      "First: c:\\Users\\cmat411a\\Documents\\GitHub\\Org_OptTrot\\OptTrot\n",
      "c:\\Users\\cmat411a\\Documents\\GitHub\\Org_OptTrot\\OptTrot\\opttrot\n",
      "running build\n",
      "running build_py\n",
      "running build_ext\n",
      "building 'pauli_c' extension\n",
      "\"C:\\Program Files (x86)\\Microsoft Visual Studio\\2022\\BuildTools\\VC\\Tools\\MSVC\\14.39.33519\\bin\\HostX86\\x64\\cl.exe\" /c /nologo /O2 /W3 /GL /DNDEBUG /MD -DBIG_NUM_BYTES=512 -Ic:\\Users\\cmat411a\\Documents\\GitHub\\Org_OptTrot\\OptTrot\\opttrot -Ic:\\Users\\cmat411a\\Documents\\GitHub\\Org_OptTrot\\OptTrot\\opttrot\\c_src -Ic:\\Users\\cmat411a\\Documents\\GitHub\\Org_OptTrot\\OptTrot\\opttrot\\c_src\\bn -Ic:\\Users\\cmat411a\\anaconda3\\envs\\QC\\Lib\\site-packages\\numpy\\core\\include -Ic:\\Users\\cmat411a\\anaconda3\\envs\\QC\\include -Ic:\\Users\\cmat411a\\anaconda3\\envs\\QC\\Include \"-IC:\\Program Files (x86)\\Microsoft Visual Studio\\2022\\BuildTools\\VC\\Tools\\MSVC\\14.39.33519\\include\" \"-IC:\\Program Files (x86)\\Microsoft Visual Studio\\2022\\BuildTools\\VC\\Auxiliary\\VS\\include\" \"-IC:\\Program Files (x86)\\Windows Kits\\10\\include\\10.0.22621.0\\ucrt\" \"-IC:\\Program Files (x86)\\Windows Kits\\10\\\\include\\10.0.22621.0\\\\um\" \"-IC:\\Program Files (x86)\\Windows Kits\\10\\\\include\\10.0.22621.0\\\\shared\" \"-IC:\\Program Files (x86)\\Windows Kits\\10\\\\include\\10.0.22621.0\\\\winrt\" \"-IC:\\Program Files (x86)\\Windows Kits\\10\\\\include\\10.0.22621.0\\\\cppwinrt\" /Tcc:\\Users\\cmat411a\\Documents\\GitHub\\Org_OptTrot\\OptTrot\\opttrot\\c_src\\bn\\bn.c /Fobuild\\temp.win-amd64-cpython-311\\Release\\Users\\cmat411a\\Documents\\GitHub\\Org_OptTrot\\OptTrot\\opttrot\\c_src\\bn\\bn.obj\n",
      "bn.c\n",
      "c:\\Users\\cmat411a\\Documents\\GitHub\\Org_OptTrot\\OptTrot\\opttrot\\c_src\\bn\\bn.c(66): warning C4244: '=': 'uint64_t'���� 'uint32_t'(��)�� ��ȯ�ϸ鼭 �����Ͱ� �սǵ� �� �ֽ��ϴ�.\n",
      "c:\\Users\\cmat411a\\Documents\\GitHub\\Org_OptTrot\\OptTrot\\opttrot\\c_src\\bn\\bn.c(69): warning C4244: '=': 'uint64_t'���� 'uint32_t'(��)�� ��ȯ�ϸ鼭 �����Ͱ� �սǵ� �� �ֽ��ϴ�.\n",
      "c:\\Users\\cmat411a\\Documents\\GitHub\\Org_OptTrot\\OptTrot\\opttrot\\c_src\\bn\\bn.c(117): warning C4996: 'sscanf': This function or variable may be unsafe. Consider using sscanf_s instead. To disable deprecation, use _CRT_SECURE_NO_WARNINGS. See online help for details.\n",
      "c:\\Users\\cmat411a\\Documents\\GitHub\\Org_OptTrot\\OptTrot\\opttrot\\c_src\\bn\\bn.c(138): warning C4996: 'sprintf': This function or variable may be unsafe. Consider using sprintf_s instead. To disable deprecation, use _CRT_SECURE_NO_WARNINGS. See online help for details.\n",
      "c:\\Users\\cmat411a\\Documents\\GitHub\\Org_OptTrot\\OptTrot\\opttrot\\c_src\\bn\\bn.c(203): warning C4244: '=': 'uint64_t'���� 'uint32_t'(��)�� ��ȯ�ϸ鼭 �����Ͱ� �սǵ� �� �ֽ��ϴ�.\n",
      "\"C:\\Program Files (x86)\\Microsoft Visual Studio\\2022\\BuildTools\\VC\\Tools\\MSVC\\14.39.33519\\bin\\HostX86\\x64\\cl.exe\" /c /nologo /O2 /W3 /GL /DNDEBUG /MD -DBIG_NUM_BYTES=512 -Ic:\\Users\\cmat411a\\Documents\\GitHub\\Org_OptTrot\\OptTrot\\opttrot -Ic:\\Users\\cmat411a\\Documents\\GitHub\\Org_OptTrot\\OptTrot\\opttrot\\c_src -Ic:\\Users\\cmat411a\\Documents\\GitHub\\Org_OptTrot\\OptTrot\\opttrot\\c_src\\bn -Ic:\\Users\\cmat411a\\anaconda3\\envs\\QC\\Lib\\site-packages\\numpy\\core\\include -Ic:\\Users\\cmat411a\\anaconda3\\envs\\QC\\include -Ic:\\Users\\cmat411a\\anaconda3\\envs\\QC\\Include \"-IC:\\Program Files (x86)\\Microsoft Visual Studio\\2022\\BuildTools\\VC\\Tools\\MSVC\\14.39.33519\\include\" \"-IC:\\Program Files (x86)\\Microsoft Visual Studio\\2022\\BuildTools\\VC\\Auxiliary\\VS\\include\" \"-IC:\\Program Files (x86)\\Windows Kits\\10\\include\\10.0.22621.0\\ucrt\" \"-IC:\\Program Files (x86)\\Windows Kits\\10\\\\include\\10.0.22621.0\\\\um\" \"-IC:\\Program Files (x86)\\Windows Kits\\10\\\\include\\10.0.22621.0\\\\shared\" \"-IC:\\Program Files (x86)\\Windows Kits\\10\\\\include\\10.0.22621.0\\\\winrt\" \"-IC:\\Program Files (x86)\\Windows Kits\\10\\\\include\\10.0.22621.0\\\\cppwinrt\" /Tcc:\\Users\\cmat411a\\Documents\\GitHub\\Org_OptTrot\\OptTrot\\opttrot\\c_src\\bn\\bn_ext.c /Fobuild\\temp.win-amd64-cpython-311\\Release\\Users\\cmat411a\\Documents\\GitHub\\Org_OptTrot\\OptTrot\\opttrot\\c_src\\bn\\bn_ext.obj\n",
      "bn_ext.c\n",
      "c:\\Users\\cmat411a\\Documents\\GitHub\\Org_OptTrot\\OptTrot\\opttrot\\c_src\\bn\\bn_ext.c(129): warning C4996: 'strncpy': This function or variable may be unsafe. Consider using strncpy_s instead. To disable deprecation, use _CRT_SECURE_NO_WARNINGS. See online help for details.\n",
      "\"C:\\Program Files (x86)\\Microsoft Visual Studio\\2022\\BuildTools\\VC\\Tools\\MSVC\\14.39.33519\\bin\\HostX86\\x64\\cl.exe\" /c /nologo /O2 /W3 /GL /DNDEBUG /MD -DBIG_NUM_BYTES=512 -Ic:\\Users\\cmat411a\\Documents\\GitHub\\Org_OptTrot\\OptTrot\\opttrot -Ic:\\Users\\cmat411a\\Documents\\GitHub\\Org_OptTrot\\OptTrot\\opttrot\\c_src -Ic:\\Users\\cmat411a\\Documents\\GitHub\\Org_OptTrot\\OptTrot\\opttrot\\c_src\\bn -Ic:\\Users\\cmat411a\\anaconda3\\envs\\QC\\Lib\\site-packages\\numpy\\core\\include -Ic:\\Users\\cmat411a\\anaconda3\\envs\\QC\\include -Ic:\\Users\\cmat411a\\anaconda3\\envs\\QC\\Include \"-IC:\\Program Files (x86)\\Microsoft Visual Studio\\2022\\BuildTools\\VC\\Tools\\MSVC\\14.39.33519\\include\" \"-IC:\\Program Files (x86)\\Microsoft Visual Studio\\2022\\BuildTools\\VC\\Auxiliary\\VS\\include\" \"-IC:\\Program Files (x86)\\Windows Kits\\10\\include\\10.0.22621.0\\ucrt\" \"-IC:\\Program Files (x86)\\Windows Kits\\10\\\\include\\10.0.22621.0\\\\um\" \"-IC:\\Program Files (x86)\\Windows Kits\\10\\\\include\\10.0.22621.0\\\\shared\" \"-IC:\\Program Files (x86)\\Windows Kits\\10\\\\include\\10.0.22621.0\\\\winrt\" \"-IC:\\Program Files (x86)\\Windows Kits\\10\\\\include\\10.0.22621.0\\\\cppwinrt\" /Tcc:\\Users\\cmat411a\\Documents\\GitHub\\Org_OptTrot\\OptTrot\\opttrot\\c_src\\bn\\bn_python.c /Fobuild\\temp.win-amd64-cpython-311\\Release\\Users\\cmat411a\\Documents\\GitHub\\Org_OptTrot\\OptTrot\\opttrot\\c_src\\bn\\bn_python.obj\n",
      "bn_python.c\n",
      "c:\\Users\\cmat411a\\Documents\\GitHub\\Org_OptTrot\\OptTrot\\opttrot\\c_src\\bn\\bn_python.c(36): warning C4267: '=': 'size_t'���� 'int'(��)�� ��ȯ�ϸ鼭 �����Ͱ� �սǵ� �� �ֽ��ϴ�.\n",
      "c:\\Users\\cmat411a\\Documents\\GitHub\\Org_OptTrot\\OptTrot\\opttrot\\c_src\\bn\\bn_python.c(33): warning C4267: '�ʱ�ȭ ��': 'size_t'���� 'int'(��)�� ��ȯ�ϸ鼭 �����Ͱ� �սǵ� �� �ֽ��ϴ�.\n",
      "c:\\Users\\cmat411a\\Documents\\GitHub\\Org_OptTrot\\OptTrot\\opttrot\\c_src\\bn\\bn_python.c(33): warning C4267: '�ʱ�ȭ ��': 'size_t'���� 'int'(��)�� ��ȯ�ϸ鼭 �����Ͱ� �սǵ� �� �ֽ��ϴ�.\n",
      "c:\\Users\\cmat411a\\Documents\\GitHub\\Org_OptTrot\\OptTrot\\opttrot\\c_src\\bn\\bn_python.c(39): warning C4996: 'sprintf': This function or variable may be unsafe. Consider using sprintf_s instead. To disable deprecation, use _CRT_SECURE_NO_WARNINGS. See online help for details.\n",
      "\"C:\\Program Files (x86)\\Microsoft Visual Studio\\2022\\BuildTools\\VC\\Tools\\MSVC\\14.39.33519\\bin\\HostX86\\x64\\cl.exe\" /c /nologo /O2 /W3 /GL /DNDEBUG /MD -DBIG_NUM_BYTES=512 -Ic:\\Users\\cmat411a\\Documents\\GitHub\\Org_OptTrot\\OptTrot\\opttrot -Ic:\\Users\\cmat411a\\Documents\\GitHub\\Org_OptTrot\\OptTrot\\opttrot\\c_src -Ic:\\Users\\cmat411a\\Documents\\GitHub\\Org_OptTrot\\OptTrot\\opttrot\\c_src\\bn -Ic:\\Users\\cmat411a\\anaconda3\\envs\\QC\\Lib\\site-packages\\numpy\\core\\include -Ic:\\Users\\cmat411a\\anaconda3\\envs\\QC\\include -Ic:\\Users\\cmat411a\\anaconda3\\envs\\QC\\Include \"-IC:\\Program Files (x86)\\Microsoft Visual Studio\\2022\\BuildTools\\VC\\Tools\\MSVC\\14.39.33519\\include\" \"-IC:\\Program Files (x86)\\Microsoft Visual Studio\\2022\\BuildTools\\VC\\Auxiliary\\VS\\include\" \"-IC:\\Program Files (x86)\\Windows Kits\\10\\include\\10.0.22621.0\\ucrt\" \"-IC:\\Program Files (x86)\\Windows Kits\\10\\\\include\\10.0.22621.0\\\\um\" \"-IC:\\Program Files (x86)\\Windows Kits\\10\\\\include\\10.0.22621.0\\\\shared\" \"-IC:\\Program Files (x86)\\Windows Kits\\10\\\\include\\10.0.22621.0\\\\winrt\" \"-IC:\\Program Files (x86)\\Windows Kits\\10\\\\include\\10.0.22621.0\\\\cppwinrt\" /Tcc:\\Users\\cmat411a\\Documents\\GitHub\\Org_OptTrot\\OptTrot\\opttrot\\c_src\\pauli_bn.c /Fobuild\\temp.win-amd64-cpython-311\\Release\\Users\\cmat411a\\Documents\\GitHub\\Org_OptTrot\\OptTrot\\opttrot\\c_src\\pauli_bn.obj\n",
      "pauli_bn.c\n",
      "c:\\Users\\cmat411a\\Documents\\GitHub\\Org_OptTrot\\OptTrot\\opttrot\\c_src\\pauli_bn.c(65): warning C4047: 'return': 'int'�� ���� ���� ������ 'void *'��(��) �ٸ��ϴ�.\n",
      "c:\\Users\\cmat411a\\Documents\\GitHub\\Org_OptTrot\\OptTrot\\opttrot\\c_src\\pauli_bn.c(73): warning C4047: 'return': 'int'�� ���� ���� ������ 'void *'��(��) �ٸ��ϴ�.\n",
      "c:\\Users\\cmat411a\\Documents\\GitHub\\Org_OptTrot\\OptTrot\\opttrot\\c_src\\pauli_bn.c(77): warning C4047: 'return': 'int'�� ���� ���� ������ 'void *'��(��) �ٸ��ϴ�.\n",
      "c:\\Users\\cmat411a\\Documents\\GitHub\\Org_OptTrot\\OptTrot\\opttrot\\c_src\\pauli_bn.c(85): warning C4047: 'return': 'int'�� ���� ���� ������ 'void *'��(��) �ٸ��ϴ�.\n",
      "c:\\Users\\cmat411a\\Documents\\GitHub\\Org_OptTrot\\OptTrot\\opttrot\\c_src\\pauli_bn.c(88): warning C4047: 'return': 'int'�� ���� ���� ������ 'void *'��(��) �ٸ��ϴ�.\n",
      "c:\\Users\\cmat411a\\Documents\\GitHub\\Org_OptTrot\\OptTrot\\opttrot\\c_src\\pauli_bn.c(94): warning C4047: 'return': 'int'�� ���� ���� ������ 'void *'��(��) �ٸ��ϴ�.\n",
      "c:\\Users\\cmat411a\\Documents\\GitHub\\Org_OptTrot\\OptTrot\\opttrot\\c_src\\pauli_bn.c(97): warning C4047: 'return': 'int'�� ���� ���� ������ 'void *'��(��) �ٸ��ϴ�.\n",
      "c:\\Users\\cmat411a\\Documents\\GitHub\\Org_OptTrot\\OptTrot\\opttrot\\c_src\\pauli_bn.c(102): warning C4047: 'return': 'int'�� ���� ���� ������ 'void *'��(��) �ٸ��ϴ�.\n",
      "c:\\Users\\cmat411a\\Documents\\GitHub\\Org_OptTrot\\OptTrot\\opttrot\\c_src\\pauli_bn.c(120): warning C4047: 'return': 'int'�� ���� ���� ������ 'void *'��(��) �ٸ��ϴ�.\n",
      "c:\\Users\\cmat411a\\Documents\\GitHub\\Org_OptTrot\\OptTrot\\opttrot\\c_src\\pauli_bn.c(125): warning C4047: 'return': 'int'�� ���� ���� ������ 'void *'��(��) �ٸ��ϴ�.\n",
      "c:\\Users\\cmat411a\\Documents\\GitHub\\Org_OptTrot\\OptTrot\\opttrot\\c_src\\pauli_bn.c(192): warning C4047: 'return': 'Py_hash_t'�� ���� ���� ������ 'void *'��(��) �ٸ��ϴ�.\n",
      "c:\\Users\\cmat411a\\Documents\\GitHub\\Org_OptTrot\\OptTrot\\opttrot\\c_src\\pauli_bn.c(391): warning C4133: '�Լ�': 'PyObject *'��(��) 'PauliElement *' ������ ������ ȣȯ���� �ʽ��ϴ�.\n",
      "c:\\Users\\cmat411a\\Documents\\GitHub\\Org_OptTrot\\OptTrot\\opttrot\\c_src\\pauli_bn.c(391): warning C4133: '�Լ�': 'PyObject *'��(��) 'PauliElement *' ������ ������ ȣȯ���� �ʽ��ϴ�.\n",
      "c:\\Users\\cmat411a\\Documents\\GitHub\\Org_OptTrot\\OptTrot\\opttrot\\c_src\\pauli_bn.c(554): warning C4133: 'return': 'PauliElement *'��(��) 'PyObject *' ������ ������ ȣȯ���� �ʽ��ϴ�.\n",
      "\"C:\\Program Files (x86)\\Microsoft Visual Studio\\2022\\BuildTools\\VC\\Tools\\MSVC\\14.39.33519\\bin\\HostX86\\x64\\cl.exe\" /c /nologo /O2 /W3 /GL /DNDEBUG /MD -DBIG_NUM_BYTES=512 -Ic:\\Users\\cmat411a\\Documents\\GitHub\\Org_OptTrot\\OptTrot\\opttrot -Ic:\\Users\\cmat411a\\Documents\\GitHub\\Org_OptTrot\\OptTrot\\opttrot\\c_src -Ic:\\Users\\cmat411a\\Documents\\GitHub\\Org_OptTrot\\OptTrot\\opttrot\\c_src\\bn -Ic:\\Users\\cmat411a\\anaconda3\\envs\\QC\\Lib\\site-packages\\numpy\\core\\include -Ic:\\Users\\cmat411a\\anaconda3\\envs\\QC\\include -Ic:\\Users\\cmat411a\\anaconda3\\envs\\QC\\Include \"-IC:\\Program Files (x86)\\Microsoft Visual Studio\\2022\\BuildTools\\VC\\Tools\\MSVC\\14.39.33519\\include\" \"-IC:\\Program Files (x86)\\Microsoft Visual Studio\\2022\\BuildTools\\VC\\Auxiliary\\VS\\include\" \"-IC:\\Program Files (x86)\\Windows Kits\\10\\include\\10.0.22621.0\\ucrt\" \"-IC:\\Program Files (x86)\\Windows Kits\\10\\\\include\\10.0.22621.0\\\\um\" \"-IC:\\Program Files (x86)\\Windows Kits\\10\\\\include\\10.0.22621.0\\\\shared\" \"-IC:\\Program Files (x86)\\Windows Kits\\10\\\\include\\10.0.22621.0\\\\winrt\" \"-IC:\\Program Files (x86)\\Windows Kits\\10\\\\include\\10.0.22621.0\\\\cppwinrt\" /Tcc:\\Users\\cmat411a\\Documents\\GitHub\\Org_OptTrot\\OptTrot\\opttrot\\c_src\\pauli_bn_methods.c /Fobuild\\temp.win-amd64-cpython-311\\Release\\Users\\cmat411a\\Documents\\GitHub\\Org_OptTrot\\OptTrot\\opttrot\\c_src\\pauli_bn_methods.obj\n",
      "pauli_bn_methods.c\n",
      "c:\\Users\\cmat411a\\anaconda3\\envs\\QC\\Lib\\site-packages\\numpy\\core\\include\\numpy\\npy_1_7_deprecated_api.h(14) : Warning Msg: Using deprecated NumPy API, disable it with #define NPY_NO_DEPRECATED_API NPY_1_7_API_VERSION\n",
      "c:\\Users\\cmat411a\\Documents\\GitHub\\Org_OptTrot\\OptTrot\\opttrot\\c_src\\pauli_bn_methods.c(72): warning C4133: 'return': 'PyArrayObject *'��(��) 'PyObject *' ������ ������ ȣȯ���� �ʽ��ϴ�.\n",
      "c:\\Users\\cmat411a\\Documents\\GitHub\\Org_OptTrot\\OptTrot\\opttrot\\c_src\\pauli_bn_methods.c(51): warning C4133: '�ʱ�ȭ ��': 'PyObject *'��(��) 'PyArrayObject *' ������ ������ ȣȯ���� �ʽ��ϴ�.\n",
      "c:\\Users\\cmat411a\\Documents\\GitHub\\Org_OptTrot\\OptTrot\\opttrot\\c_src\\pauli_bn_methods.c(67): warning C4133: '�ʱ�ȭ ��': 'PyObject *'��(��) 'PauliElement *' ������ ������ ȣȯ���� �ʽ��ϴ�.\n",
      "\"C:\\Program Files (x86)\\Microsoft Visual Studio\\2022\\BuildTools\\VC\\Tools\\MSVC\\14.39.33519\\bin\\HostX86\\x64\\cl.exe\" /c /nologo /O2 /W3 /GL /DNDEBUG /MD -DBIG_NUM_BYTES=512 -Ic:\\Users\\cmat411a\\Documents\\GitHub\\Org_OptTrot\\OptTrot\\opttrot -Ic:\\Users\\cmat411a\\Documents\\GitHub\\Org_OptTrot\\OptTrot\\opttrot\\c_src -Ic:\\Users\\cmat411a\\Documents\\GitHub\\Org_OptTrot\\OptTrot\\opttrot\\c_src\\bn -Ic:\\Users\\cmat411a\\anaconda3\\envs\\QC\\Lib\\site-packages\\numpy\\core\\include -Ic:\\Users\\cmat411a\\anaconda3\\envs\\QC\\include -Ic:\\Users\\cmat411a\\anaconda3\\envs\\QC\\Include \"-IC:\\Program Files (x86)\\Microsoft Visual Studio\\2022\\BuildTools\\VC\\Tools\\MSVC\\14.39.33519\\include\" \"-IC:\\Program Files (x86)\\Microsoft Visual Studio\\2022\\BuildTools\\VC\\Auxiliary\\VS\\include\" \"-IC:\\Program Files (x86)\\Windows Kits\\10\\include\\10.0.22621.0\\ucrt\" \"-IC:\\Program Files (x86)\\Windows Kits\\10\\\\include\\10.0.22621.0\\\\um\" \"-IC:\\Program Files (x86)\\Windows Kits\\10\\\\include\\10.0.22621.0\\\\shared\" \"-IC:\\Program Files (x86)\\Windows Kits\\10\\\\include\\10.0.22621.0\\\\winrt\" \"-IC:\\Program Files (x86)\\Windows Kits\\10\\\\include\\10.0.22621.0\\\\cppwinrt\" /Tcc:\\Users\\cmat411a\\Documents\\GitHub\\Org_OptTrot\\OptTrot\\opttrot\\c_src\\pauli_bn_utils.c /Fobuild\\temp.win-amd64-cpython-311\\Release\\Users\\cmat411a\\Documents\\GitHub\\Org_OptTrot\\OptTrot\\opttrot\\c_src\\pauli_bn_utils.obj\n",
      "pauli_bn_utils.c\n",
      "c:\\Users\\cmat411a\\Documents\\GitHub\\Org_OptTrot\\OptTrot\\opttrot\\c_src\\pauli_bn_utils.c(14): warning C4267: '�ʱ�ȭ ��': 'size_t'���� 'int'(��)�� ��ȯ�ϸ鼭 �����Ͱ� �սǵ� �� �ֽ��ϴ�.\n",
      "\"C:\\Program Files (x86)\\Microsoft Visual Studio\\2022\\BuildTools\\VC\\Tools\\MSVC\\14.39.33519\\bin\\HostX86\\x64\\cl.exe\" /c /nologo /O2 /W3 /GL /DNDEBUG /MD -DBIG_NUM_BYTES=512 -Ic:\\Users\\cmat411a\\Documents\\GitHub\\Org_OptTrot\\OptTrot\\opttrot -Ic:\\Users\\cmat411a\\Documents\\GitHub\\Org_OptTrot\\OptTrot\\opttrot\\c_src -Ic:\\Users\\cmat411a\\Documents\\GitHub\\Org_OptTrot\\OptTrot\\opttrot\\c_src\\bn -Ic:\\Users\\cmat411a\\anaconda3\\envs\\QC\\Lib\\site-packages\\numpy\\core\\include -Ic:\\Users\\cmat411a\\anaconda3\\envs\\QC\\include -Ic:\\Users\\cmat411a\\anaconda3\\envs\\QC\\Include \"-IC:\\Program Files (x86)\\Microsoft Visual Studio\\2022\\BuildTools\\VC\\Tools\\MSVC\\14.39.33519\\include\" \"-IC:\\Program Files (x86)\\Microsoft Visual Studio\\2022\\BuildTools\\VC\\Auxiliary\\VS\\include\" \"-IC:\\Program Files (x86)\\Windows Kits\\10\\include\\10.0.22621.0\\ucrt\" \"-IC:\\Program Files (x86)\\Windows Kits\\10\\\\include\\10.0.22621.0\\\\um\" \"-IC:\\Program Files (x86)\\Windows Kits\\10\\\\include\\10.0.22621.0\\\\shared\" \"-IC:\\Program Files (x86)\\Windows Kits\\10\\\\include\\10.0.22621.0\\\\winrt\" \"-IC:\\Program Files (x86)\\Windows Kits\\10\\\\include\\10.0.22621.0\\\\cppwinrt\" /Tcc:\\Users\\cmat411a\\Documents\\GitHub\\Org_OptTrot\\OptTrot\\opttrot\\c_src\\pauli_c.c /Fobuild\\temp.win-amd64-cpython-311\\Release\\Users\\cmat411a\\Documents\\GitHub\\Org_OptTrot\\OptTrot\\opttrot\\c_src\\pauli_c.obj\n",
      "pauli_c.c\n",
      "c:\\Users\\cmat411a\\anaconda3\\envs\\QC\\Lib\\site-packages\\numpy\\core\\include\\numpy\\npy_1_7_deprecated_api.h(14) : Warning Msg: Using deprecated NumPy API, disable it with #define NPY_NO_DEPRECATED_API NPY_1_7_API_VERSION\n",
      "c:\\Users\\cmat411a\\Documents\\GitHub\\Org_OptTrot\\OptTrot\\opttrot\\c_src\\pauli_c.h(21): warning C4113: 'PyObject *(__cdecl *)(void)'��(��) 'PyCFunction'��(��) �Ű� ���� ����� �ٸ��ϴ�.\n",
      "\"C:\\Program Files (x86)\\Microsoft Visual Studio\\2022\\BuildTools\\VC\\Tools\\MSVC\\14.39.33519\\bin\\HostX86\\x64\\link.exe\" /nologo /INCREMENTAL:NO /LTCG /DLL /MANIFEST:EMBED,ID=2 /MANIFESTUAC:NO /LIBPATH:c:\\Users\\cmat411a\\anaconda3\\envs\\QC\\libs /LIBPATH:c:\\Users\\cmat411a\\anaconda3\\envs\\QC /LIBPATH:c:\\Users\\cmat411a\\anaconda3\\envs\\QC\\PCbuild\\amd64 \"/LIBPATH:C:\\Program Files (x86)\\Microsoft Visual Studio\\2022\\BuildTools\\VC\\Tools\\MSVC\\14.39.33519\\lib\\x64\" \"/LIBPATH:C:\\Program Files (x86)\\Windows Kits\\10\\lib\\10.0.22621.0\\ucrt\\x64\" \"/LIBPATH:C:\\Program Files (x86)\\Windows Kits\\10\\\\lib\\10.0.22621.0\\\\um\\x64\" /EXPORT:PyInit_pauli_c build\\temp.win-amd64-cpython-311\\Release\\Users\\cmat411a\\Documents\\GitHub\\Org_OptTrot\\OptTrot\\opttrot\\c_src\\bn\\bn.obj build\\temp.win-amd64-cpython-311\\Release\\Users\\cmat411a\\Documents\\GitHub\\Org_OptTrot\\OptTrot\\opttrot\\c_src\\bn\\bn_ext.obj build\\temp.win-amd64-cpython-311\\Release\\Users\\cmat411a\\Documents\\GitHub\\Org_OptTrot\\OptTrot\\opttrot\\c_src\\bn\\bn_python.obj build\\temp.win-amd64-cpython-311\\Release\\Users\\cmat411a\\Documents\\GitHub\\Org_OptTrot\\OptTrot\\opttrot\\c_src\\pauli_bn.obj build\\temp.win-amd64-cpython-311\\Release\\Users\\cmat411a\\Documents\\GitHub\\Org_OptTrot\\OptTrot\\opttrot\\c_src\\pauli_bn_methods.obj build\\temp.win-amd64-cpython-311\\Release\\Users\\cmat411a\\Documents\\GitHub\\Org_OptTrot\\OptTrot\\opttrot\\c_src\\pauli_bn_utils.obj build\\temp.win-amd64-cpython-311\\Release\\Users\\cmat411a\\Documents\\GitHub\\Org_OptTrot\\OptTrot\\opttrot\\c_src\\pauli_c.obj /OUT:build\\lib.win-amd64-cpython-311\\pauli_c.cp311-win_amd64.pyd /IMPLIB:build\\temp.win-amd64-cpython-311\\Release\\Users\\cmat411a\\Documents\\GitHub\\Org_OptTrot\\OptTrot\\opttrot\\c_src\\bn\\pauli_c.cp311-win_amd64.lib\n",
      "   build\\temp.win-amd64-cpython-311\\Release\\Users\\cmat411a\\Documents\\GitHub\\Org_OptTrot\\OptTrot\\opttrot\\c_src\\bn\\pauli_c.cp311-win_amd64.lib ���̺귯�� �� build\\temp.win-amd64-cpython-311\\Release\\Users\\cmat411a\\Documents\\GitHub\\Org_OptTrot\\OptTrot\\opttrot\\c_src\\bn\\pauli_c.cp311-win_amd64.exp ��ü�� �����ϰ� �ֽ��ϴ�.\n",
      "�ڵ带 �����ϰ� �ֽ��ϴ�.\n",
      "�ڵ带 �����߽��ϴ�.\n"
     ]
    },
    {
     "name": "stderr",
     "output_type": "stream",
     "text": [
      "file c:\\Users\\cmat411a\\Documents\\GitHub\\Org_OptTrot\\OptTrot\\opttrot\\opttrot.py (for module opttrot) not found\n",
      "file c:\\Users\\cmat411a\\Documents\\GitHub\\Org_OptTrot\\OptTrot\\opttrot\\opttrot.py (for module opttrot) not found\n"
     ]
    }
   ],
   "source": [
    "!python ../setup.py build "
   ]
  },
  {
   "cell_type": "code",
   "execution_count": 2,
   "metadata": {},
   "outputs": [
    {
     "name": "stdout",
     "output_type": "stream",
     "text": [
      "First: c:\\Users\\cmat411a\\Documents\\GitHub\\Org_OptTrot\\OptTrot\n",
      "c:\\Users\\cmat411a\\Documents\\GitHub\\Org_OptTrot\\OptTrot\\opttrot\n",
      "running build_ext\n",
      "copying build\\lib.win-amd64-cpython-311\\pauli_c.cp311-win_amd64.pyd -> c:\\Users\\cmat411a\\Documents\\GitHub\\Org_OptTrot\\OptTrot\\opttrot\n"
     ]
    },
    {
     "name": "stderr",
     "output_type": "stream",
     "text": [
      "error: could not delete 'c:\\Users\\cmat411a\\Documents\\GitHub\\Org_OptTrot\\OptTrot\\opttrot\\pauli_c.cp311-win_amd64.pyd': 액세스가 거부되었습니다\n"
     ]
    }
   ],
   "source": [
    "!python ../setup.py build_ext --inplace"
   ]
  },
  {
   "cell_type": "code",
   "execution_count": 3,
   "metadata": {},
   "outputs": [],
   "source": [
    "import os, sys\n",
    "sys.path.append(\"..\")"
   ]
  },
  {
   "cell_type": "code",
   "execution_count": 4,
   "metadata": {},
   "outputs": [],
   "source": [
    "import numpy as np\n",
    "import importlib"
   ]
  },
  {
   "cell_type": "code",
   "execution_count": 5,
   "metadata": {},
   "outputs": [],
   "source": [
    "from opttrot.pauli_c import _bignum_bytes, get_paulilist_from_coefs\n",
    "from scipy.sparse import coo_matrix"
   ]
  },
  {
   "cell_type": "code",
   "execution_count": 6,
   "metadata": {},
   "outputs": [
    {
     "data": {
      "text/plain": [
       "(array([0, 0, 0, 0, 0, 0, 0, 0, 1, 1, 1, 1, 1, 1, 1, 1, 2, 2, 2, 2, 2, 2,\n",
       "        2, 2, 3, 3, 3, 3, 3, 3, 3, 3, 4, 4, 4, 4, 4, 4, 4, 4, 5, 5, 5, 5,\n",
       "        5, 5, 5, 5, 6, 6, 6, 6, 6, 6, 6, 6, 7, 7, 7, 7, 7, 7, 7, 7],\n",
       "       dtype=int32),\n",
       " array([0, 1, 2, 3, 4, 5, 6, 7, 0, 1, 2, 3, 4, 5, 6, 7, 0, 1, 2, 3, 4, 5,\n",
       "        6, 7, 0, 1, 2, 3, 4, 5, 6, 7, 0, 1, 2, 3, 4, 5, 6, 7, 0, 1, 2, 3,\n",
       "        4, 5, 6, 7, 0, 1, 2, 3, 4, 5, 6, 7, 0, 1, 2, 3, 4, 5, 6, 7],\n",
       "       dtype=int32),\n",
       " array([0.99662805+0.27801773j, 0.3167394 +0.62261991j,\n",
       "        0.63070479+0.53294914j, 0.03486708+0.23332885j,\n",
       "        0.85362684+0.28281263j, 0.65374878+0.84486139j,\n",
       "        0.3409182 +0.20031444j, 0.38634268+0.39305562j,\n",
       "        0.22160685+0.02689089j, 0.42426078+0.30906677j,\n",
       "        0.36124377+0.63946279j, 0.52339146+0.08910968j,\n",
       "        0.299317  +0.90939625j, 0.71230968+0.21927465j,\n",
       "        0.91876641+0.16042717j, 0.29054007+0.32532099j,\n",
       "        0.05569248+0.4752711j , 0.59687403+0.82718249j,\n",
       "        0.91241234+0.21737461j, 0.72024794+0.11870998j,\n",
       "        0.68530148+0.44798403j, 0.81666388+0.83905029j,\n",
       "        0.82426662+0.06942068j, 0.61523153+0.07537393j,\n",
       "        0.1646366 +0.48081351j, 0.99179352+0.82345199j,\n",
       "        0.75702932+0.57481464j, 0.05732096+0.75140768j,\n",
       "        0.71940168+0.80035616j, 0.0523345 +0.08905269j,\n",
       "        0.55681135+0.01663959j, 0.34372904+0.8365947j ,\n",
       "        0.29766137+0.78059973j, 0.68838759+0.87802338j,\n",
       "        0.14389814+0.94937123j, 0.39802773+0.35812271j,\n",
       "        0.94275855+0.27147465j, 0.15334166+0.05174372j,\n",
       "        0.88634085+0.50822957j, 0.88543754+0.59162026j,\n",
       "        0.17091061+0.55395558j, 0.32761037+0.19250357j,\n",
       "        0.83320154+0.44062638j, 0.82098361+0.55912424j,\n",
       "        0.83583691+0.35318711j, 0.09896607+0.85309992j,\n",
       "        0.77927194+0.98654595j, 0.0581477 +0.22535244j,\n",
       "        0.82552875+0.04424694j, 0.55175843+0.57672651j,\n",
       "        0.56489883+0.0478167j , 0.34744815+0.99928991j,\n",
       "        0.13466117+0.03156265j, 0.11765548+0.38864012j,\n",
       "        0.0141849 +0.0344738j , 0.05335908+0.18814723j,\n",
       "        0.86926237+0.88300936j, 0.28111951+0.72587269j,\n",
       "        0.36383683+0.90645069j, 0.26892215+0.38210516j,\n",
       "        0.54097838+0.60011562j, 0.38018039+0.35883956j,\n",
       "        0.84286138+0.73685005j, 0.31603673+0.74902012j]))"
      ]
     },
     "execution_count": 6,
     "metadata": {},
     "output_type": "execute_result"
    }
   ],
   "source": [
    "mat = np.random.rand(8,8) +1j*np.random.rand(8,8)\n",
    "qubit = 3\n",
    "cmat = coo_matrix(mat)\n",
    "cmat.row, cmat.col, cmat.data"
   ]
  },
  {
   "cell_type": "code",
   "execution_count": 7,
   "metadata": {},
   "outputs": [],
   "source": [
    "\n",
    "arr = get_paulilist_from_coefs(3, cmat.row.astype(np.uint64), cmat.col.astype(np.uint64), cmat.data)"
   ]
  },
  {
   "cell_type": "code",
   "execution_count": 8,
   "metadata": {},
   "outputs": [
    {
     "data": {
      "text/plain": [
       "PauliElement(n=3, weight=0.996628+(0.278018)j, III)"
      ]
     },
     "execution_count": 8,
     "metadata": {},
     "output_type": "execute_result"
    }
   ],
   "source": [
    "arr[0]"
   ]
  },
  {
   "cell_type": "code",
   "execution_count": 24,
   "metadata": {},
   "outputs": [
    {
     "data": {
      "text/plain": [
       "PauliElement(n=3, weight=0.466508+(0.638619)j, III)"
      ]
     },
     "execution_count": 24,
     "metadata": {},
     "output_type": "execute_result"
    }
   ],
   "source": [
    "arr[0]"
   ]
  },
  {
   "cell_type": "code",
   "execution_count": 21,
   "metadata": {},
   "outputs": [
    {
     "data": {
      "text/plain": [
       "PauliElement(n=8, weight=0.247237+(0.583988)j, IIIIIIII)"
      ]
     },
     "execution_count": 21,
     "metadata": {},
     "output_type": "execute_result"
    }
   ],
   "source": [
    "arr[1]"
   ]
  },
  {
   "cell_type": "code",
   "execution_count": 7,
   "metadata": {},
   "outputs": [
    {
     "data": {
      "text/plain": [
       "array([27670116110564327424], dtype=object)"
      ]
     },
     "execution_count": 7,
     "metadata": {},
     "output_type": "execute_result"
    }
   ],
   "source": [
    "np.array([2**63]) + np.array([2**64])"
   ]
  },
  {
   "cell_type": "code",
   "execution_count": 8,
   "metadata": {},
   "outputs": [],
   "source": [
    "from scipy.sparse import coo_matrix"
   ]
  },
  {
   "cell_type": "code",
   "execution_count": 10,
   "metadata": {},
   "outputs": [
    {
     "name": "stdout",
     "output_type": "stream",
     "text": [
      "Arr assignement was success.\n",
      "Shape: (4, 5)\n"
     ]
    }
   ],
   "source": [
    "spa = coo_matrix(test_mat(mat))"
   ]
  },
  {
   "cell_type": "code",
   "execution_count": 13,
   "metadata": {},
   "outputs": [
    {
     "data": {
      "text/plain": [
       "array([1., 2., 1., 2., 3., 2., 3., 4.])"
      ]
     },
     "execution_count": 13,
     "metadata": {},
     "output_type": "execute_result"
    }
   ],
   "source": [
    "spa.row\n",
    "spa.col\n",
    "spa.data"
   ]
  },
  {
   "cell_type": "code",
   "execution_count": null,
   "metadata": {},
   "outputs": [],
   "source": []
  }
 ],
 "metadata": {
  "kernelspec": {
   "display_name": "QC",
   "language": "python",
   "name": "python3"
  },
  "language_info": {
   "codemirror_mode": {
    "name": "ipython",
    "version": 3
   },
   "file_extension": ".py",
   "mimetype": "text/x-python",
   "name": "python",
   "nbconvert_exporter": "python",
   "pygments_lexer": "ipython3",
   "version": "3.11.8"
  }
 },
 "nbformat": 4,
 "nbformat_minor": 2
}
