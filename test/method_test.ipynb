{
 "cells": [
  {
   "cell_type": "code",
   "execution_count": 1,
   "metadata": {},
   "outputs": [
    {
     "name": "stdout",
     "output_type": "stream",
     "text": [
      "First: c:\\Users\\cmat411a\\Documents\\GitHub\\Org_OptTrot\\OptTrot\n",
      "c:\\Users\\cmat411a\\Documents\\GitHub\\Org_OptTrot\\OptTrot\\opttrot\n",
      "running build\n",
      "running build_py\n",
      "running build_ext\n",
      "building 'pauli_c' extension\n",
      "\"C:\\Program Files (x86)\\Microsoft Visual Studio\\2022\\BuildTools\\VC\\Tools\\MSVC\\14.39.33519\\bin\\HostX86\\x64\\cl.exe\" /c /nologo /O2 /W3 /GL /DNDEBUG /MD -DBIG_NUM_BYTES=512 -Ic:\\Users\\cmat411a\\Documents\\GitHub\\Org_OptTrot\\OptTrot\\opttrot -Ic:\\Users\\cmat411a\\Documents\\GitHub\\Org_OptTrot\\OptTrot\\opttrot\\c_src -Ic:\\Users\\cmat411a\\Documents\\GitHub\\Org_OptTrot\\OptTrot\\opttrot\\c_src\\bn -Ic:\\Users\\cmat411a\\anaconda3\\envs\\QC\\Lib\\site-packages\\numpy\\core\\include -Ic:\\Users\\cmat411a\\anaconda3\\envs\\QC\\include -Ic:\\Users\\cmat411a\\anaconda3\\envs\\QC\\Include \"-IC:\\Program Files (x86)\\Microsoft Visual Studio\\2022\\BuildTools\\VC\\Tools\\MSVC\\14.39.33519\\include\" \"-IC:\\Program Files (x86)\\Microsoft Visual Studio\\2022\\BuildTools\\VC\\Auxiliary\\VS\\include\" \"-IC:\\Program Files (x86)\\Windows Kits\\10\\include\\10.0.22621.0\\ucrt\" \"-IC:\\Program Files (x86)\\Windows Kits\\10\\\\include\\10.0.22621.0\\\\um\" \"-IC:\\Program Files (x86)\\Windows Kits\\10\\\\include\\10.0.22621.0\\\\shared\" \"-IC:\\Program Files (x86)\\Windows Kits\\10\\\\include\\10.0.22621.0\\\\winrt\" \"-IC:\\Program Files (x86)\\Windows Kits\\10\\\\include\\10.0.22621.0\\\\cppwinrt\" /Tcc:\\Users\\cmat411a\\Documents\\GitHub\\Org_OptTrot\\OptTrot\\opttrot\\c_src\\bn\\bn.c /Fobuild\\temp.win-amd64-cpython-311\\Release\\Users\\cmat411a\\Documents\\GitHub\\Org_OptTrot\\OptTrot\\opttrot\\c_src\\bn\\bn.obj\n",
      "bn.c\n",
      "c:\\Users\\cmat411a\\Documents\\GitHub\\Org_OptTrot\\OptTrot\\opttrot\\c_src\\bn\\bn.c(66): warning C4244: '=': 'uint64_t'���� 'uint32_t'(��)�� ��ȯ�ϸ鼭 �����Ͱ� �սǵ� �� �ֽ��ϴ�.\n",
      "c:\\Users\\cmat411a\\Documents\\GitHub\\Org_OptTrot\\OptTrot\\opttrot\\c_src\\bn\\bn.c(69): warning C4244: '=': 'uint64_t'���� 'uint32_t'(��)�� ��ȯ�ϸ鼭 �����Ͱ� �սǵ� �� �ֽ��ϴ�.\n",
      "c:\\Users\\cmat411a\\Documents\\GitHub\\Org_OptTrot\\OptTrot\\opttrot\\c_src\\bn\\bn.c(117): warning C4996: 'sscanf': This function or variable may be unsafe. Consider using sscanf_s instead. To disable deprecation, use _CRT_SECURE_NO_WARNINGS. See online help for details.\n",
      "c:\\Users\\cmat411a\\Documents\\GitHub\\Org_OptTrot\\OptTrot\\opttrot\\c_src\\bn\\bn.c(138): warning C4996: 'sprintf': This function or variable may be unsafe. Consider using sprintf_s instead. To disable deprecation, use _CRT_SECURE_NO_WARNINGS. See online help for details.\n",
      "c:\\Users\\cmat411a\\Documents\\GitHub\\Org_OptTrot\\OptTrot\\opttrot\\c_src\\bn\\bn.c(203): warning C4244: '=': 'uint64_t'���� 'uint32_t'(��)�� ��ȯ�ϸ鼭 �����Ͱ� �սǵ� �� �ֽ��ϴ�.\n",
      "\"C:\\Program Files (x86)\\Microsoft Visual Studio\\2022\\BuildTools\\VC\\Tools\\MSVC\\14.39.33519\\bin\\HostX86\\x64\\cl.exe\" /c /nologo /O2 /W3 /GL /DNDEBUG /MD -DBIG_NUM_BYTES=512 -Ic:\\Users\\cmat411a\\Documents\\GitHub\\Org_OptTrot\\OptTrot\\opttrot -Ic:\\Users\\cmat411a\\Documents\\GitHub\\Org_OptTrot\\OptTrot\\opttrot\\c_src -Ic:\\Users\\cmat411a\\Documents\\GitHub\\Org_OptTrot\\OptTrot\\opttrot\\c_src\\bn -Ic:\\Users\\cmat411a\\anaconda3\\envs\\QC\\Lib\\site-packages\\numpy\\core\\include -Ic:\\Users\\cmat411a\\anaconda3\\envs\\QC\\include -Ic:\\Users\\cmat411a\\anaconda3\\envs\\QC\\Include \"-IC:\\Program Files (x86)\\Microsoft Visual Studio\\2022\\BuildTools\\VC\\Tools\\MSVC\\14.39.33519\\include\" \"-IC:\\Program Files (x86)\\Microsoft Visual Studio\\2022\\BuildTools\\VC\\Auxiliary\\VS\\include\" \"-IC:\\Program Files (x86)\\Windows Kits\\10\\include\\10.0.22621.0\\ucrt\" \"-IC:\\Program Files (x86)\\Windows Kits\\10\\\\include\\10.0.22621.0\\\\um\" \"-IC:\\Program Files (x86)\\Windows Kits\\10\\\\include\\10.0.22621.0\\\\shared\" \"-IC:\\Program Files (x86)\\Windows Kits\\10\\\\include\\10.0.22621.0\\\\winrt\" \"-IC:\\Program Files (x86)\\Windows Kits\\10\\\\include\\10.0.22621.0\\\\cppwinrt\" /Tcc:\\Users\\cmat411a\\Documents\\GitHub\\Org_OptTrot\\OptTrot\\opttrot\\c_src\\bn\\bn_ext.c /Fobuild\\temp.win-amd64-cpython-311\\Release\\Users\\cmat411a\\Documents\\GitHub\\Org_OptTrot\\OptTrot\\opttrot\\c_src\\bn\\bn_ext.obj\n",
      "bn_ext.c\n",
      "c:\\Users\\cmat411a\\Documents\\GitHub\\Org_OptTrot\\OptTrot\\opttrot\\c_src\\bn\\bn_ext.c(129): warning C4996: 'strncpy': This function or variable may be unsafe. Consider using strncpy_s instead. To disable deprecation, use _CRT_SECURE_NO_WARNINGS. See online help for details.\n",
      "\"C:\\Program Files (x86)\\Microsoft Visual Studio\\2022\\BuildTools\\VC\\Tools\\MSVC\\14.39.33519\\bin\\HostX86\\x64\\cl.exe\" /c /nologo /O2 /W3 /GL /DNDEBUG /MD -DBIG_NUM_BYTES=512 -Ic:\\Users\\cmat411a\\Documents\\GitHub\\Org_OptTrot\\OptTrot\\opttrot -Ic:\\Users\\cmat411a\\Documents\\GitHub\\Org_OptTrot\\OptTrot\\opttrot\\c_src -Ic:\\Users\\cmat411a\\Documents\\GitHub\\Org_OptTrot\\OptTrot\\opttrot\\c_src\\bn -Ic:\\Users\\cmat411a\\anaconda3\\envs\\QC\\Lib\\site-packages\\numpy\\core\\include -Ic:\\Users\\cmat411a\\anaconda3\\envs\\QC\\include -Ic:\\Users\\cmat411a\\anaconda3\\envs\\QC\\Include \"-IC:\\Program Files (x86)\\Microsoft Visual Studio\\2022\\BuildTools\\VC\\Tools\\MSVC\\14.39.33519\\include\" \"-IC:\\Program Files (x86)\\Microsoft Visual Studio\\2022\\BuildTools\\VC\\Auxiliary\\VS\\include\" \"-IC:\\Program Files (x86)\\Windows Kits\\10\\include\\10.0.22621.0\\ucrt\" \"-IC:\\Program Files (x86)\\Windows Kits\\10\\\\include\\10.0.22621.0\\\\um\" \"-IC:\\Program Files (x86)\\Windows Kits\\10\\\\include\\10.0.22621.0\\\\shared\" \"-IC:\\Program Files (x86)\\Windows Kits\\10\\\\include\\10.0.22621.0\\\\winrt\" \"-IC:\\Program Files (x86)\\Windows Kits\\10\\\\include\\10.0.22621.0\\\\cppwinrt\" /Tcc:\\Users\\cmat411a\\Documents\\GitHub\\Org_OptTrot\\OptTrot\\opttrot\\c_src\\bn\\bn_python.c /Fobuild\\temp.win-amd64-cpython-311\\Release\\Users\\cmat411a\\Documents\\GitHub\\Org_OptTrot\\OptTrot\\opttrot\\c_src\\bn\\bn_python.obj\n",
      "bn_python.c\n",
      "c:\\Users\\cmat411a\\Documents\\GitHub\\Org_OptTrot\\OptTrot\\opttrot\\c_src\\bn\\bn_python.c(36): warning C4267: '=': 'size_t'���� 'int'(��)�� ��ȯ�ϸ鼭 �����Ͱ� �սǵ� �� �ֽ��ϴ�.\n",
      "c:\\Users\\cmat411a\\Documents\\GitHub\\Org_OptTrot\\OptTrot\\opttrot\\c_src\\bn\\bn_python.c(33): warning C4267: '�ʱ�ȭ ��': 'size_t'���� 'int'(��)�� ��ȯ�ϸ鼭 �����Ͱ� �սǵ� �� �ֽ��ϴ�.\n",
      "c:\\Users\\cmat411a\\Documents\\GitHub\\Org_OptTrot\\OptTrot\\opttrot\\c_src\\bn\\bn_python.c(33): warning C4267: '�ʱ�ȭ ��': 'size_t'���� 'int'(��)�� ��ȯ�ϸ鼭 �����Ͱ� �սǵ� �� �ֽ��ϴ�.\n",
      "c:\\Users\\cmat411a\\Documents\\GitHub\\Org_OptTrot\\OptTrot\\opttrot\\c_src\\bn\\bn_python.c(39): warning C4996: 'sprintf': This function or variable may be unsafe. Consider using sprintf_s instead. To disable deprecation, use _CRT_SECURE_NO_WARNINGS. See online help for details.\n",
      "\"C:\\Program Files (x86)\\Microsoft Visual Studio\\2022\\BuildTools\\VC\\Tools\\MSVC\\14.39.33519\\bin\\HostX86\\x64\\cl.exe\" /c /nologo /O2 /W3 /GL /DNDEBUG /MD -DBIG_NUM_BYTES=512 -Ic:\\Users\\cmat411a\\Documents\\GitHub\\Org_OptTrot\\OptTrot\\opttrot -Ic:\\Users\\cmat411a\\Documents\\GitHub\\Org_OptTrot\\OptTrot\\opttrot\\c_src -Ic:\\Users\\cmat411a\\Documents\\GitHub\\Org_OptTrot\\OptTrot\\opttrot\\c_src\\bn -Ic:\\Users\\cmat411a\\anaconda3\\envs\\QC\\Lib\\site-packages\\numpy\\core\\include -Ic:\\Users\\cmat411a\\anaconda3\\envs\\QC\\include -Ic:\\Users\\cmat411a\\anaconda3\\envs\\QC\\Include \"-IC:\\Program Files (x86)\\Microsoft Visual Studio\\2022\\BuildTools\\VC\\Tools\\MSVC\\14.39.33519\\include\" \"-IC:\\Program Files (x86)\\Microsoft Visual Studio\\2022\\BuildTools\\VC\\Auxiliary\\VS\\include\" \"-IC:\\Program Files (x86)\\Windows Kits\\10\\include\\10.0.22621.0\\ucrt\" \"-IC:\\Program Files (x86)\\Windows Kits\\10\\\\include\\10.0.22621.0\\\\um\" \"-IC:\\Program Files (x86)\\Windows Kits\\10\\\\include\\10.0.22621.0\\\\shared\" \"-IC:\\Program Files (x86)\\Windows Kits\\10\\\\include\\10.0.22621.0\\\\winrt\" \"-IC:\\Program Files (x86)\\Windows Kits\\10\\\\include\\10.0.22621.0\\\\cppwinrt\" /Tcc:\\Users\\cmat411a\\Documents\\GitHub\\Org_OptTrot\\OptTrot\\opttrot\\c_src\\pauli_bn.c /Fobuild\\temp.win-amd64-cpython-311\\Release\\Users\\cmat411a\\Documents\\GitHub\\Org_OptTrot\\OptTrot\\opttrot\\c_src\\pauli_bn.obj\n",
      "pauli_bn.c\n",
      "\"C:\\Program Files (x86)\\Microsoft Visual Studio\\2022\\BuildTools\\VC\\Tools\\MSVC\\14.39.33519\\bin\\HostX86\\x64\\cl.exe\" /c /nologo /O2 /W3 /GL /DNDEBUG /MD -DBIG_NUM_BYTES=512 -Ic:\\Users\\cmat411a\\Documents\\GitHub\\Org_OptTrot\\OptTrot\\opttrot -Ic:\\Users\\cmat411a\\Documents\\GitHub\\Org_OptTrot\\OptTrot\\opttrot\\c_src -Ic:\\Users\\cmat411a\\Documents\\GitHub\\Org_OptTrot\\OptTrot\\opttrot\\c_src\\bn -Ic:\\Users\\cmat411a\\anaconda3\\envs\\QC\\Lib\\site-packages\\numpy\\core\\include -Ic:\\Users\\cmat411a\\anaconda3\\envs\\QC\\include -Ic:\\Users\\cmat411a\\anaconda3\\envs\\QC\\Include \"-IC:\\Program Files (x86)\\Microsoft Visual Studio\\2022\\BuildTools\\VC\\Tools\\MSVC\\14.39.33519\\include\" \"-IC:\\Program Files (x86)\\Microsoft Visual Studio\\2022\\BuildTools\\VC\\Auxiliary\\VS\\include\" \"-IC:\\Program Files (x86)\\Windows Kits\\10\\include\\10.0.22621.0\\ucrt\" \"-IC:\\Program Files (x86)\\Windows Kits\\10\\\\include\\10.0.22621.0\\\\um\" \"-IC:\\Program Files (x86)\\Windows Kits\\10\\\\include\\10.0.22621.0\\\\shared\" \"-IC:\\Program Files (x86)\\Windows Kits\\10\\\\include\\10.0.22621.0\\\\winrt\" \"-IC:\\Program Files (x86)\\Windows Kits\\10\\\\include\\10.0.22621.0\\\\cppwinrt\" /Tcc:\\Users\\cmat411a\\Documents\\GitHub\\Org_OptTrot\\OptTrot\\opttrot\\c_src\\pauli_bn_methods.c /Fobuild\\temp.win-amd64-cpython-311\\Release\\Users\\cmat411a\\Documents\\GitHub\\Org_OptTrot\\OptTrot\\opttrot\\c_src\\pauli_bn_methods.obj\n",
      "pauli_bn_methods.c\n",
      "c:\\Users\\cmat411a\\anaconda3\\envs\\QC\\Lib\\site-packages\\numpy\\core\\include\\numpy\\npy_1_7_deprecated_api.h(14) : Warning Msg: Using deprecated NumPy API, disable it with #define NPY_NO_DEPRECATED_API NPY_1_7_API_VERSION\n",
      "\"C:\\Program Files (x86)\\Microsoft Visual Studio\\2022\\BuildTools\\VC\\Tools\\MSVC\\14.39.33519\\bin\\HostX86\\x64\\cl.exe\" /c /nologo /O2 /W3 /GL /DNDEBUG /MD -DBIG_NUM_BYTES=512 -Ic:\\Users\\cmat411a\\Documents\\GitHub\\Org_OptTrot\\OptTrot\\opttrot -Ic:\\Users\\cmat411a\\Documents\\GitHub\\Org_OptTrot\\OptTrot\\opttrot\\c_src -Ic:\\Users\\cmat411a\\Documents\\GitHub\\Org_OptTrot\\OptTrot\\opttrot\\c_src\\bn -Ic:\\Users\\cmat411a\\anaconda3\\envs\\QC\\Lib\\site-packages\\numpy\\core\\include -Ic:\\Users\\cmat411a\\anaconda3\\envs\\QC\\include -Ic:\\Users\\cmat411a\\anaconda3\\envs\\QC\\Include \"-IC:\\Program Files (x86)\\Microsoft Visual Studio\\2022\\BuildTools\\VC\\Tools\\MSVC\\14.39.33519\\include\" \"-IC:\\Program Files (x86)\\Microsoft Visual Studio\\2022\\BuildTools\\VC\\Auxiliary\\VS\\include\" \"-IC:\\Program Files (x86)\\Windows Kits\\10\\include\\10.0.22621.0\\ucrt\" \"-IC:\\Program Files (x86)\\Windows Kits\\10\\\\include\\10.0.22621.0\\\\um\" \"-IC:\\Program Files (x86)\\Windows Kits\\10\\\\include\\10.0.22621.0\\\\shared\" \"-IC:\\Program Files (x86)\\Windows Kits\\10\\\\include\\10.0.22621.0\\\\winrt\" \"-IC:\\Program Files (x86)\\Windows Kits\\10\\\\include\\10.0.22621.0\\\\cppwinrt\" /Tcc:\\Users\\cmat411a\\Documents\\GitHub\\Org_OptTrot\\OptTrot\\opttrot\\c_src\\pauli_bn_utils.c /Fobuild\\temp.win-amd64-cpython-311\\Release\\Users\\cmat411a\\Documents\\GitHub\\Org_OptTrot\\OptTrot\\opttrot\\c_src\\pauli_bn_utils.obj\n",
      "pauli_bn_utils.c\n",
      "c:\\Users\\cmat411a\\Documents\\GitHub\\Org_OptTrot\\OptTrot\\opttrot\\c_src\\pauli_bn_utils.c(14): warning C4267: '�ʱ�ȭ ��': 'size_t'���� 'int'(��)�� ��ȯ�ϸ鼭 �����Ͱ� �սǵ� �� �ֽ��ϴ�.\n",
      "\"C:\\Program Files (x86)\\Microsoft Visual Studio\\2022\\BuildTools\\VC\\Tools\\MSVC\\14.39.33519\\bin\\HostX86\\x64\\cl.exe\" /c /nologo /O2 /W3 /GL /DNDEBUG /MD -DBIG_NUM_BYTES=512 -Ic:\\Users\\cmat411a\\Documents\\GitHub\\Org_OptTrot\\OptTrot\\opttrot -Ic:\\Users\\cmat411a\\Documents\\GitHub\\Org_OptTrot\\OptTrot\\opttrot\\c_src -Ic:\\Users\\cmat411a\\Documents\\GitHub\\Org_OptTrot\\OptTrot\\opttrot\\c_src\\bn -Ic:\\Users\\cmat411a\\anaconda3\\envs\\QC\\Lib\\site-packages\\numpy\\core\\include -Ic:\\Users\\cmat411a\\anaconda3\\envs\\QC\\include -Ic:\\Users\\cmat411a\\anaconda3\\envs\\QC\\Include \"-IC:\\Program Files (x86)\\Microsoft Visual Studio\\2022\\BuildTools\\VC\\Tools\\MSVC\\14.39.33519\\include\" \"-IC:\\Program Files (x86)\\Microsoft Visual Studio\\2022\\BuildTools\\VC\\Auxiliary\\VS\\include\" \"-IC:\\Program Files (x86)\\Windows Kits\\10\\include\\10.0.22621.0\\ucrt\" \"-IC:\\Program Files (x86)\\Windows Kits\\10\\\\include\\10.0.22621.0\\\\um\" \"-IC:\\Program Files (x86)\\Windows Kits\\10\\\\include\\10.0.22621.0\\\\shared\" \"-IC:\\Program Files (x86)\\Windows Kits\\10\\\\include\\10.0.22621.0\\\\winrt\" \"-IC:\\Program Files (x86)\\Windows Kits\\10\\\\include\\10.0.22621.0\\\\cppwinrt\" /Tcc:\\Users\\cmat411a\\Documents\\GitHub\\Org_OptTrot\\OptTrot\\opttrot\\c_src\\pauli_c.c /Fobuild\\temp.win-amd64-cpython-311\\Release\\Users\\cmat411a\\Documents\\GitHub\\Org_OptTrot\\OptTrot\\opttrot\\c_src\\pauli_c.obj\n",
      "pauli_c.c\n",
      "c:\\Users\\cmat411a\\anaconda3\\envs\\QC\\Lib\\site-packages\\numpy\\core\\include\\numpy\\npy_1_7_deprecated_api.h(14) : Warning Msg: Using deprecated NumPy API, disable it with #define NPY_NO_DEPRECATED_API NPY_1_7_API_VERSION\n",
      "c:\\Users\\cmat411a\\Documents\\GitHub\\Org_OptTrot\\OptTrot\\opttrot\\c_src\\pauli_c.h(16): warning C4113: 'PyObject *(__cdecl *)(void)'��(��) 'PyCFunction'��(��) �Ű� ���� ����� �ٸ��ϴ�.\n",
      "\"C:\\Program Files (x86)\\Microsoft Visual Studio\\2022\\BuildTools\\VC\\Tools\\MSVC\\14.39.33519\\bin\\HostX86\\x64\\link.exe\" /nologo /INCREMENTAL:NO /LTCG /DLL /MANIFEST:EMBED,ID=2 /MANIFESTUAC:NO /LIBPATH:c:\\Users\\cmat411a\\anaconda3\\envs\\QC\\libs /LIBPATH:c:\\Users\\cmat411a\\anaconda3\\envs\\QC /LIBPATH:c:\\Users\\cmat411a\\anaconda3\\envs\\QC\\PCbuild\\amd64 \"/LIBPATH:C:\\Program Files (x86)\\Microsoft Visual Studio\\2022\\BuildTools\\VC\\Tools\\MSVC\\14.39.33519\\lib\\x64\" \"/LIBPATH:C:\\Program Files (x86)\\Windows Kits\\10\\lib\\10.0.22621.0\\ucrt\\x64\" \"/LIBPATH:C:\\Program Files (x86)\\Windows Kits\\10\\\\lib\\10.0.22621.0\\\\um\\x64\" /EXPORT:PyInit_pauli_c build\\temp.win-amd64-cpython-311\\Release\\Users\\cmat411a\\Documents\\GitHub\\Org_OptTrot\\OptTrot\\opttrot\\c_src\\bn\\bn.obj build\\temp.win-amd64-cpython-311\\Release\\Users\\cmat411a\\Documents\\GitHub\\Org_OptTrot\\OptTrot\\opttrot\\c_src\\bn\\bn_ext.obj build\\temp.win-amd64-cpython-311\\Release\\Users\\cmat411a\\Documents\\GitHub\\Org_OptTrot\\OptTrot\\opttrot\\c_src\\bn\\bn_python.obj build\\temp.win-amd64-cpython-311\\Release\\Users\\cmat411a\\Documents\\GitHub\\Org_OptTrot\\OptTrot\\opttrot\\c_src\\pauli_bn.obj build\\temp.win-amd64-cpython-311\\Release\\Users\\cmat411a\\Documents\\GitHub\\Org_OptTrot\\OptTrot\\opttrot\\c_src\\pauli_bn_methods.obj build\\temp.win-amd64-cpython-311\\Release\\Users\\cmat411a\\Documents\\GitHub\\Org_OptTrot\\OptTrot\\opttrot\\c_src\\pauli_bn_utils.obj build\\temp.win-amd64-cpython-311\\Release\\Users\\cmat411a\\Documents\\GitHub\\Org_OptTrot\\OptTrot\\opttrot\\c_src\\pauli_c.obj /OUT:build\\lib.win-amd64-cpython-311\\pauli_c.cp311-win_amd64.pyd /IMPLIB:build\\temp.win-amd64-cpython-311\\Release\\Users\\cmat411a\\Documents\\GitHub\\Org_OptTrot\\OptTrot\\opttrot\\c_src\\bn\\pauli_c.cp311-win_amd64.lib\n",
      "   build\\temp.win-amd64-cpython-311\\Release\\Users\\cmat411a\\Documents\\GitHub\\Org_OptTrot\\OptTrot\\opttrot\\c_src\\bn\\pauli_c.cp311-win_amd64.lib ���̺귯�� �� build\\temp.win-amd64-cpython-311\\Release\\Users\\cmat411a\\Documents\\GitHub\\Org_OptTrot\\OptTrot\\opttrot\\c_src\\bn\\pauli_c.cp311-win_amd64.exp ��ü�� �����ϰ� �ֽ��ϴ�.\n",
      "�ڵ带 �����ϰ� �ֽ��ϴ�.\n",
      "c:\\Users\\cmat411a\\Documents\\GitHub\\Org_OptTrot\\OptTrot\\opttrot\\c_src\\pauli_bn_methods.c(40) : warning C4715: 'get_PauliList_FromCoefs': ��� ���� ��ο��� ���� ��ȯ������ �ʽ��ϴ�.\n",
      "�ڵ带 �����߽��ϴ�.\n"
     ]
    },
    {
     "name": "stderr",
     "output_type": "stream",
     "text": [
      "file c:\\Users\\cmat411a\\Documents\\GitHub\\Org_OptTrot\\OptTrot\\opttrot\\opttrot.py (for module opttrot) not found\n",
      "file c:\\Users\\cmat411a\\Documents\\GitHub\\Org_OptTrot\\OptTrot\\opttrot\\opttrot.py (for module opttrot) not found\n"
     ]
    }
   ],
   "source": [
    "!python ../setup.py build "
   ]
  },
  {
   "cell_type": "code",
   "execution_count": 2,
   "metadata": {},
   "outputs": [
    {
     "name": "stdout",
     "output_type": "stream",
     "text": [
      "First: c:\\Users\\cmat411a\\Documents\\GitHub\\Org_OptTrot\\OptTrot\n",
      "c:\\Users\\cmat411a\\Documents\\GitHub\\Org_OptTrot\\OptTrot\\opttrot\n",
      "running build_ext\n",
      "copying build\\lib.win-amd64-cpython-311\\pauli_c.cp311-win_amd64.pyd -> c:\\Users\\cmat411a\\Documents\\GitHub\\Org_OptTrot\\OptTrot\\opttrot\n"
     ]
    }
   ],
   "source": [
    "!python ../setup.py build_ext --inplace"
   ]
  },
  {
   "cell_type": "code",
   "execution_count": 3,
   "metadata": {},
   "outputs": [],
   "source": [
    "import os, sys\n",
    "sys.path.append(\"..\")"
   ]
  },
  {
   "cell_type": "code",
   "execution_count": 4,
   "metadata": {},
   "outputs": [],
   "source": [
    "import numpy as np"
   ]
  },
  {
   "cell_type": "code",
   "execution_count": 5,
   "metadata": {},
   "outputs": [],
   "source": [
    "from opttrot.pauli_c import _bignum_bytes, test_mat"
   ]
  },
  {
   "cell_type": "code",
   "execution_count": 6,
   "metadata": {},
   "outputs": [],
   "source": [
    "mat = np.array([1,2,3], dtype=np.float64)"
   ]
  },
  {
   "cell_type": "code",
   "execution_count": 7,
   "metadata": {},
   "outputs": [
    {
     "data": {
      "text/plain": [
       "dtype('float64')"
      ]
     },
     "execution_count": 7,
     "metadata": {},
     "output_type": "execute_result"
    }
   ],
   "source": [
    "mat .dtype"
   ]
  },
  {
   "cell_type": "code",
   "execution_count": 8,
   "metadata": {},
   "outputs": [
    {
     "ename": "",
     "evalue": "",
     "output_type": "error",
     "traceback": [
      "\u001b[1;31m현재 셀 또는 이전 셀에서 코드를 실행하는 동안 Kernel이 충돌했습니다. \n",
      "\u001b[1;31m셀의 코드를 검토하여 가능한 오류 원인을 식별하세요. \n",
      "\u001b[1;31m자세한 내용을 보려면 <a href='https://aka.ms/vscodeJupyterKernelCrash'>여기</a>를 클릭하세요. \n",
      "\u001b[1;31m자세한 내용은 Jupyter <a href='command:jupyter.viewOutput'>로그</a>를 참조하세요."
     ]
    }
   ],
   "source": [
    "mat = np.array([[1],[2],[3]], dtype=complex)\n",
    "tu = tuple([mat])\n",
    "test_mat(tu)"
   ]
  },
  {
   "cell_type": "code",
   "execution_count": null,
   "metadata": {},
   "outputs": [],
   "source": []
  }
 ],
 "metadata": {
  "kernelspec": {
   "display_name": "QC",
   "language": "python",
   "name": "python3"
  },
  "language_info": {
   "codemirror_mode": {
    "name": "ipython",
    "version": 3
   },
   "file_extension": ".py",
   "mimetype": "text/x-python",
   "name": "python",
   "nbconvert_exporter": "python",
   "pygments_lexer": "ipython3",
   "version": "3.11.8"
  }
 },
 "nbformat": 4,
 "nbformat_minor": 2
}
