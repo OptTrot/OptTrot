{
 "cells": [
  {
   "cell_type": "code",
   "execution_count": 14,
   "metadata": {},
   "outputs": [],
   "source": [
    "import os, sys\n",
    "sys.path.append(\"..\")"
   ]
  },
  {
   "cell_type": "code",
   "execution_count": 15,
   "metadata": {},
   "outputs": [],
   "source": [
    "import numpy as np\n",
    "from opttrot.hamiltonian import Hamiltonian\n",
    "from qiskit.quantum_info import SparsePauliOp\n",
    "\n",
    "def get_test_hermit(qubits, tol= 0.5):\n",
    "    ndim = int(2**qubits)\n",
    "    A = np.random.rand(ndim, ndim)\n",
    "    B = np.random.rand(ndim, ndim)\n",
    "    A[A<tol] = 0.\n",
    "    B[B<tol] = 0.\n",
    "    H1 = A + 1j*A\n",
    "    H2 = B + 1j*B\n",
    "    H = H1.conj().T@H1 + H2.conj().T@H2\n",
    "    return H/(ndim)"
   ]
  },
  {
   "cell_type": "code",
   "execution_count": 16,
   "metadata": {},
   "outputs": [],
   "source": [
    "# Sample Hamiltonian\n",
    "qubit = 7\n",
    "H = get_test_hermit(qubit, tol=0.7)\n",
    "H = H  + 1j*H "
   ]
  },
  {
   "cell_type": "code",
   "execution_count": 17,
   "metadata": {},
   "outputs": [
    {
     "data": {
      "text/plain": [
       "array([[0.94120225+0.94120225j, 0.20457748+0.20457748j,\n",
       "        0.26757294+0.26757294j, ..., 0.32795721+0.32795721j,\n",
       "        0.22543005+0.22543005j, 0.22007574+0.22007574j],\n",
       "       [0.20457748+0.20457748j, 0.90315395+0.90315395j,\n",
       "        0.21483596+0.21483596j, ..., 0.21908367+0.21908367j,\n",
       "        0.25455292+0.25455292j, 0.25202578+0.25202578j],\n",
       "       [0.26757294+0.26757294j, 0.21483596+0.21483596j,\n",
       "        0.96179704+0.96179704j, ..., 0.30583348+0.30583348j,\n",
       "        0.2963413 +0.2963413j , 0.21591031+0.21591031j],\n",
       "       ...,\n",
       "       [0.32795721+0.32795721j, 0.21908367+0.21908367j,\n",
       "        0.30583348+0.30583348j, ..., 0.89284539+0.89284539j,\n",
       "        0.21552147+0.21552147j, 0.25299422+0.25299422j],\n",
       "       [0.22543005+0.22543005j, 0.25455292+0.25455292j,\n",
       "        0.2963413 +0.2963413j , ..., 0.21552147+0.21552147j,\n",
       "        0.7425602 +0.7425602j , 0.28454133+0.28454133j],\n",
       "       [0.22007574+0.22007574j, 0.25202578+0.25202578j,\n",
       "        0.21591031+0.21591031j, ..., 0.25299422+0.25299422j,\n",
       "        0.28454133+0.28454133j, 0.76765302+0.76765302j]])"
      ]
     },
     "execution_count": 17,
     "metadata": {},
     "output_type": "execute_result"
    }
   ],
   "source": [
    "H"
   ]
  },
  {
   "cell_type": "code",
   "execution_count": 18,
   "metadata": {},
   "outputs": [],
   "source": [
    "hamiltonian = Hamiltonian.from_matrix(H)"
   ]
  },
  {
   "cell_type": "code",
   "execution_count": 19,
   "metadata": {},
   "outputs": [
    {
     "data": {
      "text/plain": [
       "matrix([[0.94120225+0.94120225j, 0.20457748+0.20457748j,\n",
       "         0.26757294+0.26757294j, ..., 0.32795721+0.32795721j,\n",
       "         0.22543005+0.22543005j, 0.22007574+0.22007574j],\n",
       "        [0.20457748+0.20457748j, 0.90315395+0.90315395j,\n",
       "         0.21483596+0.21483596j, ..., 0.21908367+0.21908367j,\n",
       "         0.25455292+0.25455292j, 0.25202578+0.25202578j],\n",
       "        [0.26757294+0.26757294j, 0.21483596+0.21483596j,\n",
       "         0.96179704+0.96179704j, ..., 0.30583348+0.30583348j,\n",
       "         0.2963413 +0.2963413j , 0.21591031+0.21591031j],\n",
       "        ...,\n",
       "        [0.32795721+0.32795721j, 0.21908367+0.21908367j,\n",
       "         0.30583348+0.30583348j, ..., 0.89284539+0.89284539j,\n",
       "         0.21552147+0.21552147j, 0.25299422+0.25299422j],\n",
       "        [0.22543005+0.22543005j, 0.25455292+0.25455292j,\n",
       "         0.2963413 +0.2963413j , ..., 0.21552147+0.21552147j,\n",
       "         0.7425602 +0.7425602j , 0.28454133+0.28454133j],\n",
       "        [0.22007574+0.22007574j, 0.25202578+0.25202578j,\n",
       "         0.21591031+0.21591031j, ..., 0.25299422+0.25299422j,\n",
       "         0.28454133+0.28454133j, 0.76765302+0.76765302j]])"
      ]
     },
     "execution_count": 19,
     "metadata": {},
     "output_type": "execute_result"
    }
   ],
   "source": [
    "hamiltonian.matrix"
   ]
  },
  {
   "cell_type": "code",
   "execution_count": 20,
   "metadata": {},
   "outputs": [],
   "source": [
    "g = hamiltonian.to_graph()"
   ]
  },
  {
   "cell_type": "code",
   "execution_count": 21,
   "metadata": {},
   "outputs": [],
   "source": [
    "import rustworkx as rx"
   ]
  },
  {
   "cell_type": "code",
   "execution_count": 22,
   "metadata": {},
   "outputs": [],
   "source": [
    "rx.visualization.mpl_draw(g, with_labels=True)"
   ]
  },
  {
   "cell_type": "code",
   "execution_count": 7,
   "metadata": {},
   "outputs": [],
   "source": [
    "spa = SparsePauliOp.from_operator(H)"
   ]
  },
  {
   "cell_type": "code",
   "execution_count": 8,
   "metadata": {},
   "outputs": [
    {
     "data": {
      "text/plain": [
       "[SparsePauliOp(['IX', 'XI', 'XX', 'II'],\n",
       "               coeffs=[0.35601036+0.35601036j, 0.31879968+0.31879968j, 0.13711938+0.13711938j,\n",
       "  0.87360013+0.87360013j]),\n",
       " SparsePauliOp(['IZ', 'XZ'],\n",
       "               coeffs=[0.01759786+0.01759786j, 0.31879968+0.31879968j]),\n",
       " SparsePauliOp(['YY', 'ZX'],\n",
       "               coeffs=[ 0.13711938+0.13711938j, -0.02451113-0.02451113j]),\n",
       " SparsePauliOp(['ZI', 'ZZ'],\n",
       "               coeffs=[-0.24642446-0.24642446j, -0.01885529-0.01885529j])]"
      ]
     },
     "execution_count": 8,
     "metadata": {},
     "output_type": "execute_result"
    }
   ],
   "source": [
    "spa.group_commuting()"
   ]
  },
  {
   "cell_type": "code",
   "execution_count": 9,
   "metadata": {},
   "outputs": [
    {
     "data": {
      "text/plain": [
       "Hamiltonian(terms:10)[\n",
       "((0.8736001307876311+0.8736001307876311j), 'II'),\n",
       "((0.35601036491204374+0.35601036491204374j), 'IX'),\n",
       "((0.318799681803406+0.318799681803406j), 'XI'),\n",
       "((0.13711937720535802+0.13711937720535802j), 'XX'),\n",
       "((0.017597858028866487+0.017597858028866487j), 'IZ'),\n",
       "((0.318799681803406+0.318799681803406j), 'XZ'),\n",
       "((-0.24642446455065958-0.24642446455065958j), 'ZI'),\n",
       "((-0.024511133630083892-0.024511133630083892j), 'ZX'),\n",
       "((0.13711937720535802+0.13711937720535802j), 'YY'),\n",
       "((-0.018855286378890113-0.018855286378890113j), 'ZZ')\n",
       "]"
      ]
     },
     "execution_count": 9,
     "metadata": {},
     "output_type": "execute_result"
    }
   ],
   "source": [
    "hamiltonian"
   ]
  },
  {
   "cell_type": "code",
   "execution_count": 10,
   "metadata": {},
   "outputs": [
    {
     "data": {
      "text/html": [
       "<div>\n",
       "<style scoped>\n",
       "    .dataframe tbody tr th:only-of-type {\n",
       "        vertical-align: middle;\n",
       "    }\n",
       "\n",
       "    .dataframe tbody tr th {\n",
       "        vertical-align: top;\n",
       "    }\n",
       "\n",
       "    .dataframe thead th {\n",
       "        text-align: right;\n",
       "    }\n",
       "</style>\n",
       "<table border=\"1\" class=\"dataframe\">\n",
       "  <thead>\n",
       "    <tr style=\"text-align: right;\">\n",
       "      <th></th>\n",
       "      <th>Pstring</th>\n",
       "      <th>type</th>\n",
       "      <th>Z</th>\n",
       "      <th>X</th>\n",
       "      <th>Coef</th>\n",
       "    </tr>\n",
       "  </thead>\n",
       "  <tbody>\n",
       "    <tr>\n",
       "      <th>0</th>\n",
       "      <td>II</td>\n",
       "      <td>0</td>\n",
       "      <td>0</td>\n",
       "      <td>0</td>\n",
       "      <td>0.873600+0.873600j</td>\n",
       "    </tr>\n",
       "    <tr>\n",
       "      <th>1</th>\n",
       "      <td>IX</td>\n",
       "      <td>2</td>\n",
       "      <td>0</td>\n",
       "      <td>1</td>\n",
       "      <td>0.356010+0.356010j</td>\n",
       "    </tr>\n",
       "    <tr>\n",
       "      <th>2</th>\n",
       "      <td>XI</td>\n",
       "      <td>2</td>\n",
       "      <td>0</td>\n",
       "      <td>2</td>\n",
       "      <td>0.318800+0.318800j</td>\n",
       "    </tr>\n",
       "    <tr>\n",
       "      <th>3</th>\n",
       "      <td>XX</td>\n",
       "      <td>2</td>\n",
       "      <td>0</td>\n",
       "      <td>3</td>\n",
       "      <td>0.137119+0.137119j</td>\n",
       "    </tr>\n",
       "    <tr>\n",
       "      <th>4</th>\n",
       "      <td>IZ</td>\n",
       "      <td>1</td>\n",
       "      <td>1</td>\n",
       "      <td>0</td>\n",
       "      <td>0.017598+0.017598j</td>\n",
       "    </tr>\n",
       "    <tr>\n",
       "      <th>5</th>\n",
       "      <td>XZ</td>\n",
       "      <td>3</td>\n",
       "      <td>1</td>\n",
       "      <td>2</td>\n",
       "      <td>0.318800+0.318800j</td>\n",
       "    </tr>\n",
       "    <tr>\n",
       "      <th>6</th>\n",
       "      <td>ZI</td>\n",
       "      <td>1</td>\n",
       "      <td>2</td>\n",
       "      <td>0</td>\n",
       "      <td>-0.246424-0.246424j</td>\n",
       "    </tr>\n",
       "    <tr>\n",
       "      <th>7</th>\n",
       "      <td>ZX</td>\n",
       "      <td>3</td>\n",
       "      <td>2</td>\n",
       "      <td>1</td>\n",
       "      <td>-0.024511-0.024511j</td>\n",
       "    </tr>\n",
       "    <tr>\n",
       "      <th>8</th>\n",
       "      <td>YY</td>\n",
       "      <td>3</td>\n",
       "      <td>3</td>\n",
       "      <td>3</td>\n",
       "      <td>0.137119+0.137119j</td>\n",
       "    </tr>\n",
       "    <tr>\n",
       "      <th>9</th>\n",
       "      <td>ZZ</td>\n",
       "      <td>1</td>\n",
       "      <td>3</td>\n",
       "      <td>0</td>\n",
       "      <td>-0.018855-0.018855j</td>\n",
       "    </tr>\n",
       "  </tbody>\n",
       "</table>\n",
       "</div>"
      ],
      "text/plain": [
       "  Pstring  type  Z  X                Coef\n",
       "0      II     0  0  0  0.873600+0.873600j\n",
       "1      IX     2  0  1  0.356010+0.356010j\n",
       "2      XI     2  0  2  0.318800+0.318800j\n",
       "3      XX     2  0  3  0.137119+0.137119j\n",
       "4      IZ     1  1  0  0.017598+0.017598j\n",
       "5      XZ     3  1  2  0.318800+0.318800j\n",
       "6      ZI     1  2  0 -0.246424-0.246424j\n",
       "7      ZX     3  2  1 -0.024511-0.024511j\n",
       "8      YY     3  3  3  0.137119+0.137119j\n",
       "9      ZZ     1  3  0 -0.018855-0.018855j"
      ]
     },
     "execution_count": 10,
     "metadata": {},
     "output_type": "execute_result"
    }
   ],
   "source": [
    "hamiltonian.local_decomposition"
   ]
  },
  {
   "cell_type": "code",
   "execution_count": 11,
   "metadata": {},
   "outputs": [
    {
     "data": {
      "text/plain": [
       "array([PauliElement(n=2, weight=0.318800+(0.318800)j, XZ),\n",
       "       PauliElement(n=2, weight=-0.246424+(-0.246424)j, ZI),\n",
       "       PauliElement(n=2, weight=-0.024511+(-0.024511)j, ZX),\n",
       "       PauliElement(n=2, weight=0.137119+(0.137119)j, YY),\n",
       "       PauliElement(n=2, weight=-0.018855+(-0.018855)j, ZZ)], dtype=object)"
      ]
     },
     "execution_count": 11,
     "metadata": {},
     "output_type": "execute_result"
    }
   ],
   "source": [
    "parr = hamiltonian.poly\n",
    "parr[-5:]"
   ]
  },
  {
   "cell_type": "code",
   "execution_count": 12,
   "metadata": {},
   "outputs": [
    {
     "data": {
      "text/plain": [
       "PauliElement(n=2, weight=0.873600+(0.873600)j, II)"
      ]
     },
     "execution_count": 12,
     "metadata": {},
     "output_type": "execute_result"
    }
   ],
   "source": [
    "parr[0]"
   ]
  },
  {
   "cell_type": "code",
   "execution_count": 13,
   "metadata": {},
   "outputs": [
    {
     "data": {
      "text/plain": [
       "array([PauliElement(n=2, weight=0.873600+(0.873600)j, II),\n",
       "       PauliElement(n=2, weight=0.356010+(0.356010)j, IX),\n",
       "       PauliElement(n=2, weight=0.318800+(0.318800)j, XI),\n",
       "       PauliElement(n=2, weight=0.137119+(0.137119)j, XX),\n",
       "       PauliElement(n=2, weight=0.017598+(0.017598)j, IZ),\n",
       "       PauliElement(n=2, weight=0.318800+(0.318800)j, XZ),\n",
       "       PauliElement(n=2, weight=-0.246424+(-0.246424)j, ZI),\n",
       "       PauliElement(n=2, weight=-0.024511+(-0.024511)j, ZX),\n",
       "       PauliElement(n=2, weight=0.137119+(0.137119)j, YY),\n",
       "       PauliElement(n=2, weight=-0.018855+(-0.018855)j, ZZ)], dtype=object)"
      ]
     },
     "execution_count": 13,
     "metadata": {},
     "output_type": "execute_result"
    }
   ],
   "source": [
    "parr"
   ]
  },
  {
   "cell_type": "code",
   "execution_count": 14,
   "metadata": {},
   "outputs": [
    {
     "name": "stdout",
     "output_type": "stream",
     "text": [
      "   ['II', 'IX', 'XI', 'XX', 'IZ', 'XZ', 'ZI', 'ZX', 'YY', 'ZZ']\n",
      "II [1 1 1 1 1 1 1 1 1 1]\n",
      "IX [1 1 1 1 0 0 1 1 0 0]\n",
      "XI [1 1 1 1 1 1 0 0 0 0]\n",
      "XX [1 1 1 1 0 0 0 0 1 1]\n",
      "IZ [1 0 1 0 1 1 1 0 0 1]\n",
      "XZ [1 0 1 0 1 1 0 1 1 0]\n",
      "ZI [1 1 0 0 1 0 1 1 0 1]\n",
      "ZX [1 1 0 0 0 1 1 1 1 0]\n",
      "YY [1 0 0 1 0 1 0 1 1 1]\n",
      "ZZ [1 0 0 1 1 0 1 0 1 1]\n"
     ]
    }
   ],
   "source": [
    "print(\"  \", [p.pstr for p in parr])\n",
    "for i in range(len(parr)):\n",
    "    print(parr[i].pstr, hamiltonian.commute(parr[i]))"
   ]
  },
  {
   "cell_type": "code",
   "execution_count": 15,
   "metadata": {},
   "outputs": [
    {
     "data": {
      "text/plain": [
       "array([[1., 1., 1., 1., 1., 1., 1., 1., 1., 1.],\n",
       "       [1., 1., 1., 1., 0., 0., 1., 1., 0., 0.],\n",
       "       [1., 1., 1., 1., 1., 1., 0., 0., 0., 0.],\n",
       "       [1., 1., 1., 1., 0., 0., 0., 0., 1., 1.],\n",
       "       [1., 0., 1., 0., 1., 1., 1., 0., 0., 1.],\n",
       "       [1., 0., 1., 0., 1., 1., 0., 1., 1., 0.],\n",
       "       [1., 1., 0., 0., 1., 0., 1., 1., 0., 1.],\n",
       "       [1., 1., 0., 0., 0., 1., 1., 1., 1., 0.],\n",
       "       [1., 0., 0., 1., 0., 1., 0., 1., 1., 1.],\n",
       "       [1., 0., 0., 1., 1., 0., 1., 0., 1., 1.]])"
      ]
     },
     "execution_count": 15,
     "metadata": {},
     "output_type": "execute_result"
    }
   ],
   "source": [
    "hamiltonian.adj_mat"
   ]
  },
  {
   "cell_type": "code",
   "execution_count": 16,
   "metadata": {},
   "outputs": [
    {
     "data": {
      "text/plain": [
       "[(0, 1),\n",
       " (0, 2),\n",
       " (0, 3),\n",
       " (0, 4),\n",
       " (0, 5),\n",
       " (0, 6),\n",
       " (0, 7),\n",
       " (0, 8),\n",
       " (0, 9),\n",
       " (1, 2),\n",
       " (1, 3),\n",
       " (1, 6),\n",
       " (1, 7),\n",
       " (2, 3),\n",
       " (2, 4),\n",
       " (2, 5),\n",
       " (3, 8),\n",
       " (3, 9),\n",
       " (4, 5),\n",
       " (4, 6),\n",
       " (4, 9),\n",
       " (5, 7),\n",
       " (5, 8),\n",
       " (6, 7),\n",
       " (6, 9),\n",
       " (7, 8),\n",
       " (8, 9)]"
      ]
     },
     "execution_count": 16,
     "metadata": {},
     "output_type": "execute_result"
    }
   ],
   "source": [
    " list(zip(*np.where(np.triu(hamiltonian.adj_mat, k=1))))"
   ]
  },
  {
   "cell_type": "code",
   "execution_count": 17,
   "metadata": {},
   "outputs": [],
   "source": [
    "from scipy.sparse import coo_matrix\n",
    "import opttrot"
   ]
  },
  {
   "cell_type": "code",
   "execution_count": 24,
   "metadata": {},
   "outputs": [],
   "source": [
    "import importlib\n",
    "importlib.reload(opttrot)\n",
    "from opttrot.pauli_utils import ij_code2_pstr, ij_code2sym_code"
   ]
  },
  {
   "cell_type": "code",
   "execution_count": 25,
   "metadata": {},
   "outputs": [
    {
     "data": {
      "text/plain": [
       "(4, 4)"
      ]
     },
     "execution_count": 25,
     "metadata": {},
     "output_type": "execute_result"
    }
   ],
   "source": [
    "hmat = hamiltonian.coef_matrix\n",
    "hmat.shape"
   ]
  },
  {
   "cell_type": "code",
   "execution_count": 26,
   "metadata": {},
   "outputs": [
    {
     "name": "stdout",
     "output_type": "stream",
     "text": [
      "1.0121\t0.15861\t0.0\t0.50323\t\n",
      "0.0\t0.011998\t0.0\t0.0\t\n",
      "0.0\t2.7756e-17\t-0.08392\t-0.15861\t\n",
      "-0.1727\t0.0\t0.0\t0.025152\t\n"
     ]
    }
   ],
   "source": [
    "for i in range(4):\n",
    "    for j in range(4):\n",
    "        print(f\"{hmat[i,j].real:.5}\\t\", end=\"\")\n",
    "    print(\"\")"
   ]
  },
  {
   "cell_type": "code",
   "execution_count": 27,
   "metadata": {},
   "outputs": [],
   "source": [
    "coo = coo_matrix(hamiltonian.coef_matrix)"
   ]
  },
  {
   "cell_type": "code",
   "execution_count": 28,
   "metadata": {},
   "outputs": [
    {
     "name": "stdout",
     "output_type": "stream",
     "text": [
      "0 0 II (0, 0)\n",
      "0 1 IX (1, 0)\n",
      "0 3 XX (3, 0)\n",
      "1 1 IZ (0, 1)\n",
      "2 1 YX (3, 2)\n",
      "2 2 ZI (0, 2)\n",
      "2 3 ZX (1, 2)\n",
      "3 0 YY (3, 3)\n",
      "3 3 ZZ (0, 3)\n"
     ]
    }
   ],
   "source": [
    "for i,j, d, in zip(coo.row, coo.col, coo.data):\n",
    "    print(i, j, ij_code2_pstr((i, j), 2), ij_code2sym_code(i, j))"
   ]
  },
  {
   "cell_type": "code",
   "execution_count": 31,
   "metadata": {},
   "outputs": [
    {
     "data": {
      "text/plain": [
       "0"
      ]
     },
     "execution_count": 31,
     "metadata": {},
     "output_type": "execute_result"
    }
   ],
   "source": [
    "(3&0)^(0&3)"
   ]
  },
  {
   "cell_type": "code",
   "execution_count": 76,
   "metadata": {},
   "outputs": [],
   "source": [
    "from scipy.sparse import coo_matrix\n",
    "coo = coo_matrix(hamiltonian._coef_matrix)"
   ]
  },
  {
   "cell_type": "code",
   "execution_count": 26,
   "metadata": {},
   "outputs": [
    {
     "data": {
      "text/plain": [
       "(array([0, 1, 2, 3], dtype=int32), array([0, 0, 0, 0], dtype=int32))"
      ]
     },
     "execution_count": 26,
     "metadata": {},
     "output_type": "execute_result"
    }
   ],
   "source": [
    "coo.row, np.bitwise_xor(coo.row, coo.col)"
   ]
  },
  {
   "cell_type": "code",
   "execution_count": 27,
   "metadata": {},
   "outputs": [
    {
     "data": {
      "text/plain": [
       "array([0, 1, 2, 3], dtype=int32)"
      ]
     },
     "execution_count": 27,
     "metadata": {},
     "output_type": "execute_result"
    }
   ],
   "source": [
    "coo.col"
   ]
  },
  {
   "cell_type": "code",
   "execution_count": 28,
   "metadata": {},
   "outputs": [
    {
     "data": {
      "text/plain": [
       "(array([0, 0, 0, 0], dtype=int32), array([0, 1, 2, 3], dtype=int32))"
      ]
     },
     "execution_count": 28,
     "metadata": {},
     "output_type": "execute_result"
    }
   ],
   "source": [
    "nx_s = np.bitwise_xor(coo.row, coo.col)\n",
    "nz_s = coo.col\n",
    "# II, IY, YI, YY, IZ, YZ, ZY, XX, ZZ\n",
    "nx_s, nz_s"
   ]
  },
  {
   "cell_type": "code",
   "execution_count": 29,
   "metadata": {},
   "outputs": [
    {
     "data": {
      "text/plain": [
       "(array([0, 1, 2, 3], dtype=int32), array([0, 1, 2, 3], dtype=int32))"
      ]
     },
     "execution_count": 29,
     "metadata": {},
     "output_type": "execute_result"
    }
   ],
   "source": [
    "coo.row, coo.col"
   ]
  },
  {
   "cell_type": "code",
   "execution_count": 30,
   "metadata": {},
   "outputs": [
    {
     "data": {
      "text/plain": [
       "(array([0, 0, 0, 0], dtype=int32), array([0, 1, 0, 1], dtype=int32))"
      ]
     },
     "execution_count": 30,
     "metadata": {},
     "output_type": "execute_result"
    }
   ],
   "source": [
    "nx = 1\n",
    "nz = 0\n",
    "np.bitwise_and(nx_s, nz), np.bitwise_and(nz_s, nx), "
   ]
  },
  {
   "cell_type": "code",
   "execution_count": 34,
   "metadata": {},
   "outputs": [
    {
     "data": {
      "text/plain": [
       "array([0, 1, 1, 1, 1, 0, 1, 0, 1], dtype=int32)"
      ]
     },
     "execution_count": 34,
     "metadata": {},
     "output_type": "execute_result"
    }
   ],
   "source": [
    "hamiltonian.commute(parr[1])"
   ]
  },
  {
   "cell_type": "code",
   "execution_count": 32,
   "metadata": {},
   "outputs": [],
   "source": [
    "# Adj matrix\n",
    "l = len(parr)\n",
    "adj = np.zeros((l,l))\n",
    "for i in range(l):\n",
    "    adj[i, i] = 1  # Diagonal elements\n",
    "    for j in range(i + 1, l):\n",
    "        commute_value = parr[i].commute(parr[j])\n",
    "        adj[i, j] = commute_value\n",
    "        adj[j, i] = commute_value  # Symmetric assignment\n"
   ]
  },
  {
   "cell_type": "code",
   "execution_count": 33,
   "metadata": {},
   "outputs": [
    {
     "data": {
      "text/plain": [
       "array([[1., 1., 1., 1., 1., 1., 1., 1., 1.],\n",
       "       [1., 1., 1., 0., 1., 1., 1., 0., 0.],\n",
       "       [1., 1., 1., 0., 0., 0., 0., 0., 0.],\n",
       "       [1., 0., 0., 1., 0., 1., 0., 0., 1.],\n",
       "       [1., 1., 0., 0., 1., 0., 0., 0., 0.],\n",
       "       [1., 1., 0., 1., 0., 1., 1., 0., 1.],\n",
       "       [1., 1., 0., 0., 0., 1., 1., 0., 0.],\n",
       "       [1., 0., 0., 0., 0., 0., 0., 1., 0.],\n",
       "       [1., 0., 0., 1., 0., 1., 0., 0., 1.]])"
      ]
     },
     "execution_count": 33,
     "metadata": {},
     "output_type": "execute_result"
    }
   ],
   "source": [
    "adj"
   ]
  },
  {
   "cell_type": "code",
   "execution_count": 30,
   "metadata": {},
   "outputs": [],
   "source": [
    "l = len(parr)\n",
    "adj = np.zeros((l, l))\n",
    "\n",
    "# Extract upper triangle indices\n",
    "upper_indices = np.triu_indices(l, k=1)\n",
    "\n",
    "# Loop over only necessary elements and fill symmetrically\n",
    "for idx in range(len(upper_indices[0])):\n",
    "    i, j = upper_indices[0][idx], upper_indices[1][idx]\n",
    "    commute_value = parr[i].commute(parr[j])\n",
    "    adj[i, j] = commute_value\n",
    "    adj[j, i] = commute_value\n",
    "\n",
    "# Set diagonal elements to 1\n",
    "np.fill_diagonal(adj, 1)"
   ]
  },
  {
   "cell_type": "code",
   "execution_count": 31,
   "metadata": {},
   "outputs": [],
   "source": [
    "l = len(parr)\n",
    "adj = np.zeros((l, l))\n",
    "\n",
    "# Loop over the upper triangle only, including the diagonal\n",
    "for i in range(l):\n",
    "    for j in range(i, l):  # Start j from i to avoid unnecessary computations\n",
    "        if i == j:\n",
    "            adj[i, j] = 1  # Set diagonal elements to 1 directly\n",
    "        else:\n",
    "            commute_value = parr[i].commute(parr[j])\n",
    "            adj[i, j] = commute_value\n",
    "            adj[j, i] = commute_value  # Fill the symmetric element\n"
   ]
  },
  {
   "cell_type": "code",
   "execution_count": 28,
   "metadata": {},
   "outputs": [
    {
     "data": {
      "text/plain": [
       "array([[1., 0., 0., ..., 1., 1., 1.],\n",
       "       [0., 1., 1., ..., 0., 0., 0.],\n",
       "       [0., 1., 1., ..., 0., 0., 0.],\n",
       "       ...,\n",
       "       [1., 0., 0., ..., 1., 1., 1.],\n",
       "       [1., 0., 0., ..., 1., 1., 1.],\n",
       "       [1., 0., 0., ..., 1., 1., 1.]])"
      ]
     },
     "execution_count": 28,
     "metadata": {},
     "output_type": "execute_result"
    }
   ],
   "source": [
    "adj"
   ]
  },
  {
   "cell_type": "markdown",
   "metadata": {},
   "source": [
    "## Graph tool test"
   ]
  },
  {
   "cell_type": "code",
   "execution_count": 35,
   "metadata": {},
   "outputs": [],
   "source": [
    "import rustworkx as rx"
   ]
  },
  {
   "cell_type": "code",
   "execution_count": 36,
   "metadata": {},
   "outputs": [],
   "source": [
    "G = rx.PyGraph()"
   ]
  },
  {
   "cell_type": "code",
   "execution_count": 37,
   "metadata": {},
   "outputs": [],
   "source": [
    "nodes = hamiltonian.local_decomposition[\"Pstring\"].to_list()\n",
    "edge_list = hamiltonian.edge_df[hamiltonian.edge_df[\"commute\"] == 1][\"index\"].tolist()"
   ]
  },
  {
   "cell_type": "code",
   "execution_count": 38,
   "metadata": {},
   "outputs": [
    {
     "data": {
      "text/plain": [
       "<rustworkx.EdgeIndices at 0x13cc20840>"
      ]
     },
     "execution_count": 38,
     "metadata": {},
     "output_type": "execute_result"
    }
   ],
   "source": [
    "G.add_nodes_from(nodes)\n",
    "G.add_edges_from_no_data(edge_list)"
   ]
  },
  {
   "cell_type": "code",
   "execution_count": 34,
   "metadata": {},
   "outputs": [
    {
     "data": {
      "image/png": "[encoded data removed]",
      "text/plain": [
       "<Figure size 640x480 with 1 Axes>"
      ]
     },
     "metadata": {},
     "output_type": "display_data"
    }
   ],
   "source": [
    "layout = rx.shell_layout(G)\n",
    "rx.visualization.mpl_draw(G, pos=layout, with_labels=True)"
   ]
  },
  {
   "cell_type": "code",
   "execution_count": 27,
   "metadata": {},
   "outputs": [],
   "source": [
    "series = hamiltonian.edge_df[hamiltonian.edge_df[\"commute\"] ==1][[\"source\", \"target\", \"commute\"]]"
   ]
  },
  {
   "cell_type": "code",
   "execution_count": 28,
   "metadata": {},
   "outputs": [
    {
     "data": {
      "text/plain": [
       "array([['III', 'IIZ', 1],\n",
       "       ['III', 'ZIZ', 1],\n",
       "       ['III', 'IIY', 1],\n",
       "       ['III', 'IYI', 1],\n",
       "       ['III', 'IYZ', 1],\n",
       "       ['III', 'ZYZ', 1],\n",
       "       ['III', 'IYY', 1],\n",
       "       ['III', 'YII', 1],\n",
       "       ['III', 'YIZ', 1],\n",
       "       ['III', 'XIX', 1],\n",
       "       ['III', 'YIY', 1],\n",
       "       ['III', 'YYI', 1],\n",
       "       ['III', 'YYZ', 1],\n",
       "       ['III', 'XYX', 1],\n",
       "       ['III', 'YYY', 1],\n",
       "       ['IIZ', 'ZIZ', 1],\n",
       "       ['IIZ', 'IYI', 1],\n",
       "       ['IIZ', 'IYZ', 1],\n",
       "       ['IIZ', 'ZYZ', 1],\n",
       "       ['IIZ', 'YII', 1],\n",
       "       ['IIZ', 'YIZ', 1],\n",
       "       ['IIZ', 'YYI', 1],\n",
       "       ['IIZ', 'YYZ', 1],\n",
       "       ['ZIZ', 'IYI', 1],\n",
       "       ['ZIZ', 'IYZ', 1],\n",
       "       ['ZIZ', 'ZYZ', 1],\n",
       "       ['ZIZ', 'XIX', 1],\n",
       "       ['ZIZ', 'YIY', 1],\n",
       "       ['ZIZ', 'XYX', 1],\n",
       "       ['ZIZ', 'YYY', 1],\n",
       "       ['IIY', 'IYI', 1],\n",
       "       ['IIY', 'IYY', 1],\n",
       "       ['IIY', 'YII', 1],\n",
       "       ['IIY', 'YIY', 1],\n",
       "       ['IIY', 'YYI', 1],\n",
       "       ['IIY', 'YYY', 1],\n",
       "       ['IYI', 'IYZ', 1],\n",
       "       ['IYI', 'ZYZ', 1],\n",
       "       ['IYI', 'IYY', 1],\n",
       "       ['IYI', 'YII', 1],\n",
       "       ['IYI', 'YIZ', 1],\n",
       "       ['IYI', 'XIX', 1],\n",
       "       ['IYI', 'YIY', 1],\n",
       "       ['IYI', 'YYI', 1],\n",
       "       ['IYI', 'YYZ', 1],\n",
       "       ['IYI', 'XYX', 1],\n",
       "       ['IYI', 'YYY', 1],\n",
       "       ['IYZ', 'ZYZ', 1],\n",
       "       ['IYZ', 'YII', 1],\n",
       "       ['IYZ', 'YIZ', 1],\n",
       "       ['IYZ', 'YYI', 1],\n",
       "       ['IYZ', 'YYZ', 1],\n",
       "       ['ZYZ', 'XIX', 1],\n",
       "       ['ZYZ', 'YIY', 1],\n",
       "       ['ZYZ', 'XYX', 1],\n",
       "       ['ZYZ', 'YYY', 1],\n",
       "       ['IYY', 'YII', 1],\n",
       "       ['IYY', 'YIY', 1],\n",
       "       ['IYY', 'YYI', 1],\n",
       "       ['IYY', 'YYY', 1],\n",
       "       ['YII', 'YIZ', 1],\n",
       "       ['YII', 'YIY', 1],\n",
       "       ['YII', 'YYI', 1],\n",
       "       ['YII', 'YYZ', 1],\n",
       "       ['YII', 'YYY', 1],\n",
       "       ['YIZ', 'XIX', 1],\n",
       "       ['YIZ', 'YYI', 1],\n",
       "       ['YIZ', 'YYZ', 1],\n",
       "       ['YIZ', 'XYX', 1],\n",
       "       ['XIX', 'YIY', 1],\n",
       "       ['XIX', 'YYZ', 1],\n",
       "       ['XIX', 'XYX', 1],\n",
       "       ['XIX', 'YYY', 1],\n",
       "       ['YIY', 'YYI', 1],\n",
       "       ['YIY', 'XYX', 1],\n",
       "       ['YIY', 'YYY', 1],\n",
       "       ['YYI', 'YYZ', 1],\n",
       "       ['YYI', 'YYY', 1],\n",
       "       ['YYZ', 'XYX', 1],\n",
       "       ['XYX', 'YYY', 1]], dtype=object)"
      ]
     },
     "execution_count": 28,
     "metadata": {},
     "output_type": "execute_result"
    }
   ],
   "source": [
    "series.values"
   ]
  },
  {
   "cell_type": "code",
   "execution_count": 24,
   "metadata": {},
   "outputs": [],
   "source": [
    "from networkx.algorithms import find_cliques"
   ]
  },
  {
   "cell_type": "code",
   "execution_count": 25,
   "metadata": {},
   "outputs": [],
   "source": [
    "g = hamiltonian.compatible_graph"
   ]
  },
  {
   "cell_type": "code",
   "execution_count": null,
   "metadata": {},
   "outputs": [],
   "source": [
    "g.solve_clique(core = \"quera\")"
   ]
  },
  {
   "cell_type": "code",
   "execution_count": 26,
   "metadata": {},
   "outputs": [
    {
     "data": {
      "text/plain": [
       "[['YII', 'III', 'IZZ', 'YZZ', 'YIZ', 'IIZ'],\n",
       " ['YII', 'III', 'IZZ', 'YZZ', 'IXX', 'YXX', 'IYY', 'YYY'],\n",
       " ['YII', 'III', 'IYI', 'YYI', 'YIY', 'YYY', 'IYY', 'IIY'],\n",
       " ['YII', 'III', 'IYI', 'YYI', 'IYZ', 'YYZ', 'YIZ', 'IIZ'],\n",
       " ['YII', 'III', 'IXX', 'YXX', 'IYZ', 'YYZ']]"
      ]
     },
     "execution_count": 26,
     "metadata": {},
     "output_type": "execute_result"
    }
   ],
   "source": [
    "list(find_cliques(g))"
   ]
  },
  {
   "cell_type": "code",
   "execution_count": 26,
   "metadata": {},
   "outputs": [
    {
     "data": {
      "text/html": [
       "<div>\n",
       "<style scoped>\n",
       "    .dataframe tbody tr th:only-of-type {\n",
       "        vertical-align: middle;\n",
       "    }\n",
       "\n",
       "    .dataframe tbody tr th {\n",
       "        vertical-align: top;\n",
       "    }\n",
       "\n",
       "    .dataframe thead th {\n",
       "        text-align: right;\n",
       "    }\n",
       "</style>\n",
       "<table border=\"1\" class=\"dataframe\">\n",
       "  <thead>\n",
       "    <tr style=\"text-align: right;\">\n",
       "      <th></th>\n",
       "      <th>source</th>\n",
       "      <th>target</th>\n",
       "      <th>Zs</th>\n",
       "      <th>Xs</th>\n",
       "      <th>Zt</th>\n",
       "      <th>Xt</th>\n",
       "      <th>commute</th>\n",
       "    </tr>\n",
       "  </thead>\n",
       "  <tbody>\n",
       "    <tr>\n",
       "      <th>0</th>\n",
       "      <td>III</td>\n",
       "      <td>IXX</td>\n",
       "      <td>0</td>\n",
       "      <td>0</td>\n",
       "      <td>0</td>\n",
       "      <td>3</td>\n",
       "      <td>1</td>\n",
       "    </tr>\n",
       "    <tr>\n",
       "      <th>1</th>\n",
       "      <td>III</td>\n",
       "      <td>XII</td>\n",
       "      <td>0</td>\n",
       "      <td>0</td>\n",
       "      <td>0</td>\n",
       "      <td>4</td>\n",
       "      <td>1</td>\n",
       "    </tr>\n",
       "    <tr>\n",
       "      <th>2</th>\n",
       "      <td>III</td>\n",
       "      <td>XXI</td>\n",
       "      <td>0</td>\n",
       "      <td>0</td>\n",
       "      <td>0</td>\n",
       "      <td>6</td>\n",
       "      <td>1</td>\n",
       "    </tr>\n",
       "    <tr>\n",
       "      <th>3</th>\n",
       "      <td>III</td>\n",
       "      <td>IIZ</td>\n",
       "      <td>0</td>\n",
       "      <td>0</td>\n",
       "      <td>1</td>\n",
       "      <td>0</td>\n",
       "      <td>1</td>\n",
       "    </tr>\n",
       "    <tr>\n",
       "      <th>4</th>\n",
       "      <td>III</td>\n",
       "      <td>IXY</td>\n",
       "      <td>0</td>\n",
       "      <td>0</td>\n",
       "      <td>1</td>\n",
       "      <td>3</td>\n",
       "      <td>1</td>\n",
       "    </tr>\n",
       "    <tr>\n",
       "      <th>...</th>\n",
       "      <td>...</td>\n",
       "      <td>...</td>\n",
       "      <td>...</td>\n",
       "      <td>...</td>\n",
       "      <td>...</td>\n",
       "      <td>...</td>\n",
       "      <td>...</td>\n",
       "    </tr>\n",
       "    <tr>\n",
       "      <th>368</th>\n",
       "      <td>YZI</td>\n",
       "      <td>ZYX</td>\n",
       "      <td>6</td>\n",
       "      <td>4</td>\n",
       "      <td>6</td>\n",
       "      <td>3</td>\n",
       "      <td>1</td>\n",
       "    </tr>\n",
       "    <tr>\n",
       "      <th>370</th>\n",
       "      <td>YZI</td>\n",
       "      <td>YZZ</td>\n",
       "      <td>6</td>\n",
       "      <td>4</td>\n",
       "      <td>7</td>\n",
       "      <td>4</td>\n",
       "      <td>1</td>\n",
       "    </tr>\n",
       "    <tr>\n",
       "      <th>371</th>\n",
       "      <td>YZI</td>\n",
       "      <td>ZYY</td>\n",
       "      <td>6</td>\n",
       "      <td>4</td>\n",
       "      <td>7</td>\n",
       "      <td>3</td>\n",
       "      <td>1</td>\n",
       "    </tr>\n",
       "    <tr>\n",
       "      <th>372</th>\n",
       "      <td>ZYX</td>\n",
       "      <td>YYZ</td>\n",
       "      <td>6</td>\n",
       "      <td>3</td>\n",
       "      <td>7</td>\n",
       "      <td>6</td>\n",
       "      <td>1</td>\n",
       "    </tr>\n",
       "    <tr>\n",
       "      <th>376</th>\n",
       "      <td>YYZ</td>\n",
       "      <td>ZYY</td>\n",
       "      <td>7</td>\n",
       "      <td>6</td>\n",
       "      <td>7</td>\n",
       "      <td>3</td>\n",
       "      <td>1</td>\n",
       "    </tr>\n",
       "  </tbody>\n",
       "</table>\n",
       "<p>186 rows × 7 columns</p>\n",
       "</div>"
      ],
      "text/plain": [
       "    source target  Zs  Xs  Zt  Xt  commute\n",
       "0      III    IXX   0   0   0   3        1\n",
       "1      III    XII   0   0   0   4        1\n",
       "2      III    XXI   0   0   0   6        1\n",
       "3      III    IIZ   0   0   1   0        1\n",
       "4      III    IXY   0   0   1   3        1\n",
       "..     ...    ...  ..  ..  ..  ..      ...\n",
       "368    YZI    ZYX   6   4   6   3        1\n",
       "370    YZI    YZZ   6   4   7   4        1\n",
       "371    YZI    ZYY   6   4   7   3        1\n",
       "372    ZYX    YYZ   6   3   7   6        1\n",
       "376    YYZ    ZYY   7   6   7   3        1\n",
       "\n",
       "[186 rows x 7 columns]"
      ]
     },
     "execution_count": 26,
     "metadata": {},
     "output_type": "execute_result"
    }
   ],
   "source": [
    "hamiltonian.edge_df[hamiltonian.edge_df[\"commute\"]==1]"
   ]
  },
  {
   "cell_type": "code",
   "execution_count": 23,
   "metadata": {},
   "outputs": [
    {
     "data": {
      "text/plain": [
       "0       True\n",
       "1       True\n",
       "2       True\n",
       "3       True\n",
       "4       True\n",
       "       ...  \n",
       "373    False\n",
       "374    False\n",
       "375    False\n",
       "376     True\n",
       "377    False\n",
       "Name: commute, Length: 378, dtype: bool"
      ]
     },
     "execution_count": 23,
     "metadata": {},
     "output_type": "execute_result"
    }
   ],
   "source": [
    "hamiltonian.edge_df[\"commute\"]==1"
   ]
  },
  {
   "cell_type": "code",
   "execution_count": null,
   "metadata": {},
   "outputs": [],
   "source": []
  }
 ],
 "metadata": {
  "kernelspec": {
   "display_name": "opttrot",
   "language": "python",
   "name": "python3"
  },
  "language_info": {
   "codemirror_mode": {
    "name": "ipython",
    "version": 3
   },
   "file_extension": ".py",
   "mimetype": "text/x-python",
   "name": "python",
   "nbconvert_exporter": "python",
   "pygments_lexer": "ipython3",
   "version": "3.12.4"
  }
 },
 "nbformat": 4,
 "nbformat_minor": 2
}
