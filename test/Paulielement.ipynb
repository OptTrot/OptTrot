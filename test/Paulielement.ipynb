{
 "cells": [
  {
   "cell_type": "code",
   "execution_count": 1,
   "metadata": {},
   "outputs": [],
   "source": [
    "import os, sys\n",
    "sys.path.append(\"..\")"
   ]
  },
  {
   "cell_type": "code",
   "execution_count": 3,
   "metadata": {},
   "outputs": [],
   "source": [
    "from src.pauli import PauliElement"
   ]
  },
  {
   "cell_type": "code",
   "execution_count": 5,
   "metadata": {},
   "outputs": [],
   "source": [
    "n = 10\n",
    "p0 = PauliElement(nx=3, nz= 6, n=n, weight=0.124, f=0, set_phase=False)\n",
    "p1 = PauliElement(nx=5, nz= 5, n=n, weight=0.124, f=0, set_phase=False)"
   ]
  },
  {
   "cell_type": "code",
   "execution_count": 6,
   "metadata": {},
   "outputs": [
    {
     "name": "stdout",
     "output_type": "stream",
     "text": [
      "3.05 μs ± 56.8 ns per loop (mean ± std. dev. of 7 runs, 100,000 loops each)\n"
     ]
    }
   ],
   "source": [
    "%%timeit\n",
    "p2 = p0@p1"
   ]
  },
  {
   "cell_type": "code",
   "execution_count": 7,
   "metadata": {},
   "outputs": [],
   "source": [
    "p2 = p0@p1"
   ]
  },
  {
   "cell_type": "code",
   "execution_count": 13,
   "metadata": {},
   "outputs": [
    {
     "data": {
      "text/plain": [
       "'Pauli(xz=(6, 3), IIIIIIIXYZ, n=10, weight=0.015375999999999999)'"
      ]
     },
     "execution_count": 13,
     "metadata": {},
     "output_type": "execute_result"
    }
   ],
   "source": [
    "PauliElement.__repr__(p2)"
   ]
  },
  {
   "cell_type": "code",
   "execution_count": 9,
   "metadata": {},
   "outputs": [
    {
     "ename": "NameError",
     "evalue": "name 'p00_' is not defined",
     "output_type": "error",
     "traceback": [
      "\u001b[0;31m---------------------------------------------------------------------------\u001b[0m",
      "\u001b[0;31mNameError\u001b[0m                                 Traceback (most recent call last)",
      "Cell \u001b[0;32mIn[9], line 1\u001b[0m\n\u001b[0;32m----> 1\u001b[0m \u001b[43mp00_\u001b[49m\u001b[38;5;241m.\u001b[39mpstr\n",
      "\u001b[0;31mNameError\u001b[0m: name 'p00_' is not defined"
     ]
    }
   ],
   "source": [
    "p00_.pstr"
   ]
  },
  {
   "cell_type": "code",
   "execution_count": 7,
   "metadata": {},
   "outputs": [
    {
     "data": {
      "text/plain": [
       "(3, 6)"
      ]
     },
     "execution_count": 7,
     "metadata": {},
     "output_type": "execute_result"
    }
   ],
   "source": [
    "p00_.sym_code"
   ]
  },
  {
   "cell_type": "code",
   "execution_count": 8,
   "metadata": {},
   "outputs": [
    {
     "data": {
      "text/plain": [
       "(6, 5)"
      ]
     },
     "execution_count": 8,
     "metadata": {},
     "output_type": "execute_result"
    }
   ],
   "source": [
    "p00_.ij_code"
   ]
  },
  {
   "cell_type": "markdown",
   "metadata": {},
   "source": [
    "## Speed comparsion"
   ]
  },
  {
   "cell_type": "code",
   "execution_count": 11,
   "metadata": {},
   "outputs": [],
   "source": [
    "from numbers import Number\n",
    "from functools import reduce\n",
    "\n",
    "import numpy as np\n",
    "\n",
    "def p__str__(self):\n",
    "        return f\"{self.pstr}\"\n",
    "def p__repr__(self):\n",
    "        return f\"Pauli(xz=({self.nx}, {self.nz}), {self.pstr}, n={self.n}, weight={self.weight})\"\n",
    "def p_to_pennylane(self, words=False):\n",
    "        from pennylane.pauli import string_to_pauli_word\n",
    "        from pennylane import I, PauliX, PauliY, PauliZ\n",
    "        if words:\n",
    "            map_dict = {i:i for i in (range(self.n))}\n",
    "            terms = string_to_pauli_word(self.string, wire_map=map_dict)\n",
    "        else:\n",
    "            ops = {\n",
    "                \"I\": lambda i: I(i),\n",
    "                \"X\": lambda i: PauliX(i),\n",
    "                \"Y\": lambda i: PauliY(i),\n",
    "                \"Z\": lambda i: PauliZ(i),\n",
    "                   }\n",
    "            opers = [ops[s](i) for i, s in enumerate(reversed(self.string))]\n",
    "            terms =reduce(lambda x, y: x@y, opers)\n",
    "        return self.coef, terms\n",
    "    \n",
    "def p_to_qiskit(self):\n",
    "        from qiskit.quantum_info import Pauli as qiskit_Pauli\n",
    "        x_array = np.flip(np.array([int(b) for b in format(self.nx, f\"0{self.n}b\")], dtype=np.uint))\n",
    "        z_array = np.flip(np.array([int(b) for b in format(self.nz, f\"0{self.n}b\")], dtype=np.uint))\n",
    "        return self.weight, qiskit_Pauli((z_array, x_array))\n",
    "\n",
    "# Basic Pauli matrices\n",
    "I = np.eye(2, dtype=int)\n",
    "X = np.matrix([[0, 1], [1, 0]], dtype=int)\n",
    "Y = np.matrix([[0, 1], [-1, 0]], dtype=int) # omit -1j* phase\n",
    "Z = np.matrix([[1, 0],[0, -1]], dtype = int)\n",
    "\n",
    "# Pauli matrix by name\n",
    "PAULI_MATRICES = {\n",
    "    \"I\": I,\n",
    "    \"X\": X,\n",
    "    \"Y\": Y,\n",
    "    \"Z\": Z\n",
    "}\n",
    "def krons(*oper_list)->np.matrix:\n",
    "    \"\"\"Kronecker product(=Tensor product of matrix).\n",
    "    \n",
    "    Returns:\n",
    "        np.matrix: Kronecker producted matrix of the given oredred matrix.\n",
    "    \"\"\"\n",
    "    if len(oper_list) == 1:\n",
    "        oper_list = oper_list[0]\n",
    "    return reduce(np.kron, oper_list)\n",
    "\n",
    "def pstr2mat(pstr:str)->np.matrix:\n",
    "        result = []\n",
    "        for p in pstr:\n",
    "            result.append(PAULI_MATRICES[p])\n",
    "        return krons(result)\n",
    "def p_to_matrix(self):\n",
    "      return self.weight * (-1j)**self.f * pstr2mat(self.pstr)\n",
    "       \n",
    "\n",
    "_PauliElement.__str__ = p__str__\n",
    "_PauliElement.__repr__ = p__repr__\n",
    "_PauliElement.to_matrix = p_to_matrix\n",
    "_PauliElement.to_pennylane = p_to_pennylane\n",
    "_PauliElement.to_qiskit = p_to_qiskit\n"
   ]
  },
  {
   "cell_type": "code",
   "execution_count": 17,
   "metadata": {},
   "outputs": [],
   "source": [
    "n = 1000\n",
    "p00 = _PauliElement(nx=0, nz= 1, n=n, weight=0.124, f=0, set_phase=False)\n",
    "p01 = _PauliElement(nx=5, nz= 5, n=n, weight=0.124, f=0, set_phase=False)\n",
    "w00, q_p00 = p00.to_qiskit()\n",
    "w01, q_p01 = p01.to_qiskit()\n"
   ]
  },
  {
   "cell_type": "code",
   "execution_count": 18,
   "metadata": {},
   "outputs": [
    {
     "ename": "KeyboardInterrupt",
     "evalue": "",
     "output_type": "error",
     "traceback": [
      "\u001b[0;31m---------------------------------------------------------------------------\u001b[0m",
      "\u001b[0;31mKeyboardInterrupt\u001b[0m                         Traceback (most recent call last)",
      "Cell \u001b[0;32mIn[18], line 1\u001b[0m\n\u001b[0;32m----> 1\u001b[0m \u001b[43mp00\u001b[49m\u001b[38;5;241;43m.\u001b[39;49m\u001b[43mto_matrix\u001b[49m\u001b[43m(\u001b[49m\u001b[43m)\u001b[49m\n",
      "Cell \u001b[0;32mIn[11], line 62\u001b[0m, in \u001b[0;36mp_to_matrix\u001b[0;34m(self)\u001b[0m\n\u001b[1;32m     61\u001b[0m \u001b[38;5;28;01mdef\u001b[39;00m \u001b[38;5;21mp_to_matrix\u001b[39m(\u001b[38;5;28mself\u001b[39m):\n\u001b[0;32m---> 62\u001b[0m       \u001b[38;5;28;01mreturn\u001b[39;00m \u001b[38;5;28mself\u001b[39m\u001b[38;5;241m.\u001b[39mweight \u001b[38;5;241m*\u001b[39m (\u001b[38;5;241m-\u001b[39m\u001b[38;5;241m1\u001b[39mj)\u001b[38;5;241m*\u001b[39m\u001b[38;5;241m*\u001b[39m\u001b[38;5;28mself\u001b[39m\u001b[38;5;241m.\u001b[39mf \u001b[38;5;241m*\u001b[39m \u001b[43mpstr2mat\u001b[49m\u001b[43m(\u001b[49m\u001b[38;5;28;43mself\u001b[39;49m\u001b[38;5;241;43m.\u001b[39;49m\u001b[43mpstr\u001b[49m\u001b[43m)\u001b[49m\n",
      "Cell \u001b[0;32mIn[11], line 60\u001b[0m, in \u001b[0;36mpstr2mat\u001b[0;34m(pstr)\u001b[0m\n\u001b[1;32m     58\u001b[0m \u001b[38;5;28;01mfor\u001b[39;00m p \u001b[38;5;129;01min\u001b[39;00m pstr:\n\u001b[1;32m     59\u001b[0m     result\u001b[38;5;241m.\u001b[39mappend(PAULI_MATRICES[p])\n\u001b[0;32m---> 60\u001b[0m \u001b[38;5;28;01mreturn\u001b[39;00m \u001b[43mkrons\u001b[49m\u001b[43m(\u001b[49m\u001b[43mresult\u001b[49m\u001b[43m)\u001b[49m\n",
      "Cell \u001b[0;32mIn[11], line 54\u001b[0m, in \u001b[0;36mkrons\u001b[0;34m(*oper_list)\u001b[0m\n\u001b[1;32m     52\u001b[0m \u001b[38;5;28;01mif\u001b[39;00m \u001b[38;5;28mlen\u001b[39m(oper_list) \u001b[38;5;241m==\u001b[39m \u001b[38;5;241m1\u001b[39m:\n\u001b[1;32m     53\u001b[0m     oper_list \u001b[38;5;241m=\u001b[39m oper_list[\u001b[38;5;241m0\u001b[39m]\n\u001b[0;32m---> 54\u001b[0m \u001b[38;5;28;01mreturn\u001b[39;00m \u001b[43mreduce\u001b[49m\u001b[43m(\u001b[49m\u001b[43mnp\u001b[49m\u001b[38;5;241;43m.\u001b[39;49m\u001b[43mkron\u001b[49m\u001b[43m,\u001b[49m\u001b[43m \u001b[49m\u001b[43moper_list\u001b[49m\u001b[43m)\u001b[49m\n",
      "File \u001b[0;32m~/miniconda3/envs/opttrot/lib/python3.12/site-packages/numpy/lib/shape_base.py:1173\u001b[0m, in \u001b[0;36mkron\u001b[0;34m(a, b)\u001b[0m\n\u001b[1;32m   1171\u001b[0m b_arr \u001b[38;5;241m=\u001b[39m expand_dims(b_arr, axis\u001b[38;5;241m=\u001b[39m\u001b[38;5;28mtuple\u001b[39m(\u001b[38;5;28mrange\u001b[39m(\u001b[38;5;241m0\u001b[39m, nd\u001b[38;5;241m*\u001b[39m\u001b[38;5;241m2\u001b[39m, \u001b[38;5;241m2\u001b[39m)))\n\u001b[1;32m   1172\u001b[0m \u001b[38;5;66;03m# In case of `mat`, convert result to `array`\u001b[39;00m\n\u001b[0;32m-> 1173\u001b[0m result \u001b[38;5;241m=\u001b[39m \u001b[43m_nx\u001b[49m\u001b[38;5;241;43m.\u001b[39;49m\u001b[43mmultiply\u001b[49m\u001b[43m(\u001b[49m\u001b[43ma_arr\u001b[49m\u001b[43m,\u001b[49m\u001b[43m \u001b[49m\u001b[43mb_arr\u001b[49m\u001b[43m,\u001b[49m\u001b[43m \u001b[49m\u001b[43msubok\u001b[49m\u001b[38;5;241;43m=\u001b[39;49m\u001b[43m(\u001b[49m\u001b[38;5;129;43;01mnot\u001b[39;49;00m\u001b[43m \u001b[49m\u001b[43mis_any_mat\u001b[49m\u001b[43m)\u001b[49m\u001b[43m)\u001b[49m\n\u001b[1;32m   1175\u001b[0m \u001b[38;5;66;03m# Reshape back\u001b[39;00m\n\u001b[1;32m   1176\u001b[0m result \u001b[38;5;241m=\u001b[39m result\u001b[38;5;241m.\u001b[39mreshape(_nx\u001b[38;5;241m.\u001b[39mmultiply(as_, bs))\n",
      "\u001b[0;31mKeyboardInterrupt\u001b[0m: "
     ]
    }
   ],
   "source": [
    "p00.to_matrix()"
   ]
  },
  {
   "cell_type": "code",
   "execution_count": 19,
   "metadata": {},
   "outputs": [
    {
     "name": "stdout",
     "output_type": "stream",
     "text": [
      "3.35 μs ± 399 ns per loop (mean ± std. dev. of 7 runs, 100,000 loops each)\n"
     ]
    }
   ],
   "source": [
    "%%timeit\n",
    "p02 = p00@p01"
   ]
  },
  {
   "cell_type": "markdown",
   "metadata": {},
   "source": [
    "## Compare with Qiskit"
   ]
  },
  {
   "cell_type": "code",
   "execution_count": 37,
   "metadata": {},
   "outputs": [],
   "source": [
    "n = 1024\n",
    "p00 = _PauliElement(nx=3, nz= 6, n=n, weight=0.124, f=0, set_phase=False)\n",
    "p01 = _PauliElement(nx=5, nz= 5, n=n, weight=0.124, f=0, set_phase=False)\n",
    "w00, q_p00 = p00.to_qiskit()\n",
    "w01, q_p01 = p01.to_qiskit()\n"
   ]
  },
  {
   "cell_type": "code",
   "execution_count": 38,
   "metadata": {},
   "outputs": [
    {
     "data": {
      "text/plain": [
       "Pauli('IIIIIIIIIIIIIIIIIIIIIIIIIIIIIIIIIIIIIIIIIIIIIIIIII...')"
      ]
     },
     "execution_count": 38,
     "metadata": {},
     "output_type": "execute_result"
    }
   ],
   "source": [
    "q_p00.compose(q_p01)"
   ]
  },
  {
   "cell_type": "code",
   "execution_count": 39,
   "metadata": {},
   "outputs": [
    {
     "data": {
      "text/plain": [
       "'IIIIIIIIIIIIIIIIIIIIIIIIIIIIIIIIIIIIIIIIIIIIIIIIIIIIIIIIIIIIIIIIIIIIIIIIIIIIIIIIIIIIIIIIIIIIIIIIIIIIIIIIIIIIIIIIIIIIIIIIIIIIIXYZ'"
      ]
     },
     "execution_count": 39,
     "metadata": {},
     "output_type": "execute_result"
    }
   ],
   "source": [
    "p02= p00@p01\n",
    "p02.pstr"
   ]
  },
  {
   "cell_type": "markdown",
   "metadata": {},
   "source": [
    "## Speed"
   ]
  },
  {
   "cell_type": "markdown",
   "metadata": {},
   "source": [
    "### Qiskit"
   ]
  },
  {
   "cell_type": "code",
   "execution_count": 40,
   "metadata": {},
   "outputs": [
    {
     "name": "stdout",
     "output_type": "stream",
     "text": [
      "6.91 μs ± 176 ns per loop (mean ± std. dev. of 7 runs, 100,000 loops each)\n"
     ]
    }
   ],
   "source": [
    "%%timeit\n",
    "q_p02 = q_p00.compose(q_p01)"
   ]
  },
  {
   "cell_type": "markdown",
   "metadata": {},
   "source": [
    "### OptTrot"
   ]
  },
  {
   "cell_type": "code",
   "execution_count": 41,
   "metadata": {},
   "outputs": [
    {
     "name": "stdout",
     "output_type": "stream",
     "text": [
      "3.61 μs ± 684 ns per loop (mean ± std. dev. of 7 runs, 100,000 loops each)\n"
     ]
    }
   ],
   "source": [
    "%%timeit\n",
    "p02 = p00@p01"
   ]
  },
  {
   "cell_type": "markdown",
   "metadata": {},
   "source": [
    "### Numpy binary"
   ]
  },
  {
   "cell_type": "code",
   "execution_count": 42,
   "metadata": {},
   "outputs": [],
   "source": [
    "import numpy as np\n",
    "\n",
    "nx1= np.random.randint(0, 2, size=n, dtype=bool)\n",
    "nz1= np.random.randint(0, 2, size=n, dtype=bool)\n",
    "nx2= np.random.randint(0, 2, size=n, dtype=bool)\n",
    "nz2= np.random.randint(0, 2, size=n, dtype=bool)\n",
    "f1 = 3\n",
    "f2 = 4\n"
   ]
  },
  {
   "cell_type": "code",
   "execution_count": 43,
   "metadata": {},
   "outputs": [
    {
     "name": "stdout",
     "output_type": "stream",
     "text": [
      "4.63 μs ± 13.3 ns per loop (mean ± std. dev. of 7 runs, 100,000 loops each)\n"
     ]
    }
   ],
   "source": [
    "%%timeit\n",
    "nx3 = np.bitwise_xor(nx1, nx2)\n",
    "nz3 = np.bitwise_xor(nz1, nz2)\n",
    "f3 = f1+f2 + 2*np.bitwise_and(nx1, nz2).astype(int).sum() -  np.bitwise_and(nx3, nz3).astype(int).sum()"
   ]
  },
  {
   "cell_type": "code",
   "execution_count": null,
   "metadata": {},
   "outputs": [],
   "source": []
  }
 ],
 "metadata": {
  "kernelspec": {
   "display_name": "opttrot",
   "language": "python",
   "name": "python3"
  },
  "language_info": {
   "codemirror_mode": {
    "name": "ipython",
    "version": 3
   },
   "file_extension": ".py",
   "mimetype": "text/x-python",
   "name": "python",
   "nbconvert_exporter": "python",
   "pygments_lexer": "ipython3",
   "version": "3.12.4"
  }
 },
 "nbformat": 4,
 "nbformat_minor": 2
}
