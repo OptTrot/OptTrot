{
 "cells": [
  {
   "cell_type": "code",
   "execution_count": 1,
   "metadata": {},
   "outputs": [],
   "source": [
    "import os, sys\n",
    "sys.path.append(\"..\")"
   ]
  },
  {
   "cell_type": "code",
   "execution_count": 2,
   "metadata": {},
   "outputs": [
    {
     "name": "stdout",
     "output_type": "stream",
     "text": [
      "c:\\Users\\cmat411a\\Documents\\GitHub\\Org_OptTrot\\OptTrot\\opttrot\n",
      "running build\n",
      "running build_py\n",
      "running build_ext\n",
      "building 'pauli_c' extension\n",
      "\"C:\\Program Files (x86)\\Microsoft Visual Studio\\2022\\BuildTools\\VC\\Tools\\MSVC\\14.39.33519\\bin\\HostX86\\x64\\cl.exe\" /c /nologo /O2 /W3 /GL /DNDEBUG /MD -DBIG_NUM_BYTES=512 -Ic:\\Users\\cmat411a\\Documents\\GitHub\\Org_OptTrot\\OptTrot\\opttrot -Ic:\\Users\\cmat411a\\Documents\\GitHub\\Org_OptTrot\\OptTrot\\opttrot\\c_src -Ic:\\Users\\cmat411a\\Documents\\GitHub\\Org_OptTrot\\OptTrot\\opttrot\\c_src\\bn -Ic:\\Users\\cmat411a\\anaconda3\\envs\\QC\\include -Ic:\\Users\\cmat411a\\anaconda3\\envs\\QC\\Include \"-IC:\\Program Files (x86)\\Microsoft Visual Studio\\2022\\BuildTools\\VC\\Tools\\MSVC\\14.39.33519\\include\" \"-IC:\\Program Files (x86)\\Microsoft Visual Studio\\2022\\BuildTools\\VC\\Auxiliary\\VS\\include\" \"-IC:\\Program Files (x86)\\Windows Kits\\10\\include\\10.0.22621.0\\ucrt\" \"-IC:\\Program Files (x86)\\Windows Kits\\10\\\\include\\10.0.22621.0\\\\um\" \"-IC:\\Program Files (x86)\\Windows Kits\\10\\\\include\\10.0.22621.0\\\\shared\" \"-IC:\\Program Files (x86)\\Windows Kits\\10\\\\include\\10.0.22621.0\\\\winrt\" \"-IC:\\Program Files (x86)\\Windows Kits\\10\\\\include\\10.0.22621.0\\\\cppwinrt\" /Tcc:\\Users\\cmat411a\\Documents\\GitHub\\Org_OptTrot\\OptTrot\\opttrot\\c_src\\bn\\bn.c /Fobuild\\temp.win-amd64-cpython-311\\Release\\Users\\cmat411a\\Documents\\GitHub\\Org_OptTrot\\OptTrot\\opttrot\\c_src\\bn\\bn.obj\n",
      "bn.c\n",
      "c:\\Users\\cmat411a\\Documents\\GitHub\\Org_OptTrot\\OptTrot\\opttrot\\c_src\\bn\\bn.c(66): warning C4244: '=': 'uint64_t'���� 'uint32_t'(��)�� ��ȯ�ϸ鼭 �����Ͱ� �սǵ� �� �ֽ��ϴ�.\n",
      "c:\\Users\\cmat411a\\Documents\\GitHub\\Org_OptTrot\\OptTrot\\opttrot\\c_src\\bn\\bn.c(69): warning C4244: '=': 'uint64_t'���� 'uint32_t'(��)�� ��ȯ�ϸ鼭 �����Ͱ� �սǵ� �� �ֽ��ϴ�.\n",
      "c:\\Users\\cmat411a\\Documents\\GitHub\\Org_OptTrot\\OptTrot\\opttrot\\c_src\\bn\\bn.c(117): warning C4996: 'sscanf': This function or variable may be unsafe. Consider using sscanf_s instead. To disable deprecation, use _CRT_SECURE_NO_WARNINGS. See online help for details.\n",
      "c:\\Users\\cmat411a\\Documents\\GitHub\\Org_OptTrot\\OptTrot\\opttrot\\c_src\\bn\\bn.c(138): warning C4996: 'sprintf': This function or variable may be unsafe. Consider using sprintf_s instead. To disable deprecation, use _CRT_SECURE_NO_WARNINGS. See online help for details.\n",
      "c:\\Users\\cmat411a\\Documents\\GitHub\\Org_OptTrot\\OptTrot\\opttrot\\c_src\\bn\\bn.c(203): warning C4244: '=': 'uint64_t'���� 'uint32_t'(��)�� ��ȯ�ϸ鼭 �����Ͱ� �սǵ� �� �ֽ��ϴ�.\n",
      "\"C:\\Program Files (x86)\\Microsoft Visual Studio\\2022\\BuildTools\\VC\\Tools\\MSVC\\14.39.33519\\bin\\HostX86\\x64\\cl.exe\" /c /nologo /O2 /W3 /GL /DNDEBUG /MD -DBIG_NUM_BYTES=512 -Ic:\\Users\\cmat411a\\Documents\\GitHub\\Org_OptTrot\\OptTrot\\opttrot -Ic:\\Users\\cmat411a\\Documents\\GitHub\\Org_OptTrot\\OptTrot\\opttrot\\c_src -Ic:\\Users\\cmat411a\\Documents\\GitHub\\Org_OptTrot\\OptTrot\\opttrot\\c_src\\bn -Ic:\\Users\\cmat411a\\anaconda3\\envs\\QC\\include -Ic:\\Users\\cmat411a\\anaconda3\\envs\\QC\\Include \"-IC:\\Program Files (x86)\\Microsoft Visual Studio\\2022\\BuildTools\\VC\\Tools\\MSVC\\14.39.33519\\include\" \"-IC:\\Program Files (x86)\\Microsoft Visual Studio\\2022\\BuildTools\\VC\\Auxiliary\\VS\\include\" \"-IC:\\Program Files (x86)\\Windows Kits\\10\\include\\10.0.22621.0\\ucrt\" \"-IC:\\Program Files (x86)\\Windows Kits\\10\\\\include\\10.0.22621.0\\\\um\" \"-IC:\\Program Files (x86)\\Windows Kits\\10\\\\include\\10.0.22621.0\\\\shared\" \"-IC:\\Program Files (x86)\\Windows Kits\\10\\\\include\\10.0.22621.0\\\\winrt\" \"-IC:\\Program Files (x86)\\Windows Kits\\10\\\\include\\10.0.22621.0\\\\cppwinrt\" /Tcc:\\Users\\cmat411a\\Documents\\GitHub\\Org_OptTrot\\OptTrot\\opttrot\\c_src\\bn\\bn_ext.c /Fobuild\\temp.win-amd64-cpython-311\\Release\\Users\\cmat411a\\Documents\\GitHub\\Org_OptTrot\\OptTrot\\opttrot\\c_src\\bn\\bn_ext.obj\n",
      "bn_ext.c\n",
      "c:\\Users\\cmat411a\\Documents\\GitHub\\Org_OptTrot\\OptTrot\\opttrot\\c_src\\bn\\bn_ext.c(118): warning C4996: 'strncpy': This function or variable may be unsafe. Consider using strncpy_s instead. To disable deprecation, use _CRT_SECURE_NO_WARNINGS. See online help for details.\n",
      "\"C:\\Program Files (x86)\\Microsoft Visual Studio\\2022\\BuildTools\\VC\\Tools\\MSVC\\14.39.33519\\bin\\HostX86\\x64\\cl.exe\" /c /nologo /O2 /W3 /GL /DNDEBUG /MD -DBIG_NUM_BYTES=512 -Ic:\\Users\\cmat411a\\Documents\\GitHub\\Org_OptTrot\\OptTrot\\opttrot -Ic:\\Users\\cmat411a\\Documents\\GitHub\\Org_OptTrot\\OptTrot\\opttrot\\c_src -Ic:\\Users\\cmat411a\\Documents\\GitHub\\Org_OptTrot\\OptTrot\\opttrot\\c_src\\bn -Ic:\\Users\\cmat411a\\anaconda3\\envs\\QC\\include -Ic:\\Users\\cmat411a\\anaconda3\\envs\\QC\\Include \"-IC:\\Program Files (x86)\\Microsoft Visual Studio\\2022\\BuildTools\\VC\\Tools\\MSVC\\14.39.33519\\include\" \"-IC:\\Program Files (x86)\\Microsoft Visual Studio\\2022\\BuildTools\\VC\\Auxiliary\\VS\\include\" \"-IC:\\Program Files (x86)\\Windows Kits\\10\\include\\10.0.22621.0\\ucrt\" \"-IC:\\Program Files (x86)\\Windows Kits\\10\\\\include\\10.0.22621.0\\\\um\" \"-IC:\\Program Files (x86)\\Windows Kits\\10\\\\include\\10.0.22621.0\\\\shared\" \"-IC:\\Program Files (x86)\\Windows Kits\\10\\\\include\\10.0.22621.0\\\\winrt\" \"-IC:\\Program Files (x86)\\Windows Kits\\10\\\\include\\10.0.22621.0\\\\cppwinrt\" /Tcc:\\Users\\cmat411a\\Documents\\GitHub\\Org_OptTrot\\OptTrot\\opttrot\\c_src\\bn\\bn_python.c /Fobuild\\temp.win-amd64-cpython-311\\Release\\Users\\cmat411a\\Documents\\GitHub\\Org_OptTrot\\OptTrot\\opttrot\\c_src\\bn\\bn_python.obj\n",
      "bn_python.c\n",
      "c:\\Users\\cmat411a\\Documents\\GitHub\\Org_OptTrot\\OptTrot\\opttrot\\c_src\\bn\\bn_python.c(36): warning C4267: '=': 'size_t'���� 'int'(��)�� ��ȯ�ϸ鼭 �����Ͱ� �սǵ� �� �ֽ��ϴ�.\n",
      "c:\\Users\\cmat411a\\Documents\\GitHub\\Org_OptTrot\\OptTrot\\opttrot\\c_src\\bn\\bn_python.c(33): warning C4267: '�ʱ�ȭ ��': 'size_t'���� 'int'(��)�� ��ȯ�ϸ鼭 �����Ͱ� �սǵ� �� �ֽ��ϴ�.\n",
      "c:\\Users\\cmat411a\\Documents\\GitHub\\Org_OptTrot\\OptTrot\\opttrot\\c_src\\bn\\bn_python.c(33): warning C4267: '�ʱ�ȭ ��': 'size_t'���� 'int'(��)�� ��ȯ�ϸ鼭 �����Ͱ� �սǵ� �� �ֽ��ϴ�.\n",
      "c:\\Users\\cmat411a\\Documents\\GitHub\\Org_OptTrot\\OptTrot\\opttrot\\c_src\\bn\\bn_python.c(39): warning C4996: 'sprintf': This function or variable may be unsafe. Consider using sprintf_s instead. To disable deprecation, use _CRT_SECURE_NO_WARNINGS. See online help for details.\n",
      "\"C:\\Program Files (x86)\\Microsoft Visual Studio\\2022\\BuildTools\\VC\\Tools\\MSVC\\14.39.33519\\bin\\HostX86\\x64\\cl.exe\" /c /nologo /O2 /W3 /GL /DNDEBUG /MD -DBIG_NUM_BYTES=512 -Ic:\\Users\\cmat411a\\Documents\\GitHub\\Org_OptTrot\\OptTrot\\opttrot -Ic:\\Users\\cmat411a\\Documents\\GitHub\\Org_OptTrot\\OptTrot\\opttrot\\c_src -Ic:\\Users\\cmat411a\\Documents\\GitHub\\Org_OptTrot\\OptTrot\\opttrot\\c_src\\bn -Ic:\\Users\\cmat411a\\anaconda3\\envs\\QC\\include -Ic:\\Users\\cmat411a\\anaconda3\\envs\\QC\\Include \"-IC:\\Program Files (x86)\\Microsoft Visual Studio\\2022\\BuildTools\\VC\\Tools\\MSVC\\14.39.33519\\include\" \"-IC:\\Program Files (x86)\\Microsoft Visual Studio\\2022\\BuildTools\\VC\\Auxiliary\\VS\\include\" \"-IC:\\Program Files (x86)\\Windows Kits\\10\\include\\10.0.22621.0\\ucrt\" \"-IC:\\Program Files (x86)\\Windows Kits\\10\\\\include\\10.0.22621.0\\\\um\" \"-IC:\\Program Files (x86)\\Windows Kits\\10\\\\include\\10.0.22621.0\\\\shared\" \"-IC:\\Program Files (x86)\\Windows Kits\\10\\\\include\\10.0.22621.0\\\\winrt\" \"-IC:\\Program Files (x86)\\Windows Kits\\10\\\\include\\10.0.22621.0\\\\cppwinrt\" /Tcc:\\Users\\cmat411a\\Documents\\GitHub\\Org_OptTrot\\OptTrot\\opttrot\\c_src\\pauli_bn.c /Fobuild\\temp.win-amd64-cpython-311\\Release\\Users\\cmat411a\\Documents\\GitHub\\Org_OptTrot\\OptTrot\\opttrot\\c_src\\pauli_bn.obj\n",
      "pauli_bn.c\n",
      "c:\\Users\\cmat411a\\Documents\\GitHub\\Org_OptTrot\\OptTrot\\opttrot\\c_src\\pauli_bn.h(129): warning C4267: '�ʱ�ȭ ��': 'size_t'���� 'int'(��)�� ��ȯ�ϸ鼭 �����Ͱ� �սǵ� �� �ֽ��ϴ�.\n",
      "\"C:\\Program Files (x86)\\Microsoft Visual Studio\\2022\\BuildTools\\VC\\Tools\\MSVC\\14.39.33519\\bin\\HostX86\\x64\\link.exe\" /nologo /INCREMENTAL:NO /LTCG /DLL /MANIFEST:EMBED,ID=2 /MANIFESTUAC:NO /LIBPATH:c:\\Users\\cmat411a\\anaconda3\\envs\\QC\\libs /LIBPATH:c:\\Users\\cmat411a\\anaconda3\\envs\\QC /LIBPATH:c:\\Users\\cmat411a\\anaconda3\\envs\\QC\\PCbuild\\amd64 \"/LIBPATH:C:\\Program Files (x86)\\Microsoft Visual Studio\\2022\\BuildTools\\VC\\Tools\\MSVC\\14.39.33519\\lib\\x64\" \"/LIBPATH:C:\\Program Files (x86)\\Windows Kits\\10\\lib\\10.0.22621.0\\ucrt\\x64\" \"/LIBPATH:C:\\Program Files (x86)\\Windows Kits\\10\\\\lib\\10.0.22621.0\\\\um\\x64\" /EXPORT:PyInit_pauli_c build\\temp.win-amd64-cpython-311\\Release\\Users\\cmat411a\\Documents\\GitHub\\Org_OptTrot\\OptTrot\\opttrot\\c_src\\bn\\bn.obj build\\temp.win-amd64-cpython-311\\Release\\Users\\cmat411a\\Documents\\GitHub\\Org_OptTrot\\OptTrot\\opttrot\\c_src\\bn\\bn_ext.obj build\\temp.win-amd64-cpython-311\\Release\\Users\\cmat411a\\Documents\\GitHub\\Org_OptTrot\\OptTrot\\opttrot\\c_src\\bn\\bn_python.obj build\\temp.win-amd64-cpython-311\\Release\\Users\\cmat411a\\Documents\\GitHub\\Org_OptTrot\\OptTrot\\opttrot\\c_src\\pauli_bn.obj /OUT:build\\lib.win-amd64-cpython-311\\pauli_c.cp311-win_amd64.pyd /IMPLIB:build\\temp.win-amd64-cpython-311\\Release\\Users\\cmat411a\\Documents\\GitHub\\Org_OptTrot\\OptTrot\\opttrot\\c_src\\bn\\pauli_c.cp311-win_amd64.lib\n",
      "   build\\temp.win-amd64-cpython-311\\Release\\Users\\cmat411a\\Documents\\GitHub\\Org_OptTrot\\OptTrot\\opttrot\\c_src\\bn\\pauli_c.cp311-win_amd64.lib ���̺귯�� �� build\\temp.win-amd64-cpython-311\\Release\\Users\\cmat411a\\Documents\\GitHub\\Org_OptTrot\\OptTrot\\opttrot\\c_src\\bn\\pauli_c.cp311-win_amd64.exp ��ü�� �����ϰ� �ֽ��ϴ�.\n",
      "�ڵ带 �����ϰ� �ֽ��ϴ�.\n",
      "�ڵ带 �����߽��ϴ�.\n"
     ]
    },
    {
     "name": "stderr",
     "output_type": "stream",
     "text": [
      "file c:\\Users\\cmat411a\\Documents\\GitHub\\Org_OptTrot\\OptTrot\\opttrot\\opttrot.py (for module opttrot) not found\n",
      "file c:\\Users\\cmat411a\\Documents\\GitHub\\Org_OptTrot\\OptTrot\\opttrot\\opttrot.py (for module opttrot) not found\n"
     ]
    },
    {
     "name": "stdout",
     "output_type": "stream",
     "text": [
      "c:\\Users\\cmat411a\\Documents\\GitHub\\Org_OptTrot\\OptTrot\\opttrot\n",
      "running build_ext\n",
      "copying build\\lib.win-amd64-cpython-311\\pauli_c.cp311-win_amd64.pyd -> c:\\Users\\cmat411a\\Documents\\GitHub\\Org_OptTrot\\OptTrot\\opttrot\n"
     ]
    }
   ],
   "source": [
    "!python ../setup.py build \n",
    "!python ../setup.py build_ext --inplace"
   ]
  },
  {
   "cell_type": "markdown",
   "metadata": {},
   "source": [
    "## PauliElement "
   ]
  },
  {
   "cell_type": "code",
   "execution_count": 3,
   "metadata": {},
   "outputs": [],
   "source": [
    "#import os, sys\n",
    "#sys.path.append(\"..\")"
   ]
  },
  {
   "cell_type": "code",
   "execution_count": 3,
   "metadata": {},
   "outputs": [],
   "source": [
    "from opttrot.pauli import PauliElement"
   ]
  },
  {
   "cell_type": "code",
   "execution_count": 34,
   "metadata": {},
   "outputs": [],
   "source": [
    "n = 3500\n",
    "p00 = PauliElement(nx=3, nz= 6, n=n, weight=0.124, f=0, set_phase=False)\n",
    "p01 = PauliElement(nx=5, nz= 5, n=n, weight=0.124, f=0, set_phase=False)\n"
   ]
  },
  {
   "cell_type": "code",
   "execution_count": 35,
   "metadata": {},
   "outputs": [
    {
     "data": {
      "text/plain": [
       "PauliElement(n=3500, weight=0.124000, IIIIIIIIIIIIIIIIIIIIIIIIIIIIIIIIIIIIIIIIIIIIIIIIIIIIIIIIIIIIIIIIIIIIIIIIIIIIIIIIIIIIIIIIIIIIIIIIIIIIIIIIIIIIIIIIIIIIIIIIIIIIIIIIIIIIIIIIIIIIIIIIIIIIIIIIIIIIIIIIIIIIIIIIIIIIIIIIIIIIIIIIIIIIIIIIIIIIIIIIIIIIIIIIIIIIIIIIIIIIIIIIIIIIIIIIIIIIIIIIIIIIIIIIIIIIIIIIIIIIIIIIIIIIIIIIIIIIIIIIIIIIIIIIIIIIIIIIIIIIIIIIIIIIIIIIIIIIIIIIIIIIIIIIIIIIIIIIIIIIIIIIIIIIIIIIIIIIIIIIIIIIIIIIIIIIIIIIIIIIIIIIIIIIIIIIIIIIIIIIIIIIIIIIIIIIIIIIIIIIIIIIIIIIIIIIIIIIIIIIIIIIIZYX)"
      ]
     },
     "execution_count": 35,
     "metadata": {},
     "output_type": "execute_result"
    }
   ],
   "source": [
    "p00"
   ]
  },
  {
   "cell_type": "code",
   "execution_count": 36,
   "metadata": {},
   "outputs": [
    {
     "name": "stdout",
     "output_type": "stream",
     "text": [
      "IIIIIIIIIIIIIIIIIIIIIIIIIIIIIIIIIIIIIIIIIIIIIIIIIIIIIIIIIIIIIIIIIIIIIIIIIIIIIIIIIIIIIIIIIIIIIIIIIIIIIIIIIIIIIIIIIIIIIIIIIIIIIIIIIIIIIIIIIIIIIIIIIIIIIIIIIIIIIIIIIIIIIIIIIIIIIIIIIIIIIIIIIIIIIIIIIIIIIIIIIIIIIIIIIIIIIIIIIIIIIIIIIIIIIIIIIIIIIIIIIIIIIIIIIIIIIIIIIIIIIIIIIIIIIIIIIIIIIIIIIIIIIIIIIIIIIIIIIIIIIIIIIIIIIIIIIIIIIIIIIIIIIIIIIIIIIIIIIIIIIIIIIIIIIIIIIIIIIIIIIIIIIIIIIIIIIIIIIIIIIIIIIIIIIIIIIIIIIIIIIIIIIIIIIIIIIIIIIIIIIIIIIIIIIIIIIIIIIIIIIIIIIZYX\n"
     ]
    }
   ],
   "source": [
    "print(p00)"
   ]
  },
  {
   "cell_type": "markdown",
   "metadata": {},
   "source": [
    "## Speed comparsion"
   ]
  },
  {
   "cell_type": "code",
   "execution_count": 37,
   "metadata": {},
   "outputs": [],
   "source": [
    "from numbers import Number\n",
    "from functools import reduce\n",
    "import numpy as np"
   ]
  },
  {
   "cell_type": "markdown",
   "metadata": {},
   "source": [
    "## Compare with Qiskit"
   ]
  },
  {
   "cell_type": "code",
   "execution_count": 38,
   "metadata": {},
   "outputs": [],
   "source": [
    "def to_qiskit(self):\n",
    "    from qiskit.quantum_info import Pauli as qiskit_Pauli\n",
    "    x_array = np.flip(np.array([int(b) for b in format(self.nx, f\"0{self.n}b\")], dtype=np.uint))\n",
    "    z_array = np.flip(np.array([int(b) for b in format(self.nz, f\"0{self.n}b\")], dtype=np.uint))\n",
    "    return self.weight, qiskit_Pauli((z_array, x_array))"
   ]
  },
  {
   "cell_type": "code",
   "execution_count": 39,
   "metadata": {},
   "outputs": [],
   "source": [
    "p00 = PauliElement(nx=3, nz= 6, n=n, weight=0.124, f=0, set_phase=False)\n",
    "p01 = PauliElement(nx=5, nz= 5, n=n, weight=0.124, f=0, set_phase=False)\n",
    "w00, q_p00 = to_qiskit(p00)\n",
    "w01, q_p01 = to_qiskit(p01)\n"
   ]
  },
  {
   "cell_type": "code",
   "execution_count": 40,
   "metadata": {},
   "outputs": [
    {
     "data": {
      "text/plain": [
       "Pauli('IIIIIIIIIIIIIIIIIIIIIIIIIIIIIIIIIIIIIIIIIIIIIIIIII...')"
      ]
     },
     "execution_count": 40,
     "metadata": {},
     "output_type": "execute_result"
    }
   ],
   "source": [
    "q_p00.compose(q_p01)"
   ]
  },
  {
   "cell_type": "code",
   "execution_count": 41,
   "metadata": {},
   "outputs": [
    {
     "data": {
      "text/plain": [
       "'IIIIIIIIIIIIIIIIIIIIIIIIIIIIIIIIIIIIIIIIIIIIIIIIIIIIIIIIIIIIIIIIIIIIIIIIIIIIIIIIIIIIIIIIIIIIIIIIIIIIIIIIIIIIIIIIIIIIIIIIIIIIIIIIIIIIIIIIIIIIIIIIIIIIIIIIIIIIIIIIIIIIIIIIIIIIIIIIIIIIIIIIIIIIIIIIIIIIIIIIIIIIIIIIIIIIIIIIIIIIIIIIIIIIIIIIIIIIIIIIIIIIIIIIIIIIIIIIIIIIIIIIIIIIIIIIIIIIIIIIIIIIIIIIIIIIIIIIIIIIIIIIIIIIIIIIIIIIIIIIIIIIIIIIIIIIIIIIIIIIIIIIIIIIIIIIIIIIIIIIIIIIIIIIIIIIIIIIIIIIIIIIIIIIIIIIIIIIIIIIIIIIIIIIIIIIIIIIIIIIIIIIIIIIIIIIIIIIIIIIIIIIIXYZ'"
      ]
     },
     "execution_count": 41,
     "metadata": {},
     "output_type": "execute_result"
    }
   ],
   "source": [
    "p02= p00@p01\n",
    "p02.pstr"
   ]
  },
  {
   "cell_type": "markdown",
   "metadata": {},
   "source": [
    "## Speed"
   ]
  },
  {
   "cell_type": "markdown",
   "metadata": {},
   "source": [
    "### Qiskit"
   ]
  },
  {
   "cell_type": "code",
   "execution_count": 42,
   "metadata": {},
   "outputs": [
    {
     "name": "stdout",
     "output_type": "stream",
     "text": [
      "32.8 µs ± 337 ns per loop (mean ± std. dev. of 7 runs, 10,000 loops each)\n"
     ]
    }
   ],
   "source": [
    "%%timeit\n",
    "q_p00.compose(q_p01)"
   ]
  },
  {
   "cell_type": "markdown",
   "metadata": {},
   "source": [
    "### OptTrot"
   ]
  },
  {
   "cell_type": "code",
   "execution_count": 43,
   "metadata": {},
   "outputs": [
    {
     "name": "stdout",
     "output_type": "stream",
     "text": [
      "1.35 µs ± 8.79 ns per loop (mean ± std. dev. of 7 runs, 1,000,000 loops each)\n"
     ]
    }
   ],
   "source": [
    "%%timeit\n",
    "p00@p01"
   ]
  },
  {
   "cell_type": "markdown",
   "metadata": {},
   "source": [
    "### Numpy binary"
   ]
  },
  {
   "cell_type": "code",
   "execution_count": 15,
   "metadata": {},
   "outputs": [],
   "source": [
    "import numpy as np\n",
    "\n",
    "nx1= np.random.randint(0, 2, size=n, dtype=bool)\n",
    "nz1= np.random.randint(0, 2, size=n, dtype=bool)\n",
    "nx2= np.random.randint(0, 2, size=n, dtype=bool)\n",
    "nz2= np.random.randint(0, 2, size=n, dtype=bool)\n",
    "f1 = 3\n",
    "f2 = 4\n"
   ]
  },
  {
   "cell_type": "code",
   "execution_count": 16,
   "metadata": {},
   "outputs": [
    {
     "name": "stdout",
     "output_type": "stream",
     "text": [
      "11.5 µs ± 36.2 ns per loop (mean ± std. dev. of 7 runs, 100,000 loops each)\n"
     ]
    }
   ],
   "source": [
    "%%timeit\n",
    "nx3 = np.bitwise_xor(nx1, nx2)\n",
    "nz3 = np.bitwise_xor(nz1, nz2)\n",
    "f3 = f1+f2 + 2*np.bitwise_and(nx1, nz2).astype(int).sum() -  np.bitwise_and(nx3, nz3).astype(int).sum()"
   ]
  },
  {
   "cell_type": "markdown",
   "metadata": {},
   "source": [
    "### Result\n",
    "\n",
    "- OS: Windows\n",
    "- CPU: Ryzen 5 \n",
    "- Python: 3.11.8\n",
    "\n",
    "\n",
    "|Qiskit| OptTrot| Nb|\n",
    "|:--:|:--:|:--:|\n",
    "|27.9 µs ± 1.38 µs|1.35 µs ± 25.2 ns|11.4 µs ± 102 ns|"
   ]
  },
  {
   "cell_type": "markdown",
   "metadata": {},
   "source": [
    "## PauliPoly"
   ]
  },
  {
   "cell_type": "code",
   "execution_count": 8,
   "metadata": {},
   "outputs": [],
   "source": [
    "from opttrot.pauli import PauliElement, PauliPoly"
   ]
  },
  {
   "cell_type": "code",
   "execution_count": 9,
   "metadata": {},
   "outputs": [
    {
     "data": {
      "text/plain": [
       "PauliPoly(terms:3)[\n",
       "PauliElement(n=10, weight=0.124000, IIIIIIIZYX),\n",
       "PauliElement(n=10, weight=0.124000, IIIIIIIYIY),\n",
       "PauliElement(n=10, weight=0.015376, IIIIIIIXYZ)\n",
       "]"
      ]
     },
     "execution_count": 9,
     "metadata": {},
     "output_type": "execute_result"
    }
   ],
   "source": [
    "p02 =p00@p01\n",
    "PauliPoly([p00, p01, p02])"
   ]
  },
  {
   "cell_type": "code",
   "execution_count": 10,
   "metadata": {},
   "outputs": [
    {
     "data": {
      "text/plain": [
       "1528977390404266531"
      ]
     },
     "execution_count": 10,
     "metadata": {},
     "output_type": "execute_result"
    }
   ],
   "source": [
    "hash(0.000000000000000000000001)"
   ]
  },
  {
   "cell_type": "code",
   "execution_count": 11,
   "metadata": {},
   "outputs": [
    {
     "data": {
      "text/plain": [
       "-4352217537622120393"
      ]
     },
     "execution_count": 11,
     "metadata": {},
     "output_type": "execute_result"
    }
   ],
   "source": [
    "hash(p00)"
   ]
  },
  {
   "cell_type": "code",
   "execution_count": 14,
   "metadata": {},
   "outputs": [],
   "source": [
    "p_set = set([p00, p01, p02])"
   ]
  },
  {
   "cell_type": "code",
   "execution_count": 17,
   "metadata": {},
   "outputs": [],
   "source": [
    "p03 = PauliElement(nx=1, nz= 1, n=n, weight=0.124, f=0, set_phase=False)\n",
    "p04 = PauliElement(nx=10, nz= 1, n=n, weight=0.124, f=0, set_phase=False)\n",
    "p_set2 = set([p00, p03, p04])"
   ]
  },
  {
   "cell_type": "code",
   "execution_count": 18,
   "metadata": {},
   "outputs": [
    {
     "data": {
      "text/plain": [
       "{PauliElement(n=10, weight=0.124000, IIIIIIIZYX)}"
      ]
     },
     "execution_count": 18,
     "metadata": {},
     "output_type": "execute_result"
    }
   ],
   "source": [
    "p_set & p_set2"
   ]
  },
  {
   "cell_type": "code",
   "execution_count": 20,
   "metadata": {},
   "outputs": [
    {
     "data": {
      "text/plain": [
       "{PauliElement(n=10, weight=0.124000, IIIIIIIYIY),\n",
       " PauliElement(n=10, weight=0.015376, IIIIIIIXYZ)}"
      ]
     },
     "execution_count": 20,
     "metadata": {},
     "output_type": "execute_result"
    }
   ],
   "source": [
    "p_set - p_set2"
   ]
  },
  {
   "cell_type": "code",
   "execution_count": 21,
   "metadata": {},
   "outputs": [],
   "source": [
    "p_set.add(p00)"
   ]
  },
  {
   "cell_type": "code",
   "execution_count": 22,
   "metadata": {},
   "outputs": [
    {
     "data": {
      "text/plain": [
       "True"
      ]
     },
     "execution_count": 22,
     "metadata": {},
     "output_type": "execute_result"
    }
   ],
   "source": [
    "p00 in p_set"
   ]
  },
  {
   "cell_type": "markdown",
   "metadata": {},
   "source": [
    "## Dict type Pauli Poly"
   ]
  },
  {
   "cell_type": "code",
   "execution_count": null,
   "metadata": {},
   "outputs": [],
   "source": [
    "@classmethod\n",
    "def from_pauli_list(cls, pauli_list:Iterable[PauliElement], coefs=None):\n",
    "        if isinstance(coefs, Iterable) and not isinstance(coefs, str):\n",
    "            for (p, coef) in zip(pauli_list, coefs):\n",
    "                p.coef = coef\n",
    "        p_dict = {}\n",
    "        for p in pauli_list:\n",
    "            p_dict[p.sym_code] = p\n",
    "        return cls(p_dict, coefs)\n",
    "@classmethod\n",
    "def from_pauli_str_list(cls, pauli_str_list:Iterable[str], coefs=None):\n",
    "        #if isinstance(coefs, Iterable) and not isinstance(coefs, str):\n",
    "        #    for (p, coef) in zip(pauli_list, coefs):\n",
    "        #        p.coef = coef\n",
    "        p_dict = {}\n",
    "        n = len(pauli_str_list[0])\n",
    "        for pstr in pauli_str_list:\n",
    "            nx, nz = pstr2sym_code(pstr)\n",
    "            p_dict[(nx, nz)] = PauliElement(nx, nz, n, weight = 1)\n",
    "        \n",
    "        return cls(p_dict)"
   ]
  },
  {
   "cell_type": "code",
   "execution_count": null,
   "metadata": {},
   "outputs": [],
   "source": []
  },
  {
   "cell_type": "markdown",
   "metadata": {},
   "source": []
  }
 ],
 "metadata": {
  "kernelspec": {
   "display_name": "opttrot",
   "language": "python",
   "name": "python3"
  },
  "language_info": {
   "codemirror_mode": {
    "name": "ipython",
    "version": 3
   },
   "file_extension": ".py",
   "mimetype": "text/x-python",
   "name": "python",
   "nbconvert_exporter": "python",
   "pygments_lexer": "ipython3",
   "version": "3.11.8"
  }
 },
 "nbformat": 4,
 "nbformat_minor": 2
}
