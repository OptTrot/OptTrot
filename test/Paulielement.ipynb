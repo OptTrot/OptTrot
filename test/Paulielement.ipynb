{
 "cells": [
  {
   "cell_type": "code",
   "execution_count": 1,
   "metadata": {},
   "outputs": [],
   "source": [
    "import os, sys\n",
    "sys.path.append(\"..\")"
   ]
  },
  {
   "cell_type": "code",
   "execution_count": 4,
   "metadata": {},
   "outputs": [
    {
     "name": "stdout",
     "output_type": "stream",
     "text": [
      "running build\n",
      "running build_py\n"
     ]
    },
    {
     "name": "stderr",
     "output_type": "stream",
     "text": [
      "error: package directory 'opttrot' does not exist\n"
     ]
    },
    {
     "name": "stdout",
     "output_type": "stream",
     "text": [
      "running build_ext\n",
      "copying build\\lib.win-amd64-cpython-311\\pauli_c.cp311-win_amd64.pyd -> opttrot\n"
     ]
    },
    {
     "name": "stderr",
     "output_type": "stream",
     "text": [
      "error: could not create 'opttrot\\pauli_c.cp311-win_amd64.pyd': No such file or directory\n"
     ]
    }
   ],
   "source": [
    "!python ../setup.py build \n",
    "!python ../setup.py build_ext --inplace"
   ]
  },
  {
   "cell_type": "markdown",
   "metadata": {},
   "source": [
    "## PauliElement "
   ]
  },
  {
   "cell_type": "code",
   "execution_count": 1,
   "metadata": {},
   "outputs": [],
   "source": [
    "#import os, sys\n",
    "#sys.path.append(\"..\")"
   ]
  },
  {
   "cell_type": "code",
   "execution_count": 1,
   "metadata": {},
   "outputs": [
    {
     "name": "stdout",
     "output_type": "stream",
     "text": [
      "Obtaining file:///C:/Users/cmat411a/Documents/GitHub/Org_OptTrot/OptTrot\n",
      "  Preparing metadata (setup.py): started\n",
      "  Preparing metadata (setup.py): finished with status 'done'\n",
      "Installing collected packages: opttrot\n",
      "  Attempting uninstall: opttrot\n",
      "    Found existing installation: opttrot 0.1\n",
      "    Uninstalling opttrot-0.1:\n",
      "      Successfully uninstalled opttrot-0.1\n",
      "  Running setup.py develop for opttrot\n",
      "Successfully installed opttrot-0.1\n"
     ]
    }
   ],
   "source": [
    "!pip install -e .."
   ]
  },
  {
   "cell_type": "code",
   "execution_count": 1,
   "metadata": {},
   "outputs": [
    {
     "name": "stdout",
     "output_type": "stream",
     "text": [
      "Package             Version  Editable project location\n",
      "------------------- -------- --------------------------------------------------------------\n",
      "appdirs             1.4.4\n",
      "asttokens           2.4.1\n",
      "autograd            1.6.2\n",
      "autoray             0.6.9\n",
      "cachetools          5.3.3\n",
      "certifi             2024.2.2\n",
      "charset-normalizer  3.3.2\n",
      "colorama            0.4.6\n",
      "comm                0.2.2\n",
      "contourpy           1.2.1\n",
      "cycler              0.12.1\n",
      "debugpy             1.6.7\n",
      "decorator           5.1.1\n",
      "dill                0.3.8\n",
      "exceptiongroup      1.2.0\n",
      "executing           2.0.1\n",
      "fonttools           4.51.0\n",
      "future              1.0.0\n",
      "idna                3.6\n",
      "importlib_metadata  7.1.0\n",
      "ipykernel           6.29.3\n",
      "ipython             8.22.2\n",
      "ipywidgets          8.1.2\n",
      "jedi                0.19.1\n",
      "jupyter_client      8.6.1\n",
      "jupyter_core        5.7.2\n",
      "jupyterlab_widgets  3.0.10\n",
      "kiwisolver          1.4.5\n",
      "llvmlite            0.42.0\n",
      "matplotlib          3.8.4\n",
      "matplotlib-inline   0.1.6\n",
      "mpmath              1.3.0\n",
      "nest_asyncio        1.6.0\n",
      "networkx            3.3\n",
      "numba               0.59.1\n",
      "numpy               1.26.4\n",
      "opttrot             0.1      C:\\Users\\cmat411a\\Documents\\GitHub\\Org_OptTrot\\OptTrot\\opttrot\n",
      "packaging           24.0\n",
      "pandas              2.2.1\n",
      "parso               0.8.4\n",
      "pauliarray          0.0.1\n",
      "pbr                 6.0.0\n",
      "PennyLane           0.35.1\n",
      "PennyLane_Lightning 0.35.1\n",
      "pickleshare         0.7.5\n",
      "pillow              10.3.0\n",
      "pip                 23.3.1\n",
      "platformdirs        4.2.0\n",
      "prompt-toolkit      3.0.42\n",
      "psutil              5.9.0\n",
      "pure-eval           0.2.2\n",
      "Pygments            2.17.2\n",
      "pylatexenc          2.10\n",
      "pyparsing           3.1.2\n",
      "python-dateutil     2.9.0\n",
      "pytz                2024.1\n",
      "pywin32             305.1\n",
      "pyzmq               25.1.2\n",
      "qiskit              1.0.2\n",
      "qiskit-aer          0.14.2\n",
      "qiskit-algorithms   0.3.0\n",
      "qiskit-symb         0.2.0\n",
      "requests            2.31.0\n",
      "rustworkx           0.14.2\n",
      "scipy               1.13.0\n",
      "semantic-version    2.10.0\n",
      "setuptools          68.2.2\n",
      "six                 1.16.0\n",
      "stack-data          0.6.2\n",
      "stevedore           5.2.0\n",
      "symengine           0.11.0\n",
      "sympy               1.12\n",
      "toml                0.10.2\n",
      "tornado             6.3.3\n",
      "tqdm                4.66.2\n",
      "traitlets           5.14.2\n",
      "typing_extensions   4.11.0\n",
      "tzdata              2024.1\n",
      "urllib3             2.2.1\n",
      "wcwidth             0.2.13\n",
      "wheel               0.41.2\n",
      "widgetsnbextension  4.0.10\n",
      "zipp                3.17.0\n"
     ]
    }
   ],
   "source": [
    "!pip list"
   ]
  },
  {
   "cell_type": "code",
   "execution_count": 2,
   "metadata": {},
   "outputs": [
    {
     "ename": "ModuleNotFoundError",
     "evalue": "No module named 'opttrot'",
     "output_type": "error",
     "traceback": [
      "\u001b[1;31m---------------------------------------------------------------------------\u001b[0m",
      "\u001b[1;31mModuleNotFoundError\u001b[0m                       Traceback (most recent call last)",
      "Cell \u001b[1;32mIn[2], line 1\u001b[0m\n\u001b[1;32m----> 1\u001b[0m \u001b[38;5;28;01mfrom\u001b[39;00m \u001b[38;5;21;01mopttrot\u001b[39;00m\u001b[38;5;21;01m.\u001b[39;00m\u001b[38;5;21;01mpauli\u001b[39;00m \u001b[38;5;28;01mimport\u001b[39;00m PauliElement\n",
      "\u001b[1;31mModuleNotFoundError\u001b[0m: No module named 'opttrot'"
     ]
    }
   ],
   "source": [
    "from opttrot.pauli import PauliElement"
   ]
  },
  {
   "cell_type": "code",
   "execution_count": 6,
   "metadata": {},
   "outputs": [],
   "source": [
    "n = 10\n",
    "p00 = PauliElement(nx=3, nz= 6, n=n, weight=0.124, f=0, set_phase=False)\n",
    "p01 = PauliElement(nx=5, nz= 5, n=n, weight=0.124, f=0, set_phase=False)\n"
   ]
  },
  {
   "cell_type": "code",
   "execution_count": 7,
   "metadata": {},
   "outputs": [
    {
     "data": {
      "text/plain": [
       "PauliElement(n=10, weight=0.124000, IIIIIIIZYX)"
      ]
     },
     "execution_count": 7,
     "metadata": {},
     "output_type": "execute_result"
    }
   ],
   "source": [
    "p00"
   ]
  },
  {
   "cell_type": "code",
   "execution_count": 8,
   "metadata": {},
   "outputs": [
    {
     "name": "stdout",
     "output_type": "stream",
     "text": [
      "IIIIIIIZYX\n"
     ]
    }
   ],
   "source": [
    "print(p00)"
   ]
  },
  {
   "cell_type": "markdown",
   "metadata": {},
   "source": [
    "## Speed comparsion"
   ]
  },
  {
   "cell_type": "code",
   "execution_count": 9,
   "metadata": {},
   "outputs": [],
   "source": [
    "from numbers import Number\n",
    "from functools import reduce\n",
    "import numpy as np"
   ]
  },
  {
   "cell_type": "markdown",
   "metadata": {},
   "source": [
    "## Compare with Qiskit"
   ]
  },
  {
   "cell_type": "code",
   "execution_count": 10,
   "metadata": {},
   "outputs": [],
   "source": [
    "def to_qiskit(self):\n",
    "    from qiskit.quantum_info import Pauli as qiskit_Pauli\n",
    "    x_array = np.flip(np.array([int(b) for b in format(self.nx, f\"0{self.n}b\")], dtype=np.uint))\n",
    "    z_array = np.flip(np.array([int(b) for b in format(self.nz, f\"0{self.n}b\")], dtype=np.uint))\n",
    "    return self.weight, qiskit_Pauli((z_array, x_array))"
   ]
  },
  {
   "cell_type": "code",
   "execution_count": 11,
   "metadata": {},
   "outputs": [],
   "source": [
    "p00 = PauliElement(nx=3, nz= 6, n=n, weight=0.124, f=0, set_phase=False)\n",
    "p01 = PauliElement(nx=5, nz= 5, n=n, weight=0.124, f=0, set_phase=False)\n",
    "w00, q_p00 = to_qiskit(p00)\n",
    "w01, q_p01 = to_qiskit(p01)\n"
   ]
  },
  {
   "cell_type": "code",
   "execution_count": 12,
   "metadata": {},
   "outputs": [
    {
     "data": {
      "text/plain": [
       "Pauli('IIIIIIIXYZ')"
      ]
     },
     "execution_count": 12,
     "metadata": {},
     "output_type": "execute_result"
    }
   ],
   "source": [
    "q_p00.compose(q_p01)"
   ]
  },
  {
   "cell_type": "code",
   "execution_count": 13,
   "metadata": {},
   "outputs": [
    {
     "data": {
      "text/plain": [
       "'IIIIIIIXYZ'"
      ]
     },
     "execution_count": 13,
     "metadata": {},
     "output_type": "execute_result"
    }
   ],
   "source": [
    "p02= p00@p01\n",
    "p02.pstr"
   ]
  },
  {
   "cell_type": "markdown",
   "metadata": {},
   "source": [
    "## Speed"
   ]
  },
  {
   "cell_type": "markdown",
   "metadata": {},
   "source": [
    "### Qiskit"
   ]
  },
  {
   "cell_type": "code",
   "execution_count": 14,
   "metadata": {},
   "outputs": [
    {
     "name": "stdout",
     "output_type": "stream",
     "text": [
      "28.4 µs ± 1.29 µs per loop (mean ± std. dev. of 7 runs, 10,000 loops each)\n"
     ]
    }
   ],
   "source": [
    "%%timeit\n",
    "q_p00.compose(q_p01)"
   ]
  },
  {
   "cell_type": "markdown",
   "metadata": {},
   "source": [
    "### OptTrot"
   ]
  },
  {
   "cell_type": "code",
   "execution_count": 15,
   "metadata": {},
   "outputs": [
    {
     "name": "stdout",
     "output_type": "stream",
     "text": [
      "1.36 µs ± 16.4 ns per loop (mean ± std. dev. of 7 runs, 1,000,000 loops each)\n"
     ]
    }
   ],
   "source": [
    "%%timeit\n",
    "p00@p01"
   ]
  },
  {
   "cell_type": "markdown",
   "metadata": {},
   "source": [
    "### Numpy binary"
   ]
  },
  {
   "cell_type": "code",
   "execution_count": 16,
   "metadata": {},
   "outputs": [],
   "source": [
    "import numpy as np\n",
    "\n",
    "nx1= np.random.randint(0, 2, size=n, dtype=bool)\n",
    "nz1= np.random.randint(0, 2, size=n, dtype=bool)\n",
    "nx2= np.random.randint(0, 2, size=n, dtype=bool)\n",
    "nz2= np.random.randint(0, 2, size=n, dtype=bool)\n",
    "f1 = 3\n",
    "f2 = 4\n"
   ]
  },
  {
   "cell_type": "code",
   "execution_count": 17,
   "metadata": {},
   "outputs": [
    {
     "name": "stdout",
     "output_type": "stream",
     "text": [
      "11.4 µs ± 68.8 ns per loop (mean ± std. dev. of 7 runs, 100,000 loops each)\n"
     ]
    }
   ],
   "source": [
    "%%timeit\n",
    "nx3 = np.bitwise_xor(nx1, nx2)\n",
    "nz3 = np.bitwise_xor(nz1, nz2)\n",
    "f3 = f1+f2 + 2*np.bitwise_and(nx1, nz2).astype(int).sum() -  np.bitwise_and(nx3, nz3).astype(int).sum()"
   ]
  },
  {
   "cell_type": "markdown",
   "metadata": {},
   "source": [
    "### Result\n",
    "\n",
    "- OS: Windows\n",
    "- CPU: Ryzen 5 \n",
    "- Python: 3.11.8\n",
    "\n",
    "\n",
    "|Qiskit| OptTrot| Nb|\n",
    "|:--:|:--:|:--:|\n",
    "|27.9 µs ± 1.38 µs|1.35 µs ± 25.2 ns|11.4 µs ± 102 ns|"
   ]
  },
  {
   "cell_type": "markdown",
   "metadata": {},
   "source": [
    "## PauliPoly"
   ]
  },
  {
   "cell_type": "code",
   "execution_count": 19,
   "metadata": {},
   "outputs": [],
   "source": [
    "from opttrot.pauli import PauliElement, PauliPoly"
   ]
  },
  {
   "cell_type": "code",
   "execution_count": 20,
   "metadata": {},
   "outputs": [
    {
     "data": {
      "text/plain": [
       "PauliPoly(terms:3)[\n",
       "PauliElement(n=10, weight=0.124000, IIIIIIIZYX),\n",
       "PauliElement(n=10, weight=0.124000, IIIIIIIYIY),\n",
       "PauliElement(n=10, weight=0.015376, IIIIIIIXYZ)\n",
       "]"
      ]
     },
     "execution_count": 20,
     "metadata": {},
     "output_type": "execute_result"
    }
   ],
   "source": [
    "p02 =p00@p01\n",
    "PauliPoly([p00, p01, p02])"
   ]
  },
  {
   "cell_type": "code",
   "execution_count": 31,
   "metadata": {},
   "outputs": [
    {
     "data": {
      "text/plain": [
       "1528977390404266531"
      ]
     },
     "execution_count": 31,
     "metadata": {},
     "output_type": "execute_result"
    }
   ],
   "source": [
    "hash(0.000000000000000000000001)"
   ]
  },
  {
   "cell_type": "code",
   "execution_count": 21,
   "metadata": {},
   "outputs": [
    {
     "ename": "TypeError",
     "evalue": "unhashable type: 'pauli.PauliElement'",
     "output_type": "error",
     "traceback": [
      "\u001b[1;31m---------------------------------------------------------------------------\u001b[0m",
      "\u001b[1;31mTypeError\u001b[0m                                 Traceback (most recent call last)",
      "Cell \u001b[1;32mIn[21], line 1\u001b[0m\n\u001b[1;32m----> 1\u001b[0m \u001b[38;5;28;43mset\u001b[39;49m\u001b[43m(\u001b[49m\u001b[43m[\u001b[49m\u001b[43mp00\u001b[49m\u001b[43m,\u001b[49m\u001b[43m \u001b[49m\u001b[43mp01\u001b[49m\u001b[43m,\u001b[49m\u001b[43m \u001b[49m\u001b[43mp02\u001b[49m\u001b[43m]\u001b[49m\u001b[43m)\u001b[49m\n",
      "\u001b[1;31mTypeError\u001b[0m: unhashable type: 'pauli.PauliElement'"
     ]
    }
   ],
   "source": [
    "set([p00, p01, p02])"
   ]
  },
  {
   "cell_type": "markdown",
   "metadata": {},
   "source": []
  }
 ],
 "metadata": {
  "kernelspec": {
   "display_name": "opttrot",
   "language": "python",
   "name": "python3"
  },
  "language_info": {
   "codemirror_mode": {
    "name": "ipython",
    "version": 3
   },
   "file_extension": ".py",
   "mimetype": "text/x-python",
   "name": "python",
   "nbconvert_exporter": "python",
   "pygments_lexer": "ipython3",
   "version": "3.11.8"
  }
 },
 "nbformat": 4,
 "nbformat_minor": 2
}
