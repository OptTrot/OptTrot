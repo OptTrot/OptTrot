{
 "cells": [
  {
   "cell_type": "code",
   "execution_count": 1,
   "metadata": {},
   "outputs": [],
   "source": [
    "import os, sys\n",
    "sys.path.append(\"..\")"
   ]
  },
  {
   "cell_type": "code",
   "execution_count": 2,
   "metadata": {},
   "outputs": [
    {
     "name": "stdout",
     "output_type": "stream",
     "text": [
      "Help on class _PauliElement:\n",
      "\n",
      "class _PauliElement(builtins.object)\n",
      " |  Basic Pauli element\n",
      " |\n",
      " |  Methods defined here:\n",
      " |\n",
      " |  __eq__(self, value, /)\n",
      " |      Return self==value.\n",
      " |\n",
      " |  __ge__(self, value, /)\n",
      " |      Return self>=value.\n",
      " |\n",
      " |  __gt__(self, value, /)\n",
      " |      Return self>value.\n",
      " |\n",
      " |  __init__(self, /, *args, **kwargs)\n",
      " |      Initialize self.  See help(type(self)) for accurate signature.\n",
      " |\n",
      " |  __le__(self, value, /)\n",
      " |      Return self<=value.\n",
      " |\n",
      " |  __lt__(self, value, /)\n",
      " |      Return self<value.\n",
      " |\n",
      " |  __matmul__(self, value, /)\n",
      " |      Return self@value.\n",
      " |\n",
      " |  __mul__(self, value, /)\n",
      " |      Return self*value.\n",
      " |\n",
      " |  __ne__(self, value, /)\n",
      " |      Return self!=value.\n",
      " |\n",
      " |  __repr__(self, /)\n",
      " |      Return repr(self).\n",
      " |\n",
      " |  __rmatmul__(self, value, /)\n",
      " |      Return value@self.\n",
      " |\n",
      " |  __rmul__(self, value, /)\n",
      " |      Return value*self.\n",
      " |\n",
      " |  __str__(self, /)\n",
      " |      Return str(self).\n",
      " |\n",
      " |  commute(...)\n",
      " |      Check the commutation relationship between two Pauli elements.\n",
      " |\n",
      " |  otimes(...)\n",
      " |      Compute the Kronecker product of two Pauli elements.\n",
      " |\n",
      " |  ----------------------------------------------------------------------\n",
      " |  Static methods defined here:\n",
      " |\n",
      " |  __new__(*args, **kwargs)\n",
      " |      Create and return a new object.  See help(type) for accurate signature.\n",
      " |\n",
      " |  ----------------------------------------------------------------------\n",
      " |  Data descriptors defined here:\n",
      " |\n",
      " |  f\n",
      " |      Phase exponential factor, (-i)^f.\n",
      " |\n",
      " |  ij_code\n",
      " |      Index of Pauli element in coefficient matrix.\n",
      " |\n",
      " |  n\n",
      " |      qubits\n",
      " |\n",
      " |  nx\n",
      " |      x code\n",
      " |\n",
      " |  nz\n",
      " |      z code\n",
      " |\n",
      " |  pstr\n",
      " |      Pauli string\n",
      " |\n",
      " |  sym_code\n",
      " |      Symplectic representation of Pauli element.\n",
      " |\n",
      " |  weight\n",
      " |      Weight\n",
      " |\n",
      " |  ----------------------------------------------------------------------\n",
      " |  Data and other attributes defined here:\n",
      " |\n",
      " |  __hash__ = None\n",
      "\n"
     ]
    }
   ],
   "source": [
    "from pauli_c import _PauliElement\n",
    "help(_PauliElement)"
   ]
  },
  {
   "cell_type": "code",
   "execution_count": 9,
   "metadata": {},
   "outputs": [],
   "source": [
    "n = 10\n",
    "p00 = _PauliElement(nx=3, nz= 6, n=n, weight=0.124, f=0, set_phase=False)\n",
    "p01 = _PauliElement(nx=5, nz= 5, n=n, weight=0.124, f=0, set_phase=False)\n"
   ]
  },
  {
   "cell_type": "code",
   "execution_count": 10,
   "metadata": {},
   "outputs": [
    {
     "data": {
      "text/plain": [
       "_PauliElement(n=10)"
      ]
     },
     "execution_count": 10,
     "metadata": {},
     "output_type": "execute_result"
    }
   ],
   "source": [
    "p00"
   ]
  },
  {
   "cell_type": "code",
   "execution_count": 5,
   "metadata": {},
   "outputs": [
    {
     "data": {
      "text/plain": [
       "(3, 6, 10, 1)"
      ]
     },
     "execution_count": 5,
     "metadata": {},
     "output_type": "execute_result"
    }
   ],
   "source": [
    "p00_.nx, p00_.nz, p00_.n, p00_.f"
   ]
  },
  {
   "cell_type": "code",
   "execution_count": 6,
   "metadata": {},
   "outputs": [
    {
     "data": {
      "text/plain": [
       "'IIIIIIIZYX'"
      ]
     },
     "execution_count": 6,
     "metadata": {},
     "output_type": "execute_result"
    }
   ],
   "source": [
    "p00_.pstr"
   ]
  },
  {
   "cell_type": "code",
   "execution_count": 7,
   "metadata": {},
   "outputs": [
    {
     "data": {
      "text/plain": [
       "(3, 6)"
      ]
     },
     "execution_count": 7,
     "metadata": {},
     "output_type": "execute_result"
    }
   ],
   "source": [
    "p00_.sym_code"
   ]
  },
  {
   "cell_type": "code",
   "execution_count": 8,
   "metadata": {},
   "outputs": [
    {
     "data": {
      "text/plain": [
       "(6, 5)"
      ]
     },
     "execution_count": 8,
     "metadata": {},
     "output_type": "execute_result"
    }
   ],
   "source": [
    "p00_.ij_code"
   ]
  },
  {
   "cell_type": "markdown",
   "metadata": {},
   "source": [
    "## Speed comparsion"
   ]
  },
  {
   "cell_type": "code",
   "execution_count": 12,
   "metadata": {},
   "outputs": [],
   "source": [
    "from numbers import Number\n",
    "from functools import reduce\n",
    "\n",
    "import numpy as np\n",
    "\n",
    "\n",
    "class PauliElement(_PauliElement):\n",
    "    _coef_factor = {0: 1, 1: -1j, 2: -1, 3: 1j}\n",
    "    def __str__(self):\n",
    "        return f\"{self.pstr}\"\n",
    "    def __repr__(self):\n",
    "        return f\"Pauli(xz=({self.nx}, {self.nz}), {self.pstr}, n={self.n}, weight={self.weight})\"\n",
    "    def __rmul__(self, other:Number):\n",
    "        return PauliElement(self.nx, self.nz, self.n, other*self.weight)\n",
    "    def __matmul__(self, other):\n",
    "        _pr= super().__matmul__(other)\n",
    "        return PauliElement(_pr.nx, _pr.nz, _pr.n, _pr.weight, _pr.f, set_phase=False)\n",
    "    def to_pennylane(self, words=False):\n",
    "        from pennylane.pauli import string_to_pauli_word\n",
    "        from pennylane import I, PauliX, PauliY, PauliZ\n",
    "        if words:\n",
    "            map_dict = {i:i for i in (range(self.n))}\n",
    "            terms = string_to_pauli_word(self.string, wire_map=map_dict)\n",
    "        else:\n",
    "            ops = {\n",
    "                \"I\": lambda i: I(i),\n",
    "                \"X\": lambda i: PauliX(i),\n",
    "                \"Y\": lambda i: PauliY(i),\n",
    "                \"Z\": lambda i: PauliZ(i),\n",
    "                   }\n",
    "            opers = [ops[s](i) for i, s in enumerate(reversed(self.string))]\n",
    "            terms =reduce(lambda x, y: x@y, opers)\n",
    "        return self.coef, terms\n",
    "    \n",
    "    def to_qiskit(self):\n",
    "        from qiskit.quantum_info import Pauli as qiskit_Pauli\n",
    "        x_array = np.flip(np.array([int(b) for b in format(self.nx, f\"0{self.n}b\")], dtype=np.uint))\n",
    "        z_array = np.flip(np.array([int(b) for b in format(self.nz, f\"0{self.n}b\")], dtype=np.uint))\n",
    "        return self.weight, qiskit_Pauli((z_array, x_array))"
   ]
  },
  {
   "cell_type": "markdown",
   "metadata": {},
   "source": [
    "## Compare with Qiskit"
   ]
  },
  {
   "cell_type": "code",
   "execution_count": 13,
   "metadata": {},
   "outputs": [],
   "source": [
    "p00 = PauliElement(nx=3, nz= 6, n=n, weight=0.124, f=0, set_phase=False)\n",
    "p01 = PauliElement(nx=5, nz= 5, n=n, weight=0.124, f=0, set_phase=False)\n",
    "w00, q_p00 = p00.to_qiskit()\n",
    "w01, q_p01 = p01.to_qiskit()\n"
   ]
  },
  {
   "cell_type": "code",
   "execution_count": 14,
   "metadata": {},
   "outputs": [
    {
     "data": {
      "text/plain": [
       "Pauli('IIIIIIIXYZ')"
      ]
     },
     "execution_count": 14,
     "metadata": {},
     "output_type": "execute_result"
    }
   ],
   "source": [
    "q_p00.compose(q_p01)"
   ]
  },
  {
   "cell_type": "code",
   "execution_count": 18,
   "metadata": {},
   "outputs": [
    {
     "data": {
      "text/plain": [
       "'IIIIIIIXYZ'"
      ]
     },
     "execution_count": 18,
     "metadata": {},
     "output_type": "execute_result"
    }
   ],
   "source": [
    "p02_= p00_@p01_\n",
    "p02_.pstr"
   ]
  },
  {
   "cell_type": "markdown",
   "metadata": {},
   "source": [
    "## Speed"
   ]
  },
  {
   "cell_type": "markdown",
   "metadata": {},
   "source": [
    "### Qiskit"
   ]
  },
  {
   "cell_type": "code",
   "execution_count": 32,
   "metadata": {},
   "outputs": [
    {
     "name": "stdout",
     "output_type": "stream",
     "text": [
      "5.92 μs ± 194 ns per loop (mean ± std. dev. of 7 runs, 100,000 loops each)\n"
     ]
    }
   ],
   "source": [
    "%%timeit\n",
    "q_p00.compose(q_p01)"
   ]
  },
  {
   "cell_type": "markdown",
   "metadata": {},
   "source": [
    "### OptTrot"
   ]
  },
  {
   "cell_type": "code",
   "execution_count": 31,
   "metadata": {},
   "outputs": [
    {
     "name": "stdout",
     "output_type": "stream",
     "text": [
      "672 ns ± 3.47 ns per loop (mean ± std. dev. of 7 runs, 1,000,000 loops each)\n"
     ]
    }
   ],
   "source": [
    "%%timeit\n",
    "p00_@p01_"
   ]
  },
  {
   "cell_type": "markdown",
   "metadata": {},
   "source": [
    "### Numpy binary"
   ]
  },
  {
   "cell_type": "code",
   "execution_count": 28,
   "metadata": {},
   "outputs": [],
   "source": [
    "import numpy as np\n",
    "\n",
    "nx1= np.random.randint(0, 2, size=n, dtype=bool)\n",
    "nz1= np.random.randint(0, 2, size=n, dtype=bool)\n",
    "nx2= np.random.randint(0, 2, size=n, dtype=bool)\n",
    "nz2= np.random.randint(0, 2, size=n, dtype=bool)\n",
    "f1 = 3\n",
    "f2 = 4\n"
   ]
  },
  {
   "cell_type": "code",
   "execution_count": 33,
   "metadata": {},
   "outputs": [
    {
     "name": "stdout",
     "output_type": "stream",
     "text": [
      "3.12 μs ± 132 ns per loop (mean ± std. dev. of 7 runs, 100,000 loops each)\n"
     ]
    }
   ],
   "source": [
    "%%timeit\n",
    "nx3 = np.bitwise_xor(nx1, nx2)\n",
    "nz3 = np.bitwise_xor(nz1, nz2)\n",
    "f3 = f1+f2 + 2*np.bitwise_and(nx1, nz2).astype(int).sum() -  np.bitwise_and(nx3, nz3).astype(int).sum()"
   ]
  },
  {
   "cell_type": "code",
   "execution_count": null,
   "metadata": {},
   "outputs": [],
   "source": []
  }
 ],
 "metadata": {
  "kernelspec": {
   "display_name": "opttrot",
   "language": "python",
   "name": "python3"
  },
  "language_info": {
   "codemirror_mode": {
    "name": "ipython",
    "version": 3
   },
   "file_extension": ".py",
   "mimetype": "text/x-python",
   "name": "python",
   "nbconvert_exporter": "python",
   "pygments_lexer": "ipython3",
   "version": "3.12.4"
  }
 },
 "nbformat": 4,
 "nbformat_minor": 2
}
