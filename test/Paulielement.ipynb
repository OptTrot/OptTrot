{
 "cells": [
  {
   "cell_type": "code",
   "execution_count": 2,
   "metadata": {},
   "outputs": [
    {
     "name": "stdout",
     "output_type": "stream",
     "text": [
      "File path of setup.py: /Users/hyunseongkim/Documents/GitHub/Org_OptTrot/OptTrot\n",
      "/Users/hyunseongkim/Documents/GitHub/Org_OptTrot/OptTrot/opttrot\n",
      "['/Users/hyunseongkim/Documents/GitHub/Org_OptTrot/OptTrot/opttrot/c_src/pauli_c.c', '/Users/hyunseongkim/Documents/GitHub/Org_OptTrot/OptTrot/opttrot/c_src/pauli_bn/pauli_bn.c', '/Users/hyunseongkim/Documents/GitHub/Org_OptTrot/OptTrot/opttrot/c_src/pauli_bn/pauli_bn_methods.c', '/Users/hyunseongkim/Documents/GitHub/Org_OptTrot/OptTrot/opttrot/c_src/pauli_bn/pauli_bn_utils.c', '/Users/hyunseongkim/Documents/GitHub/Org_OptTrot/OptTrot/opttrot/c_src/bn/bn.c', '/Users/hyunseongkim/Documents/GitHub/Org_OptTrot/OptTrot/opttrot/c_src/bn/bn_ext.c', '/Users/hyunseongkim/Documents/GitHub/Org_OptTrot/OptTrot/opttrot/c_src/bn/bn_python.c']\n",
      "['/Users/hyunseongkim/Documents/GitHub/Org_OptTrot/OptTrot/opttrot/c_src/pauli_c.c', '/Users/hyunseongkim/Documents/GitHub/Org_OptTrot/OptTrot/opttrot/c_src/pauli_bn/pauli_bn.c', '/Users/hyunseongkim/Documents/GitHub/Org_OptTrot/OptTrot/opttrot/c_src/pauli_bn/pauli_bn_methods.c', '/Users/hyunseongkim/Documents/GitHub/Org_OptTrot/OptTrot/opttrot/c_src/pauli_bn/pauli_bn_utils.c', '/Users/hyunseongkim/Documents/GitHub/Org_OptTrot/OptTrot/opttrot/c_src/bn/bn.c', '/Users/hyunseongkim/Documents/GitHub/Org_OptTrot/OptTrot/opttrot/c_src/bn/bn_ext.c', '/Users/hyunseongkim/Documents/GitHub/Org_OptTrot/OptTrot/opttrot/c_src/bn/bn_python.c', '/Users/hyunseongkim/Documents/GitHub/Org_OptTrot/OptTrot/opttrot/c_src/c_utils.c']\n",
      "['/Users/hyunseongkim/Documents/GitHub/Org_OptTrot/OptTrot/opttrot', '/Users/hyunseongkim/Documents/GitHub/Org_OptTrot/OptTrot/opttrot/c_src', '/Users/hyunseongkim/Documents/GitHub/Org_OptTrot/OptTrot/opttrot/c_src/bn', '/Users/hyunseongkim/Documents/GitHub/Org_OptTrot/OptTrot/opttrot/c_src/pauli_bn', '/Users/hyunseongkim/miniconda3/envs/opttrot/lib/python3.12/site-packages/numpy/core/include']\n",
      "running build\n",
      "running build_py\n",
      "file /Users/hyunseongkim/Documents/GitHub/Org_OptTrot/OptTrot/opttrot/opttrot.py (for module opttrot) not found\n",
      "copying /Users/hyunseongkim/Documents/GitHub/Org_OptTrot/OptTrot/opttrot/graph_algs/dwave.py -> build/lib.macosx-11.1-arm64-cpython-312/graph_algs\n",
      "copying /Users/hyunseongkim/Documents/GitHub/Org_OptTrot/OptTrot/opttrot/graph_algs/graph_opts.py -> build/lib.macosx-11.1-arm64-cpython-312/graph_algs\n",
      "copying /Users/hyunseongkim/Documents/GitHub/Org_OptTrot/OptTrot/opttrot/graph_algs/__init__.py -> build/lib.macosx-11.1-arm64-cpython-312/graph_algs\n",
      "file /Users/hyunseongkim/Documents/GitHub/Org_OptTrot/OptTrot/opttrot/opttrot.py (for module opttrot) not found\n",
      "running build_ext\n",
      "building 'c_utils' extension\n",
      "clang -fno-strict-overflow -DNDEBUG -O2 -Wall -fPIC -O2 -isystem /Users/hyunseongkim/miniconda3/envs/opttrot/include -arch arm64 -fPIC -O2 -isystem /Users/hyunseongkim/miniconda3/envs/opttrot/include -arch arm64 -I/Users/hyunseongkim/Documents/GitHub/Org_OptTrot/OptTrot/opttrot -I/Users/hyunseongkim/Documents/GitHub/Org_OptTrot/OptTrot/opttrot/c_src -I/Users/hyunseongkim/Documents/GitHub/Org_OptTrot/OptTrot/opttrot/c_src/bn -I/Users/hyunseongkim/Documents/GitHub/Org_OptTrot/OptTrot/opttrot/c_src/pauli_bn -I/Users/hyunseongkim/miniconda3/envs/opttrot/lib/python3.12/site-packages/numpy/core/include -I/Users/hyunseongkim/miniconda3/envs/opttrot/include/python3.12 -c /Users/hyunseongkim/Documents/GitHub/Org_OptTrot/OptTrot/opttrot/c_src/bn/bn.c -o build/temp.macosx-11.1-arm64-cpython-312/Users/hyunseongkim/Documents/GitHub/Org_OptTrot/OptTrot/opttrot/c_src/bn/bn.o\n",
      "clang -fno-strict-overflow -DNDEBUG -O2 -Wall -fPIC -O2 -isystem /Users/hyunseongkim/miniconda3/envs/opttrot/include -arch arm64 -fPIC -O2 -isystem /Users/hyunseongkim/miniconda3/envs/opttrot/include -arch arm64 -I/Users/hyunseongkim/Documents/GitHub/Org_OptTrot/OptTrot/opttrot -I/Users/hyunseongkim/Documents/GitHub/Org_OptTrot/OptTrot/opttrot/c_src -I/Users/hyunseongkim/Documents/GitHub/Org_OptTrot/OptTrot/opttrot/c_src/bn -I/Users/hyunseongkim/Documents/GitHub/Org_OptTrot/OptTrot/opttrot/c_src/pauli_bn -I/Users/hyunseongkim/miniconda3/envs/opttrot/lib/python3.12/site-packages/numpy/core/include -I/Users/hyunseongkim/miniconda3/envs/opttrot/include/python3.12 -c /Users/hyunseongkim/Documents/GitHub/Org_OptTrot/OptTrot/opttrot/c_src/bn/bn_ext.c -o build/temp.macosx-11.1-arm64-cpython-312/Users/hyunseongkim/Documents/GitHub/Org_OptTrot/OptTrot/opttrot/c_src/bn/bn_ext.o\n",
      "clang -fno-strict-overflow -DNDEBUG -O2 -Wall -fPIC -O2 -isystem /Users/hyunseongkim/miniconda3/envs/opttrot/include -arch arm64 -fPIC -O2 -isystem /Users/hyunseongkim/miniconda3/envs/opttrot/include -arch arm64 -I/Users/hyunseongkim/Documents/GitHub/Org_OptTrot/OptTrot/opttrot -I/Users/hyunseongkim/Documents/GitHub/Org_OptTrot/OptTrot/opttrot/c_src -I/Users/hyunseongkim/Documents/GitHub/Org_OptTrot/OptTrot/opttrot/c_src/bn -I/Users/hyunseongkim/Documents/GitHub/Org_OptTrot/OptTrot/opttrot/c_src/pauli_bn -I/Users/hyunseongkim/miniconda3/envs/opttrot/lib/python3.12/site-packages/numpy/core/include -I/Users/hyunseongkim/miniconda3/envs/opttrot/include/python3.12 -c /Users/hyunseongkim/Documents/GitHub/Org_OptTrot/OptTrot/opttrot/c_src/bn/bn_python.c -o build/temp.macosx-11.1-arm64-cpython-312/Users/hyunseongkim/Documents/GitHub/Org_OptTrot/OptTrot/opttrot/c_src/bn/bn_python.o\n",
      "clang -fno-strict-overflow -DNDEBUG -O2 -Wall -fPIC -O2 -isystem /Users/hyunseongkim/miniconda3/envs/opttrot/include -arch arm64 -fPIC -O2 -isystem /Users/hyunseongkim/miniconda3/envs/opttrot/include -arch arm64 -I/Users/hyunseongkim/Documents/GitHub/Org_OptTrot/OptTrot/opttrot -I/Users/hyunseongkim/Documents/GitHub/Org_OptTrot/OptTrot/opttrot/c_src -I/Users/hyunseongkim/Documents/GitHub/Org_OptTrot/OptTrot/opttrot/c_src/bn -I/Users/hyunseongkim/Documents/GitHub/Org_OptTrot/OptTrot/opttrot/c_src/pauli_bn -I/Users/hyunseongkim/miniconda3/envs/opttrot/lib/python3.12/site-packages/numpy/core/include -I/Users/hyunseongkim/miniconda3/envs/opttrot/include/python3.12 -c /Users/hyunseongkim/Documents/GitHub/Org_OptTrot/OptTrot/opttrot/c_src/c_utils.c -o build/temp.macosx-11.1-arm64-cpython-312/Users/hyunseongkim/Documents/GitHub/Org_OptTrot/OptTrot/opttrot/c_src/c_utils.o\n",
      "In file included from /Users/hyunseongkim/Documents/GitHub/Org_OptTrot/OptTrot/opttrot/c_src/c_utils.c:1:\n",
      "In file included from /Users/hyunseongkim/Documents/GitHub/Org_OptTrot/OptTrot/opttrot/c_src/c_utils.h:5:\n",
      "In file included from /Users/hyunseongkim/miniconda3/envs/opttrot/lib/python3.12/site-packages/numpy/core/include/numpy/ndarrayobject.h:12:\n",
      "In file included from /Users/hyunseongkim/miniconda3/envs/opttrot/lib/python3.12/site-packages/numpy/core/include/numpy/ndarraytypes.h:1929:\n",
      "\u001b[1m/Users/hyunseongkim/miniconda3/envs/opttrot/lib/python3.12/site-packages/numpy/core/include/numpy/npy_1_7_deprecated_api.h:17:2: \u001b[0m\u001b[0;1;35mwarning: \u001b[0m\u001b[1m\"Using deprecated NumPy API, disable it with \"          \"#define NPY_NO_DEPRECATED_API NPY_1_7_API_VERSION\" [-W#warnings]\u001b[0m\n",
      "#warning \"Using deprecated NumPy API, disable it with \" \\\n",
      "\u001b[0;1;32m ^\n",
      "\u001b[0m1 warning generated.\n",
      "clang -fno-strict-overflow -DNDEBUG -O2 -Wall -fPIC -O2 -isystem /Users/hyunseongkim/miniconda3/envs/opttrot/include -arch arm64 -fPIC -O2 -isystem /Users/hyunseongkim/miniconda3/envs/opttrot/include -arch arm64 -I/Users/hyunseongkim/Documents/GitHub/Org_OptTrot/OptTrot/opttrot -I/Users/hyunseongkim/Documents/GitHub/Org_OptTrot/OptTrot/opttrot/c_src -I/Users/hyunseongkim/Documents/GitHub/Org_OptTrot/OptTrot/opttrot/c_src/bn -I/Users/hyunseongkim/Documents/GitHub/Org_OptTrot/OptTrot/opttrot/c_src/pauli_bn -I/Users/hyunseongkim/miniconda3/envs/opttrot/lib/python3.12/site-packages/numpy/core/include -I/Users/hyunseongkim/miniconda3/envs/opttrot/include/python3.12 -c /Users/hyunseongkim/Documents/GitHub/Org_OptTrot/OptTrot/opttrot/c_src/pauli_bn/pauli_bn.c -o build/temp.macosx-11.1-arm64-cpython-312/Users/hyunseongkim/Documents/GitHub/Org_OptTrot/OptTrot/opttrot/c_src/pauli_bn/pauli_bn.o\n",
      "\u001b[1m/Users/hyunseongkim/Documents/GitHub/Org_OptTrot/OptTrot/opttrot/c_src/pauli_bn/pauli_bn.c:65:20: \u001b[0m\u001b[0;1;35mwarning: \u001b[0m\u001b[1mincompatible pointer to integer conversion returning 'void *' from a function with result type 'int' [-Wint-conversion]\u001b[0m\n",
      "            return NULL;\n",
      "\u001b[0;1;32m                   ^~~~\n",
      "\u001b[0m\u001b[1m/Library/Developer/CommandLineTools/usr/lib/clang/15.0.0/include/stddef.h:89:16: \u001b[0m\u001b[0;1;30mnote: \u001b[0mexpanded from macro 'NULL'\u001b[0m\n",
      "#  define NULL ((void*)0)\n",
      "\u001b[0;1;32m               ^~~~~~~~~~\n",
      "\u001b[0m\u001b[1m/Users/hyunseongkim/Documents/GitHub/Org_OptTrot/OptTrot/opttrot/c_src/pauli_bn/pauli_bn.c:73:16: \u001b[0m\u001b[0;1;35mwarning: \u001b[0m\u001b[1mincompatible pointer to integer conversion returning 'void *' from a function with result type 'int' [-Wint-conversion]\u001b[0m\n",
      "        return NULL;\n",
      "\u001b[0;1;32m               ^~~~\n",
      "\u001b[0m\u001b[1m/Library/Developer/CommandLineTools/usr/lib/clang/15.0.0/include/stddef.h:89:16: \u001b[0m\u001b[0;1;30mnote: \u001b[0mexpanded from macro 'NULL'\u001b[0m\n",
      "#  define NULL ((void*)0)\n",
      "\u001b[0;1;32m               ^~~~~~~~~~\n",
      "\u001b[0m\u001b[1m/Users/hyunseongkim/Documents/GitHub/Org_OptTrot/OptTrot/opttrot/c_src/pauli_bn/pauli_bn.c:77:16: \u001b[0m\u001b[0;1;35mwarning: \u001b[0m\u001b[1mincompatible pointer to integer conversion returning 'void *' from a function with result type 'int' [-Wint-conversion]\u001b[0m\n",
      "        return NULL;\n",
      "\u001b[0;1;32m               ^~~~\n",
      "\u001b[0m\u001b[1m/Library/Developer/CommandLineTools/usr/lib/clang/15.0.0/include/stddef.h:89:16: \u001b[0m\u001b[0;1;30mnote: \u001b[0mexpanded from macro 'NULL'\u001b[0m\n",
      "#  define NULL ((void*)0)\n",
      "\u001b[0;1;32m               ^~~~~~~~~~\n",
      "\u001b[0m\u001b[1m/Users/hyunseongkim/Documents/GitHub/Org_OptTrot/OptTrot/opttrot/c_src/pauli_bn/pauli_bn.c:85:20: \u001b[0m\u001b[0;1;35mwarning: \u001b[0m\u001b[1mincompatible pointer to integer conversion returning 'void *' from a function with result type 'int' [-Wint-conversion]\u001b[0m\n",
      "            return NULL;\n",
      "\u001b[0;1;32m                   ^~~~\n",
      "\u001b[0m\u001b[1m/Library/Developer/CommandLineTools/usr/lib/clang/15.0.0/include/stddef.h:89:16: \u001b[0m\u001b[0;1;30mnote: \u001b[0mexpanded from macro 'NULL'\u001b[0m\n",
      "#  define NULL ((void*)0)\n",
      "\u001b[0;1;32m               ^~~~~~~~~~\n",
      "\u001b[0m\u001b[1m/Users/hyunseongkim/Documents/GitHub/Org_OptTrot/OptTrot/opttrot/c_src/pauli_bn/pauli_bn.c:88:20: \u001b[0m\u001b[0;1;35mwarning: \u001b[0m\u001b[1mincompatible pointer to integer conversion returning 'void *' from a function with result type 'int' [-Wint-conversion]\u001b[0m\n",
      "            return NULL;\n",
      "\u001b[0;1;32m                   ^~~~\n",
      "\u001b[0m\u001b[1m/Library/Developer/CommandLineTools/usr/lib/clang/15.0.0/include/stddef.h:89:16: \u001b[0m\u001b[0;1;30mnote: \u001b[0mexpanded from macro 'NULL'\u001b[0m\n",
      "#  define NULL ((void*)0)\n",
      "\u001b[0;1;32m               ^~~~~~~~~~\n",
      "\u001b[0m\u001b[1m/Users/hyunseongkim/Documents/GitHub/Org_OptTrot/OptTrot/opttrot/c_src/pauli_bn/pauli_bn.c:94:20: \u001b[0m\u001b[0;1;35mwarning: \u001b[0m\u001b[1mincompatible pointer to integer conversion returning 'void *' from a function with result type 'int' [-Wint-conversion]\u001b[0m\n",
      "            return NULL;\n",
      "\u001b[0;1;32m                   ^~~~\n",
      "\u001b[0m\u001b[1m/Library/Developer/CommandLineTools/usr/lib/clang/15.0.0/include/stddef.h:89:16: \u001b[0m\u001b[0;1;30mnote: \u001b[0mexpanded from macro 'NULL'\u001b[0m\n",
      "#  define NULL ((void*)0)\n",
      "\u001b[0;1;32m               ^~~~~~~~~~\n",
      "\u001b[0m\u001b[1m/Users/hyunseongkim/Documents/GitHub/Org_OptTrot/OptTrot/opttrot/c_src/pauli_bn/pauli_bn.c:97:20: \u001b[0m\u001b[0;1;35mwarning: \u001b[0m\u001b[1mincompatible pointer to integer conversion returning 'void *' from a function with result type 'int' [-Wint-conversion]\u001b[0m\n",
      "            return NULL;\n",
      "\u001b[0;1;32m                   ^~~~\n",
      "\u001b[0m\u001b[1m/Library/Developer/CommandLineTools/usr/lib/clang/15.0.0/include/stddef.h:89:16: \u001b[0m\u001b[0;1;30mnote: \u001b[0mexpanded from macro 'NULL'\u001b[0m\n",
      "#  define NULL ((void*)0)\n",
      "\u001b[0;1;32m               ^~~~~~~~~~\n",
      "\u001b[0m\u001b[1m/Users/hyunseongkim/Documents/GitHub/Org_OptTrot/OptTrot/opttrot/c_src/pauli_bn/pauli_bn.c:102:16: \u001b[0m\u001b[0;1;35mwarning: \u001b[0m\u001b[1mincompatible pointer to integer conversion returning 'void *' from a function with result type 'int' [-Wint-conversion]\u001b[0m\n",
      "        return NULL;\n",
      "\u001b[0;1;32m               ^~~~\n",
      "\u001b[0m\u001b[1m/Library/Developer/CommandLineTools/usr/lib/clang/15.0.0/include/stddef.h:89:16: \u001b[0m\u001b[0;1;30mnote: \u001b[0mexpanded from macro 'NULL'\u001b[0m\n",
      "#  define NULL ((void*)0)\n",
      "\u001b[0;1;32m               ^~~~~~~~~~\n",
      "\u001b[0m\u001b[1m/Users/hyunseongkim/Documents/GitHub/Org_OptTrot/OptTrot/opttrot/c_src/pauli_bn/pauli_bn.c:120:16: \u001b[0m\u001b[0;1;35mwarning: \u001b[0m\u001b[1mincompatible pointer to integer conversion returning 'void *' from a function with result type 'int' [-Wint-conversion]\u001b[0m\n",
      "        return NULL;\n",
      "\u001b[0;1;32m               ^~~~\n",
      "\u001b[0m\u001b[1m/Library/Developer/CommandLineTools/usr/lib/clang/15.0.0/include/stddef.h:89:16: \u001b[0m\u001b[0;1;30mnote: \u001b[0mexpanded from macro 'NULL'\u001b[0m\n",
      "#  define NULL ((void*)0)\n",
      "\u001b[0;1;32m               ^~~~~~~~~~\n",
      "\u001b[0m\u001b[1m/Users/hyunseongkim/Documents/GitHub/Org_OptTrot/OptTrot/opttrot/c_src/pauli_bn/pauli_bn.c:125:16: \u001b[0m\u001b[0;1;35mwarning: \u001b[0m\u001b[1mincompatible pointer to integer conversion returning 'void *' from a function with result type 'int' [-Wint-conversion]\u001b[0m\n",
      "        return NULL;\n",
      "\u001b[0;1;32m               ^~~~\n",
      "\u001b[0m\u001b[1m/Library/Developer/CommandLineTools/usr/lib/clang/15.0.0/include/stddef.h:89:16: \u001b[0m\u001b[0;1;30mnote: \u001b[0mexpanded from macro 'NULL'\u001b[0m\n",
      "#  define NULL ((void*)0)\n",
      "\u001b[0;1;32m               ^~~~~~~~~~\n",
      "\u001b[0m\u001b[1m/Users/hyunseongkim/Documents/GitHub/Org_OptTrot/OptTrot/opttrot/c_src/pauli_bn/pauli_bn.c:192:25: \u001b[0m\u001b[0;1;35mwarning: \u001b[0m\u001b[1mincompatible pointer to integer conversion returning 'void *' from a function with result type 'Py_hash_t' (aka 'long') [-Wint-conversion]\u001b[0m\n",
      "    if (!tuple) {return NULL;}\n",
      "\u001b[0;1;32m                        ^~~~\n",
      "\u001b[0m\u001b[1m/Library/Developer/CommandLineTools/usr/lib/clang/15.0.0/include/stddef.h:89:16: \u001b[0m\u001b[0;1;30mnote: \u001b[0mexpanded from macro 'NULL'\u001b[0m\n",
      "#  define NULL ((void*)0)\n",
      "\u001b[0;1;32m               ^~~~~~~~~~\n",
      "\u001b[0m\u001b[1m/Users/hyunseongkim/Documents/GitHub/Org_OptTrot/OptTrot/opttrot/c_src/pauli_bn/pauli_bn.c:391:37: \u001b[0m\u001b[0;1;35mwarning: \u001b[0m\u001b[1mincompatible pointer types passing 'PyObject *' (aka 'struct _object *') to parameter of type 'PauliElement *' [-Wincompatible-pointer-types]\u001b[0m\n",
      "        return PauliElement_mat_mul(left, right);\n",
      "\u001b[0;1;32m                                    ^~~~\n",
      "\u001b[0m\u001b[1m/Users/hyunseongkim/Documents/GitHub/Org_OptTrot/OptTrot/opttrot/c_src/pauli_bn/pauli_bn.h:60:47: \u001b[0m\u001b[0;1;30mnote: \u001b[0mpassing argument to parameter 'self' here\u001b[0m\n",
      "PyObject * PauliElement_mat_mul(PauliElement *self, PauliElement *other);\n",
      "\u001b[0;1;32m                                              ^\n",
      "\u001b[0m\u001b[1m/Users/hyunseongkim/Documents/GitHub/Org_OptTrot/OptTrot/opttrot/c_src/pauli_bn/pauli_bn.c:391:43: \u001b[0m\u001b[0;1;35mwarning: \u001b[0m\u001b[1mincompatible pointer types passing 'PyObject *' (aka 'struct _object *') to parameter of type 'PauliElement *' [-Wincompatible-pointer-types]\u001b[0m\n",
      "        return PauliElement_mat_mul(left, right);\n",
      "\u001b[0;1;32m                                          ^~~~~\n",
      "\u001b[0m\u001b[1m/Users/hyunseongkim/Documents/GitHub/Org_OptTrot/OptTrot/opttrot/c_src/pauli_bn/pauli_bn.h:60:67: \u001b[0m\u001b[0;1;30mnote: \u001b[0mpassing argument to parameter 'other' here\u001b[0m\n",
      "PyObject * PauliElement_mat_mul(PauliElement *self, PauliElement *other);\n",
      "\u001b[0;1;32m                                                                  ^\n",
      "\u001b[0m\u001b[1m/Users/hyunseongkim/Documents/GitHub/Org_OptTrot/OptTrot/opttrot/c_src/pauli_bn/pauli_bn.c:568:12: \u001b[0m\u001b[0;1;35mwarning: \u001b[0m\u001b[1mincompatible pointer types returning 'PauliElement *' from a function with result type 'PyObject *' (aka 'struct _object *') [-Wincompatible-pointer-types]\u001b[0m\n",
      "    return pauli_element;\n",
      "\u001b[0;1;32m           ^~~~~~~~~~~~~\n",
      "\u001b[0m14 warnings generated.\n",
      "clang -fno-strict-overflow -DNDEBUG -O2 -Wall -fPIC -O2 -isystem /Users/hyunseongkim/miniconda3/envs/opttrot/include -arch arm64 -fPIC -O2 -isystem /Users/hyunseongkim/miniconda3/envs/opttrot/include -arch arm64 -I/Users/hyunseongkim/Documents/GitHub/Org_OptTrot/OptTrot/opttrot -I/Users/hyunseongkim/Documents/GitHub/Org_OptTrot/OptTrot/opttrot/c_src -I/Users/hyunseongkim/Documents/GitHub/Org_OptTrot/OptTrot/opttrot/c_src/bn -I/Users/hyunseongkim/Documents/GitHub/Org_OptTrot/OptTrot/opttrot/c_src/pauli_bn -I/Users/hyunseongkim/miniconda3/envs/opttrot/lib/python3.12/site-packages/numpy/core/include -I/Users/hyunseongkim/miniconda3/envs/opttrot/include/python3.12 -c /Users/hyunseongkim/Documents/GitHub/Org_OptTrot/OptTrot/opttrot/c_src/pauli_bn/pauli_bn_methods.c -o build/temp.macosx-11.1-arm64-cpython-312/Users/hyunseongkim/Documents/GitHub/Org_OptTrot/OptTrot/opttrot/c_src/pauli_bn/pauli_bn_methods.o\n",
      "In file included from /Users/hyunseongkim/Documents/GitHub/Org_OptTrot/OptTrot/opttrot/c_src/pauli_bn/pauli_bn_methods.c:1:\n",
      "In file included from /Users/hyunseongkim/Documents/GitHub/Org_OptTrot/OptTrot/opttrot/c_src/pauli_bn/pauli_bn_methods.h:5:\n",
      "In file included from /Users/hyunseongkim/miniconda3/envs/opttrot/lib/python3.12/site-packages/numpy/core/include/numpy/ndarrayobject.h:12:\n",
      "In file included from /Users/hyunseongkim/miniconda3/envs/opttrot/lib/python3.12/site-packages/numpy/core/include/numpy/ndarraytypes.h:1929:\n",
      "\u001b[1m/Users/hyunseongkim/miniconda3/envs/opttrot/lib/python3.12/site-packages/numpy/core/include/numpy/npy_1_7_deprecated_api.h:17:2: \u001b[0m\u001b[0;1;35mwarning: \u001b[0m\u001b[1m\"Using deprecated NumPy API, disable it with \"          \"#define NPY_NO_DEPRECATED_API NPY_1_7_API_VERSION\" [-W#warnings]\u001b[0m\n",
      "#warning \"Using deprecated NumPy API, disable it with \" \\\n",
      "\u001b[0;1;32m ^\n",
      "\u001b[0m1 warning generated.\n",
      "clang -fno-strict-overflow -DNDEBUG -O2 -Wall -fPIC -O2 -isystem /Users/hyunseongkim/miniconda3/envs/opttrot/include -arch arm64 -fPIC -O2 -isystem /Users/hyunseongkim/miniconda3/envs/opttrot/include -arch arm64 -I/Users/hyunseongkim/Documents/GitHub/Org_OptTrot/OptTrot/opttrot -I/Users/hyunseongkim/Documents/GitHub/Org_OptTrot/OptTrot/opttrot/c_src -I/Users/hyunseongkim/Documents/GitHub/Org_OptTrot/OptTrot/opttrot/c_src/bn -I/Users/hyunseongkim/Documents/GitHub/Org_OptTrot/OptTrot/opttrot/c_src/pauli_bn -I/Users/hyunseongkim/miniconda3/envs/opttrot/lib/python3.12/site-packages/numpy/core/include -I/Users/hyunseongkim/miniconda3/envs/opttrot/include/python3.12 -c /Users/hyunseongkim/Documents/GitHub/Org_OptTrot/OptTrot/opttrot/c_src/pauli_bn/pauli_bn_utils.c -o build/temp.macosx-11.1-arm64-cpython-312/Users/hyunseongkim/Documents/GitHub/Org_OptTrot/OptTrot/opttrot/c_src/pauli_bn/pauli_bn_utils.o\n",
      "clang -fno-strict-overflow -DNDEBUG -O2 -Wall -fPIC -O2 -isystem /Users/hyunseongkim/miniconda3/envs/opttrot/include -arch arm64 -fPIC -O2 -isystem /Users/hyunseongkim/miniconda3/envs/opttrot/include -arch arm64 -I/Users/hyunseongkim/Documents/GitHub/Org_OptTrot/OptTrot/opttrot -I/Users/hyunseongkim/Documents/GitHub/Org_OptTrot/OptTrot/opttrot/c_src -I/Users/hyunseongkim/Documents/GitHub/Org_OptTrot/OptTrot/opttrot/c_src/bn -I/Users/hyunseongkim/Documents/GitHub/Org_OptTrot/OptTrot/opttrot/c_src/pauli_bn -I/Users/hyunseongkim/miniconda3/envs/opttrot/lib/python3.12/site-packages/numpy/core/include -I/Users/hyunseongkim/miniconda3/envs/opttrot/include/python3.12 -c /Users/hyunseongkim/Documents/GitHub/Org_OptTrot/OptTrot/opttrot/c_src/pauli_c.c -o build/temp.macosx-11.1-arm64-cpython-312/Users/hyunseongkim/Documents/GitHub/Org_OptTrot/OptTrot/opttrot/c_src/pauli_c.o\n",
      "In file included from /Users/hyunseongkim/Documents/GitHub/Org_OptTrot/OptTrot/opttrot/c_src/pauli_c.c:1:\n",
      "In file included from /Users/hyunseongkim/Documents/GitHub/Org_OptTrot/OptTrot/opttrot/c_src/pauli_c.h:10:\n",
      "In file included from /Users/hyunseongkim/Documents/GitHub/Org_OptTrot/OptTrot/opttrot/c_src/pauli_bn/pauli_bn_methods.h:5:\n",
      "In file included from /Users/hyunseongkim/miniconda3/envs/opttrot/lib/python3.12/site-packages/numpy/core/include/numpy/ndarrayobject.h:12:\n",
      "In file included from /Users/hyunseongkim/miniconda3/envs/opttrot/lib/python3.12/site-packages/numpy/core/include/numpy/ndarraytypes.h:1929:\n",
      "\u001b[1m/Users/hyunseongkim/miniconda3/envs/opttrot/lib/python3.12/site-packages/numpy/core/include/numpy/npy_1_7_deprecated_api.h:17:2: \u001b[0m\u001b[0;1;35mwarning: \u001b[0m\u001b[1m\"Using deprecated NumPy API, disable it with \"          \"#define NPY_NO_DEPRECATED_API NPY_1_7_API_VERSION\" [-W#warnings]\u001b[0m\n",
      "#warning \"Using deprecated NumPy API, disable it with \" \\\n",
      "\u001b[0;1;32m ^\n",
      "\u001b[0mIn file included from /Users/hyunseongkim/Documents/GitHub/Org_OptTrot/OptTrot/opttrot/c_src/pauli_c.c:1:\n",
      "\u001b[1m/Users/hyunseongkim/Documents/GitHub/Org_OptTrot/OptTrot/opttrot/c_src/pauli_c.h:19:20: \u001b[0m\u001b[0;1;35mwarning: \u001b[0m\u001b[1mincompatible function pointer types initializing 'PyCFunction' (aka 'struct _object *(*)(struct _object *, struct _object *)') with an expression of type 'PyObject *(void)' (aka 'struct _object *(void)') [-Wincompatible-function-pointer-types]\u001b[0m\n",
      "        .ml_meth = _bignum_bytes, \n",
      "\u001b[0;1;32m                   ^~~~~~~~~~~~~\n",
      "\u001b[0mIn file included from /Users/hyunseongkim/Documents/GitHub/Org_OptTrot/OptTrot/opttrot/c_src/pauli_c.c:1:\n",
      "In file included from /Users/hyunseongkim/Documents/GitHub/Org_OptTrot/OptTrot/opttrot/c_src/pauli_c.h:10:\n",
      "In file included from /Users/hyunseongkim/Documents/GitHub/Org_OptTrot/OptTrot/opttrot/c_src/pauli_bn/pauli_bn_methods.h:5:\n",
      "In file included from /Users/hyunseongkim/miniconda3/envs/opttrot/lib/python3.12/site-packages/numpy/core/include/numpy/ndarrayobject.h:21:\n",
      "\u001b[1m/Users/hyunseongkim/miniconda3/envs/opttrot/lib/python3.12/site-packages/numpy/core/include/numpy/__multiarray_api.h:1483:1: \u001b[0m\u001b[0;1;35mwarning: \u001b[0m\u001b[1munused function '_import_array' [-Wunused-function]\u001b[0m\n",
      "_import_array(void)\n",
      "\u001b[0;1;32m^\n",
      "\u001b[0m3 warnings generated.\n",
      "clang -bundle -undefined dynamic_lookup -Wl,-rpath,/Users/hyunseongkim/miniconda3/envs/opttrot/lib -L/Users/hyunseongkim/miniconda3/envs/opttrot/lib -Wl,-rpath,/Users/hyunseongkim/miniconda3/envs/opttrot/lib -L/Users/hyunseongkim/miniconda3/envs/opttrot/lib build/temp.macosx-11.1-arm64-cpython-312/Users/hyunseongkim/Documents/GitHub/Org_OptTrot/OptTrot/opttrot/c_src/bn/bn.o build/temp.macosx-11.1-arm64-cpython-312/Users/hyunseongkim/Documents/GitHub/Org_OptTrot/OptTrot/opttrot/c_src/bn/bn_ext.o build/temp.macosx-11.1-arm64-cpython-312/Users/hyunseongkim/Documents/GitHub/Org_OptTrot/OptTrot/opttrot/c_src/bn/bn_python.o build/temp.macosx-11.1-arm64-cpython-312/Users/hyunseongkim/Documents/GitHub/Org_OptTrot/OptTrot/opttrot/c_src/c_utils.o build/temp.macosx-11.1-arm64-cpython-312/Users/hyunseongkim/Documents/GitHub/Org_OptTrot/OptTrot/opttrot/c_src/pauli_bn/pauli_bn.o build/temp.macosx-11.1-arm64-cpython-312/Users/hyunseongkim/Documents/GitHub/Org_OptTrot/OptTrot/opttrot/c_src/pauli_bn/pauli_bn_methods.o build/temp.macosx-11.1-arm64-cpython-312/Users/hyunseongkim/Documents/GitHub/Org_OptTrot/OptTrot/opttrot/c_src/pauli_bn/pauli_bn_utils.o build/temp.macosx-11.1-arm64-cpython-312/Users/hyunseongkim/Documents/GitHub/Org_OptTrot/OptTrot/opttrot/c_src/pauli_c.o -o build/lib.macosx-11.1-arm64-cpython-312/c_utils.cpython-312-darwin.so\n",
      "ld: warning: duplicate -rpath '/Users/hyunseongkim/miniconda3/envs/opttrot/lib' ignored\n"
     ]
    }
   ],
   "source": [
    "!python ../setup.py build "
   ]
  },
  {
   "cell_type": "code",
   "execution_count": 3,
   "metadata": {},
   "outputs": [
    {
     "name": "stdout",
     "output_type": "stream",
     "text": [
      "File path of setup.py: /Users/hyunseongkim/Documents/GitHub/Org_OptTrot/OptTrot\n",
      "/Users/hyunseongkim/Documents/GitHub/Org_OptTrot/OptTrot/opttrot\n",
      "['/Users/hyunseongkim/Documents/GitHub/Org_OptTrot/OptTrot/opttrot/c_src/pauli_c.c', '/Users/hyunseongkim/Documents/GitHub/Org_OptTrot/OptTrot/opttrot/c_src/pauli_bn/pauli_bn.c', '/Users/hyunseongkim/Documents/GitHub/Org_OptTrot/OptTrot/opttrot/c_src/pauli_bn/pauli_bn_methods.c', '/Users/hyunseongkim/Documents/GitHub/Org_OptTrot/OptTrot/opttrot/c_src/pauli_bn/pauli_bn_utils.c', '/Users/hyunseongkim/Documents/GitHub/Org_OptTrot/OptTrot/opttrot/c_src/bn/bn.c', '/Users/hyunseongkim/Documents/GitHub/Org_OptTrot/OptTrot/opttrot/c_src/bn/bn_ext.c', '/Users/hyunseongkim/Documents/GitHub/Org_OptTrot/OptTrot/opttrot/c_src/bn/bn_python.c']\n",
      "['/Users/hyunseongkim/Documents/GitHub/Org_OptTrot/OptTrot/opttrot/c_src/pauli_c.c', '/Users/hyunseongkim/Documents/GitHub/Org_OptTrot/OptTrot/opttrot/c_src/pauli_bn/pauli_bn.c', '/Users/hyunseongkim/Documents/GitHub/Org_OptTrot/OptTrot/opttrot/c_src/pauli_bn/pauli_bn_methods.c', '/Users/hyunseongkim/Documents/GitHub/Org_OptTrot/OptTrot/opttrot/c_src/pauli_bn/pauli_bn_utils.c', '/Users/hyunseongkim/Documents/GitHub/Org_OptTrot/OptTrot/opttrot/c_src/bn/bn.c', '/Users/hyunseongkim/Documents/GitHub/Org_OptTrot/OptTrot/opttrot/c_src/bn/bn_ext.c', '/Users/hyunseongkim/Documents/GitHub/Org_OptTrot/OptTrot/opttrot/c_src/bn/bn_python.c', '/Users/hyunseongkim/Documents/GitHub/Org_OptTrot/OptTrot/opttrot/c_src/c_utils.c']\n",
      "['/Users/hyunseongkim/Documents/GitHub/Org_OptTrot/OptTrot/opttrot', '/Users/hyunseongkim/Documents/GitHub/Org_OptTrot/OptTrot/opttrot/c_src', '/Users/hyunseongkim/Documents/GitHub/Org_OptTrot/OptTrot/opttrot/c_src/bn', '/Users/hyunseongkim/Documents/GitHub/Org_OptTrot/OptTrot/opttrot/c_src/pauli_bn', '/Users/hyunseongkim/miniconda3/envs/opttrot/lib/python3.12/site-packages/numpy/core/include']\n",
      "running build_ext\n",
      "copying build/lib.macosx-11.1-arm64-cpython-312/pauli_c.cpython-312-darwin.so -> /Users/hyunseongkim/Documents/GitHub/Org_OptTrot/OptTrot/opttrot\n",
      "copying build/lib.macosx-11.1-arm64-cpython-312/c_utils.cpython-312-darwin.so -> /Users/hyunseongkim/Documents/GitHub/Org_OptTrot/OptTrot/opttrot\n"
     ]
    }
   ],
   "source": [
    "!python ../setup.py build_ext --inplace"
   ]
  },
  {
   "cell_type": "code",
   "execution_count": 3,
   "metadata": {},
   "outputs": [],
   "source": [
    "import os, sys\n",
    "sys.path.append(\"..\")"
   ]
  },
  {
   "cell_type": "markdown",
   "metadata": {},
   "source": [
    "## PauliElement "
   ]
  },
  {
   "cell_type": "code",
   "execution_count": 4,
   "metadata": {},
   "outputs": [],
   "source": [
    "from opttrot.pauli import PauliElement\n",
    "from opttrot.pauli_c import _bignum_bytes"
   ]
  },
  {
   "cell_type": "code",
   "execution_count": 5,
   "metadata": {},
   "outputs": [
    {
     "data": {
      "text/plain": [
       "512"
      ]
     },
     "execution_count": 5,
     "metadata": {},
     "output_type": "execute_result"
    }
   ],
   "source": [
    "_bignum_bytes()"
   ]
  },
  {
   "cell_type": "code",
   "execution_count": 6,
   "metadata": {},
   "outputs": [],
   "source": [
    "from opttrot.pauli_c import PauliElement"
   ]
  },
  {
   "cell_type": "code",
   "execution_count": 7,
   "metadata": {},
   "outputs": [
    {
     "name": "stdout",
     "output_type": "stream",
     "text": [
      "Help on class PauliElement:\n",
      "\n",
      "class PauliElement(builtins.object)\n",
      " |  Basic Pauli element\n",
      " |\n",
      " |  Methods defined here:\n",
      " |\n",
      " |  __add__(self, value, /)\n",
      " |      Return self+value.\n",
      " |\n",
      " |  __eq__(self, value, /)\n",
      " |      Return self==value.\n",
      " |\n",
      " |  __ge__(self, value, /)\n",
      " |      Return self>=value.\n",
      " |\n",
      " |  __gt__(self, value, /)\n",
      " |      Return self>value.\n",
      " |\n",
      " |  __hash__(self, /)\n",
      " |      Return hash(self).\n",
      " |\n",
      " |  __init__(self, /, *args, **kwargs)\n",
      " |      Initialize self.  See help(type(self)) for accurate signature.\n",
      " |\n",
      " |  __le__(self, value, /)\n",
      " |      Return self<=value.\n",
      " |\n",
      " |  __lt__(self, value, /)\n",
      " |      Return self<value.\n",
      " |\n",
      " |  __matmul__(self, value, /)\n",
      " |      Return self@value.\n",
      " |\n",
      " |  __mul__(self, value, /)\n",
      " |      Return self*value.\n",
      " |\n",
      " |  __ne__(self, value, /)\n",
      " |      Return self!=value.\n",
      " |\n",
      " |  __radd__(self, value, /)\n",
      " |      Return value+self.\n",
      " |\n",
      " |  __repr__(self, /)\n",
      " |      Return repr(self).\n",
      " |\n",
      " |  __rmatmul__(self, value, /)\n",
      " |      Return value@self.\n",
      " |\n",
      " |  __rmul__(self, value, /)\n",
      " |      Return value*self.\n",
      " |\n",
      " |  __rsub__(self, value, /)\n",
      " |      Return value-self.\n",
      " |\n",
      " |  __str__(self, /)\n",
      " |      Return str(self).\n",
      " |\n",
      " |  __sub__(self, value, /)\n",
      " |      Return self-value.\n",
      " |\n",
      " |  commute(...)\n",
      " |      Check the commutation relationship between two Pauli elements.\n",
      " |\n",
      " |  exact_eq(...)\n",
      " |      Exact comparsion of two Pauli elements, including phase, dim, and weight.\n",
      " |\n",
      " |  otimes(...)\n",
      " |      Compute the Kronecker product of two Pauli elements.\n",
      " |\n",
      " |  ----------------------------------------------------------------------\n",
      " |  Static methods defined here:\n",
      " |\n",
      " |  __new__(*args, **kwargs)\n",
      " |      Create and return a new object.  See help(type) for accurate signature.\n",
      " |\n",
      " |  ----------------------------------------------------------------------\n",
      " |  Data descriptors defined here:\n",
      " |\n",
      " |  f\n",
      " |      Phase exponential factor, (-i)^f.\n",
      " |\n",
      " |  ij_code\n",
      " |      Index of Pauli element in coefficient matrix.\n",
      " |\n",
      " |  n\n",
      " |      qubits\n",
      " |\n",
      " |  nx\n",
      " |      x code\n",
      " |\n",
      " |  nz\n",
      " |      z code\n",
      " |\n",
      " |  pstr\n",
      " |      Pauli string\n",
      " |\n",
      " |  sym_code\n",
      " |      Symplectic representation of Pauli element.\n",
      " |\n",
      " |  weight\n",
      " |      Weight\n",
      "\n"
     ]
    }
   ],
   "source": [
    "help(PauliElement)"
   ]
  },
  {
   "cell_type": "markdown",
   "metadata": {},
   "source": [
    "## Pauli string test"
   ]
  },
  {
   "cell_type": "markdown",
   "metadata": {},
   "source": [
    "Error: work well for <32 but error for >=32."
   ]
  },
  {
   "cell_type": "code",
   "execution_count": 6,
   "metadata": {},
   "outputs": [
    {
     "name": "stdout",
     "output_type": "stream",
     "text": [
      "4 4\n"
     ]
    }
   ],
   "source": [
    "n = 32\n",
    "p00 = PauliElement(nx=30, nz= 6, n=n, weight=0.124)\n",
    "p01 = PauliElement(nx=5, nz= 5, n=n, weight=0.124)\n",
    "print(len(p00.pstr), len(p01.pstr))\n"
   ]
  },
  {
   "cell_type": "code",
   "execution_count": 7,
   "metadata": {},
   "outputs": [
    {
     "data": {
      "text/plain": [
       "PauliElement(n=32, weight=0.124000+(0.000000)j, XYYI)"
      ]
     },
     "execution_count": 7,
     "metadata": {},
     "output_type": "execute_result"
    }
   ],
   "source": [
    "p00"
   ]
  },
  {
   "cell_type": "markdown",
   "metadata": {},
   "source": [
    "## Speed comparsion"
   ]
  },
  {
   "cell_type": "code",
   "execution_count": 8,
   "metadata": {},
   "outputs": [],
   "source": [
    "from numbers import Number\n",
    "from functools import reduce\n",
    "import numpy as np"
   ]
  },
  {
   "cell_type": "markdown",
   "metadata": {},
   "source": [
    "## Compare with Qiskit"
   ]
  },
  {
   "cell_type": "code",
   "execution_count": 9,
   "metadata": {},
   "outputs": [],
   "source": [
    "def to_qiskit(self):\n",
    "    from qiskit.quantum_info import Pauli as qiskit_Pauli\n",
    "    x_array = np.flip(np.array([int(b) for b in format(self.nx, f\"0{self.n}b\")], dtype=np.uint))\n",
    "    z_array = np.flip(np.array([int(b) for b in format(self.nz, f\"0{self.n}b\")], dtype=np.uint))\n",
    "    return self.weight, qiskit_Pauli((z_array, x_array))"
   ]
  },
  {
   "cell_type": "code",
   "execution_count": 10,
   "metadata": {},
   "outputs": [],
   "source": [
    "p00 = PauliElement(nx=3, nz= 6, n=n, weight=0.124)\n",
    "p01 = PauliElement(nx=5, nz= 5, n=n, weight=0.124)\n",
    "w00, q_p00 = to_qiskit(p00)\n",
    "w01, q_p01 = to_qiskit(p01)\n"
   ]
  },
  {
   "cell_type": "code",
   "execution_count": 11,
   "metadata": {},
   "outputs": [
    {
     "data": {
      "text/plain": [
       "Pauli('IIIIIIIIIIIIIIIIIIIIIIIIIIIIIXYZ')"
      ]
     },
     "execution_count": 11,
     "metadata": {},
     "output_type": "execute_result"
    }
   ],
   "source": [
    "q_p00.compose(q_p01)"
   ]
  },
  {
   "cell_type": "code",
   "execution_count": 12,
   "metadata": {},
   "outputs": [
    {
     "data": {
      "text/plain": [
       "'IXYZ'"
      ]
     },
     "execution_count": 12,
     "metadata": {},
     "output_type": "execute_result"
    }
   ],
   "source": [
    "p02= p00@p01\n",
    "p02.pstr"
   ]
  },
  {
   "cell_type": "markdown",
   "metadata": {},
   "source": [
    "## Speed"
   ]
  },
  {
   "cell_type": "markdown",
   "metadata": {},
   "source": [
    "### Qiskit"
   ]
  },
  {
   "cell_type": "code",
   "execution_count": 13,
   "metadata": {},
   "outputs": [
    {
     "name": "stdout",
     "output_type": "stream",
     "text": [
      "28.1 µs ± 342 ns per loop (mean ± std. dev. of 7 runs, 10,000 loops each)\n"
     ]
    }
   ],
   "source": [
    "%%timeit\n",
    "q_p00.compose(q_p01)"
   ]
  },
  {
   "cell_type": "markdown",
   "metadata": {},
   "source": [
    "### OptTrot"
   ]
  },
  {
   "cell_type": "code",
   "execution_count": 14,
   "metadata": {},
   "outputs": [
    {
     "name": "stdout",
     "output_type": "stream",
     "text": [
      "1.39 µs ± 9.93 ns per loop (mean ± std. dev. of 7 runs, 1,000,000 loops each)\n"
     ]
    }
   ],
   "source": [
    "%%timeit\n",
    "p00@p01"
   ]
  },
  {
   "cell_type": "markdown",
   "metadata": {},
   "source": [
    "### Numpy binary"
   ]
  },
  {
   "cell_type": "code",
   "execution_count": 15,
   "metadata": {},
   "outputs": [],
   "source": [
    "import numpy as np\n",
    "\n",
    "nx1= np.random.randint(0, 2, size=n, dtype=bool)\n",
    "nz1= np.random.randint(0, 2, size=n, dtype=bool)\n",
    "nx2= np.random.randint(0, 2, size=n, dtype=bool)\n",
    "nz2= np.random.randint(0, 2, size=n, dtype=bool)\n",
    "f1 = 3\n",
    "f2 = 4\n"
   ]
  },
  {
   "cell_type": "code",
   "execution_count": 16,
   "metadata": {},
   "outputs": [
    {
     "name": "stdout",
     "output_type": "stream",
     "text": [
      "11.6 µs ± 161 ns per loop (mean ± std. dev. of 7 runs, 100,000 loops each)\n"
     ]
    }
   ],
   "source": [
    "%%timeit\n",
    "nx3 = np.bitwise_xor(nx1, nx2)\n",
    "nz3 = np.bitwise_xor(nz1, nz2)\n",
    "f3 = f1+f2 + 2*np.bitwise_and(nx1, nz2).astype(int).sum() -  np.bitwise_and(nx3, nz3).astype(int).sum()"
   ]
  },
  {
   "cell_type": "markdown",
   "metadata": {},
   "source": [
    "### Result\n",
    "\n",
    "- OS: Windows\n",
    "- CPU: Ryzen 5 \n",
    "- Python: 3.11.8\n",
    "\n",
    "\n",
    "|Qiskit| OptTrot| Nb|\n",
    "|:--:|:--:|:--:|\n",
    "|27.9 µs ± 1.38 µs|1.35 µs ± 25.2 ns|11.4 µs ± 102 ns|\n",
    "\n",
    "- OS: Mac\n",
    "- CPU: M2\n",
    "- Python 3.12.4\n",
    "\n",
    "|Qiskit| OptTrot| Nb|\n",
    "|:--:|:--:|:--:|\n",
    "|7.92 µs ± 262 ns|675 ns ± 25.2 ns|6.48 µs ± 96 ns|\n"
   ]
  },
  {
   "cell_type": "markdown",
   "metadata": {},
   "source": [
    "## Algebra"
   ]
  },
  {
   "cell_type": "markdown",
   "metadata": {},
   "source": [
    "### Add"
   ]
  },
  {
   "cell_type": "markdown",
   "metadata": {},
   "source": [
    "$$0.5 YZ, 0.5 * (-)YZ$$"
   ]
  },
  {
   "cell_type": "code",
   "execution_count": 17,
   "metadata": {},
   "outputs": [],
   "source": [
    "n = 2\n",
    "p1  = PauliElement(2, 3, n, 0.5)\n",
    "p1f = PauliElement(2, 3, n, 0.5)\n",
    "p2f = PauliElement(2, 3, n, 0.25)\n",
    "p3f = PauliElement(2, 3, n, 0.25)"
   ]
  },
  {
   "cell_type": "code",
   "execution_count": 18,
   "metadata": {},
   "outputs": [
    {
     "data": {
      "text/plain": [
       "(1, 1)"
      ]
     },
     "execution_count": 18,
     "metadata": {},
     "output_type": "execute_result"
    }
   ],
   "source": [
    "p1.f, p1f.f"
   ]
  },
  {
   "cell_type": "code",
   "execution_count": 19,
   "metadata": {},
   "outputs": [
    {
     "data": {
      "text/plain": [
       "PauliElement(n=2, weight=1.000000+(0.000000)j, YZ)"
      ]
     },
     "execution_count": 19,
     "metadata": {},
     "output_type": "execute_result"
    }
   ],
   "source": [
    "p1+p1f # must be 1 YZ"
   ]
  },
  {
   "cell_type": "code",
   "execution_count": 20,
   "metadata": {},
   "outputs": [
    {
     "data": {
      "text/plain": [
       "PauliElement(n=2, weight=0.750000+(0.000000)j, YZ)"
      ]
     },
     "execution_count": 20,
     "metadata": {},
     "output_type": "execute_result"
    }
   ],
   "source": [
    "p1+p2f"
   ]
  },
  {
   "cell_type": "code",
   "execution_count": 21,
   "metadata": {},
   "outputs": [
    {
     "data": {
      "text/plain": [
       "PauliElement(n=2, weight=0.750000+(0.000000)j, YZ)"
      ]
     },
     "execution_count": 21,
     "metadata": {},
     "output_type": "execute_result"
    }
   ],
   "source": [
    "p1+p3f # (0.5 + 0.25i) YZ"
   ]
  },
  {
   "cell_type": "code",
   "execution_count": 22,
   "metadata": {},
   "outputs": [
    {
     "data": {
      "text/plain": [
       "PauliElement(n=2, weight=1.000000+(0.000000)j, YZ)"
      ]
     },
     "execution_count": 22,
     "metadata": {},
     "output_type": "execute_result"
    }
   ],
   "source": [
    "p1+p1 # YZ"
   ]
  },
  {
   "cell_type": "markdown",
   "metadata": {},
   "source": [
    "### Mul"
   ]
  },
  {
   "cell_type": "code",
   "execution_count": 23,
   "metadata": {},
   "outputs": [
    {
     "data": {
      "text/plain": [
       "PauliElement(n=4, weight=0.500000+(0.000000)j, IIYY)"
      ]
     },
     "execution_count": 23,
     "metadata": {},
     "output_type": "execute_result"
    }
   ],
   "source": [
    "pm1 = PauliElement(3, 3, 4, 0.5)\n",
    "pm1"
   ]
  },
  {
   "cell_type": "code",
   "execution_count": 24,
   "metadata": {},
   "outputs": [
    {
     "data": {
      "text/plain": [
       "PauliElement(n=4, weight=2.500000+(0.000000)j, IIYY)"
      ]
     },
     "execution_count": 24,
     "metadata": {},
     "output_type": "execute_result"
    }
   ],
   "source": [
    "5*pm1"
   ]
  },
  {
   "cell_type": "code",
   "execution_count": 25,
   "metadata": {},
   "outputs": [
    {
     "data": {
      "text/plain": [
       "PauliElement(n=4, weight=2.500000+(0.000000)j, IIYY)"
      ]
     },
     "execution_count": 25,
     "metadata": {},
     "output_type": "execute_result"
    }
   ],
   "source": [
    "pm1*5"
   ]
  },
  {
   "cell_type": "code",
   "execution_count": 26,
   "metadata": {},
   "outputs": [
    {
     "data": {
      "text/plain": [
       "PauliElement(n=4, weight=0.000000+(2.500000)j, IIYY)"
      ]
     },
     "execution_count": 26,
     "metadata": {},
     "output_type": "execute_result"
    }
   ],
   "source": [
    "5j*pm1"
   ]
  },
  {
   "cell_type": "code",
   "execution_count": 27,
   "metadata": {},
   "outputs": [
    {
     "data": {
      "text/plain": [
       "PauliElement(n=4, weight=0.000000+(2.500000)j, IIYY)"
      ]
     },
     "execution_count": 27,
     "metadata": {},
     "output_type": "execute_result"
    }
   ],
   "source": [
    "pm1*5j"
   ]
  },
  {
   "cell_type": "code",
   "execution_count": 28,
   "metadata": {},
   "outputs": [
    {
     "data": {
      "text/plain": [
       "PauliElement(n=2, weight=0.500000+(0.000000)j, YZ)"
      ]
     },
     "execution_count": 28,
     "metadata": {},
     "output_type": "execute_result"
    }
   ],
   "source": [
    "p1f"
   ]
  },
  {
   "cell_type": "code",
   "execution_count": 29,
   "metadata": {},
   "outputs": [
    {
     "data": {
      "text/plain": [
       "1"
      ]
     },
     "execution_count": 29,
     "metadata": {},
     "output_type": "execute_result"
    }
   ],
   "source": [
    "p1f.f"
   ]
  },
  {
   "cell_type": "markdown",
   "metadata": {},
   "source": [
    "#### Phase test\n",
    "\n",
    "|$P_0$|$P_1$|$P_2$|Phase|\n",
    "|:---:|:---:|:---:|:---:|\n",
    "|  X  |  X  |  I  |1    |\n",
    "|  X  |  Y  |  Z  |i    |\n",
    "|  X  |  Z  |  Y  |-i   |\n",
    "|  Y  |  X  |  Z  |-i    |\n",
    "|  Y  |  Y  |  I  |1    |\n",
    "|  Y  |  Z  |  X  |i    |\n",
    "|  Z  |  X  |  Y  |i    |\n",
    "|  Z  |  Y  |  X  |-i   |\n",
    "|  Z  |  Z  |  I  |1    |\n"
   ]
  },
  {
   "cell_type": "code",
   "execution_count": 30,
   "metadata": {},
   "outputs": [],
   "source": [
    "from itertools import product"
   ]
  },
  {
   "cell_type": "code",
   "execution_count": 31,
   "metadata": {},
   "outputs": [],
   "source": [
    "px = PauliElement(nx=1,nz=0, n=1, weight= 1)\n",
    "pz = PauliElement(nx=0,nz=1, n=1, weight= 1)\n",
    "py = PauliElement(nx=1,nz=1, n=1, weight= 1)\n",
    "ps = [px, py, pz]"
   ]
  },
  {
   "cell_type": "code",
   "execution_count": 34,
   "metadata": {},
   "outputs": [
    {
     "name": "stdout",
     "output_type": "stream",
     "text": [
      "X , X = \t((1+0j))\tI\n",
      "X , Y = \t(1j)\tZ\n",
      "X , Z = \t(-1j)\tY\n",
      "Y , X = \t(-1j)\tZ\n",
      "Y , Y = \t((1+0j))\tI\n",
      "Y , Z = \t(1j)\tX\n",
      "Z , X = \t(1j)\tY\n",
      "Z , Y = \t(-1j)\tX\n",
      "Z , Z = \t((1+0j))\tI\n"
     ]
    }
   ],
   "source": [
    "for (p1, p2) in product(ps, ps):\n",
    "    p3 = (p1@p2)\n",
    "    print(f\"{p1.pstr} , {p2.pstr} = \\t({p3.weight})\\t{p3.pstr}\")"
   ]
  },
  {
   "cell_type": "markdown",
   "metadata": {},
   "source": [
    "\n",
    "$$(-i)^1 Y * (-i)^3 Y = I$$\n",
    "$$(-i)^2 Y * (-i)^3 Y = -i I$$"
   ]
  },
  {
   "cell_type": "code",
   "execution_count": 35,
   "metadata": {},
   "outputs": [],
   "source": [
    "py0 = PauliElement(nx=1,nz=1, n=1, weight= 1)\n",
    "py1 = PauliElement(nx=1,nz=1, n=1, weight= -1j)\n",
    "py2 = PauliElement(nx=1,nz=1, n=1, weight= -1)\n",
    "py3 = PauliElement(nx=1,nz=1, n=1, weight= 1j)"
   ]
  },
  {
   "cell_type": "code",
   "execution_count": 36,
   "metadata": {},
   "outputs": [
    {
     "data": {
      "text/plain": [
       "PauliElement(n=1, weight=1.000000+(0.000000)j, I)"
      ]
     },
     "execution_count": 36,
     "metadata": {},
     "output_type": "execute_result"
    }
   ],
   "source": [
    "py1@py3"
   ]
  },
  {
   "cell_type": "code",
   "execution_count": 37,
   "metadata": {},
   "outputs": [
    {
     "data": {
      "text/plain": [
       "PauliElement(n=1, weight=0.000000+(-1.000000)j, I)"
      ]
     },
     "execution_count": 37,
     "metadata": {},
     "output_type": "execute_result"
    }
   ],
   "source": [
    "py2@py3"
   ]
  },
  {
   "cell_type": "markdown",
   "metadata": {},
   "source": [
    "### Commute relationship"
   ]
  },
  {
   "cell_type": "code",
   "execution_count": 38,
   "metadata": {},
   "outputs": [
    {
     "name": "stdout",
     "output_type": "stream",
     "text": [
      "IXX IYX\n"
     ]
    }
   ],
   "source": [
    "pxx = PauliElement(3,0, 3, 1)\n",
    "pyx = PauliElement(3,2, 3, 1)\n",
    "print(pxx, pyx)"
   ]
  },
  {
   "cell_type": "code",
   "execution_count": 39,
   "metadata": {},
   "outputs": [
    {
     "data": {
      "text/plain": [
       "(False, False)"
      ]
     },
     "execution_count": 39,
     "metadata": {},
     "output_type": "execute_result"
    }
   ],
   "source": [
    "pxx.commute(pyx), pyx.commute(pxx)"
   ]
  },
  {
   "cell_type": "code",
   "execution_count": 40,
   "metadata": {},
   "outputs": [
    {
     "data": {
      "text/plain": [
       "PauliElement(n=3, weight=0.000000+(-2.000000)j, IZI)"
      ]
     },
     "execution_count": 40,
     "metadata": {},
     "output_type": "execute_result"
    }
   ],
   "source": [
    "pyx@pxx  - pxx@pyx"
   ]
  },
  {
   "cell_type": "code",
   "execution_count": 41,
   "metadata": {},
   "outputs": [
    {
     "name": "stdout",
     "output_type": "stream",
     "text": [
      "IXX IYY\n"
     ]
    }
   ],
   "source": [
    "pxx = PauliElement(3,0, 3, 1)\n",
    "pyy = PauliElement(3,3, 3, 1)\n",
    "print(pxx, pyy)"
   ]
  },
  {
   "cell_type": "code",
   "execution_count": 42,
   "metadata": {},
   "outputs": [
    {
     "data": {
      "text/plain": [
       "(True, True)"
      ]
     },
     "execution_count": 42,
     "metadata": {},
     "output_type": "execute_result"
    }
   ],
   "source": [
    "pxx.commute(pyy), pxx.commute(pyy) # True"
   ]
  },
  {
   "cell_type": "code",
   "execution_count": 43,
   "metadata": {},
   "outputs": [
    {
     "data": {
      "text/plain": [
       "PauliElement(n=3, weight=0.000000+(0.000000)j, IZZ)"
      ]
     },
     "execution_count": 43,
     "metadata": {},
     "output_type": "execute_result"
    }
   ],
   "source": [
    "pxx@pyy - pyy@pxx"
   ]
  },
  {
   "cell_type": "markdown",
   "metadata": {},
   "source": [
    "## PauliPoly routine design\n",
    "\n",
    "1. Numpy array\n",
    "2. dict and set\n",
    "3. CSR matrix, row, col, values\n",
    "\n",
    "### Numpy Array test"
   ]
  },
  {
   "cell_type": "code",
   "execution_count": 47,
   "metadata": {},
   "outputs": [],
   "source": [
    "import os, sys\n",
    "sys.path.append(\"..\")"
   ]
  },
  {
   "cell_type": "code",
   "execution_count": 6,
   "metadata": {},
   "outputs": [],
   "source": [
    "from opttrot.pauli import PauliElement\n",
    "from opttrot.pauli import PauliPoly\n",
    "\n",
    "import numpy as np"
   ]
  },
  {
   "cell_type": "code",
   "execution_count": 7,
   "metadata": {},
   "outputs": [],
   "source": [
    "n = 3\n",
    "plist1 = [\n",
    "    PauliElement(3, 5, n, 1),\n",
    "    PauliElement(3, 1, n, 1),\n",
    "    PauliElement(0, 4, n, 1),\n",
    "    PauliElement(4, 2, n, 1),\n",
    "]\n",
    "plist2 = [\n",
    "    PauliElement(1, 1, n, 1),\n",
    "    PauliElement(3, 0, n, 1),\n",
    "    PauliElement(2, 2, n, 1),\n",
    "    PauliElement(2, 5, n, 1),\n",
    "    PauliElement(4, 4, n, 1),\n",
    "    PauliElement(3, 5, n, 1),\n",
    "    PauliElement(3, 1, n, 1),\n",
    "]"
   ]
  },
  {
   "cell_type": "code",
   "execution_count": 8,
   "metadata": {},
   "outputs": [],
   "source": [
    "p_arr = np.array(plist1)\n",
    "p_poly = PauliPoly(plist1)\n",
    "p_arr2 = np.array(plist2)"
   ]
  },
  {
   "cell_type": "code",
   "execution_count": 9,
   "metadata": {},
   "outputs": [],
   "source": [
    "p_arr.sort()"
   ]
  },
  {
   "cell_type": "code",
   "execution_count": 10,
   "metadata": {},
   "outputs": [
    {
     "data": {
      "text/plain": [
       "array([PauliElement(n=3, weight=1.000000+(0.000000)j, ZII),\n",
       "       PauliElement(n=3, weight=1.000000+(0.000000)j, IXY),\n",
       "       PauliElement(n=3, weight=1.000000+(0.000000)j, ZXY),\n",
       "       PauliElement(n=3, weight=1.000000+(0.000000)j, XZI)], dtype=object)"
      ]
     },
     "execution_count": 10,
     "metadata": {},
     "output_type": "execute_result"
    }
   ],
   "source": [
    "p_arr"
   ]
  },
  {
   "cell_type": "code",
   "execution_count": 11,
   "metadata": {},
   "outputs": [],
   "source": [
    "pmat = p_poly.matrix"
   ]
  },
  {
   "cell_type": "code",
   "execution_count": 12,
   "metadata": {},
   "outputs": [
    {
     "name": "stdout",
     "output_type": "stream",
     "text": [
      "523 ns ± 24.8 ns per loop (mean ± std. dev. of 7 runs, 1,000,000 loops each)\n"
     ]
    }
   ],
   "source": [
    "%%timeit\n",
    "-0.25j*pmat"
   ]
  },
  {
   "cell_type": "code",
   "execution_count": 13,
   "metadata": {},
   "outputs": [
    {
     "name": "stdout",
     "output_type": "stream",
     "text": [
      "2.11 μs ± 242 ns per loop (mean ± std. dev. of 7 runs, 100,000 loops each)\n"
     ]
    }
   ],
   "source": [
    "%%timeit\n",
    "-0.25j*p_arr"
   ]
  },
  {
   "cell_type": "code",
   "execution_count": 14,
   "metadata": {},
   "outputs": [
    {
     "name": "stdout",
     "output_type": "stream",
     "text": [
      "609 ns ± 6.74 ns per loop (mean ± std. dev. of 7 runs, 1,000,000 loops each)\n"
     ]
    }
   ],
   "source": [
    "%%timeit\n",
    "pmat + pmat + pmat"
   ]
  },
  {
   "cell_type": "code",
   "execution_count": 15,
   "metadata": {},
   "outputs": [
    {
     "name": "stdout",
     "output_type": "stream",
     "text": [
      "2.15 μs ± 187 ns per loop (mean ± std. dev. of 7 runs, 100,000 loops each)\n"
     ]
    }
   ],
   "source": [
    "%%timeit\n",
    "p_arr+ p_arr + p_arr"
   ]
  },
  {
   "cell_type": "code",
   "execution_count": 16,
   "metadata": {},
   "outputs": [
    {
     "data": {
      "text/plain": [
       "array([PauliElement(n=3, weight=1.000000+(0.000000)j, IXY),\n",
       "       PauliElement(n=3, weight=1.000000+(0.000000)j, ZXY)], dtype=object)"
      ]
     },
     "execution_count": 16,
     "metadata": {},
     "output_type": "execute_result"
    }
   ],
   "source": [
    "np.intersect1d(p_arr, p_arr2)"
   ]
  },
  {
   "cell_type": "code",
   "execution_count": 17,
   "metadata": {},
   "outputs": [
    {
     "data": {
      "text/plain": [
       "array([PauliElement(n=3, weight=1.000000+(0.000000)j, ZII),\n",
       "       PauliElement(n=3, weight=1.000000+(0.000000)j, IIY),\n",
       "       PauliElement(n=3, weight=1.000000+(0.000000)j, IYI),\n",
       "       PauliElement(n=3, weight=1.000000+(0.000000)j, ZXZ),\n",
       "       PauliElement(n=3, weight=1.000000+(0.000000)j, IXX),\n",
       "       PauliElement(n=3, weight=1.000000+(0.000000)j, XZI),\n",
       "       PauliElement(n=3, weight=1.000000+(0.000000)j, YII)], dtype=object)"
      ]
     },
     "execution_count": 17,
     "metadata": {},
     "output_type": "execute_result"
    }
   ],
   "source": [
    "np.setxor1d(p_arr, p_arr2)"
   ]
  },
  {
   "cell_type": "code",
   "execution_count": 18,
   "metadata": {},
   "outputs": [
    {
     "ename": "ValueError",
     "evalue": "matmul: Input operand 1 has a mismatch in its core dimension 0, with gufunc signature (n?,k),(k,m?)->(n?,m?) (size 7 is different from 4)",
     "output_type": "error",
     "traceback": [
      "\u001b[0;31m---------------------------------------------------------------------------\u001b[0m",
      "\u001b[0;31mValueError\u001b[0m                                Traceback (most recent call last)",
      "Cell \u001b[0;32mIn[18], line 1\u001b[0m\n\u001b[0;32m----> 1\u001b[0m \u001b[43mp_arr\u001b[49m\u001b[38;5;129;43m@p_arr2\u001b[39;49m\n",
      "\u001b[0;31mValueError\u001b[0m: matmul: Input operand 1 has a mismatch in its core dimension 0, with gufunc signature (n?,k),(k,m?)->(n?,m?) (size 7 is different from 4)"
     ]
    }
   ],
   "source": [
    "p_arr@p_arr2"
   ]
  },
  {
   "cell_type": "code",
   "execution_count": null,
   "metadata": {},
   "outputs": [
    {
     "name": "stdout",
     "output_type": "stream",
     "text": [
      "2.15 μs ± 36.7 ns per loop (mean ± std. dev. of 7 runs, 100,000 loops each)\n"
     ]
    }
   ],
   "source": [
    "%%timeit\n",
    "p_arr+ p_arr"
   ]
  },
  {
   "cell_type": "code",
   "execution_count": null,
   "metadata": {},
   "outputs": [
    {
     "name": "stdout",
     "output_type": "stream",
     "text": [
      "5.24 μs ± 30 ns per loop (mean ± std. dev. of 7 runs, 100,000 loops each)\n"
     ]
    }
   ],
   "source": [
    "%%timeit\n",
    "p_arr + PauliElement(3, 5, n, 1)"
   ]
  },
  {
   "cell_type": "code",
   "execution_count": null,
   "metadata": {},
   "outputs": [
    {
     "data": {
      "text/plain": [
       "PauliElement(n=3, weight=1.000000+(0.000000)j, ZXX)"
      ]
     },
     "execution_count": 10,
     "metadata": {},
     "output_type": "execute_result"
    }
   ],
   "source": [
    "PauliElement(3, 4, n, 1) + PauliElement(3, 5, n, 1)"
   ]
  },
  {
   "cell_type": "code",
   "execution_count": 20,
   "metadata": {},
   "outputs": [
    {
     "data": {
      "text/plain": [
       "array([PauliElement(n=3, weight=1.000000+(0.000000)j, ZII),\n",
       "       PauliElement(n=3, weight=1.000000+(0.000000)j, IXY),\n",
       "       PauliElement(n=3, weight=1.000000+(0.000000)j, ZXY),\n",
       "       PauliElement(n=3, weight=1.000000+(0.000000)j, XZI)], dtype=object)"
      ]
     },
     "execution_count": 20,
     "metadata": {},
     "output_type": "execute_result"
    }
   ],
   "source": [
    "p_arr "
   ]
  },
  {
   "cell_type": "code",
   "execution_count": 21,
   "metadata": {},
   "outputs": [
    {
     "data": {
      "text/plain": [
       "array([PauliElement(n=3, weight=1.000000+(0.000000)j, ZII),\n",
       "       PauliElement(n=3, weight=1.000000+(0.000000)j, IXY),\n",
       "       PauliElement(n=3, weight=1.000000+(0.000000)j, ZXY),\n",
       "       PauliElement(n=3, weight=1.000000+(0.000000)j, XZI)], dtype=object)"
      ]
     },
     "execution_count": 21,
     "metadata": {},
     "output_type": "execute_result"
    }
   ],
   "source": [
    "p_arr + PauliElement(3, 5, n, 1)"
   ]
  },
  {
   "cell_type": "markdown",
   "metadata": {},
   "source": [
    "## PauliPoly\n",
    "\n",
    "1. Summation Poly + poly\n",
    "2. Scalar product\n",
    "3. Matrix product\n",
    "4. Matrix transformation"
   ]
  },
  {
   "cell_type": "code",
   "execution_count": 22,
   "metadata": {},
   "outputs": [],
   "source": [
    "import os, sys\n",
    "sys.path.append(\"..\")"
   ]
  },
  {
   "cell_type": "code",
   "execution_count": 23,
   "metadata": {},
   "outputs": [],
   "source": [
    "from opttrot.pauli import PauliElement, PauliPoly"
   ]
  },
  {
   "cell_type": "code",
   "execution_count": 24,
   "metadata": {},
   "outputs": [
    {
     "data": {
      "text/plain": [
       "[PauliElement(n=10, weight=1.000000+(0.000000)j, IIIIIIIZXY),\n",
       " PauliElement(n=10, weight=1.000000+(0.000000)j, IIIIIIIIXY),\n",
       " PauliElement(n=10, weight=1.000000+(0.000000)j, IIIIIIIZII),\n",
       " PauliElement(n=10, weight=1.000000+(0.000000)j, IIIIIIIXZI),\n",
       " PauliElement(n=10, weight=1.000000+(0.000000)j, IIIIIIIZXY),\n",
       " PauliElement(n=10, weight=1.000000+(0.000000)j, IIIIIIIIIY),\n",
       " PauliElement(n=10, weight=1.000000+(0.000000)j, IIIIIIIIXX),\n",
       " PauliElement(n=10, weight=1.000000+(0.000000)j, IIIIIIIIYI),\n",
       " PauliElement(n=10, weight=1.000000+(0.000000)j, IIIIIIIZXZ),\n",
       " PauliElement(n=10, weight=1.000000+(0.000000)j, IIIIIIIYII)]"
      ]
     },
     "execution_count": 24,
     "metadata": {},
     "output_type": "execute_result"
    }
   ],
   "source": [
    "n =10\n",
    "plist = [\n",
    "    PauliElement(3, 5, n, 1),\n",
    "    PauliElement(3, 1, n, 1),\n",
    "    PauliElement(0, 4, n, 1),\n",
    "    PauliElement(4, 2, n, 1),\n",
    "    PauliElement(3, 5, n, 1),\n",
    "    PauliElement(1, 1, n, 1),\n",
    "    PauliElement(3, 0, n, 1),\n",
    "    PauliElement(2, 2, n, 1),\n",
    "    PauliElement(2, 5, n, 1),\n",
    "    PauliElement(4, 4, n, 1),\n",
    "]\n",
    "plist"
   ]
  },
  {
   "cell_type": "code",
   "execution_count": 25,
   "metadata": {},
   "outputs": [
    {
     "data": {
      "text/plain": [
       "PauliPoly(terms:9)[\n",
       "((1+0j), 'IIIIIIIZII'),\n",
       "((1+0j), 'IIIIIIIIIY'),\n",
       "((1+0j), 'IIIIIIIIYI'),\n",
       "((1+0j), 'IIIIIIIZXZ'),\n",
       "((1+0j), 'IIIIIIIIXX'),\n",
       "((1+0j), 'IIIIIIIIXY'),\n",
       "((2+0j), 'IIIIIIIZXY'),\n",
       "((1+0j), 'IIIIIIIXZI'),\n",
       "((1+0j), 'IIIIIIIYII')\n",
       "]"
      ]
     },
     "execution_count": 25,
     "metadata": {},
     "output_type": "execute_result"
    }
   ],
   "source": [
    "ppoly = PauliPoly(plist)\n",
    "ppoly"
   ]
  },
  {
   "cell_type": "markdown",
   "metadata": {},
   "source": [
    "### Add"
   ]
  },
  {
   "cell_type": "code",
   "execution_count": 26,
   "metadata": {},
   "outputs": [
    {
     "data": {
      "text/plain": [
       "PauliElement(n=10, weight=1.000000+(0.000000)j, IIIIIIIIII)"
      ]
     },
     "execution_count": 26,
     "metadata": {},
     "output_type": "execute_result"
    }
   ],
   "source": [
    "PauliElement(0,0, n, 1)"
   ]
  },
  {
   "cell_type": "code",
   "execution_count": 27,
   "metadata": {},
   "outputs": [
    {
     "data": {
      "text/plain": [
       "PauliPoly(terms:10)[\n",
       "((1+0j), 'IIIIIIIIII'),\n",
       "((1+0j), 'IIIIIIIZII'),\n",
       "((1+0j), 'IIIIIIIIIY'),\n",
       "((1+0j), 'IIIIIIIIYI'),\n",
       "((1+0j), 'IIIIIIIZXZ'),\n",
       "((1+0j), 'IIIIIIIIXX'),\n",
       "((1+0j), 'IIIIIIIIXY'),\n",
       "((2+0j), 'IIIIIIIZXY'),\n",
       "((1+0j), 'IIIIIIIXZI'),\n",
       "((1+0j), 'IIIIIIIYII')\n",
       "]"
      ]
     },
     "execution_count": 27,
     "metadata": {},
     "output_type": "execute_result"
    }
   ],
   "source": [
    "ppoly + PauliElement(0,0, n, 1) "
   ]
  },
  {
   "cell_type": "code",
   "execution_count": 28,
   "metadata": {},
   "outputs": [
    {
     "data": {
      "text/plain": [
       "PauliPoly(terms:9)[\n",
       "((1+0j), 'IIIIIIIZII'),\n",
       "((1+0j), 'IIIIIIIIIY'),\n",
       "((1+0j), 'IIIIIIIIYI'),\n",
       "((1+0j), 'IIIIIIIZXZ'),\n",
       "((1+0j), 'IIIIIIIIXX'),\n",
       "((1+0j), 'IIIIIIIIXY'),\n",
       "((2+0j), 'IIIIIIIZXY'),\n",
       "((1+0j), 'IIIIIIIXZI'),\n",
       "((1+0j), 'IIIIIIIYII')\n",
       "]"
      ]
     },
     "execution_count": 28,
     "metadata": {},
     "output_type": "execute_result"
    }
   ],
   "source": [
    "ppoly"
   ]
  },
  {
   "cell_type": "code",
   "execution_count": 29,
   "metadata": {},
   "outputs": [
    {
     "data": {
      "text/plain": [
       "PauliPoly(terms:9)[\n",
       "((3+0j), 'IIIIIIIZII'),\n",
       "((3+0j), 'IIIIIIIIIY'),\n",
       "((3+0j), 'IIIIIIIIYI'),\n",
       "((3+0j), 'IIIIIIIZXZ'),\n",
       "((3+0j), 'IIIIIIIIXX'),\n",
       "((3+0j), 'IIIIIIIIXY'),\n",
       "((6+0j), 'IIIIIIIZXY'),\n",
       "((3+0j), 'IIIIIIIXZI'),\n",
       "((3+0j), 'IIIIIIIYII')\n",
       "]"
      ]
     },
     "execution_count": 29,
     "metadata": {},
     "output_type": "execute_result"
    }
   ],
   "source": [
    "3*ppoly "
   ]
  },
  {
   "cell_type": "code",
   "execution_count": 30,
   "metadata": {},
   "outputs": [
    {
     "name": "stdout",
     "output_type": "stream",
     "text": [
      "2.61 s ± 40.2 ms per loop (mean ± std. dev. of 7 runs, 1 loop each)\n"
     ]
    }
   ],
   "source": [
    "%%timeit\n",
    "pmat = ppoly.matrix"
   ]
  },
  {
   "cell_type": "code",
   "execution_count": 31,
   "metadata": {},
   "outputs": [],
   "source": [
    "import numpy as np"
   ]
  },
  {
   "cell_type": "code",
   "execution_count": 32,
   "metadata": {},
   "outputs": [
    {
     "data": {
      "text/plain": [
       "array([[1., 1., 1., 1., 1., 1., 1., 1.],\n",
       "       [1., 1., 1., 1., 1., 1., 1., 1.],\n",
       "       [1., 1., 1., 1., 1., 1., 1., 1.],\n",
       "       [1., 1., 1., 1., 1., 1., 1., 1.],\n",
       "       [1., 1., 1., 1., 1., 1., 1., 1.],\n",
       "       [1., 1., 1., 1., 1., 1., 1., 1.],\n",
       "       [1., 1., 1., 1., 1., 1., 1., 1.],\n",
       "       [1., 1., 1., 1., 1., 1., 1., 1.]])"
      ]
     },
     "execution_count": 32,
     "metadata": {},
     "output_type": "execute_result"
    }
   ],
   "source": [
    "np.ones(pmat.shape)"
   ]
  },
  {
   "cell_type": "code",
   "execution_count": 33,
   "metadata": {},
   "outputs": [],
   "source": [
    "from qiskit.quantum_info import SparsePauliOp"
   ]
  },
  {
   "cell_type": "markdown",
   "metadata": {},
   "source": [
    "### Sample pmatrix"
   ]
  },
  {
   "cell_type": "markdown",
   "metadata": {},
   "source": [
    "## Matrix construction routine"
   ]
  },
  {
   "cell_type": "code",
   "execution_count": 97,
   "metadata": {},
   "outputs": [],
   "source": [
    "from importlib import reload\n",
    "import ten_con\n",
    "reload(ten_con)\n",
    "from ten_con import _mat_to_coef_mat, _coef_to_mat"
   ]
  },
  {
   "cell_type": "code",
   "execution_count": 98,
   "metadata": {},
   "outputs": [],
   "source": [
    "from opttrot.pauli_utils import get_pstrs, pstr2sym_code"
   ]
  },
  {
   "cell_type": "code",
   "execution_count": 99,
   "metadata": {},
   "outputs": [
    {
     "data": {
      "text/plain": [
       "(5, 1)"
      ]
     },
     "execution_count": 99,
     "metadata": {},
     "output_type": "execute_result"
    }
   ],
   "source": [
    "pstr2sym_code(\"XIY\")"
   ]
  },
  {
   "cell_type": "code",
   "execution_count": 196,
   "metadata": {},
   "outputs": [],
   "source": [
    "pl = []\n",
    "n = 10\n",
    "pstrs = get_pstrs(n)\n",
    "l = len(pstrs)\n",
    "part = 4\n",
    "pstrs = pstrs[:int(l/part)]\n",
    "for p in pstrs:\n",
    "    nx, nz = pstr2sym_code(p)\n",
    "    pl.append(PauliElement(nx=nx, nz=nz, n =n, weight=1))"
   ]
  },
  {
   "cell_type": "code",
   "execution_count": 197,
   "metadata": {},
   "outputs": [],
   "source": [
    "sample_ppoly = PauliPoly(pl)\n"
   ]
  },
  {
   "cell_type": "code",
   "execution_count": 198,
   "metadata": {},
   "outputs": [],
   "source": [
    "pmat = sample_ppoly.matrix\n",
    "cmat = sample_ppoly.coef_matrix"
   ]
  },
  {
   "cell_type": "code",
   "execution_count": 199,
   "metadata": {},
   "outputs": [],
   "source": [
    "import matplotlib.pyplot as plt"
   ]
  },
  {
   "cell_type": "code",
   "execution_count": 200,
   "metadata": {},
   "outputs": [
    {
     "data": {
      "text/plain": [
       "<matplotlib.image.AxesImage at 0x12607c830>"
      ]
     },
     "execution_count": 200,
     "metadata": {},
     "output_type": "execute_result"
    },
    {
     "data": {
      "image/png": "[encoded data removed]",
      "text/plain": [
       "<Figure size 640x480 with 1 Axes>"
      ]
     },
     "metadata": {},
     "output_type": "display_data"
    }
   ],
   "source": [
    "plt.imshow(cmat.real)"
   ]
  },
  {
   "cell_type": "code",
   "execution_count": 201,
   "metadata": {},
   "outputs": [
    {
     "data": {
      "text/plain": [
       "((262144+0j), 262144.0)"
      ]
     },
     "execution_count": 201,
     "metadata": {},
     "output_type": "execute_result"
    }
   ],
   "source": [
    "np.sum(cmat), l/part"
   ]
  },
  {
   "cell_type": "code",
   "execution_count": 202,
   "metadata": {},
   "outputs": [],
   "source": [
    "from copy import deepcopy"
   ]
  },
  {
   "cell_type": "code",
   "execution_count": 203,
   "metadata": {},
   "outputs": [],
   "source": [
    "pmat2 = deepcopy(pmat)"
   ]
  },
  {
   "cell_type": "code",
   "execution_count": 204,
   "metadata": {},
   "outputs": [
    {
     "name": "stdout",
     "output_type": "stream",
     "text": [
      "38.9 ms ± 489 μs per loop (mean ± std. dev. of 7 runs, 10 loops each)\n"
     ]
    }
   ],
   "source": [
    "%%timeit\n",
    "sp1 = SparsePauliOp.from_operator(pmat2) # Using a rust module including parallelism."
   ]
  },
  {
   "cell_type": "code",
   "execution_count": 205,
   "metadata": {},
   "outputs": [],
   "source": [
    "pmat2 = deepcopy(pmat)"
   ]
  },
  {
   "cell_type": "code",
   "execution_count": 206,
   "metadata": {},
   "outputs": [
    {
     "name": "stdout",
     "output_type": "stream",
     "text": [
      "115 ms ± 475 μs per loop (mean ± std. dev. of 7 runs, 10 loops each)\n"
     ]
    }
   ],
   "source": [
    "%%timeit\n",
    "mat = _mat_to_coef_mat(pmat2)"
   ]
  },
  {
   "cell_type": "code",
   "execution_count": 209,
   "metadata": {},
   "outputs": [],
   "source": [
    "sp = SparsePauliOp.from_operator(pmat2)\n"
   ]
  },
  {
   "cell_type": "code",
   "execution_count": 210,
   "metadata": {},
   "outputs": [
    {
     "data": {
      "text/plain": [
       "SparsePauliOp([],\n",
       "              coeffs=[])"
      ]
     },
     "execution_count": 210,
     "metadata": {},
     "output_type": "execute_result"
    }
   ],
   "source": [
    "sp"
   ]
  },
  {
   "cell_type": "code",
   "execution_count": 211,
   "metadata": {},
   "outputs": [],
   "source": [
    "cmat = sample_ppoly.coef_matrix"
   ]
  },
  {
   "cell_type": "code",
   "execution_count": 212,
   "metadata": {},
   "outputs": [
    {
     "name": "stdout",
     "output_type": "stream",
     "text": [
      "601 μs ± 24.5 μs per loop (mean ± std. dev. of 7 runs, 1,000 loops each)\n"
     ]
    }
   ],
   "source": [
    "%%timeit\n",
    "omat = sp.to_matrix()"
   ]
  },
  {
   "cell_type": "code",
   "execution_count": 213,
   "metadata": {},
   "outputs": [
    {
     "name": "stdout",
     "output_type": "stream",
     "text": [
      "121 ms ± 553 μs per loop (mean ± std. dev. of 7 runs, 10 loops each)\n"
     ]
    }
   ],
   "source": [
    "%%timeit\n",
    "omat = _coef_to_mat(cmat)"
   ]
  },
  {
   "cell_type": "code",
   "execution_count": 214,
   "metadata": {},
   "outputs": [
    {
     "data": {
      "text/plain": [
       "-2.6442238751609944e+123j"
      ]
     },
     "execution_count": 214,
     "metadata": {},
     "output_type": "execute_result"
    }
   ],
   "source": [
    "np.sum(cmat)"
   ]
  },
  {
   "cell_type": "markdown",
   "metadata": {},
   "source": [
    "## Dict type Pauli Poly"
   ]
  },
  {
   "cell_type": "code",
   "execution_count": null,
   "metadata": {},
   "outputs": [],
   "source": [
    "from __future__ import annotations\n",
    "from typing import *\n",
    "from numbers import Number\n",
    "\n",
    "import numpy as np\n",
    "\n",
    "from opttrot.pauli_c import PauliElement\n",
    "from opttrot.pauli_utils import (\n",
    "    FLT_EPS, ij_code2sym_code,\n",
    "    pauli_to_pennylane,\n",
    "    pauli_to_qiskit,\n",
    "    pstr2sym_code,\n",
    "    )"
   ]
  },
  {
   "cell_type": "markdown",
   "metadata": {},
   "source": [
    "### Side: Dict intersection"
   ]
  },
  {
   "cell_type": "code",
   "execution_count": 26,
   "metadata": {},
   "outputs": [],
   "source": [
    "td = {}\n",
    "td2 = {}\n",
    "td[(1,2)] = 1\n",
    "td[(2,3)] = 2\n",
    "td[(1,4)] = 3\n",
    "\n",
    "td2[(1,2)] = 1\n",
    "td2[(2,3)] = 2\n",
    "td2[(1,8)] = 3"
   ]
  },
  {
   "cell_type": "code",
   "execution_count": 27,
   "metadata": {},
   "outputs": [
    {
     "name": "stdout",
     "output_type": "stream",
     "text": [
      "Union:  {(2, 3), (1, 8), (1, 2), (1, 4)}\n",
      "Intersection:  {(2, 3), (1, 2)}\n",
      "Negation 1:  {(1, 4)}\n",
      "Negation 2:  {(1, 8)}\n",
      "Complement:  {(1, 8), (1, 4)}\n"
     ]
    }
   ],
   "source": [
    "print(\"Union: \", td.keys()|td2.keys()) # union\n",
    "print(\"Intersection: \", td.keys()&td2.keys()) # intersection\n",
    "print(\"Negation 1: \", td.keys() - td2.keys()) # negation\n",
    "print(\"Negation 2: \", td2.keys() - td.keys()) # negation\n",
    "print(\"Complement: \", td.keys() ^ td2.keys()) # complements of intersection"
   ]
  },
  {
   "cell_type": "code",
   "execution_count": 28,
   "metadata": {},
   "outputs": [],
   "source": [
    "from copy import copy"
   ]
  },
  {
   "cell_type": "code",
   "execution_count": 29,
   "metadata": {},
   "outputs": [
    {
     "ename": "NameError",
     "evalue": "name 'Iterable' is not defined",
     "output_type": "error",
     "traceback": [
      "\u001b[0;31m---------------------------------------------------------------------------\u001b[0m",
      "\u001b[0;31mNameError\u001b[0m                                 Traceback (most recent call last)",
      "Cell \u001b[0;32mIn[29], line 1\u001b[0m\n\u001b[0;32m----> 1\u001b[0m \u001b[38;5;28;43;01mclass\u001b[39;49;00m\u001b[43m \u001b[49m\u001b[38;5;21;43;01mPauliPoly\u001b[39;49;00m\u001b[43m:\u001b[49m\n\u001b[1;32m      2\u001b[0m \u001b[43m    \u001b[49m\u001b[38;5;28;43;01mdef\u001b[39;49;00m\u001b[43m \u001b[49m\u001b[38;5;21;43m__init__\u001b[39;49m\u001b[43m(\u001b[49m\u001b[38;5;28;43mself\u001b[39;49m\u001b[43m,\u001b[49m\u001b[43m \u001b[49m\n\u001b[1;32m      3\u001b[0m \u001b[43m                 \u001b[49m\u001b[43mpauli_list\u001b[49m\u001b[43m:\u001b[49m\u001b[43mIterable\u001b[49m\u001b[43m[\u001b[49m\u001b[43mPauliElement\u001b[49m\u001b[43m]\u001b[49m\u001b[43m,\u001b[49m\u001b[43m \u001b[49m\n\u001b[1;32m      4\u001b[0m \u001b[43m                 \u001b[49m\u001b[43mcoefs\u001b[49m\u001b[43m:\u001b[49m\u001b[43mUnion\u001b[49m\u001b[43m[\u001b[49m\u001b[38;5;28;43;01mNone\u001b[39;49;00m\u001b[43m,\u001b[49m\u001b[43m \u001b[49m\u001b[43mIterable\u001b[49m\u001b[43m[\u001b[49m\u001b[43mNumber\u001b[49m\u001b[43m]\u001b[49m\u001b[43m]\u001b[49m\u001b[38;5;241;43m=\u001b[39;49m\u001b[38;5;28;43;01mNone\u001b[39;49;00m\n\u001b[1;32m      5\u001b[0m \u001b[43m                 \u001b[49m\u001b[43m)\u001b[49m\u001b[43m:\u001b[49m\n\u001b[1;32m      7\u001b[0m \u001b[43m        \u001b[49m\u001b[38;5;28;43;01mif\u001b[39;49;00m\u001b[43m \u001b[49m\u001b[38;5;28;43misinstance\u001b[39;49m\u001b[43m(\u001b[49m\u001b[43mcoefs\u001b[49m\u001b[43m,\u001b[49m\u001b[43m \u001b[49m\u001b[43mIterable\u001b[49m\u001b[43m)\u001b[49m\u001b[43m \u001b[49m\u001b[38;5;129;43;01mand\u001b[39;49;00m\u001b[43m \u001b[49m\u001b[38;5;129;43;01mnot\u001b[39;49;00m\u001b[43m \u001b[49m\u001b[38;5;28;43misinstance\u001b[39;49m\u001b[43m(\u001b[49m\u001b[43mcoefs\u001b[49m\u001b[43m,\u001b[49m\u001b[43m \u001b[49m\u001b[38;5;28;43mstr\u001b[39;49m\u001b[43m)\u001b[49m\u001b[43m:\u001b[49m\n",
      "Cell \u001b[0;32mIn[29], line 3\u001b[0m, in \u001b[0;36mPauliPoly\u001b[0;34m()\u001b[0m\n\u001b[1;32m      1\u001b[0m \u001b[38;5;28;01mclass\u001b[39;00m \u001b[38;5;21;01mPauliPoly\u001b[39;00m:\n\u001b[1;32m      2\u001b[0m     \u001b[38;5;28;01mdef\u001b[39;00m \u001b[38;5;21m__init__\u001b[39m(\u001b[38;5;28mself\u001b[39m, \n\u001b[0;32m----> 3\u001b[0m                  pauli_list:\u001b[43mIterable\u001b[49m[PauliElement], \n\u001b[1;32m      4\u001b[0m                  coefs:Union[\u001b[38;5;28;01mNone\u001b[39;00m, Iterable[Number]]\u001b[38;5;241m=\u001b[39m\u001b[38;5;28;01mNone\u001b[39;00m\n\u001b[1;32m      5\u001b[0m                  ):\n\u001b[1;32m      7\u001b[0m         \u001b[38;5;28;01mif\u001b[39;00m \u001b[38;5;28misinstance\u001b[39m(coefs, Iterable) \u001b[38;5;129;01mand\u001b[39;00m \u001b[38;5;129;01mnot\u001b[39;00m \u001b[38;5;28misinstance\u001b[39m(coefs, \u001b[38;5;28mstr\u001b[39m):\n\u001b[1;32m      8\u001b[0m             \u001b[38;5;28;01mfor\u001b[39;00m (p, coef) \u001b[38;5;129;01min\u001b[39;00m \u001b[38;5;28mzip\u001b[39m(pauli_list, coefs):\n",
      "\u001b[0;31mNameError\u001b[0m: name 'Iterable' is not defined"
     ]
    }
   ],
   "source": [
    "class PauliPoly:\n",
    "    def __init__(self, \n",
    "                 pauli_list:Iterable[PauliElement], \n",
    "                 coefs:Union[None, Iterable[Number]]=None\n",
    "                 ):\n",
    "        \n",
    "        if isinstance(coefs, Iterable) and not isinstance(coefs, str):\n",
    "            for (p, coef) in zip(pauli_list, coefs):\n",
    "                p.weight = coef\n",
    "        pauli_list = sorted(pauli_list)\n",
    "        n_test = pauli_list[0].n\n",
    "        self._terms = {}\n",
    "        self.n = 0\n",
    "        for i, p in enumerate(pauli_list):\n",
    "            if n_test != p.n:\n",
    "                raise ValueError(f\"The dimension of {i} object does not match with first PauliElement object.\")\n",
    "            if p.sym_code in self._terms.keys():\n",
    "                self._terms[p.sym_code] = self._terms[p.sym_code]+ p\n",
    "            else:\n",
    "                self._terms[p.sym_code] = p\n",
    "        self.n = n_test\n",
    "        #self._terms = list(pauli_list)#set\n",
    "        #self._terms.sort()\n",
    "\n",
    "        #iteration routine\n",
    "        self._iter_current = 0\n",
    "    \n",
    "    @classmethod\n",
    "    def from_coef_mat(cls, coef_mat:np.matrix, tol=FLT_EPS):\n",
    "        n, m = coef_mat.shape\n",
    "        qubits = int(np.log2(n))\n",
    "        p_list = []\n",
    "        for i in range(n):\n",
    "            for j in range(m):\n",
    "                if np.abs(coef_mat[i, j]) <tol: \n",
    "                    continue\n",
    "                x, z = ij_code2sym_code(i, j)\n",
    "                p_list.append(PauliElement(nx=x, nz=z, n=qubits, weight=coef_mat[i, j].real))\n",
    "        return cls(p_list) # convert from list\n",
    "    @classmethod\n",
    "    def from_matrix(cls, H:np.matrix, tol=FLT_EPS):\n",
    "        # Tensorized decomposition See Hantzko et al, 2023.\n",
    "        mat = copy(H)\n",
    "        n1, n2 = mat.shape\n",
    "        assert n1 == n2, \"The given matrix must be a square matrix.\"\n",
    "        n= int(np.log2(n1))\n",
    "        l = n1\n",
    "        for i in range(n):\n",
    "            m = int(2**i) # Number of submatrix\n",
    "            l = int(l/2) # Sub matrix size, square\n",
    "            for j in range(m):\n",
    "                for k in range(m):\n",
    "                    num_i = j*(2*l) # Initial position of sub matrix row\n",
    "                    num_j = k*(2*l) # Initial position of sub matrix column\n",
    "                    # I-Z\n",
    "                    mat[num_i: num_i+l, num_j:num_j+l]        += mat[num_i+l: num_i+2*l, num_j+l:num_j+2*l] \n",
    "                    mat[num_i+l: num_i+2*l, num_j+l:num_j+2*l] = mat[num_i: num_i+l, num_j:num_j+l] - 2*mat[num_i+l: num_i+2*l, num_j+l:num_j+2*l]\n",
    "                    # X-Y\n",
    "                    mat[num_i: num_i+l, num_j+l:num_j+2*l] += mat[num_i+l: num_i+2*l, num_j:num_j+l] \n",
    "                    mat[num_i+l: num_i+2*l, num_j:num_j+l] =  mat[num_i: num_i+l, num_j+l:num_j+2*l] - 2*mat[num_i+l: num_i+2*l, num_j:num_j+l]\n",
    "                    mat[num_i+l: num_i+2*l, num_j:num_j+l] *= 1j # 1j 이 맞는 거 같은데\n",
    "\n",
    "        mat *= (1/(2**n))\n",
    "        return cls.from_coef_mat(mat, tol=tol)\n",
    "    @property\n",
    "    def terms(self):\n",
    "        return [(p.weight, p.pstr) for p in self._terms.values()] # convert to list and sort\n",
    "    @property\n",
    "    def coefficients(self):\n",
    "        return [p.weight for p in self._terms.values()]\n",
    "    @property\n",
    "    def poly(self):\n",
    "        return self._terms.values() # convert to list\n",
    "    @property\n",
    "    def coef_matrix(self):\n",
    "        n = self.n\n",
    "        nn = 2**n\n",
    "        mat = np.zeros((nn, nn), dtype=complex)\n",
    "        for p in self._terms.values(): # change from dict, key\n",
    "            mat[*p.ij_code] = p.weight\n",
    "        return mat\n",
    "    \n",
    "    def __str__(self):\n",
    "        return f\"Pauli polynomial of {self.n} qubit space.\"\n",
    "    def __repr__(self):\n",
    "        st = f\"PauliPoly(terms:{len(self._terms)})[\\n\"\n",
    "        st_term = \",\\n\".join([p.__repr__() for p in self.terms])\n",
    "        return st + st_term+\"\\n]\"\n",
    "\n",
    "    def __rmul__(self, other:Number):\n",
    "        for k in self._terms.keys(): #convert to dict routine\n",
    "            self._terms[k]= other * self._terms[k]\n",
    "        return self\n",
    "    def __add__(self, other: Union[PauliElement, PauliPoly]):\n",
    "        if isinstance(other, PauliElement): # Use in and & operator\n",
    "            p = PauliPoly([other])\n",
    "        else:\n",
    "            p = other\n",
    "        self._terms.keys()\n",
    "        \n",
    "        # if len(terms) > tolerance # using a matrix method.\n",
    "        mat = self.coef_matrix + p.coef_matrix\n",
    "        return PauliPoly.from_coef_mat(mat)\n",
    "    \n",
    "    def __matmul__(self, other:PauliPoly):\n",
    "        n = self.n\n",
    "        nn = 2**n\n",
    "        coef_mat = np.zeros((nn, nn), dtype=complex)\n",
    "        pauli_set = set([])\n",
    "        # If two poly has more than 50 % terms,\n",
    "        # it is wise to calculate coef matrix multiplication\n",
    "        for pi in self.poly:\n",
    "            for pj in other.poly:\n",
    "                p = pi@pj\n",
    "                if p.sym_code in pauli_set:\n",
    "                     coef_mat[*p.sym_code] += p.weight\n",
    "                     pauli_set.add(p.sym_code)\n",
    "                else:\n",
    "                     coef_mat[*p.sym_code] = p.weight\n",
    "        return PauliPoly.from_coef_mat(coef_mat)\n",
    "    \n",
    "    # Coefficient routines\n",
    "    #def __neg__(self): Return new element\n",
    "    #    for p in self._terms:\n",
    "    #        p.coef = -(p.coef)\n",
    "    #def __abs__(self):\n",
    "    #    for p in self._terms:\n",
    "    #        p.coef = abs(p.coef)\n",
    "    # Index access ----------------------------------\n",
    "    def __getitem__(self, key):\n",
    "        return self._terms[key]\n",
    "    def __setitem__(self, key, value:PauliElement):\n",
    "        self._terms[key] = value\n",
    "    #def __deltiem__(self):\n",
    "    #    pass\n",
    "\n",
    "    # Iteration\n",
    "    def __iter__(self):\n",
    "        return self\n",
    "    def __next__(self):\n",
    "        if self._iter_current >= len(self._terms):\n",
    "            self._iter_current = 0\n",
    "            raise StopIteration\n",
    "        result = self._terms[self._iter_current]\n",
    "        self._iter_current += 0 if self._iter_current == len(self._terms) else 1\n",
    "        return result\n",
    "    # Matrix form\n",
    "    @property\n",
    "    def matrix(self):\n",
    "        #Tensrosized reconstruction method: O(8^n)\n",
    "        # Normal method: O(16^n)\n",
    "        # mat = np.zeros(self.coef_matrix.shape) \n",
    "        # for p in self.poly:\n",
    "        #   mat += p.coef*p.matrix\n",
    "        mat = self.coef_matrix\n",
    "\n",
    "        _2n = self.coef_matrix.shape[0] # 2^n\n",
    "        steps = int(np.log2(_2n)) #n\n",
    "        unit_size = 1\n",
    "\n",
    "        for step in range(steps):\n",
    "            step1 = step+1\n",
    "            mat_size = int(2*unit_size)\n",
    "            indexes = np.arange(_2n/(2**step1)).astype(int)\n",
    "            indexes_ij = (mat_size * indexes)\n",
    "\n",
    "            for i in indexes_ij:\n",
    "                for j in indexes_ij:\n",
    "                    # (i, j)\n",
    "                    r1i     = i\n",
    "                    r1f2i   = r1i + unit_size\n",
    "                    r2f     = r1f2i + unit_size\n",
    "\n",
    "                    c1i     = j\n",
    "                    c1f2i   = c1i + unit_size\n",
    "                    c2f     = c1f2i + unit_size\n",
    "\n",
    "                    #print(r1i, r1f2i, r2f, c1i, c1f2i , c2f)\n",
    "                    # I - Z\n",
    "                    coef = 1\n",
    "                    mat[r1i: r1f2i, c1i:c1f2i] = mat[r1i: r1f2i, c1i:c1f2i] + coef*mat[r1f2i: r2f, c1f2i:c2f]\n",
    "                    mat[r1f2i: r2f, c1f2i:c2f] = mat[r1i: r1f2i, c1i:c1f2i] -2*coef *mat[r1f2i: r2f, c1f2i:c2f]\n",
    "                    # X -Y\n",
    "                    #coef = -1j\n",
    "                    #mat[r1f2i: r2f, c1i:c1f2i] = mat[r1f2i: r2f, c1i:c1f2i]  + coef*mat[r1i: r1f2i, c1f2i:c2f]\n",
    "                    #mat[r1i: r1f2i, c1f2i:c2f] = mat[r1f2i: r2f, c1i:c1f2i] -2*coef*mat[r1i: r1f2i, c1f2i:c2f]\n",
    "                    coef = -1j\n",
    "                    mat[r1i: r1f2i, c1f2i:c2f] = mat[r1i: r1f2i, c1f2i:c2f]  + coef*mat[r1f2i: r2f, c1i:c1f2i]\n",
    "                    mat[r1f2i: r2f, c1i:c1f2i] = mat[r1i: r1f2i, c1f2i:c2f] -2*coef*mat[r1f2i: r2f, c1i:c1f2i]\n",
    "            # Using slice to simplify the routine.\n",
    "            # I-Z\n",
    "            #mat[0:_2n:unit_size, 0:_2n:unit_size] += mat[unit_size:_2n:unit_size, unit_size:_2n:unit_size]\n",
    "            #mat[unit_size:_2n:unit_size, unit_size:_2n:unit_size] = mat[0:_2n:unit_size, 0:_2n:unit_size]-2*coef *mat[unit_size:_2n:unit_size, unit_size:_2n:unit_size]\n",
    "            # X-Y\n",
    "            #mat[0:_2n:unit_size, unit_size:_2n:unit_size] += (-1j)*mat[unit_size:_2n:unit_size, 0:_2n:unit_size]\n",
    "            #mat[unit_size:_2n:unit_size, 0:_2n:unit_size] = mat[0:_2n:unit_size, unit_size:_2n:unit_size]+2j*mat[unit_size:_2n:unit_size, 0:_2n:unit_size]\n",
    "            \n",
    "            unit_size *=2\n",
    "        return mat\n",
    "    def add(self, p: Union[PauliElement, PauliPoly]):\n",
    "        if isinstance(p, PauliElement): # Use in and & operator\n",
    "            if p in self._terms.keys():\n",
    "                self._terms[p.sym_code] = self._terms[p.sym_code] + p\n",
    "            else:\n",
    "                self._terms[p.sym_code] = p\n",
    "        if isinstance(p, PauliPoly):\n",
    "            # Intersection\n",
    "            for p_t in (self._terms.keys()&p._terms.keys()):\n",
    "                self._terms[p_t.sym_code] = self._terms[p_t.sym_code] + p_t\n",
    "            # Complement\n",
    "            for p_t in (p._terms.keys()-self._terms.keys()):\n",
    "                self._terms[p_t.sym_code] = p_t\n",
    "        # if len(terms) > tolerance # using a matrix method.\n",
    "        #mat = self.coef_matrix + p.coef_matrix\n",
    "        #return PauliPoly.from_coef_mat(mat)\n",
    "    # Interface to other packages\n",
    "    def to_pennylane(self, except_zero=True):\n",
    "        from pennylane.pauli import PauliSentence\n",
    "        pdict = {}\n",
    "        for p in self._terms.values():\n",
    "            if except_zero:\n",
    "                if p.x == p.z and p.z==0:\n",
    "                    continue\n",
    "            coef, pauli = pauli_to_pennylane(p)\n",
    "            pdict[pauli] = coef\n",
    "        return PauliSentence(pdict)\n",
    "    def to_qiskit(self, with_list=False):\n",
    "        coefs = []\n",
    "        paulis = []\n",
    "        for p in self._terms.values():\n",
    "            coef, pauli = pauli_to_qiskit(p)\n",
    "            coefs.append(coef)\n",
    "            paulis.append(pauli)\n",
    "        if with_list:\n",
    "            from qiiskit.quantum_info import PauliList\n",
    "            paulis = PauliList(paulis)\n",
    "        return coefs, paulis"
   ]
  },
  {
   "cell_type": "markdown",
   "metadata": {},
   "source": [
    "## Matrix conversion routine test"
   ]
  },
  {
   "cell_type": "code",
   "execution_count": 23,
   "metadata": {},
   "outputs": [],
   "source": [
    "from opttrot.pauli_utils import pstr2mat, get_pstrs\n",
    "from opttrot.utils import fro_inner"
   ]
  },
  {
   "cell_type": "markdown",
   "metadata": {},
   "source": [
    "### Matrix to Poly"
   ]
  },
  {
   "cell_type": "code",
   "execution_count": 24,
   "metadata": {},
   "outputs": [],
   "source": [
    "N= 3\n",
    "m_dim = 2**N\n",
    "M1 = np.matrix(np.random.rand(m_dim, m_dim).astype(complex))\n",
    "M2 = np.matrix(np.random.rand(m_dim, m_dim).astype(complex))\n",
    "M = M1 + 1j*M2\n",
    "H = M.H@M"
   ]
  },
  {
   "cell_type": "code",
   "execution_count": 25,
   "metadata": {},
   "outputs": [
    {
     "data": {
      "text/plain": [
       "{'III': (6.104424437417665+1.0635781691278442e-17j),\n",
       " 'IIX': (4.697459966851696-6.245004513516506e-17j),\n",
       " 'IIY': (0.11870804061617737+0j),\n",
       " 'IIZ': (0.11865047549324848+2.6095099858598466e-17j),\n",
       " 'IXI': (4.718910891144114+0j),\n",
       " 'IXX': (4.781727832572292+0j),\n",
       " 'IXY': (0.5748227062882564+0j),\n",
       " 'IXZ': (-0.16637475388355405+5.551115123125783e-17j),\n",
       " 'IYI': (0.27232105353783675+0j),\n",
       " 'IYX': (0.21428704722438768+0j),\n",
       " 'IYY': (0.23051597750021857-1.1102230246251565e-16j),\n",
       " 'IYZ': (0.07149878333353224+0j),\n",
       " 'IZI': (-0.1872405574131708-1.1033287763136837e-17j),\n",
       " 'IZX': (-0.15431399719920158+6.245004513516506e-17j),\n",
       " 'IZY': (0.08448548440180237+0j),\n",
       " 'IZZ': (-0.07075363994977568+1.971420059687701e-18j),\n",
       " 'XII': (4.6600399648277255-8.673617379884035e-19j),\n",
       " 'XIX': (4.735874170176852+4.163336342344337e-17j),\n",
       " 'XIY': (0.4168104030168422+0j),\n",
       " 'XIZ': (-0.12453076365651339-2.688821387764051e-17j),\n",
       " 'XXI': (5.005902050262941-2.7755575615628914e-17j),\n",
       " 'XXX': (4.824732054545019+6.938893903907228e-18j),\n",
       " 'XXY': (0.05721908575278429+0j),\n",
       " 'XXZ': (0.11408223304137266+2.7755575615628914e-17j),\n",
       " 'XYI': (0.3691082828800699+0j),\n",
       " 'XYX': (-0.09628012101423797+0j),\n",
       " 'XYY': (0.1117358083835489+2.0816681711721685e-17j),\n",
       " 'XYZ': (0.23941012320589947+0j),\n",
       " 'XZI': (-0.12986362981205612+7.025630077706069e-17j),\n",
       " 'XZX': (-0.3301141886989756-1.3877787807814457e-17j),\n",
       " 'XZY': (-0.2532102320957886+0j),\n",
       " 'XZZ': (0.24263780687550907-1.474514954580286e-17j),\n",
       " 'YII': (0.3985305596274097+0j),\n",
       " 'YIX': (0.25602265405780555+0j),\n",
       " 'YIY': (-0.05056979133861528-1.3877787807814457e-17j),\n",
       " 'YIZ': (-0.564084660112322+0j),\n",
       " 'YXI': (0.23832484737685156+0j),\n",
       " 'YXX': (0.22364291131682285+0j),\n",
       " 'YXY': (0.18029171961906298-5.551115123125783e-17j),\n",
       " 'YXZ': (-0.38005294910131204+0j),\n",
       " 'YYI': (0.5279079967493786-2.7755575615628914e-17j),\n",
       " 'YYX': (0.4900508853139174-5.551115123125783e-17j),\n",
       " 'YYY': (0.7171050530824408+0j),\n",
       " 'YYZ': (-0.552154068126825+1.1102230246251565e-16j),\n",
       " 'YZI': (0.6132383294352978+0j),\n",
       " 'YZX': (0.12919254999993177+0j),\n",
       " 'YZY': (-0.6223854283506517+4.163336342344337e-17j),\n",
       " 'YZZ': (-0.3380703510867198+0j),\n",
       " 'ZII': (-0.38309567611304673+3.08550494875008e-18j),\n",
       " 'ZIX': (-0.2585581458598958-2.7755575615628914e-17j),\n",
       " 'ZIY': (-0.24359138526097474+0j),\n",
       " 'ZIZ': (0.11660054707294043-2.7912603909237065e-18j),\n",
       " 'ZXI': (-0.3511612143893905+5.551115123125783e-17j),\n",
       " 'ZXX': (-0.20713210933594683+0j),\n",
       " 'ZXY': (-0.6164398716216701+0j),\n",
       " 'ZXZ': (0.020087948657193433+0j),\n",
       " 'ZYI': (0.42208105008044766+0j),\n",
       " 'ZYX': (0.28559299948871414+0j),\n",
       " 'ZYY': (-0.6235849486359342+0j),\n",
       " 'ZYZ': (-0.44939097505912284+0j),\n",
       " 'ZZI': (-0.6704749398547502+2.636224877826731e-17j),\n",
       " 'ZZX': (-0.6168810932475457-2.7755575615628914e-17j),\n",
       " 'ZZY': (-0.41319338196737815+0j),\n",
       " 'ZZZ': (0.7392654310577907-2.608308729959618e-17j)}"
      ]
     },
     "execution_count": 25,
     "metadata": {},
     "output_type": "execute_result"
    }
   ],
   "source": [
    "#Decompose with inner product\n",
    "pstrs = get_pstrs(N)\n",
    "decompose = {}\n",
    "for p in pstrs:\n",
    "    pmat = np.matrix(pstr2mat(p))\n",
    "    c = fro_inner(H, pmat)\n",
    "    decompose[p] = c\n",
    "decompose"
   ]
  },
  {
   "cell_type": "code",
   "execution_count": 26,
   "metadata": {},
   "outputs": [
    {
     "name": "stdout",
     "output_type": "stream",
     "text": [
      "1.85 ms ± 37.6 μs per loop (mean ± std. dev. of 7 runs, 100 loops each)\n"
     ]
    }
   ],
   "source": [
    "%%timeit\n",
    "PauliPoly.from_matrix(H)"
   ]
  },
  {
   "cell_type": "code",
   "execution_count": 27,
   "metadata": {},
   "outputs": [],
   "source": [
    "ppoly = PauliPoly.from_matrix(H)"
   ]
  },
  {
   "cell_type": "code",
   "execution_count": 38,
   "metadata": {},
   "outputs": [
    {
     "name": "stdout",
     "output_type": "stream",
     "text": [
      "1.52 ms ± 13.2 μs per loop (mean ± std. dev. of 7 runs, 100 loops each)\n"
     ]
    }
   ],
   "source": [
    "%%timeit\n",
    "ppoly.matrix"
   ]
  },
  {
   "cell_type": "code",
   "execution_count": 28,
   "metadata": {},
   "outputs": [],
   "source": [
    "# Construct the matrix from the decomposed H\n",
    "H_p = np.zeros(H.shape, dtype=complex)\n",
    "for w,p in ppoly.terms:\n",
    "    pm = pstr2mat(p)\n",
    "    H_p += w*pm\n",
    "H_p = np.matrix(H_p)"
   ]
  },
  {
   "cell_type": "code",
   "execution_count": 29,
   "metadata": {},
   "outputs": [
    {
     "data": {
      "text/plain": [
       "(3.5850054245569416e-30+0j)"
      ]
     },
     "execution_count": 29,
     "metadata": {},
     "output_type": "execute_result"
    }
   ],
   "source": [
    "D = H_p - H\n",
    "fro_inner(D, D)"
   ]
  },
  {
   "cell_type": "markdown",
   "metadata": {},
   "source": [
    "## Poly mat_product"
   ]
  },
  {
   "cell_type": "code",
   "execution_count": 30,
   "metadata": {},
   "outputs": [
    {
     "data": {
      "text/plain": [
       "[PauliElement(n=2, weight=0.500000+(0.000000)j, II),\n",
       " PauliElement(n=2, weight=0.500000+(0.000000)j, ZX),\n",
       " PauliElement(n=2, weight=0.500000+(0.000000)j, XX)]"
      ]
     },
     "execution_count": 30,
     "metadata": {},
     "output_type": "execute_result"
    }
   ],
   "source": [
    "p_list = [\n",
    "    PauliElement(0, 0, 2, weight=0.5),\n",
    "    PauliElement(1, 2, 2, weight=0.5),\n",
    "    PauliElement(3, 0, 2, weight=0.5),\n",
    "]\n",
    "p_list"
   ]
  },
  {
   "cell_type": "code",
   "execution_count": 31,
   "metadata": {},
   "outputs": [
    {
     "data": {
      "text/plain": [
       "PauliPoly(terms:3)[\n",
       "((0.5+0j), 'II'),\n",
       "((0.5+0j), 'ZX'),\n",
       "((0.5+0j), 'XX')\n",
       "]"
      ]
     },
     "execution_count": 31,
     "metadata": {},
     "output_type": "execute_result"
    }
   ],
   "source": [
    "pploy = PauliPoly(p_list)\n",
    "pploy"
   ]
  },
  {
   "cell_type": "code",
   "execution_count": 32,
   "metadata": {},
   "outputs": [
    {
     "data": {
      "text/plain": [
       "array([[0.5+0.j, 0. +0.j, 0. +0.j, 0.5+0.j],\n",
       "       [0. +0.j, 0. +0.j, 0. +0.j, 0. +0.j],\n",
       "       [0. +0.j, 0. +0.j, 0. +0.j, 0.5+0.j],\n",
       "       [0. +0.j, 0. +0.j, 0. +0.j, 0. +0.j]])"
      ]
     },
     "execution_count": 32,
     "metadata": {},
     "output_type": "execute_result"
    }
   ],
   "source": [
    "pploy.coef_matrix"
   ]
  },
  {
   "cell_type": "code",
   "execution_count": 33,
   "metadata": {},
   "outputs": [
    {
     "data": {
      "text/plain": [
       "array([[ 0.5+0.j,  0.5+0.j,  0. +0.j,  0.5+0.j],\n",
       "       [ 0.5+0.j,  0.5+0.j,  0.5+0.j,  0. +0.j],\n",
       "       [ 0. +0.j,  0.5+0.j,  0.5+0.j, -0.5+0.j],\n",
       "       [ 0.5+0.j,  0. +0.j, -0.5+0.j,  0.5+0.j]])"
      ]
     },
     "execution_count": 33,
     "metadata": {},
     "output_type": "execute_result"
    }
   ],
   "source": [
    "pp_mat = pploy.matrix\n",
    "pp_mat"
   ]
  },
  {
   "cell_type": "code",
   "execution_count": 34,
   "metadata": {},
   "outputs": [
    {
     "data": {
      "text/plain": [
       "array([[0.25+0.j, 0.  +0.j, 0.  +0.j, 0.  +0.j],\n",
       "       [0.  +0.j, 0.  +0.j, 0.25+0.j, 0.  +0.j],\n",
       "       [0.  +0.j, 0.  +0.j, 0.25+0.j, 0.  +0.j],\n",
       "       [0.25+0.j, 0.  +0.j, 0.  +0.j, 0.  +0.j]])"
      ]
     },
     "execution_count": 34,
     "metadata": {},
     "output_type": "execute_result"
    }
   ],
   "source": [
    "(pploy@pploy).coef_matrix"
   ]
  },
  {
   "cell_type": "code",
   "execution_count": 35,
   "metadata": {},
   "outputs": [
    {
     "data": {
      "text/plain": [
       "array([[ 0.5+0.j,  0.5+0.j,  0. +0.j,  0.5+0.j],\n",
       "       [ 0.5+0.j,  0.5+0.j,  0.5+0.j,  0. +0.j],\n",
       "       [ 0. +0.j,  0.5+0.j,  0.5+0.j, -0.5+0.j],\n",
       "       [ 0.5+0.j,  0. +0.j, -0.5+0.j,  0.5+0.j]])"
      ]
     },
     "execution_count": 35,
     "metadata": {},
     "output_type": "execute_result"
    }
   ],
   "source": [
    "pp_mat"
   ]
  },
  {
   "cell_type": "code",
   "execution_count": 36,
   "metadata": {},
   "outputs": [
    {
     "data": {
      "text/plain": [
       "array([[0.75+0.j, 0.  +0.j, 0.  +0.j, 0.5 +0.j],\n",
       "       [0.  +0.j, 0.  +0.j, 0.  +0.j, 0.  +0.j],\n",
       "       [0.  +0.j, 0.  +0.j, 0.  +0.j, 0.5 +0.j],\n",
       "       [0.  +0.j, 0.  +0.j, 0.  +0.j, 0.  +0.j]])"
      ]
     },
     "execution_count": 36,
     "metadata": {},
     "output_type": "execute_result"
    }
   ],
   "source": [
    "_mat_to_coef_mat(pp_mat@pp_mat)"
   ]
  },
  {
   "cell_type": "code",
   "execution_count": 37,
   "metadata": {},
   "outputs": [
    {
     "data": {
      "text/plain": [
       "array([[0.75+0.j, 0.  +0.j, 0.  +0.j, 0.5 +0.j],\n",
       "       [0.  +0.j, 0.  +0.j, 0.  +0.j, 0.  +0.j],\n",
       "       [0.  +0.j, 0.  +0.j, 0.  +0.j, 0.5 +0.j],\n",
       "       [0.  +0.j, 0.  +0.j, 0.  +0.j, 0.  +0.j]])"
      ]
     },
     "execution_count": 37,
     "metadata": {},
     "output_type": "execute_result"
    }
   ],
   "source": [
    "PauliPoly.from_matrix(pp_mat@pp_mat).coef_matrix"
   ]
  },
  {
   "cell_type": "code",
   "execution_count": 38,
   "metadata": {},
   "outputs": [
    {
     "name": "stdout",
     "output_type": "stream",
     "text": [
      "680 ns ± 31 ns per loop (mean ± std. dev. of 7 runs, 1,000,000 loops each)\n"
     ]
    }
   ],
   "source": [
    "%%timeit\n",
    "mat = ppoly.matrix\n",
    "pp_mat@pp_mat"
   ]
  },
  {
   "cell_type": "code",
   "execution_count": 97,
   "metadata": {},
   "outputs": [
    {
     "name": "stdout",
     "output_type": "stream",
     "text": [
      "47.5 ms ± 516 μs per loop (mean ± std. dev. of 7 runs, 10 loops each)\n"
     ]
    }
   ],
   "source": [
    "%%timeit\n",
    "ppoly@ppoly"
   ]
  },
  {
   "cell_type": "code",
   "execution_count": 42,
   "metadata": {},
   "outputs": [],
   "source": [
    "ppoly2 = PauliPoly.from_matrix(pp_mat@pp_mat)"
   ]
  },
  {
   "cell_type": "code",
   "execution_count": 39,
   "metadata": {},
   "outputs": [
    {
     "data": {
      "text/plain": [
       "PauliElement(n=3, weight=5.000000+(0.000000)j, III)"
      ]
     },
     "execution_count": 39,
     "metadata": {},
     "output_type": "execute_result"
    }
   ],
   "source": [
    "pIII = PauliElement(0, 0, 3, 5)\n",
    "pIII"
   ]
  },
  {
   "cell_type": "code",
   "execution_count": 41,
   "metadata": {},
   "outputs": [
    {
     "data": {
      "text/plain": [
       "0"
      ]
     },
     "execution_count": 41,
     "metadata": {},
     "output_type": "execute_result"
    }
   ],
   "source": [
    "pIII.f"
   ]
  },
  {
   "cell_type": "code",
   "execution_count": 40,
   "metadata": {},
   "outputs": [
    {
     "name": "stdout",
     "output_type": "stream",
     "text": [
      "Realative index:1\n"
     ]
    },
    {
     "data": {
      "text/plain": [
       "PauliElement(n=3, weight=5.000000+(-5.000000)j, III)"
      ]
     },
     "execution_count": 40,
     "metadata": {},
     "output_type": "execute_result"
    }
   ],
   "source": [
    "pIII+pIII"
   ]
  },
  {
   "cell_type": "code",
   "execution_count": 48,
   "metadata": {},
   "outputs": [
    {
     "data": {
      "text/plain": [
       "PauliPoly(terms:64)[\n",
       "(149.5467160675677, 'III'),\n",
       "(-4.4422630380989006, 'IIZ'),\n",
       "(17.982955493704424, 'IZI'),\n",
       "(-1.79524101122729, 'IZZ'),\n",
       "(-18.941203040972773, 'ZII'),\n",
       "(-18.216777422875417, 'ZIZ'),\n",
       "(-8.373052312214504, 'ZZI'),\n",
       "(7.763284798312135, 'ZZZ'),\n",
       "(143.32734739073044, 'IIX'),\n",
       "(-2.517384273782228, 'IIY'),\n",
       "(18.733583934949067, 'IZX'),\n",
       "(-2.0128248919784903, 'IZY'),\n",
       "(-19.79301426645923, 'ZIX'),\n",
       "(17.02845223694129, 'ZIY'),\n",
       "(-8.346463256268557, 'ZZX'),\n",
       "(5.442969341356676, 'ZZY'),\n",
       "(140.81642525980587, 'IXI'),\n",
       "(-5.2099842465591735, 'IXZ'),\n",
       "(-11.507554498805883, 'IYI'),\n",
       "(-3.5899252574015907, 'IYZ'),\n",
       "(-16.760613930789674, 'ZXI'),\n",
       "(-20.309916982647422, 'ZXZ'),\n",
       "(32.38184291102427, 'ZYI'),\n",
       "(4.73983148806969, 'ZYZ'),\n",
       "(137.8798124502116, 'IXX'),\n",
       "(0.21845214538319047, 'IXY'),\n",
       "(-10.945015685507222, 'IYX'),\n",
       "(6.051700278250578, 'IYY'),\n",
       "(-19.155791507427224, 'ZXX'),\n",
       "(15.533068664325977, 'ZXY'),\n",
       "(30.783866578151837, 'ZYX'),\n",
       "(-11.437182225582418, 'ZYY'),\n",
       "(138.6084885483948, 'XII'),\n",
       "(-7.38555481112104, 'XIZ'),\n",
       "(14.378286570453987, 'XZI'),\n",
       "(-5.256606672336112, 'XZZ'),\n",
       "(7.863930542015755, 'YII'),\n",
       "(16.95048359122486, 'YIZ'),\n",
       "(30.644839820079007, 'YZI'),\n",
       "(4.305475188203356, 'YZZ'),\n",
       "(139.58061780809004, 'XIX'),\n",
       "(1.677565317859596, 'XIY'),\n",
       "(13.379784957511731, 'XZX'),\n",
       "(-3.5688573854061776, 'XZY'),\n",
       "(10.267720120185647, 'YIX'),\n",
       "(20.179970224071184, 'YIY'),\n",
       "(32.05209018722084, 'YZX'),\n",
       "(-6.433667982508268, 'YZY'),\n",
       "(141.36756683813098, 'XXI'),\n",
       "(-8.576047369342405, 'XXZ'),\n",
       "(-6.358559194630899, 'XYI'),\n",
       "(0.598904986564265, 'XYZ'),\n",
       "(4.862313242481391, 'YXI'),\n",
       "(16.496305815319328, 'YXZ'),\n",
       "(6.614092864711459, 'YYI'),\n",
       "(-9.139209395625947, 'YYZ'),\n",
       "(143.09178533342552, 'XXX'),\n",
       "(-0.4924183984962114, 'XXY'),\n",
       "(-9.095507524073373, 'XYX'),\n",
       "(0.11824697231620007, 'XYY'),\n",
       "(6.622521869337678, 'YXX'),\n",
       "(18.69747305720784, 'YXY'),\n",
       "(6.437817928536585, 'YYX'),\n",
       "(-5.103015669224156, 'YYY')\n",
       "]"
      ]
     },
     "execution_count": 48,
     "metadata": {},
     "output_type": "execute_result"
    }
   ],
   "source": [
    "ppoly2 # gen from matrix"
   ]
  },
  {
   "cell_type": "code",
   "execution_count": 46,
   "metadata": {},
   "outputs": [
    {
     "data": {
      "text/plain": [
       "PauliPoly(terms:64)[\n",
       "(2.7355696020678255e-05, 'III'),\n",
       "(0.0012866850545434274, 'IIZ'),\n",
       "(6.913686307747332e-05, 'IZI'),\n",
       "(-0.0006832490976746005, 'IZZ'),\n",
       "(0.0007548460927621622, 'ZII'),\n",
       "(-0.006109891861242868, 'ZIZ'),\n",
       "(-0.000383728444614979, 'ZZI'),\n",
       "(0.024654114095640722, 'ZZZ'),\n",
       "(0.00043811394297778273, 'IIX'),\n",
       "(0.0029613548459044843, 'IIY'),\n",
       "(-0.0007240505978623695, 'IZX'),\n",
       "(-0.003448809274034964, 'IZY'),\n",
       "(-0.0036207337321480745, 'ZIX'),\n",
       "(-0.0018517553844325043, 'ZIY'),\n",
       "(0.018804452490977563, 'ZZX'),\n",
       "(-2.0032559293846558e-05, 'ZZY'),\n",
       "(0.00150459370136683, 'IXI'),\n",
       "(-0.000685858490731061, 'IXZ'),\n",
       "(0.0009693529618112003, 'IYI'),\n",
       "(0.0015021253757728885, 'IYZ'),\n",
       "(-0.0015946984648258075, 'ZXI'),\n",
       "(0.016666045359543923, 'ZXZ'),\n",
       "(-0.0003530659275821074, 'ZYI'),\n",
       "(0.001791142640763006, 'ZYZ'),\n",
       "(0.0012096868579179747, 'IXX'),\n",
       "(-0.0028296930449056897, 'IXY'),\n",
       "(0.001695921190361987, 'IYX'),\n",
       "(0.0002916267791899789, 'IYY'),\n",
       "(0.01738440701176737, 'ZXX'),\n",
       "(0.0011797691243087955, 'ZXY'),\n",
       "(0.0014045964922769544, 'ZYX'),\n",
       "(-0.0020455505074903624, 'ZYY'),\n",
       "(0.0011891432333229932, 'XII'),\n",
       "(-0.0055943653318713624, 'XIZ'),\n",
       "(-0.0018235821481495393, 'XZI'),\n",
       "(0.018115815692910653, 'XZZ'),\n",
       "(0.0012994401641211791, 'YII'),\n",
       "(-0.00022451924930719247, 'YIZ'),\n",
       "(-0.0037438466803182656, 'YZI'),\n",
       "(0.0004879276888959714, 'YZZ'),\n",
       "(-0.006400390241396955, 'XIX'),\n",
       "(0.0004541458560648242, 'XIY'),\n",
       "(0.01780453744187302, 'XZX'),\n",
       "(-0.0007507834830005751, 'XZY'),\n",
       "(0.0017520919092976072, 'YIX'),\n",
       "(-0.0007231643794606755, 'YIY'),\n",
       "(-0.0017435302528950364, 'YZX'),\n",
       "(-0.0009334567413394857, 'YZY'),\n",
       "(-0.0015709275852908713, 'XXI'),\n",
       "(0.017769696634984795, 'XXZ'),\n",
       "(0.0015727128280532041, 'XYI'),\n",
       "(0.0010833213590008247, 'XYZ'),\n",
       "(-0.0019639487750854035, 'YXI'),\n",
       "(-0.0012046590817144372, 'YXZ'),\n",
       "(-0.0011253916446047597, 'YYI'),\n",
       "(-0.0012433991438514517, 'YYZ'),\n",
       "(0.01658381930057463, 'XXX'),\n",
       "(0.0003634846623979041, 'XXY'),\n",
       "(0.0012321993792745838, 'XYX'),\n",
       "(-0.0014036729636199463, 'XYY'),\n",
       "(-0.0003012018903111, 'YXX'),\n",
       "(-0.0009816452411484866, 'YXY'),\n",
       "(-0.00027527184937769416, 'YYX'),\n",
       "(-0.0023677509058806587, 'YYY')\n",
       "]"
      ]
     },
     "execution_count": 46,
     "metadata": {},
     "output_type": "execute_result"
    }
   ],
   "source": [
    "ppoly@ppoly"
   ]
  },
  {
   "cell_type": "code",
   "execution_count": 47,
   "metadata": {},
   "outputs": [],
   "source": [
    "A = np.matrix(pp_mat@pp_mat)\n",
    "B = np.matrix((ppoly@ppoly).matrix)"
   ]
  },
  {
   "cell_type": "code",
   "execution_count": 100,
   "metadata": {},
   "outputs": [
    {
     "data": {
      "text/plain": [
       "(-11.00660225271819+0j)"
      ]
     },
     "execution_count": 100,
     "metadata": {},
     "output_type": "execute_result"
    }
   ],
   "source": [
    "fro_inner(A,B) # It must be zeros"
   ]
  },
  {
   "cell_type": "code",
   "execution_count": 461,
   "metadata": {},
   "outputs": [],
   "source": [
    "from random import random, randint"
   ]
  },
  {
   "cell_type": "code",
   "execution_count": 462,
   "metadata": {},
   "outputs": [],
   "source": [
    "get_com = lambda x: (random()+random()*1j)"
   ]
  },
  {
   "cell_type": "code",
   "execution_count": 478,
   "metadata": {},
   "outputs": [],
   "source": [
    "n = 4\n",
    "n_max = 2**n-1\n",
    "N = 30\n",
    "plist = [\n",
    "    PauliElement(nx=randint(0,n_max), nz=randint(0,n_max), n=n, weight = random())\n",
    "    for i in range(N)\n",
    "]"
   ]
  },
  {
   "cell_type": "code",
   "execution_count": 492,
   "metadata": {},
   "outputs": [],
   "source": [
    "plist.append(plist[0])\n",
    "plist.append(PauliElement(nx=15, nz=15, n=n, weight=2))"
   ]
  },
  {
   "cell_type": "code",
   "execution_count": 493,
   "metadata": {},
   "outputs": [
    {
     "data": {
      "text/plain": [
       "[PauliElement(n=4, weight=0.454404, ZIZZ),\n",
       " PauliElement(n=4, weight=0.378150, ZIIY),\n",
       " PauliElement(n=4, weight=0.630264, ZIZY),\n",
       " PauliElement(n=4, weight=0.520940, ZZZX),\n",
       " PauliElement(n=4, weight=0.473460, ZIXI),\n",
       " PauliElement(n=4, weight=0.317201, ZIYI),\n",
       " PauliElement(n=4, weight=0.680047, ZZXI),\n",
       " PauliElement(n=4, weight=0.115670, ZIXX),\n",
       " PauliElement(n=4, weight=0.888409, IYIZ),\n",
       " PauliElement(n=4, weight=0.092012, ZYYZ),\n",
       " PauliElement(n=4, weight=0.939888, ZXXY),\n",
       " PauliElement(n=4, weight=0.090716, ZYXX),\n",
       " PauliElement(n=4, weight=0.090716, ZYXX),\n",
       " PauliElement(n=4, weight=0.090716, ZYXX),\n",
       " PauliElement(n=4, weight=0.605634, ZYXX),\n",
       " PauliElement(n=4, weight=0.048208, ZYXX),\n",
       " PauliElement(n=4, weight=0.090716, ZYXX),\n",
       " PauliElement(n=4, weight=0.215963, XZZY),\n",
       " PauliElement(n=4, weight=0.466692, YIZY),\n",
       " PauliElement(n=4, weight=0.379702, YZYZ),\n",
       " PauliElement(n=4, weight=0.973389, YZYZ),\n",
       " PauliElement(n=4, weight=0.411485, XZXY),\n",
       " PauliElement(n=4, weight=0.090444, XZYX),\n",
       " PauliElement(n=4, weight=0.342041, XXZI),\n",
       " PauliElement(n=4, weight=0.510536, XYII),\n",
       " PauliElement(n=4, weight=0.694804, XYZI),\n",
       " PauliElement(n=4, weight=0.743646, XXIY),\n",
       " PauliElement(n=4, weight=0.026652, XXIY),\n",
       " PauliElement(n=4, weight=0.206059, YXZY),\n",
       " PauliElement(n=4, weight=0.674615, YYZX),\n",
       " PauliElement(n=4, weight=0.775289, XXYZ),\n",
       " PauliElement(n=4, weight=0.597711, XYYI),\n",
       " PauliElement(n=4, weight=0.328627, YYYZ),\n",
       " PauliElement(n=4, weight=2.000000, YYYY)]"
      ]
     },
     "execution_count": 493,
     "metadata": {},
     "output_type": "execute_result"
    }
   ],
   "source": [
    "sorted(plist)"
   ]
  },
  {
   "cell_type": "code",
   "execution_count": 494,
   "metadata": {},
   "outputs": [],
   "source": [
    "ppoly = PauliPoly(plist)"
   ]
  },
  {
   "cell_type": "code",
   "execution_count": 495,
   "metadata": {},
   "outputs": [
    {
     "data": {
      "text/plain": [
       "[(0.4544037194016307, 'ZIZZ'),\n",
       " (0.3781503078465426, 'ZIIY'),\n",
       " (0.6302642522987003, 'ZIZY'),\n",
       " (0.5209403571724263, 'ZZZX'),\n",
       " (0.47346026337701774, 'ZIXI'),\n",
       " (0.31720112937941924, 'ZIYI'),\n",
       " (0.680047206972493, 'ZZXI'),\n",
       " (0.1156697708409069, 'ZIXX'),\n",
       " (0.8884091867136114, 'IYIZ'),\n",
       " (0.09201203734550234, 'ZYYZ'),\n",
       " (0.939888459320976, 'ZXXY'),\n",
       " (1.977264449395434e-06, 'ZYXX'),\n",
       " (0.21596305161704488, 'XZZY'),\n",
       " (0.46669177071699175, 'YIZY'),\n",
       " (0.36959804664740653, 'YZYZ'),\n",
       " (0.41148525073323194, 'XZXY'),\n",
       " (0.09044362897954195, 'XZYX'),\n",
       " (0.3420406780030698, 'XXZI'),\n",
       " (0.5105360137739975, 'XYII'),\n",
       " (0.6948039759896777, 'XYZI'),\n",
       " (0.019819659315913892, 'XXIY'),\n",
       " (0.20605907763863274, 'YXZY'),\n",
       " (0.6746147734177012, 'YYZX'),\n",
       " (0.7752885831678382, 'XXYZ'),\n",
       " (0.597711267510141, 'XYYI'),\n",
       " (0.3286266620739985, 'YYYZ'),\n",
       " (2.0, 'YYYY')]"
      ]
     },
     "execution_count": 495,
     "metadata": {},
     "output_type": "execute_result"
    }
   ],
   "source": [
    "ppoly.terms"
   ]
  },
  {
   "cell_type": "markdown",
   "metadata": {},
   "source": [
    "## Generate Matrix by tensor product"
   ]
  },
  {
   "cell_type": "code",
   "execution_count": 510,
   "metadata": {},
   "outputs": [],
   "source": [
    "mat = np.zeros((2**n,2**n), dtype=complex)\n",
    "for w, p in ppoly.terms:\n",
    "    mat += w*pstr2mat(p)"
   ]
  },
  {
   "cell_type": "code",
   "execution_count": 511,
   "metadata": {},
   "outputs": [],
   "source": [
    "pmat = np.matrix(ppoly.matrix)"
   ]
  },
  {
   "cell_type": "code",
   "execution_count": 512,
   "metadata": {},
   "outputs": [
    {
     "data": {
      "text/plain": [
       "2.3423195980685403"
      ]
     },
     "execution_count": 512,
     "metadata": {},
     "output_type": "execute_result"
    }
   ],
   "source": [
    "np.max(np.abs(mat - pmat))"
   ]
  },
  {
   "cell_type": "code",
   "execution_count": 513,
   "metadata": {},
   "outputs": [],
   "source": [
    "import matplotlib.pyplot as plt"
   ]
  },
  {
   "cell_type": "code",
   "execution_count": 514,
   "metadata": {},
   "outputs": [
    {
     "data": {
      "text/plain": [
       "<matplotlib.image.AxesImage at 0x128cfbb00>"
      ]
     },
     "execution_count": 514,
     "metadata": {},
     "output_type": "execute_result"
    },
    {
     "data": {
      "image/png": "[encoded data removed]",
      "text/plain": [
       "<Figure size 640x480 with 1 Axes>"
      ]
     },
     "metadata": {},
     "output_type": "display_data"
    }
   ],
   "source": [
    "plt.imshow(mat.real)"
   ]
  },
  {
   "cell_type": "code",
   "execution_count": 501,
   "metadata": {},
   "outputs": [],
   "source": [
    "from opttrot.pauli_utils import pstr2mat\n",
    "from opttrot.utils import fro_inner"
   ]
  },
  {
   "cell_type": "code",
   "execution_count": 502,
   "metadata": {},
   "outputs": [
    {
     "data": {
      "text/plain": [
       "array([[1.+0.j, 0.+0.j, 0.+0.j, 0.+0.j],\n",
       "       [0.+0.j, 1.+0.j, 0.+0.j, 0.+0.j],\n",
       "       [0.+0.j, 0.+0.j, 1.+0.j, 0.+0.j],\n",
       "       [0.+0.j, 0.+0.j, 0.+0.j, 1.+0.j]])"
      ]
     },
     "execution_count": 502,
     "metadata": {},
     "output_type": "execute_result"
    }
   ],
   "source": [
    "pstr2mat(\"II\")"
   ]
  },
  {
   "cell_type": "code",
   "execution_count": 506,
   "metadata": {},
   "outputs": [
    {
     "name": "stdout",
     "output_type": "stream",
     "text": [
      "ZIZZ\n",
      "Cal: 0.4544037194016307\n",
      "Original (0.4544037194016307+0j)\n",
      "ZIIY\n",
      "Cal: 0.3781503078465426\n",
      "Original 0.37815030784654247j\n",
      "ZIZY\n",
      "Cal: 0.6302642522987003\n",
      "Original 0.6302642522987003j\n",
      "ZZZX\n",
      "Cal: 0.5209403571724263\n",
      "Original (0.5209403571724263+0j)\n",
      "ZIXI\n",
      "Cal: 0.47346026337701774\n",
      "Original (0.47346026337701774+0j)\n",
      "ZIYI\n",
      "Cal: 0.31720112937941924\n",
      "Original 0.31720112937941924j\n",
      "ZZXI\n",
      "Cal: 0.680047206972493\n",
      "Original (0.680047206972493+0j)\n",
      "ZIXX\n",
      "Cal: 0.1156697708409069\n",
      "Original (0.1156697708409069+0j)\n",
      "IYIZ\n",
      "Cal: 0.8884091867136114\n",
      "Original 0.8884091867136114j\n",
      "ZYYZ\n",
      "Cal: 0.09201203734550234\n",
      "Original (-0.09201203734550234+0j)\n",
      "ZXXY\n",
      "Cal: 0.939888459320976\n",
      "Original 0.939888459320976j\n",
      "ZYXX\n",
      "Cal: 1.977264449395434e-06\n",
      "Original 1.977264449393168e-06j\n",
      "XZZY\n",
      "Cal: 0.21596305161704488\n",
      "Original 0.21596305161704488j\n",
      "YIZY\n",
      "Cal: 0.46669177071699175\n",
      "Original (-0.46669177071699175+0j)\n",
      "YZYZ\n",
      "Cal: 0.36959804664740653\n",
      "Original (-0.36959804664740653+0j)\n",
      "XZXY\n",
      "Cal: 0.41148525073323194\n",
      "Original 0.41148525073323194j\n",
      "XZYX\n",
      "Cal: 0.09044362897954195\n",
      "Original 0.09044362897954195j\n",
      "XXZI\n",
      "Cal: 0.3420406780030698\n",
      "Original (0.3420406780030698+0j)\n",
      "XYII\n",
      "Cal: 0.5105360137739975\n",
      "Original 0.5105360137739975j\n",
      "XYZI\n",
      "Cal: 0.6948039759896777\n",
      "Original 0.6948039759896777j\n",
      "XXIY\n",
      "Cal: 0.019819659315913892\n",
      "Original 0.019819659315913892j\n",
      "YXZY\n",
      "Cal: 0.20605907763863274\n",
      "Original (-0.20605907763863274+0j)\n",
      "YYZX\n",
      "Cal: 0.6746147734177012\n",
      "Original (-0.6746147734177012+0j)\n",
      "XXYZ\n",
      "Cal: 0.7752885831678382\n",
      "Original 0.7752885831678383j\n",
      "XYYI\n",
      "Cal: 0.597711267510141\n",
      "Original (-0.597711267510141+0j)\n",
      "YYYZ\n",
      "Cal: 0.3286266620739985\n",
      "Original -0.3286266620739985j\n",
      "YYYY\n",
      "Cal: 2.0\n",
      "Original (2+0j)\n"
     ]
    }
   ],
   "source": [
    "for c, pstr in ppoly.terms:\n",
    "    print(pstr)\n",
    "    mat = np.matrix(pstr2mat(pstr))\n",
    "    coef = fro_inner(pmat,mat)\n",
    "    print(\"Cal:\", c)\n",
    "    print(\"Original\", coef)"
   ]
  }
 ],
 "metadata": {
  "kernelspec": {
   "display_name": "opttrot",
   "language": "python",
   "name": "python3"
  },
  "language_info": {
   "codemirror_mode": {
    "name": "ipython",
    "version": 3
   },
   "file_extension": ".py",
   "mimetype": "text/x-python",
   "name": "python",
   "nbconvert_exporter": "python",
   "pygments_lexer": "ipython3",
   "version": "3.12.4"
  }
 },
 "nbformat": 4,
 "nbformat_minor": 2
}
