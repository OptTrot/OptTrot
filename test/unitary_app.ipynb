{
 "cells": [
  {
   "cell_type": "code",
   "execution_count": 1,
   "metadata": {},
   "outputs": [],
   "source": [
    "import os, sys\n",
    "sys.path.append(\"..\")"
   ]
  },
  {
   "cell_type": "code",
   "execution_count": 2,
   "metadata": {},
   "outputs": [],
   "source": [
    "from tensorized_algorithm import pauli_utils\n",
    "from scipy.linalg import expm\n",
    "import numpy as np\n",
    "import matplotlib.pyplot as plt\n",
    "\n",
    "from random import shuffle\n",
    "from functools import reduce\n",
    "\n",
    "from qiskit.quantum_info import SparsePauliOp"
   ]
  },
  {
   "cell_type": "markdown",
   "metadata": {},
   "source": [
    "# Error by applying orders\n",
    "\n",
    "In the document, we test the Trotter error by applying ordering of each local Hamiltonian.\n",
    "\n",
    "**Question**\n",
    "\n",
    "How much error rate is generated, if we apply the commuting partition order, in Trotterization circuit?.\n",
    "\n",
    "Common error rate of p-th order Trotterization is $O(t^{p+1})$. In \"Theory of Trotter Error\" paper, they derived a $\\alpha$ constant for $O(\\alpha t^{p+1})$.\n",
    "\n",
    "\n",
    "**Observation**\n",
    "\n",
    "In simple system, $n<3$, the commuting pair errors were 2-10 times larger than random sequence.\n",
    "However, in larger and complicated systems, $n>4$, the commuting order averagely show good error rates.\n",
    "The efficiency is getting better as $t$ increases in $\\exp(-it H)$."
   ]
  },
  {
   "cell_type": "code",
   "execution_count": 3,
   "metadata": {},
   "outputs": [],
   "source": [
    "def mat_diff(A, B):\n",
    "    U = np.matrix(A - B)\n",
    "    return 0.5*pauli_utils.fro_inner(U, U)\n",
    "def matmul(a,b):\n",
    "    return a@b\n",
    "def get_U_l(hs, n, t):\n",
    "    tn = t/n\n",
    "    us = [expm(-1j*tn*h) for h in hs]\n",
    "    ut = reduce(matmul, us)\n",
    "    U = np.eye(ut.shape[0], dtype=complex)\n",
    "    for i in range(n):\n",
    "        U @= ut\n",
    "    return U"
   ]
  },
  {
   "cell_type": "code",
   "execution_count": 10,
   "metadata": {},
   "outputs": [],
   "source": [
    "N = 4\n",
    "A = np.random.rand(int(2**N), int(2**N))\n",
    "T = A.T@A\n",
    "H = np.matrix((T + 1j*T))\n",
    "norm_H = 0.5*pauli_utils.fro_inner(H, H)\n",
    "H *= 1/np.sqrt(norm_H) \n"
   ]
  },
  {
   "cell_type": "code",
   "execution_count": 11,
   "metadata": {},
   "outputs": [],
   "source": [
    "pa = SparsePauliOp.from_operator(H)"
   ]
  },
  {
   "cell_type": "code",
   "execution_count": 12,
   "metadata": {},
   "outputs": [
    {
     "data": {
      "text/plain": [
       "SparsePauliOp(['IIII', 'IIIX', 'IIIZ', 'IIXI', 'IIXX', 'IIXZ', 'IIYY', 'IIZI', 'IIZX', 'IIZZ', 'IXII', 'IXIX', 'IXIZ', 'IXXI', 'IXXX', 'IXXZ', 'IXYY', 'IXZI', 'IXZX', 'IXZZ', 'IYIY', 'IYXY', 'IYYI', 'IYYX', 'IYYZ', 'IYZY', 'IZII', 'IZIX', 'IZIZ', 'IZXI', 'IZXX', 'IZXZ', 'IZYY', 'IZZI', 'IZZX', 'IZZZ', 'XIII', 'XIIX', 'XIIZ', 'XIXI', 'XIXX', 'XIXZ', 'XIYY', 'XIZI', 'XIZX', 'XIZZ', 'XXII', 'XXIX', 'XXIZ', 'XXXI', 'XXXX', 'XXXZ', 'XXYY', 'XXZI', 'XXZX', 'XXZZ', 'XYIY', 'XYXY', 'XYYI', 'XYYX', 'XYYZ', 'XYZY', 'XZII', 'XZIX', 'XZIZ', 'XZXI', 'XZXX', 'XZXZ', 'XZYY', 'XZZI', 'XZZX', 'XZZZ', 'YIIY', 'YIXY', 'YIYI', 'YIYX', 'YIYZ', 'YIZY', 'YXIY', 'YXXY', 'YXYI', 'YXYX', 'YXYZ', 'YXZY', 'YYII', 'YYIX', 'YYIZ', 'YYXI', 'YYXX', 'YYXZ', 'YYYY', 'YYZI', 'YYZX', 'YYZZ', 'YZIY', 'YZXY', 'YZYI', 'YZYX', 'YZYZ', 'YZZY', 'ZIII', 'ZIIX', 'ZIIZ', 'ZIXI', 'ZIXX', 'ZIXZ', 'ZIYY', 'ZIZI', 'ZIZX', 'ZIZZ', 'ZXII', 'ZXIX', 'ZXIZ', 'ZXXI', 'ZXXX', 'ZXXZ', 'ZXYY', 'ZXZI', 'ZXZX', 'ZXZZ', 'ZYIY', 'ZYXY', 'ZYYI', 'ZYYX', 'ZYYZ', 'ZYZY', 'ZZII', 'ZZIX', 'ZZIZ', 'ZZXI', 'ZZXX', 'ZZXZ', 'ZZYY', 'ZZZI', 'ZZZX', 'ZZZZ'],\n",
       "              coeffs=[ 3.17849544e-01+3.17849544e-01j,  2.45816713e-01+2.45816713e-01j,\n",
       " -1.08414038e-02-1.08414038e-02j,  2.38169256e-01+2.38169256e-01j,\n",
       "  2.37306685e-01+2.37306685e-01j,  4.61649728e-03+4.61649728e-03j,\n",
       "  2.63837807e-02+2.63837807e-02j, -2.38199224e-03-2.38199224e-03j,\n",
       "  5.52410190e-03+5.52410190e-03j, -2.84548478e-04-2.84548478e-04j,\n",
       "  2.55071041e-01+2.55071041e-01j,  2.36019854e-01+2.36019854e-01j,\n",
       " -7.75310455e-03-7.75310455e-03j,  2.38604564e-01+2.38604564e-01j,\n",
       "  2.40241746e-01+2.40241746e-01j, -7.80604686e-03-7.80604686e-03j,\n",
       "  2.39739867e-02+2.39739867e-02j, -1.45229068e-02-1.45229068e-02j,\n",
       "  2.98033385e-03+2.98033385e-03j, -4.34229238e-03-4.34229238e-03j,\n",
       " -5.36797495e-03-5.36797495e-03j, -7.78381396e-04-7.78381396e-04j,\n",
       " -8.88720895e-03-8.88720895e-03j, -2.43064867e-03-2.43064867e-03j,\n",
       " -4.53546265e-03-4.53546265e-03j,  4.70803223e-03+4.70803223e-03j,\n",
       " -2.52869835e-02-2.52869835e-02j, -3.34744834e-02-3.34744834e-02j,\n",
       "  2.14071066e-03+2.14071066e-03j, -1.83387675e-02-1.83387675e-02j,\n",
       " -3.23578049e-02-3.23578049e-02j, -2.22242493e-03-2.22242493e-03j,\n",
       "  2.90557328e-03+2.90557328e-03j,  8.98747517e-03+8.98747517e-03j,\n",
       "  2.19750762e-02+2.19750762e-02j,  3.06746700e-03+3.06746700e-03j,\n",
       "  2.40072138e-01+2.40072138e-01j,  2.32874554e-01+2.32874554e-01j,\n",
       " -2.59272496e-03-2.59272496e-03j,  2.47804343e-01+2.47804343e-01j,\n",
       "  2.43086686e-01+2.43086686e-01j, -1.21708195e-02-1.21708195e-02j,\n",
       "  2.76327862e-03+2.76327862e-03j, -2.11000178e-02-2.11000178e-02j,\n",
       " -3.28063137e-03-3.28063137e-03j, -1.24291991e-02-1.24291991e-02j,\n",
       "  2.51195980e-01+2.51195980e-01j,  2.34548974e-01+2.34548974e-01j,\n",
       " -1.64067629e-02-1.64067629e-02j,  2.39590788e-01+2.39590788e-01j,\n",
       "  2.51230020e-01+2.51230020e-01j, -6.46584452e-03-6.46584452e-03j,\n",
       "  6.24174157e-03+6.24174157e-03j, -1.46630305e-02-1.46630305e-02j,\n",
       "  9.11899224e-03+9.11899224e-03j, -2.82921614e-03-2.82921614e-03j,\n",
       " -9.87688988e-04-9.87688988e-04j, -2.88018871e-03-2.88018871e-03j,\n",
       " -2.16507026e-02-2.16507026e-02j, -2.79993384e-03-2.79993384e-03j,\n",
       "  6.71419660e-03+6.71419660e-03j, -4.04747819e-03-4.04747819e-03j,\n",
       " -2.82966356e-02-2.82966356e-02j, -2.98230063e-02-2.98230063e-02j,\n",
       "  2.90512763e-04+2.90512763e-04j, -1.86455054e-02-1.86455054e-02j,\n",
       " -3.43201969e-02-3.43201969e-02j,  6.52987367e-03+6.52987367e-03j,\n",
       "  5.37403552e-04+5.37403552e-04j,  8.48744620e-03+8.48744620e-03j,\n",
       "  1.06042634e-02+1.06042634e-02j,  8.02415094e-03+8.02415094e-03j,\n",
       "  1.33591521e-02+1.33591521e-02j, -8.69163737e-04-8.69163737e-04j,\n",
       "  6.96336224e-03+6.96336224e-03j,  1.15134026e-02+1.15134026e-02j,\n",
       " -9.39601155e-03-9.39601155e-03j,  3.02797234e-04+3.02797234e-04j,\n",
       "  8.97063986e-03+8.97063986e-03j,  7.28589934e-03+7.28589934e-03j,\n",
       "  7.75853142e-03+7.75853142e-03j,  5.18040075e-03+5.18040075e-03j,\n",
       " -7.71080546e-03-7.71080546e-03j,  1.73648686e-03+1.73648686e-03j,\n",
       "  1.47515150e-02+1.47515150e-02j,  1.63358940e-02+1.63358940e-02j,\n",
       " -5.26702925e-04-5.26702925e-04j,  3.80202675e-03+3.80202675e-03j,\n",
       " -8.63802482e-03-8.63802482e-03j,  3.68118015e-03+3.68118015e-03j,\n",
       "  1.05565510e-02+1.05565510e-02j,  2.37154572e-02+2.37154572e-02j,\n",
       "  2.62182879e-02+2.62182879e-02j,  1.01590496e-04+1.01590496e-04j,\n",
       " -1.31908565e-02-1.31908565e-02j,  8.37898318e-03+8.37898318e-03j,\n",
       "  1.36217498e-02+1.36217498e-02j,  1.08370805e-02+1.08370805e-02j,\n",
       " -2.35331717e-03-2.35331717e-03j, -5.80447205e-03-5.80447205e-03j,\n",
       "  1.45553166e-02+1.45553166e-02j,  2.29657628e-02+2.29657628e-02j,\n",
       " -1.25906406e-02-1.25906406e-02j,  1.24692024e-02+1.24692024e-02j,\n",
       "  8.14371008e-03+8.14371008e-03j, -1.41575780e-02-1.41575780e-02j,\n",
       " -7.16955131e-03-7.16955131e-03j, -6.20491227e-03-6.20491227e-03j,\n",
       " -3.68103477e-03-3.68103477e-03j,  4.62578239e-03+4.62578239e-03j,\n",
       "  1.34344368e-02+1.34344368e-02j,  2.02925329e-02+2.02925329e-02j,\n",
       " -8.63335218e-03-8.63335218e-03j,  1.81940725e-02+1.81940725e-02j,\n",
       "  1.44009103e-02+1.44009103e-02j, -3.37607026e-03-3.37607026e-03j,\n",
       " -6.16284913e-03-6.16284913e-03j, -8.28972503e-03-8.28972503e-03j,\n",
       " -2.61425865e-03-2.61425865e-03j,  9.95345638e-03+9.95345638e-03j,\n",
       "  3.69925458e-03+3.69925458e-03j,  8.05905635e-03+8.05905635e-03j,\n",
       "  2.49422181e-02+2.49422181e-02j,  1.35179526e-02+1.35179526e-02j,\n",
       " -1.80487664e-02-1.80487664e-02j, -1.78946367e-03-1.78946367e-03j,\n",
       " -3.78567704e-03-3.78567704e-03j, -4.63321904e-03-4.63321904e-03j,\n",
       "  1.41591568e-03+1.41591568e-03j, -1.20556544e-02-1.20556544e-02j,\n",
       "  7.25503185e-03+7.25503185e-03j,  4.07022686e-04+4.07022686e-04j,\n",
       " -1.29706863e-03-1.29706863e-03j, -1.13724368e-02-1.13724368e-02j,\n",
       " -1.39246435e-02-1.39246435e-02j,  7.05691573e-04+7.05691573e-04j])"
      ]
     },
     "execution_count": 12,
     "metadata": {},
     "output_type": "execute_result"
    }
   ],
   "source": [
    "pa"
   ]
  },
  {
   "cell_type": "code",
   "execution_count": 38,
   "metadata": {},
   "outputs": [],
   "source": [
    "Hs = pa.matrix_iter()\n",
    "H_com_group = [h.to_matrix() for h in pa.group_commuting()]"
   ]
  },
  {
   "cell_type": "code",
   "execution_count": 39,
   "metadata": {},
   "outputs": [
    {
     "data": {
      "text/plain": [
       "(136, 21)"
      ]
     },
     "execution_count": 39,
     "metadata": {},
     "output_type": "execute_result"
    }
   ],
   "source": [
    "len(Hs), len(H_com_group)"
   ]
  },
  {
   "cell_type": "code",
   "execution_count": 40,
   "metadata": {},
   "outputs": [
    {
     "data": {
      "text/plain": [
       "(0.9999999999999997-5.579584291299718e-19j)"
      ]
     },
     "execution_count": 40,
     "metadata": {},
     "output_type": "execute_result"
    }
   ],
   "source": [
    "pauli_utils.fro_inner(np.matrix(H), np.matrix(H))/2"
   ]
  },
  {
   "cell_type": "code",
   "execution_count": 65,
   "metadata": {},
   "outputs": [],
   "source": [
    "identit_index = [i for i in range(len(H_com_group))]\n",
    "random_index = [i for i in range(len(Hs))]\n",
    "shuffle(random_index)"
   ]
  },
  {
   "cell_type": "code",
   "execution_count": 42,
   "metadata": {},
   "outputs": [],
   "source": [
    "def get_U_n(hs, n, t, rand_index): #get general order u\n",
    "    tn = t/n    \n",
    "    us = [np.matrix(expm(-1j*tn*hs[i])) for i in rand_index]\n",
    "    ut = reduce(matmul, us)\n",
    "    U = np.eye(ut.shape[0], dtype=complex)\n",
    "    for i in range(n):\n",
    "        U @= ut\n",
    "    return U\n"
   ]
  },
  {
   "cell_type": "code",
   "execution_count": 66,
   "metadata": {},
   "outputs": [],
   "source": [
    "n = 300\n",
    "t = 2.5\n",
    "U = expm(-1j*t*H)\n",
    "Ug = get_U_n(Hs, n, t, random_index)\n",
    "Uc = get_U_n(H_com_group, n, t, identit_index)"
   ]
  },
  {
   "cell_type": "code",
   "execution_count": 67,
   "metadata": {},
   "outputs": [
    {
     "data": {
      "text/plain": [
       "<matplotlib.image.AxesImage at 0x1387441d0>"
      ]
     },
     "execution_count": 67,
     "metadata": {},
     "output_type": "execute_result"
    },
    {
     "data": {
      "image/png": "[encoded data removed]",
      "text/plain": [
       "<Figure size 640x480 with 6 Axes>"
      ]
     },
     "metadata": {},
     "output_type": "display_data"
    }
   ],
   "source": [
    "fig, axes = plt.subplots(2, 3)\n",
    "axes[0, 0].imshow(U.real)\n",
    "axes[1, 0].imshow(U.imag)\n",
    "\n",
    "axes[0, 1].imshow(Ug.real)\n",
    "axes[1, 1].imshow(Ug.imag)\n",
    "\n",
    "axes[0, 2].imshow(Uc.real)\n",
    "axes[1, 2].imshow(Uc.imag)"
   ]
  },
  {
   "cell_type": "code",
   "execution_count": 70,
   "metadata": {},
   "outputs": [
    {
     "data": {
      "text/plain": [
       "(11.34183498514449, 105.51229794468895)"
      ]
     },
     "execution_count": 70,
     "metadata": {},
     "output_type": "execute_result"
    }
   ],
   "source": [
    "mat_diff(U, Ug).real, mat_diff(U, Uc).real"
   ]
  },
  {
   "cell_type": "code",
   "execution_count": 71,
   "metadata": {},
   "outputs": [],
   "source": [
    "from copy import deepcopy"
   ]
  },
  {
   "cell_type": "code",
   "execution_count": 72,
   "metadata": {},
   "outputs": [],
   "source": [
    "from opttrot.pauli_utils import pstr_commute"
   ]
  },
  {
   "cell_type": "code",
   "execution_count": 73,
   "metadata": {},
   "outputs": [
    {
     "name": "stdout",
     "output_type": "stream",
     "text": [
      "Commute ratio: 0.57/0.43\n",
      "5, 0.1 1.8e+02%\n",
      "Commute ratio: 0.52/0.48\n",
      "5, 0.119 2.3e+02%\n",
      "Commute ratio: 0.55/0.45\n",
      "5, 0.138 2.1e+02%\n",
      "Commute ratio: 0.51/0.49\n",
      "5, 0.158 1.7e+02%\n",
      "Commute ratio: 0.5/0.5\n",
      "5, 0.177 1.9e+02%\n",
      "Commute ratio: 0.6/0.4\n",
      "5, 0.196 2.2e+02%\n",
      "Commute ratio: 0.61/0.39\n",
      "5, 0.215 2e+02%\n",
      "Commute ratio: 0.56/0.44\n",
      "5, 0.234 1.7e+02%\n"
     ]
    },
    {
     "ename": "KeyboardInterrupt",
     "evalue": "",
     "output_type": "error",
     "traceback": [
      "\u001b[0;31m---------------------------------------------------------------------------\u001b[0m",
      "\u001b[0;31mKeyboardInterrupt\u001b[0m                         Traceback (most recent call last)",
      "Cell \u001b[0;32mIn[73], line 18\u001b[0m\n\u001b[1;32m     16\u001b[0m random_index \u001b[38;5;241m=\u001b[39m [i \u001b[38;5;28;01mfor\u001b[39;00m i \u001b[38;5;129;01min\u001b[39;00m \u001b[38;5;28mrange\u001b[39m(\u001b[38;5;28mlen\u001b[39m(Hs))]\n\u001b[1;32m     17\u001b[0m shuffle(random_index)\n\u001b[0;32m---> 18\u001b[0m Ug \u001b[38;5;241m=\u001b[39m \u001b[43mget_U_n\u001b[49m\u001b[43m(\u001b[49m\u001b[43mHs\u001b[49m\u001b[43m,\u001b[49m\u001b[43m \u001b[49m\u001b[43mn\u001b[49m\u001b[43m,\u001b[49m\u001b[43m \u001b[49m\u001b[43mt\u001b[49m\u001b[43m,\u001b[49m\u001b[43m \u001b[49m\u001b[43mrandom_index\u001b[49m\u001b[43m)\u001b[49m\n\u001b[1;32m     19\u001b[0m err_c \u001b[38;5;241m=\u001b[39mmat_diff(U, Ug)\u001b[38;5;241m.\u001b[39mreal\n\u001b[1;32m     20\u001b[0m err\u001b[38;5;241m.\u001b[39mappend(err_c)\n",
      "Cell \u001b[0;32mIn[42], line 3\u001b[0m, in \u001b[0;36mget_U_n\u001b[0;34m(hs, n, t, rand_index)\u001b[0m\n\u001b[1;32m      1\u001b[0m \u001b[38;5;28;01mdef\u001b[39;00m \u001b[38;5;21mget_U_n\u001b[39m(hs, n, t, rand_index): \u001b[38;5;66;03m#get general order u\u001b[39;00m\n\u001b[1;32m      2\u001b[0m     tn \u001b[38;5;241m=\u001b[39m t\u001b[38;5;241m/\u001b[39mn    \n\u001b[0;32m----> 3\u001b[0m     us \u001b[38;5;241m=\u001b[39m [np\u001b[38;5;241m.\u001b[39mmatrix(\u001b[43mexpm\u001b[49m\u001b[43m(\u001b[49m\u001b[38;5;241;43m-\u001b[39;49m\u001b[38;5;241;43m1\u001b[39;49m\u001b[43mj\u001b[49m\u001b[38;5;241;43m*\u001b[39;49m\u001b[43mtn\u001b[49m\u001b[38;5;241;43m*\u001b[39;49m\u001b[43mhs\u001b[49m\u001b[43m[\u001b[49m\u001b[43mi\u001b[49m\u001b[43m]\u001b[49m\u001b[43m)\u001b[49m) \u001b[38;5;28;01mfor\u001b[39;00m i \u001b[38;5;129;01min\u001b[39;00m rand_index]\n\u001b[1;32m      4\u001b[0m     ut \u001b[38;5;241m=\u001b[39m reduce(matmul, us)\n\u001b[1;32m      5\u001b[0m     U \u001b[38;5;241m=\u001b[39m np\u001b[38;5;241m.\u001b[39meye(ut\u001b[38;5;241m.\u001b[39mshape[\u001b[38;5;241m0\u001b[39m], dtype\u001b[38;5;241m=\u001b[39m\u001b[38;5;28mcomplex\u001b[39m)\n",
      "File \u001b[0;32m~/miniconda3/envs/opttrot/lib/python3.12/site-packages/scipy/linalg/_matfuncs.py:328\u001b[0m, in \u001b[0;36mexpm\u001b[0;34m(A)\u001b[0m\n\u001b[1;32m    325\u001b[0m \u001b[38;5;28;01mif\u001b[39;00m s \u001b[38;5;241m!=\u001b[39m \u001b[38;5;241m0\u001b[39m:  \u001b[38;5;66;03m# scaling needed\u001b[39;00m\n\u001b[1;32m    326\u001b[0m     Am[:\u001b[38;5;241m4\u001b[39m] \u001b[38;5;241m*\u001b[39m\u001b[38;5;241m=\u001b[39m [[[\u001b[38;5;241m2\u001b[39m\u001b[38;5;241m*\u001b[39m\u001b[38;5;241m*\u001b[39m(\u001b[38;5;241m-\u001b[39ms)]], [[\u001b[38;5;241m4\u001b[39m\u001b[38;5;241m*\u001b[39m\u001b[38;5;241m*\u001b[39m(\u001b[38;5;241m-\u001b[39ms)]], [[\u001b[38;5;241m16\u001b[39m\u001b[38;5;241m*\u001b[39m\u001b[38;5;241m*\u001b[39m(\u001b[38;5;241m-\u001b[39ms)]], [[\u001b[38;5;241m64\u001b[39m\u001b[38;5;241m*\u001b[39m\u001b[38;5;241m*\u001b[39m(\u001b[38;5;241m-\u001b[39ms)]]]\n\u001b[0;32m--> 328\u001b[0m \u001b[43mpade_UV_calc\u001b[49m\u001b[43m(\u001b[49m\u001b[43mAm\u001b[49m\u001b[43m,\u001b[49m\u001b[43m \u001b[49m\u001b[43mn\u001b[49m\u001b[43m,\u001b[49m\u001b[43m \u001b[49m\u001b[43mm\u001b[49m\u001b[43m)\u001b[49m\n\u001b[1;32m    329\u001b[0m eAw \u001b[38;5;241m=\u001b[39m Am[\u001b[38;5;241m0\u001b[39m]\n\u001b[1;32m    331\u001b[0m \u001b[38;5;28;01mif\u001b[39;00m s \u001b[38;5;241m!=\u001b[39m \u001b[38;5;241m0\u001b[39m:  \u001b[38;5;66;03m# squaring needed\u001b[39;00m\n",
      "\u001b[0;31mKeyboardInterrupt\u001b[0m: "
     ]
    }
   ],
   "source": [
    "n = 5\n",
    "errs = []\n",
    "ts = np.linspace(0.1, 2, 100)\n",
    "pplist = pa.to_list()\n",
    "max_i = len(Hs)\n",
    "\n",
    "for t in ts:\n",
    "    U = expm(-1j*t*H)\n",
    "    Uc = get_U_n(H_com_group, n, t, identit_index)\n",
    "    err_com = mat_diff(U, Uc)\n",
    "    err = []\n",
    "    min_err = err_com \n",
    "    optimal_index = None\n",
    "    iter = 3000\n",
    "    for l in range(1000):\n",
    "        random_index = [i for i in range(len(Hs))]\n",
    "        shuffle(random_index)\n",
    "        Ug = get_U_n(Hs, n, t, random_index)\n",
    "        err_c =mat_diff(U, Ug).real\n",
    "        err.append(err_c)\n",
    "        if min_err > err_c :\n",
    "            optimal_index = deepcopy(random_index)\n",
    "            min_err = err_c\n",
    "    \n",
    "    if optimal_index is not None:\n",
    "        commute = []\n",
    "        for i, j in enumerate(optimal_index):\n",
    "            if i +1 >= max_i:\n",
    "                break\n",
    "            p1 = pplist[j][0]\n",
    "            p2 = pplist[optimal_index[i+1]][0]\n",
    "            commute.append(pstr_commute(p1, p2))\n",
    "        commute = np.array(commute)\n",
    "        M = max_i-1\n",
    "        commute_num = commute.sum()\n",
    "        cn = commute_num/M\n",
    "        acn = 1-cn\n",
    "        print(f\"Commute ratio: {cn:.2}/{acn:.2}\")\n",
    "    \n",
    "    e_max = max(err)\n",
    "    e_min = min(err)\n",
    "    percentage = (100*(np.abs(err_com))/e_max).real\n",
    "    errs.append(percentage)\n",
    "    print(f\"{n}, {t:.3}\", f\"{percentage:.2}%\", )"
   ]
  },
  {
   "cell_type": "code",
   "execution_count": 74,
   "metadata": {},
   "outputs": [
    {
     "data": {
      "text/plain": [
       "[176.06975183838432,\n",
       " 227.44395887429138,\n",
       " 210.14664395412103,\n",
       " 172.90915339496686,\n",
       " 187.8864389076978,\n",
       " 221.91978138394532,\n",
       " 200.498318684511,\n",
       " 168.98813299393765]"
      ]
     },
     "execution_count": 74,
     "metadata": {},
     "output_type": "execute_result"
    }
   ],
   "source": [
    "errs"
   ]
  },
  {
   "cell_type": "code",
   "execution_count": 76,
   "metadata": {},
   "outputs": [
    {
     "data": {
      "image/png": "[encoded data removed]",
      "text/plain": [
       "<Figure size 640x480 with 1 Axes>"
      ]
     },
     "metadata": {},
     "output_type": "display_data"
    }
   ],
   "source": [
    "plt.plot(ts[:len(errs)], errs[-len(errs):])\n",
    "plt.title(\"Error percentage of commuting group Trotter circuit\")\n",
    "plt.xlabel(\"t\")\n",
    "plt.ylabel(\"Error rate(%)\")\n",
    "plt.grid()"
   ]
  },
  {
   "cell_type": "code",
   "execution_count": 853,
   "metadata": {},
   "outputs": [],
   "source": [
    "t = 0.9\n",
    "U = expm(-1j*t*H)\n",
    "Uc = get_U_n(H_com_group, n, t, identit_index)\n",
    "err_com = mat_diff(U, Uc)\n",
    "err = []\n",
    "min_err = err_com \n",
    "optimal_index = None\n",
    "iter = 50000\n",
    "for l in range(1000):\n",
    "    random_index = [i for i in range(len(Hs))]\n",
    "    shuffle(random_index)\n",
    "    Ug = get_U_n(Hs, n, t, random_index)\n",
    "    err_c =mat_diff(U, Ug).real\n",
    "    err.append(err_c)\n",
    "    if min_err > err_c :\n",
    "        optimal_index = deepcopy(random_index)\n",
    "        min_err = err_c\n",
    "    \n",
    "e_max = max(err)\n",
    "e_min = min(err)\n",
    "percentage = (100*(err_com - e_min)/e_max).real"
   ]
  },
  {
   "cell_type": "code",
   "execution_count": 855,
   "metadata": {},
   "outputs": [
    {
     "data": {
      "text/plain": [
       "38.042211330556704"
      ]
     },
     "execution_count": 855,
     "metadata": {},
     "output_type": "execute_result"
    }
   ],
   "source": [
    "percentage"
   ]
  },
  {
   "cell_type": "code",
   "execution_count": 854,
   "metadata": {},
   "outputs": [
    {
     "data": {
      "text/plain": [
       "<matplotlib.lines.Line2D at 0x164fb39e0>"
      ]
     },
     "execution_count": 854,
     "metadata": {},
     "output_type": "execute_result"
    },
    {
     "data": {
      "image/png": "[encoded data removed]",
      "text/plain": [
       "<Figure size 640x480 with 1 Axes>"
      ]
     },
     "metadata": {},
     "output_type": "display_data"
    }
   ],
   "source": [
    "plt.plot(err)\n",
    "plt.axhline(err_com, 0, iter, c=\"r\")"
   ]
  },
  {
   "cell_type": "code",
   "execution_count": 856,
   "metadata": {},
   "outputs": [
    {
     "data": {
      "text/plain": [
       "[99,\n",
       " 120,\n",
       " 53,\n",
       " 40,\n",
       " 13,\n",
       " 36,\n",
       " 105,\n",
       " 74,\n",
       " 78,\n",
       " 41,\n",
       " 70,\n",
       " 69,\n",
       " 83,\n",
       " 115,\n",
       " 16,\n",
       " 132,\n",
       " 103,\n",
       " 88,\n",
       " 9,\n",
       " 128,\n",
       " 14,\n",
       " 89,\n",
       " 5,\n",
       " 20,\n",
       " 110,\n",
       " 82,\n",
       " 114,\n",
       " 54,\n",
       " 106,\n",
       " 43,\n",
       " 8,\n",
       " 94,\n",
       " 59,\n",
       " 4,\n",
       " 79,\n",
       " 22,\n",
       " 113,\n",
       " 65,\n",
       " 47,\n",
       " 117,\n",
       " 112,\n",
       " 51,\n",
       " 87,\n",
       " 52,\n",
       " 17,\n",
       " 126,\n",
       " 42,\n",
       " 6,\n",
       " 34,\n",
       " 66,\n",
       " 57,\n",
       " 72,\n",
       " 12,\n",
       " 39,\n",
       " 108,\n",
       " 25,\n",
       " 21,\n",
       " 116,\n",
       " 129,\n",
       " 86,\n",
       " 11,\n",
       " 0,\n",
       " 107,\n",
       " 121,\n",
       " 3,\n",
       " 93,\n",
       " 125,\n",
       " 56,\n",
       " 109,\n",
       " 97,\n",
       " 131,\n",
       " 133,\n",
       " 90,\n",
       " 31,\n",
       " 44,\n",
       " 28,\n",
       " 30,\n",
       " 73,\n",
       " 10,\n",
       " 77,\n",
       " 71,\n",
       " 48,\n",
       " 111,\n",
       " 92,\n",
       " 91,\n",
       " 27,\n",
       " 64,\n",
       " 45,\n",
       " 60,\n",
       " 76,\n",
       " 29,\n",
       " 61,\n",
       " 104,\n",
       " 134,\n",
       " 102,\n",
       " 84,\n",
       " 100,\n",
       " 18,\n",
       " 96,\n",
       " 26,\n",
       " 15,\n",
       " 32,\n",
       " 37,\n",
       " 118,\n",
       " 85,\n",
       " 95,\n",
       " 101,\n",
       " 98,\n",
       " 50,\n",
       " 122,\n",
       " 55,\n",
       " 123,\n",
       " 67,\n",
       " 80,\n",
       " 38,\n",
       " 23,\n",
       " 24,\n",
       " 119,\n",
       " 1,\n",
       " 49,\n",
       " 127,\n",
       " 35,\n",
       " 68,\n",
       " 130,\n",
       " 33,\n",
       " 2,\n",
       " 124,\n",
       " 81,\n",
       " 62,\n",
       " 19,\n",
       " 75,\n",
       " 63,\n",
       " 58,\n",
       " 7,\n",
       " 46]"
      ]
     },
     "execution_count": 856,
     "metadata": {},
     "output_type": "execute_result"
    }
   ],
   "source": [
    "optimal_index"
   ]
  },
  {
   "cell_type": "code",
   "execution_count": 864,
   "metadata": {},
   "outputs": [],
   "source": [
    "from opttrot.pauli_utils import pstr_commute"
   ]
  },
  {
   "cell_type": "code",
   "execution_count": 858,
   "metadata": {},
   "outputs": [],
   "source": []
  },
  {
   "cell_type": "code",
   "execution_count": 870,
   "metadata": {},
   "outputs": [
    {
     "name": "stdout",
     "output_type": "stream",
     "text": [
      "135\n"
     ]
    }
   ],
   "source": [
    "pplist = pa.to_list()\n",
    "max_i = len(optimal_index)\n",
    "print(max_i)\n",
    "commute = []\n",
    "for i, j in enumerate(optimal_index):\n",
    "    if i +1 >= max_i:\n",
    "        break\n",
    "\n",
    "    pa = pplist[j][0]\n",
    "    pb = pplist[optimal_index[i+1]][0]\n",
    "\n",
    "    commute.append(pstr_commute(pa, pb))\n",
    "commute = np.array(commute)"
   ]
  },
  {
   "cell_type": "code",
   "execution_count": 873,
   "metadata": {},
   "outputs": [
    {
     "data": {
      "text/plain": [
       "array([False, False, False,  True,  True, False,  True,  True,  True,\n",
       "        True,  True,  True,  True,  True,  True, False, False,  True,\n",
       "       False, False,  True,  True, False, False, False,  True, False,\n",
       "       False,  True,  True, False, False, False, False,  True,  True,\n",
       "        True, False, False, False, False,  True, False, False, False,\n",
       "        True,  True,  True, False,  True, False, False,  True,  True,\n",
       "       False, False,  True,  True, False,  True,  True,  True, False,\n",
       "       False, False,  True,  True,  True, False,  True,  True,  True,\n",
       "       False,  True, False, False, False,  True,  True,  True, False,\n",
       "        True,  True,  True, False, False,  True, False, False, False,\n",
       "        True, False,  True,  True, False, False,  True,  True,  True,\n",
       "       False, False, False,  True, False,  True,  True,  True,  True,\n",
       "       False,  True, False, False, False, False, False, False, False,\n",
       "       False,  True,  True,  True,  True, False, False,  True, False,\n",
       "        True,  True, False,  True, False, False, False,  True])"
      ]
     },
     "execution_count": 873,
     "metadata": {},
     "output_type": "execute_result"
    }
   ],
   "source": [
    "commute"
   ]
  },
  {
   "cell_type": "code",
   "execution_count": 876,
   "metadata": {},
   "outputs": [
    {
     "data": {
      "text/plain": [
       "(0.5, 0.5)"
      ]
     },
     "execution_count": 876,
     "metadata": {},
     "output_type": "execute_result"
    }
   ],
   "source": [
    "commute.sum()/(max_i-1), (max_i-1 -commute.sum())/(max_i-1)"
   ]
  },
  {
   "cell_type": "code",
   "execution_count": null,
   "metadata": {},
   "outputs": [],
   "source": []
  }
 ],
 "metadata": {
  "kernelspec": {
   "display_name": "opttrot",
   "language": "python",
   "name": "python3"
  },
  "language_info": {
   "codemirror_mode": {
    "name": "ipython",
    "version": 3
   },
   "file_extension": ".py",
   "mimetype": "text/x-python",
   "name": "python",
   "nbconvert_exporter": "python",
   "pygments_lexer": "ipython3",
   "version": "3.12.4"
  }
 },
 "nbformat": 4,
 "nbformat_minor": 2
}
