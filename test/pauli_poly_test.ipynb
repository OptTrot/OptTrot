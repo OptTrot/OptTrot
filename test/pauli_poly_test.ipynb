{
 "cells": [
  {
   "cell_type": "code",
   "execution_count": null,
   "metadata": {},
   "outputs": [],
   "source": [
    "!python ../setup.py build \n",
    "!python ../setup.py build_ext --inplace"
   ]
  },
  {
   "cell_type": "code",
   "execution_count": 1,
   "metadata": {},
   "outputs": [],
   "source": [
    "import os, sys\n",
    "sys.path.append(\"..\")"
   ]
  },
  {
   "cell_type": "markdown",
   "metadata": {},
   "source": [
    "# Optimization of Pauli Poly\n",
    "\n",
    "There are two measure to estimate performances of `PauliPoly`.\n",
    "\n",
    "- Naive `PauliPoly` implementation.\n",
    "- Qiskit `SparsePauliOp` and `PauliList`.\n",
    "- \n",
    "The PauliPoly in the origial OptTrot library was a naive implementation written by python.\n",
    "In here, we will optimize the routine as soon as possible using scipy and numba routines."
   ]
  },
  {
   "cell_type": "code",
   "execution_count": 2,
   "metadata": {},
   "outputs": [],
   "source": [
    "import opttrot"
   ]
  },
  {
   "cell_type": "code",
   "execution_count": 3,
   "metadata": {},
   "outputs": [],
   "source": [
    "from opttrot.pauli_c import get_paulilist_from_coefs"
   ]
  },
  {
   "cell_type": "code",
   "execution_count": 4,
   "metadata": {},
   "outputs": [],
   "source": [
    "from opttrot.pauli_c import PauliElement"
   ]
  },
  {
   "cell_type": "code",
   "execution_count": 5,
   "metadata": {},
   "outputs": [],
   "source": [
    "from opttrot.pauli import PauliElement\n",
    "from opttrot.pauli import PauliPoly\n",
    "\n",
    "import numpy as np\n",
    "import matplotlib.pyplot as plt"
   ]
  },
  {
   "cell_type": "code",
   "execution_count": 6,
   "metadata": {},
   "outputs": [],
   "source": [
    "from importlib import reload\n",
    "#import paulipoly\n",
    "#reload(paulipoly)\n",
    "#from paulipoly import PauliPoly as NewPauliPoly\n",
    "#import ten_con\n",
    "#reload(ten_con)\n",
    "#from ten_con import _mat_to_coef_mat, _coef_to_mat"
   ]
  },
  {
   "cell_type": "code",
   "execution_count": 7,
   "metadata": {},
   "outputs": [],
   "source": [
    "from scipy.sparse import coo_matrix, csr_matrix"
   ]
  },
  {
   "cell_type": "code",
   "execution_count": 8,
   "metadata": {},
   "outputs": [],
   "source": [
    "from qiskit.quantum_info import Pauli, PauliList, SparsePauliOp"
   ]
  },
  {
   "cell_type": "code",
   "execution_count": 9,
   "metadata": {},
   "outputs": [],
   "source": [
    "from copy import deepcopy"
   ]
  },
  {
   "cell_type": "code",
   "execution_count": 10,
   "metadata": {},
   "outputs": [],
   "source": [
    "qubits = 4\n",
    "def get_test_hermit(qubits, tol= 0.5):\n",
    "    ndim = int(2**qubits)\n",
    "    A = np.random.rand(ndim, ndim)\n",
    "    A[A<tol] = 0.\n",
    "    H = A + 1j*A\n",
    "    H = H.conj().T@H\n",
    "    return H\n"
   ]
  },
  {
   "cell_type": "code",
   "execution_count": 11,
   "metadata": {},
   "outputs": [],
   "source": [
    "A = np.sqrt(get_test_hermit(qubits, 0.96))\n",
    "B = np.sqrt(get_test_hermit(qubits, 0.8))\n"
   ]
  },
  {
   "cell_type": "code",
   "execution_count": 12,
   "metadata": {},
   "outputs": [],
   "source": [
    "test_ppoly = PauliPoly.from_matrix(A)"
   ]
  },
  {
   "cell_type": "code",
   "execution_count": 13,
   "metadata": {},
   "outputs": [
    {
     "data": {
      "text/plain": [
       "array([PauliElement(n=4, weight=1.115432+(-0.000000)j, IIII),\n",
       "       PauliElement(n=4, weight=0.173188+(0.000000)j, IIIX),\n",
       "       PauliElement(n=4, weight=0.173370+(-0.000000)j, IIXX),\n",
       "       PauliElement(n=4, weight=0.344493+(-0.000000)j, IXII),\n",
       "       PauliElement(n=4, weight=0.173568+(0.000000)j, IXXX),\n",
       "       PauliElement(n=4, weight=0.174622+(-0.000000)j, XIXI),\n",
       "       PauliElement(n=4, weight=0.173866+(0.000000)j, XIXX),\n",
       "       PauliElement(n=4, weight=-0.180697+(-0.000000)j, IIIZ),\n",
       "       PauliElement(n=4, weight=-0.344493+(0.000000)j, IXIZ),\n",
       "       PauliElement(n=4, weight=-0.000000+(0.000000)j, IXXY),\n",
       "       PauliElement(n=4, weight=-0.000000+(0.000000)j, XIXY),\n",
       "       PauliElement(n=4, weight=-0.174622+(0.000000)j, XIXZ),\n",
       "       PauliElement(n=4, weight=-0.223002+(-0.000000)j, IIZI),\n",
       "       PauliElement(n=4, weight=-0.173188+(0.000000)j, IIZX),\n",
       "       PauliElement(n=4, weight=-0.000000+(0.000000)j, IXYX),\n",
       "       PauliElement(n=4, weight=0.000081+(0.000000)j, IXZI),\n",
       "       PauliElement(n=4, weight=-0.000000+(0.000000)j, XIYX),\n",
       "       PauliElement(n=4, weight=-0.173370+(0.000000)j, IIYY),\n",
       "       PauliElement(n=4, weight=0.127427+(-0.000000)j, IIZZ),\n",
       "       PauliElement(n=4, weight=-0.173568+(-0.000000)j, IXYY),\n",
       "       PauliElement(n=4, weight=-0.000081+(-0.000000)j, IXZZ),\n",
       "       PauliElement(n=4, weight=-0.173866+(-0.000000)j, XIYY),\n",
       "       PauliElement(n=4, weight=0.000000+(0.000000)j, IYII),\n",
       "       PauliElement(n=4, weight=-0.000000+(0.000000)j, IYXX),\n",
       "       PauliElement(n=4, weight=0.050635+(-0.000000)j, IZII),\n",
       "       PauliElement(n=4, weight=-0.173188+(0.000000)j, IZIX),\n",
       "       PauliElement(n=4, weight=0.173370+(-0.000000)j, IZXX),\n",
       "       PauliElement(n=4, weight=0.174622+(-0.000000)j, XZXI),\n",
       "       PauliElement(n=4, weight=-0.173866+(-0.000000)j, XZXX),\n",
       "       PauliElement(n=4, weight=-0.000000+(0.000000)j, IYIZ),\n",
       "       PauliElement(n=4, weight=-0.173568+(-0.000000)j, IYXY),\n",
       "       PauliElement(n=4, weight=0.052668+(0.000000)j, IZIZ),\n",
       "       PauliElement(n=4, weight=0.000000+(0.000000)j, XZXY),\n",
       "       PauliElement(n=4, weight=-0.174622+(0.000000)j, XZXZ),\n",
       "       PauliElement(n=4, weight=-0.173568+(-0.000000)j, IYYX),\n",
       "       PauliElement(n=4, weight=-0.000000+(0.000000)j, IYZI),\n",
       "       PauliElement(n=4, weight=0.006019+(0.000000)j, IZZI),\n",
       "       PauliElement(n=4, weight=0.173188+(0.000000)j, IZZX),\n",
       "       PauliElement(n=4, weight=0.000000+(0.000000)j, XZYX),\n",
       "       PauliElement(n=4, weight=0.000000+(0.000000)j, IYYY),\n",
       "       PauliElement(n=4, weight=0.000000+(0.000000)j, IYZZ),\n",
       "       PauliElement(n=4, weight=-0.173370+(0.000000)j, IZYY),\n",
       "       PauliElement(n=4, weight=-0.249513+(-0.000000)j, IZZZ),\n",
       "       PauliElement(n=4, weight=0.173866+(0.000000)j, XZYY),\n",
       "       PauliElement(n=4, weight=-0.000000+(0.000000)j, YIXX),\n",
       "       PauliElement(n=4, weight=-0.350149+(0.000000)j, ZIII),\n",
       "       PauliElement(n=4, weight=-0.173188+(0.000000)j, ZIIX),\n",
       "       PauliElement(n=4, weight=-0.173370+(0.000000)j, ZIXX),\n",
       "       PauliElement(n=4, weight=-0.344493+(0.000000)j, ZXII),\n",
       "       PauliElement(n=4, weight=-0.173568+(-0.000000)j, ZXXX),\n",
       "       PauliElement(n=4, weight=-0.173866+(-0.000000)j, YIXY),\n",
       "       PauliElement(n=4, weight=0.245260+(-0.000000)j, ZIIZ),\n",
       "       PauliElement(n=4, weight=0.344493+(-0.000000)j, ZXIZ),\n",
       "       PauliElement(n=4, weight=0.000000+(0.000000)j, ZXXY),\n",
       "       PauliElement(n=4, weight=0.174622+(-0.000000)j, YIYI),\n",
       "       PauliElement(n=4, weight=-0.173866+(-0.000000)j, YIYX),\n",
       "       PauliElement(n=4, weight=-0.052604+(-0.000000)j, ZIZI),\n",
       "       PauliElement(n=4, weight=0.173188+(0.000000)j, ZIZX),\n",
       "       PauliElement(n=4, weight=0.000000+(0.000000)j, ZXYX),\n",
       "       PauliElement(n=4, weight=-0.000081+(-0.000000)j, ZXZI),\n",
       "       PauliElement(n=4, weight=0.000000+(0.000000)j, YIYY),\n",
       "       PauliElement(n=4, weight=-0.174622+(0.000000)j, YIYZ),\n",
       "       PauliElement(n=4, weight=0.173370+(-0.000000)j, ZIYY),\n",
       "       PauliElement(n=4, weight=0.297686+(0.000000)j, ZIZZ),\n",
       "       PauliElement(n=4, weight=0.173568+(0.000000)j, ZXYY),\n",
       "       PauliElement(n=4, weight=0.000081+(0.000000)j, ZXZZ),\n",
       "       PauliElement(n=4, weight=0.000000+(0.000000)j, YZXX),\n",
       "       PauliElement(n=4, weight=-0.000000+(0.000000)j, ZYII),\n",
       "       PauliElement(n=4, weight=0.000000+(0.000000)j, ZYXX),\n",
       "       PauliElement(n=4, weight=-0.125270+(0.000000)j, ZZII),\n",
       "       PauliElement(n=4, weight=0.173188+(0.000000)j, ZZIX),\n",
       "       PauliElement(n=4, weight=-0.173370+(0.000000)j, ZZXX),\n",
       "       PauliElement(n=4, weight=0.173866+(0.000000)j, YZXY),\n",
       "       PauliElement(n=4, weight=0.000000+(0.000000)j, ZYIZ),\n",
       "       PauliElement(n=4, weight=0.173568+(0.000000)j, ZYXY),\n",
       "       PauliElement(n=4, weight=-0.127538+(0.000000)j, ZZIZ),\n",
       "       PauliElement(n=4, weight=0.174622+(-0.000000)j, YZYI),\n",
       "       PauliElement(n=4, weight=0.173866+(0.000000)j, YZYX),\n",
       "       PauliElement(n=4, weight=0.173568+(0.000000)j, ZYYX),\n",
       "       PauliElement(n=4, weight=0.000000+(0.000000)j, ZYZI),\n",
       "       PauliElement(n=4, weight=-0.421059+(0.000000)j, ZZZI),\n",
       "       PauliElement(n=4, weight=-0.173188+(0.000000)j, ZZZX),\n",
       "       PauliElement(n=4, weight=-0.000000+(0.000000)j, YZYY),\n",
       "       PauliElement(n=4, weight=-0.174622+(0.000000)j, YZYZ),\n",
       "       PauliElement(n=4, weight=-0.000000+(0.000000)j, ZYYY),\n",
       "       PauliElement(n=4, weight=-0.000000+(0.000000)j, ZYZZ),\n",
       "       PauliElement(n=4, weight=0.173370+(-0.000000)j, ZZYY),\n",
       "       PauliElement(n=4, weight=-0.165292+(0.000000)j, ZZZZ)],\n",
       "      dtype=object)"
      ]
     },
     "execution_count": 13,
     "metadata": {},
     "output_type": "execute_result"
    }
   ],
   "source": [
    "test_ppoly.poly"
   ]
  },
  {
   "cell_type": "code",
   "execution_count": 14,
   "metadata": {},
   "outputs": [
    {
     "data": {
      "text/plain": [
       "9.765625"
      ]
     },
     "execution_count": 14,
     "metadata": {},
     "output_type": "execute_result"
    }
   ],
   "source": [
    "#plist = list(test_ppoly._terms.values())\n",
    "coef_mat = test_ppoly.coef_matrix\n",
    "mat = test_ppoly.matrix\n",
    "coef_mat[coef_mat<0.05] = 0.\n",
    "cmat = csr_matrix(coef_mat)\n",
    "100*cmat.data.size/(4**qubits)"
   ]
  },
  {
   "cell_type": "markdown",
   "metadata": {},
   "source": [
    "## Coef matrix to PauliPoly"
   ]
  },
  {
   "cell_type": "code",
   "execution_count": 15,
   "metadata": {},
   "outputs": [
    {
     "name": "stdout",
     "output_type": "stream",
     "text": [
      "13.2 µs ± 263 ns per loop (mean ± std. dev. of 7 runs, 100,000 loops each)\n"
     ]
    }
   ],
   "source": [
    "%%timeit\n",
    "PauliPoly(coef_mat)"
   ]
  },
  {
   "cell_type": "markdown",
   "metadata": {},
   "source": [
    "## Hermit matrix to PauliPoly"
   ]
  },
  {
   "cell_type": "code",
   "execution_count": 16,
   "metadata": {},
   "outputs": [
    {
     "name": "stdout",
     "output_type": "stream",
     "text": [
      "71.3 µs ± 513 ns per loop (mean ± std. dev. of 7 runs, 10,000 loops each)\n"
     ]
    }
   ],
   "source": [
    "%%timeit\n",
    "PauliPoly.from_matrix(mat)"
   ]
  },
  {
   "cell_type": "code",
   "execution_count": 17,
   "metadata": {},
   "outputs": [
    {
     "name": "stdout",
     "output_type": "stream",
     "text": [
      "56.4 µs ± 129 ns per loop (mean ± std. dev. of 7 runs, 10,000 loops each)\n"
     ]
    }
   ],
   "source": [
    "%%timeit\n",
    "SparsePauliOp.from_operator(mat)"
   ]
  },
  {
   "cell_type": "markdown",
   "metadata": {},
   "source": [
    "## Test"
   ]
  },
  {
   "cell_type": "markdown",
   "metadata": {},
   "source": [
    "## PauliPoly to Hermit"
   ]
  },
  {
   "cell_type": "code",
   "execution_count": 22,
   "metadata": {},
   "outputs": [],
   "source": [
    "# PauliPoly\n",
    "pp001 = PauliPoly.from_matrix(A)\n",
    "pp002 = PauliPoly.from_matrix(B)\n",
    "\n",
    "# Qiskit\n",
    "spa001 = SparsePauliOp.from_operator(A)\n",
    "spa002 = SparsePauliOp.from_operator(B)"
   ]
  },
  {
   "cell_type": "code",
   "execution_count": 23,
   "metadata": {},
   "outputs": [
    {
     "name": "stdout",
     "output_type": "stream",
     "text": [
      "45.3 µs ± 2.1 µs per loop (mean ± std. dev. of 7 runs, 10,000 loops each)\n"
     ]
    }
   ],
   "source": [
    "%%timeit\n",
    "pp001.matrix"
   ]
  },
  {
   "cell_type": "code",
   "execution_count": 24,
   "metadata": {},
   "outputs": [
    {
     "name": "stdout",
     "output_type": "stream",
     "text": [
      "90 µs ± 1.04 µs per loop (mean ± std. dev. of 7 runs, 10,000 loops each)\n"
     ]
    }
   ],
   "source": [
    "%%timeit\n",
    "spa001.to_matrix() "
   ]
  },
  {
   "cell_type": "markdown",
   "metadata": {},
   "source": [
    "Tset: Qubit 12 (Matrix construction)\n",
    "\n",
    "- PauliPoly: 3.48 s ± 12.3 ms\n",
    "- Qiskit: 33.2 s ± 1.98 s"
   ]
  },
  {
   "cell_type": "code",
   "execution_count": 25,
   "metadata": {},
   "outputs": [
    {
     "name": "stdout",
     "output_type": "stream",
     "text": [
      "44 µs ± 587 ns per loop (mean ± std. dev. of 7 runs, 10,000 loops each)\n"
     ]
    }
   ],
   "source": [
    "%%timeit\n",
    "pp002.matrix"
   ]
  },
  {
   "cell_type": "code",
   "execution_count": 26,
   "metadata": {},
   "outputs": [
    {
     "name": "stdout",
     "output_type": "stream",
     "text": [
      "96.8 µs ± 561 ns per loop (mean ± std. dev. of 7 runs, 10,000 loops each)\n"
     ]
    }
   ],
   "source": [
    "%%timeit\n",
    "spa002.to_matrix()"
   ]
  },
  {
   "cell_type": "markdown",
   "metadata": {},
   "source": [
    "## PauliElement generation"
   ]
  },
  {
   "cell_type": "code",
   "execution_count": 27,
   "metadata": {},
   "outputs": [],
   "source": [
    "ps = pp001.poly"
   ]
  },
  {
   "cell_type": "code",
   "execution_count": 28,
   "metadata": {},
   "outputs": [
    {
     "data": {
      "text/plain": [
       "array([PauliElement(n=4, weight=-nan(ind)+(-nan(ind))j, IIII),\n",
       "       PauliElement(n=4, weight=-nan(ind)+(-nan(ind))j, IIIX),\n",
       "       PauliElement(n=4, weight=-nan(ind)+(-nan(ind))j, IIXX),\n",
       "       PauliElement(n=4, weight=-nan(ind)+(-nan(ind))j, IXII),\n",
       "       PauliElement(n=4, weight=-nan(ind)+(-nan(ind))j, IXXX),\n",
       "       PauliElement(n=4, weight=-nan(ind)+(-nan(ind))j, XIXI),\n",
       "       PauliElement(n=4, weight=-nan(ind)+(-nan(ind))j, XIXX),\n",
       "       PauliElement(n=4, weight=-nan(ind)+(-nan(ind))j, IIIY),\n",
       "       PauliElement(n=4, weight=-nan(ind)+(-nan(ind))j, IIIZ),\n",
       "       PauliElement(n=4, weight=-nan(ind)+(-nan(ind))j, IIXY),\n",
       "       PauliElement(n=4, weight=-nan(ind)+(-nan(ind))j, IXIZ),\n",
       "       PauliElement(n=4, weight=-nan(ind)+(-nan(ind))j, IXXY),\n",
       "       PauliElement(n=4, weight=-nan(ind)+(-nan(ind))j, XIXY),\n",
       "       PauliElement(n=4, weight=-nan(ind)+(-nan(ind))j, XIXZ),\n",
       "       PauliElement(n=4, weight=-nan(ind)+(-nan(ind))j, IIYX),\n",
       "       PauliElement(n=4, weight=-nan(ind)+(-nan(ind))j, IIZI),\n",
       "       PauliElement(n=4, weight=-nan(ind)+(-nan(ind))j, IIZX),\n",
       "       PauliElement(n=4, weight=-nan(ind)+(-nan(ind))j, IXYX),\n",
       "       PauliElement(n=4, weight=-nan(ind)+(-nan(ind))j, IXZI),\n",
       "       PauliElement(n=4, weight=-nan(ind)+(-nan(ind))j, XIYI),\n",
       "       PauliElement(n=4, weight=-nan(ind)+(-nan(ind))j, XIYX),\n",
       "       PauliElement(n=4, weight=-nan(ind)+(-nan(ind))j, IIYY),\n",
       "       PauliElement(n=4, weight=-nan(ind)+(-nan(ind))j, IIZY),\n",
       "       PauliElement(n=4, weight=-nan(ind)+(-nan(ind))j, IIZZ),\n",
       "       PauliElement(n=4, weight=-nan(ind)+(-nan(ind))j, IXYY),\n",
       "       PauliElement(n=4, weight=-nan(ind)+(-nan(ind))j, IXZZ),\n",
       "       PauliElement(n=4, weight=-nan(ind)+(-nan(ind))j, XIYY),\n",
       "       PauliElement(n=4, weight=-nan(ind)+(-nan(ind))j, XIYZ),\n",
       "       PauliElement(n=4, weight=-nan(ind)+(-nan(ind))j, IYII),\n",
       "       PauliElement(n=4, weight=-nan(ind)+(-nan(ind))j, IYXX),\n",
       "       PauliElement(n=4, weight=-nan(ind)+(-nan(ind))j, IZII),\n",
       "       PauliElement(n=4, weight=-nan(ind)+(-nan(ind))j, IZIX),\n",
       "       PauliElement(n=4, weight=-nan(ind)+(-nan(ind))j, IZXX),\n",
       "       PauliElement(n=4, weight=-nan(ind)+(-nan(ind))j, XZXI),\n",
       "       PauliElement(n=4, weight=-nan(ind)+(-nan(ind))j, XZXX),\n",
       "       PauliElement(n=4, weight=-nan(ind)+(-nan(ind))j, IYIZ),\n",
       "       PauliElement(n=4, weight=-nan(ind)+(-nan(ind))j, IYXY),\n",
       "       PauliElement(n=4, weight=-nan(ind)+(-nan(ind))j, IZIY),\n",
       "       PauliElement(n=4, weight=-nan(ind)+(-nan(ind))j, IZIZ),\n",
       "       PauliElement(n=4, weight=-nan(ind)+(-nan(ind))j, IZXY),\n",
       "       PauliElement(n=4, weight=-nan(ind)+(-nan(ind))j, XZXY),\n",
       "       PauliElement(n=4, weight=-nan(ind)+(-nan(ind))j, XZXZ),\n",
       "       PauliElement(n=4, weight=-nan(ind)+(-nan(ind))j, IYYX),\n",
       "       PauliElement(n=4, weight=-nan(ind)+(-nan(ind))j, IYZI),\n",
       "       PauliElement(n=4, weight=-nan(ind)+(-nan(ind))j, IZYX),\n",
       "       PauliElement(n=4, weight=-nan(ind)+(-nan(ind))j, IZZI),\n",
       "       PauliElement(n=4, weight=-nan(ind)+(-nan(ind))j, IZZX),\n",
       "       PauliElement(n=4, weight=-nan(ind)+(-nan(ind))j, XZYI),\n",
       "       PauliElement(n=4, weight=-nan(ind)+(-nan(ind))j, XZYX),\n",
       "       PauliElement(n=4, weight=-nan(ind)+(-nan(ind))j, IYYY),\n",
       "       PauliElement(n=4, weight=-nan(ind)+(-nan(ind))j, IYZZ),\n",
       "       PauliElement(n=4, weight=-nan(ind)+(-nan(ind))j, IZYY),\n",
       "       PauliElement(n=4, weight=-nan(ind)+(-nan(ind))j, IZZY),\n",
       "       PauliElement(n=4, weight=-nan(ind)+(-nan(ind))j, IZZZ),\n",
       "       PauliElement(n=4, weight=-nan(ind)+(-nan(ind))j, XZYY),\n",
       "       PauliElement(n=4, weight=-nan(ind)+(-nan(ind))j, XZYZ),\n",
       "       PauliElement(n=4, weight=-nan(ind)+(-nan(ind))j, YIXI),\n",
       "       PauliElement(n=4, weight=-nan(ind)+(-nan(ind))j, YIXX),\n",
       "       PauliElement(n=4, weight=-nan(ind)+(-nan(ind))j, ZIII),\n",
       "       PauliElement(n=4, weight=-nan(ind)+(-nan(ind))j, ZIIX),\n",
       "       PauliElement(n=4, weight=-nan(ind)+(-nan(ind))j, ZIXX),\n",
       "       PauliElement(n=4, weight=-nan(ind)+(-nan(ind))j, ZXII),\n",
       "       PauliElement(n=4, weight=-nan(ind)+(-nan(ind))j, ZXXX),\n",
       "       PauliElement(n=4, weight=-nan(ind)+(-nan(ind))j, YIXY),\n",
       "       PauliElement(n=4, weight=-nan(ind)+(-nan(ind))j, YIXZ),\n",
       "       PauliElement(n=4, weight=-nan(ind)+(-nan(ind))j, ZIIY),\n",
       "       PauliElement(n=4, weight=-nan(ind)+(-nan(ind))j, ZIIZ),\n",
       "       PauliElement(n=4, weight=-nan(ind)+(-nan(ind))j, ZIXY),\n",
       "       PauliElement(n=4, weight=-nan(ind)+(-nan(ind))j, ZXIZ),\n",
       "       PauliElement(n=4, weight=-nan(ind)+(-nan(ind))j, ZXXY),\n",
       "       PauliElement(n=4, weight=-nan(ind)+(-nan(ind))j, YIYI),\n",
       "       PauliElement(n=4, weight=-nan(ind)+(-nan(ind))j, YIYX),\n",
       "       PauliElement(n=4, weight=-nan(ind)+(-nan(ind))j, ZIYX),\n",
       "       PauliElement(n=4, weight=-nan(ind)+(-nan(ind))j, ZIZI),\n",
       "       PauliElement(n=4, weight=-nan(ind)+(-nan(ind))j, ZIZX),\n",
       "       PauliElement(n=4, weight=-nan(ind)+(-nan(ind))j, ZXYX),\n",
       "       PauliElement(n=4, weight=-nan(ind)+(-nan(ind))j, ZXZI),\n",
       "       PauliElement(n=4, weight=-nan(ind)+(-nan(ind))j, YIYY),\n",
       "       PauliElement(n=4, weight=-nan(ind)+(-nan(ind))j, YIYZ),\n",
       "       PauliElement(n=4, weight=-nan(ind)+(-nan(ind))j, ZIYY),\n",
       "       PauliElement(n=4, weight=-nan(ind)+(-nan(ind))j, ZIZY),\n",
       "       PauliElement(n=4, weight=-nan(ind)+(-nan(ind))j, ZIZZ),\n",
       "       PauliElement(n=4, weight=-nan(ind)+(-nan(ind))j, ZXYY),\n",
       "       PauliElement(n=4, weight=-nan(ind)+(-nan(ind))j, ZXZZ),\n",
       "       PauliElement(n=4, weight=-nan(ind)+(-nan(ind))j, YZXI),\n",
       "       PauliElement(n=4, weight=-nan(ind)+(-nan(ind))j, YZXX),\n",
       "       PauliElement(n=4, weight=-nan(ind)+(-nan(ind))j, ZYII),\n",
       "       PauliElement(n=4, weight=-nan(ind)+(-nan(ind))j, ZYXX),\n",
       "       PauliElement(n=4, weight=-nan(ind)+(-nan(ind))j, ZZII),\n",
       "       PauliElement(n=4, weight=-nan(ind)+(-nan(ind))j, ZZIX),\n",
       "       PauliElement(n=4, weight=-nan(ind)+(-nan(ind))j, ZZXX),\n",
       "       PauliElement(n=4, weight=-nan(ind)+(-nan(ind))j, YZXY),\n",
       "       PauliElement(n=4, weight=-nan(ind)+(-nan(ind))j, YZXZ),\n",
       "       PauliElement(n=4, weight=-nan(ind)+(-nan(ind))j, ZYIZ),\n",
       "       PauliElement(n=4, weight=-nan(ind)+(-nan(ind))j, ZYXY),\n",
       "       PauliElement(n=4, weight=-nan(ind)+(-nan(ind))j, ZZIY),\n",
       "       PauliElement(n=4, weight=-nan(ind)+(-nan(ind))j, ZZIZ),\n",
       "       PauliElement(n=4, weight=-nan(ind)+(-nan(ind))j, ZZXY),\n",
       "       PauliElement(n=4, weight=-nan(ind)+(-nan(ind))j, YZYI),\n",
       "       PauliElement(n=4, weight=-nan(ind)+(-nan(ind))j, YZYX),\n",
       "       PauliElement(n=4, weight=-nan(ind)+(-nan(ind))j, ZYYX),\n",
       "       PauliElement(n=4, weight=-nan(ind)+(-nan(ind))j, ZYZI),\n",
       "       PauliElement(n=4, weight=-nan(ind)+(-nan(ind))j, ZZYX),\n",
       "       PauliElement(n=4, weight=-nan(ind)+(-nan(ind))j, ZZZI),\n",
       "       PauliElement(n=4, weight=-nan(ind)+(-nan(ind))j, ZZZX),\n",
       "       PauliElement(n=4, weight=-nan(ind)+(-nan(ind))j, YZYY),\n",
       "       PauliElement(n=4, weight=-nan(ind)+(-nan(ind))j, YZYZ),\n",
       "       PauliElement(n=4, weight=-nan(ind)+(-nan(ind))j, ZYYY),\n",
       "       PauliElement(n=4, weight=-nan(ind)+(-nan(ind))j, ZYZZ),\n",
       "       PauliElement(n=4, weight=-nan(ind)+(-nan(ind))j, ZZYY),\n",
       "       PauliElement(n=4, weight=-nan(ind)+(-nan(ind))j, ZZZY),\n",
       "       PauliElement(n=4, weight=-nan(ind)+(-nan(ind))j, ZZZZ)],\n",
       "      dtype=object)"
      ]
     },
     "execution_count": 28,
     "metadata": {},
     "output_type": "execute_result"
    }
   ],
   "source": [
    "ps"
   ]
  },
  {
   "cell_type": "code",
   "execution_count": 29,
   "metadata": {},
   "outputs": [
    {
     "data": {
      "text/plain": [
       "matrix([[nan+nanj, nan+nanj,  0. +0.j, nan+nanj, nan+nanj,  0. +0.j,\n",
       "          0. +0.j, nan+nanj,  0. +0.j,  0. +0.j, nan+nanj, nan+nanj,\n",
       "          0. +0.j,  0. +0.j,  0. +0.j,  0. +0.j],\n",
       "        [nan+nanj, nan+nanj, nan+nanj,  0. +0.j,  0. +0.j, nan+nanj,\n",
       "         nan+nanj,  0. +0.j,  0. +0.j,  0. +0.j, nan+nanj, nan+nanj,\n",
       "          0. +0.j,  0. +0.j,  0. +0.j,  0. +0.j],\n",
       "        [ 0. +0.j, nan+nanj, nan+nanj, nan+nanj,  0. +0.j, nan+nanj,\n",
       "         nan+nanj,  0. +0.j, nan+nanj, nan+nanj,  0. +0.j,  0. +0.j,\n",
       "          0. +0.j,  0. +0.j,  0. +0.j,  0. +0.j],\n",
       "        [nan+nanj,  0. +0.j, nan+nanj, nan+nanj, nan+nanj,  0. +0.j,\n",
       "          0. +0.j, nan+nanj, nan+nanj, nan+nanj,  0. +0.j,  0. +0.j,\n",
       "          0. +0.j,  0. +0.j,  0. +0.j,  0. +0.j],\n",
       "        [nan+nanj,  0. +0.j,  0. +0.j, nan+nanj, nan+nanj, nan+nanj,\n",
       "          0. +0.j, nan+nanj,  0. +0.j,  0. +0.j,  0. +0.j,  0. +0.j,\n",
       "          0. +0.j,  0. +0.j, nan+nanj, nan+nanj],\n",
       "        [ 0. +0.j, nan+nanj, nan+nanj,  0. +0.j, nan+nanj, nan+nanj,\n",
       "         nan+nanj,  0. +0.j,  0. +0.j,  0. +0.j,  0. +0.j,  0. +0.j,\n",
       "          0. +0.j,  0. +0.j, nan+nanj, nan+nanj],\n",
       "        [ 0. +0.j, nan+nanj, nan+nanj,  0. +0.j,  0. +0.j, nan+nanj,\n",
       "         nan+nanj, nan+nanj,  0. +0.j,  0. +0.j,  0. +0.j,  0. +0.j,\n",
       "         nan+nanj, nan+nanj,  0. +0.j,  0. +0.j],\n",
       "        [nan+nanj,  0. +0.j,  0. +0.j, nan+nanj, nan+nanj,  0. +0.j,\n",
       "         nan+nanj, nan+nanj,  0. +0.j,  0. +0.j,  0. +0.j,  0. +0.j,\n",
       "         nan+nanj, nan+nanj,  0. +0.j,  0. +0.j],\n",
       "        [ 0. +0.j,  0. +0.j, nan+nanj, nan+nanj,  0. +0.j,  0. +0.j,\n",
       "          0. +0.j,  0. +0.j, nan+nanj, nan+nanj,  0. +0.j, nan+nanj,\n",
       "         nan+nanj,  0. +0.j,  0. +0.j, nan+nanj],\n",
       "        [ 0. +0.j,  0. +0.j, nan+nanj, nan+nanj,  0. +0.j,  0. +0.j,\n",
       "          0. +0.j,  0. +0.j, nan+nanj, nan+nanj, nan+nanj,  0. +0.j,\n",
       "          0. +0.j, nan+nanj, nan+nanj,  0. +0.j],\n",
       "        [nan+nanj, nan+nanj,  0. +0.j,  0. +0.j,  0. +0.j,  0. +0.j,\n",
       "          0. +0.j,  0. +0.j,  0. +0.j, nan+nanj, nan+nanj, nan+nanj,\n",
       "          0. +0.j, nan+nanj, nan+nanj,  0. +0.j],\n",
       "        [nan+nanj, nan+nanj,  0. +0.j,  0. +0.j,  0. +0.j,  0. +0.j,\n",
       "          0. +0.j,  0. +0.j, nan+nanj,  0. +0.j, nan+nanj, nan+nanj,\n",
       "         nan+nanj,  0. +0.j,  0. +0.j, nan+nanj],\n",
       "        [ 0. +0.j,  0. +0.j,  0. +0.j,  0. +0.j,  0. +0.j,  0. +0.j,\n",
       "         nan+nanj, nan+nanj, nan+nanj,  0. +0.j,  0. +0.j, nan+nanj,\n",
       "         nan+nanj, nan+nanj,  0. +0.j, nan+nanj],\n",
       "        [ 0. +0.j,  0. +0.j,  0. +0.j,  0. +0.j,  0. +0.j,  0. +0.j,\n",
       "         nan+nanj, nan+nanj,  0. +0.j, nan+nanj, nan+nanj,  0. +0.j,\n",
       "         nan+nanj, nan+nanj, nan+nanj,  0. +0.j],\n",
       "        [ 0. +0.j,  0. +0.j,  0. +0.j,  0. +0.j, nan+nanj, nan+nanj,\n",
       "          0. +0.j,  0. +0.j,  0. +0.j, nan+nanj, nan+nanj,  0. +0.j,\n",
       "          0. +0.j, nan+nanj, nan+nanj, nan+nanj],\n",
       "        [ 0. +0.j,  0. +0.j,  0. +0.j,  0. +0.j, nan+nanj, nan+nanj,\n",
       "          0. +0.j,  0. +0.j, nan+nanj,  0. +0.j,  0. +0.j, nan+nanj,\n",
       "         nan+nanj,  0. +0.j, nan+nanj, nan+nanj]])"
      ]
     },
     "execution_count": 29,
     "metadata": {},
     "output_type": "execute_result"
    }
   ],
   "source": [
    "pp001.coef_matrix"
   ]
  },
  {
   "cell_type": "markdown",
   "metadata": {},
   "source": [
    "## Addition"
   ]
  },
  {
   "cell_type": "markdown",
   "metadata": {},
   "source": [
    "**Comparsion: Matrix and set methods**\n",
    "\n",
    "Qubits = 5\n",
    "\n",
    "- Matrix: 58.3 ms ± 2.4 ms\n",
    "- Set: 13.2 ms ± 111 µs\n",
    "\n",
    "Qubits = 8\n",
    "\n",
    "- Matrix: 3.68 s ± 67 ms per loop\n",
    "- Set: 2 s ± 74.5 ms"
   ]
  },
  {
   "cell_type": "code",
   "execution_count": 30,
   "metadata": {},
   "outputs": [
    {
     "name": "stdout",
     "output_type": "stream",
     "text": [
      "18.3 µs ± 279 ns per loop (mean ± std. dev. of 7 runs, 10,000 loops each)\n"
     ]
    }
   ],
   "source": [
    "%%timeit\n",
    "pp001+pp002"
   ]
  },
  {
   "cell_type": "code",
   "execution_count": 31,
   "metadata": {},
   "outputs": [
    {
     "name": "stdout",
     "output_type": "stream",
     "text": [
      "40 µs ± 422 ns per loop (mean ± std. dev. of 7 runs, 10,000 loops each)\n"
     ]
    }
   ],
   "source": [
    "%%timeit\n",
    "spa001+spa002"
   ]
  },
  {
   "cell_type": "markdown",
   "metadata": {},
   "source": [
    "### Mat multiplication"
   ]
  },
  {
   "cell_type": "code",
   "execution_count": 12,
   "metadata": {},
   "outputs": [
    {
     "ename": "NameError",
     "evalue": "name 'pp001' is not defined",
     "output_type": "error",
     "traceback": [
      "\u001b[1;31m---------------------------------------------------------------------------\u001b[0m",
      "\u001b[1;31mNameError\u001b[0m                                 Traceback (most recent call last)",
      "Cell \u001b[1;32mIn[12], line 1\u001b[0m\n\u001b[1;32m----> 1\u001b[0m \u001b[43mget_ipython\u001b[49m\u001b[43m(\u001b[49m\u001b[43m)\u001b[49m\u001b[38;5;241;43m.\u001b[39;49m\u001b[43mrun_cell_magic\u001b[49m\u001b[43m(\u001b[49m\u001b[38;5;124;43m'\u001b[39;49m\u001b[38;5;124;43mtimeit\u001b[39;49m\u001b[38;5;124;43m'\u001b[39;49m\u001b[43m,\u001b[49m\u001b[43m \u001b[49m\u001b[38;5;124;43m'\u001b[39;49m\u001b[38;5;124;43m'\u001b[39;49m\u001b[43m,\u001b[49m\u001b[43m \u001b[49m\u001b[38;5;124;43m'\u001b[39;49m\u001b[38;5;124;43mpp001@pp002\u001b[39;49m\u001b[38;5;130;43;01m\\n\u001b[39;49;00m\u001b[38;5;124;43m'\u001b[39;49m\u001b[43m)\u001b[49m\n",
      "File \u001b[1;32mc:\\Users\\cmat411a\\anaconda3\\envs\\QC\\Lib\\site-packages\\IPython\\core\\interactiveshell.py:2541\u001b[0m, in \u001b[0;36mInteractiveShell.run_cell_magic\u001b[1;34m(self, magic_name, line, cell)\u001b[0m\n\u001b[0;32m   2539\u001b[0m \u001b[38;5;28;01mwith\u001b[39;00m \u001b[38;5;28mself\u001b[39m\u001b[38;5;241m.\u001b[39mbuiltin_trap:\n\u001b[0;32m   2540\u001b[0m     args \u001b[38;5;241m=\u001b[39m (magic_arg_s, cell)\n\u001b[1;32m-> 2541\u001b[0m     result \u001b[38;5;241m=\u001b[39m \u001b[43mfn\u001b[49m\u001b[43m(\u001b[49m\u001b[38;5;241;43m*\u001b[39;49m\u001b[43margs\u001b[49m\u001b[43m,\u001b[49m\u001b[43m \u001b[49m\u001b[38;5;241;43m*\u001b[39;49m\u001b[38;5;241;43m*\u001b[39;49m\u001b[43mkwargs\u001b[49m\u001b[43m)\u001b[49m\n\u001b[0;32m   2543\u001b[0m \u001b[38;5;66;03m# The code below prevents the output from being displayed\u001b[39;00m\n\u001b[0;32m   2544\u001b[0m \u001b[38;5;66;03m# when using magics with decorator @output_can_be_silenced\u001b[39;00m\n\u001b[0;32m   2545\u001b[0m \u001b[38;5;66;03m# when the last Python token in the expression is a ';'.\u001b[39;00m\n\u001b[0;32m   2546\u001b[0m \u001b[38;5;28;01mif\u001b[39;00m \u001b[38;5;28mgetattr\u001b[39m(fn, magic\u001b[38;5;241m.\u001b[39mMAGIC_OUTPUT_CAN_BE_SILENCED, \u001b[38;5;28;01mFalse\u001b[39;00m):\n",
      "File \u001b[1;32mc:\\Users\\cmat411a\\anaconda3\\envs\\QC\\Lib\\site-packages\\IPython\\core\\magics\\execution.py:1185\u001b[0m, in \u001b[0;36mExecutionMagics.timeit\u001b[1;34m(self, line, cell, local_ns)\u001b[0m\n\u001b[0;32m   1183\u001b[0m \u001b[38;5;28;01mfor\u001b[39;00m index \u001b[38;5;129;01min\u001b[39;00m \u001b[38;5;28mrange\u001b[39m(\u001b[38;5;241m0\u001b[39m, \u001b[38;5;241m10\u001b[39m):\n\u001b[0;32m   1184\u001b[0m     number \u001b[38;5;241m=\u001b[39m \u001b[38;5;241m10\u001b[39m \u001b[38;5;241m*\u001b[39m\u001b[38;5;241m*\u001b[39m index\n\u001b[1;32m-> 1185\u001b[0m     time_number \u001b[38;5;241m=\u001b[39m \u001b[43mtimer\u001b[49m\u001b[38;5;241;43m.\u001b[39;49m\u001b[43mtimeit\u001b[49m\u001b[43m(\u001b[49m\u001b[43mnumber\u001b[49m\u001b[43m)\u001b[49m\n\u001b[0;32m   1186\u001b[0m     \u001b[38;5;28;01mif\u001b[39;00m time_number \u001b[38;5;241m>\u001b[39m\u001b[38;5;241m=\u001b[39m \u001b[38;5;241m0.2\u001b[39m:\n\u001b[0;32m   1187\u001b[0m         \u001b[38;5;28;01mbreak\u001b[39;00m\n",
      "File \u001b[1;32mc:\\Users\\cmat411a\\anaconda3\\envs\\QC\\Lib\\site-packages\\IPython\\core\\magics\\execution.py:173\u001b[0m, in \u001b[0;36mTimer.timeit\u001b[1;34m(self, number)\u001b[0m\n\u001b[0;32m    171\u001b[0m gc\u001b[38;5;241m.\u001b[39mdisable()\n\u001b[0;32m    172\u001b[0m \u001b[38;5;28;01mtry\u001b[39;00m:\n\u001b[1;32m--> 173\u001b[0m     timing \u001b[38;5;241m=\u001b[39m \u001b[38;5;28;43mself\u001b[39;49m\u001b[38;5;241;43m.\u001b[39;49m\u001b[43minner\u001b[49m\u001b[43m(\u001b[49m\u001b[43mit\u001b[49m\u001b[43m,\u001b[49m\u001b[43m \u001b[49m\u001b[38;5;28;43mself\u001b[39;49m\u001b[38;5;241;43m.\u001b[39;49m\u001b[43mtimer\u001b[49m\u001b[43m)\u001b[49m\n\u001b[0;32m    174\u001b[0m \u001b[38;5;28;01mfinally\u001b[39;00m:\n\u001b[0;32m    175\u001b[0m     \u001b[38;5;28;01mif\u001b[39;00m gcold:\n",
      "File \u001b[1;32m<magic-timeit>:1\u001b[0m, in \u001b[0;36minner\u001b[1;34m(_it, _timer)\u001b[0m\n",
      "\u001b[1;31mNameError\u001b[0m: name 'pp001' is not defined"
     ]
    }
   ],
   "source": [
    "%%timeit\n",
    "pp001@pp002"
   ]
  },
  {
   "cell_type": "code",
   "execution_count": 36,
   "metadata": {},
   "outputs": [
    {
     "name": "stdout",
     "output_type": "stream",
     "text": [
      "138 ms ± 5.14 ms per loop (mean ± std. dev. of 7 runs, 10 loops each)\n"
     ]
    }
   ],
   "source": [
    "%%timeit\n",
    "spa001@spa002 # Unable to multiplicate."
   ]
  },
  {
   "cell_type": "markdown",
   "metadata": {},
   "source": [
    "### Summary\n",
    "\n",
    "A(xN.N): B took N.N times more slower than A.\n",
    "\n",
    "|Opeartion|Faster|\n",
    "|:-------:|:----:|\n",
    "|o->mat   | Qiskit(x1.2) | \n",
    "|mat->o   | PauliPoly(x2-1.2) | \n",
    "|Addition | PauliPoly(x2) |\n",
    "|Mat Mul  | PauliPoly(x Exponential) |\n"
   ]
  },
  {
   "cell_type": "markdown",
   "metadata": {},
   "source": []
  }
 ],
 "metadata": {
  "kernelspec": {
   "display_name": "opttrot",
   "language": "python",
   "name": "python3"
  },
  "language_info": {
   "codemirror_mode": {
    "name": "ipython",
    "version": 3
   },
   "file_extension": ".py",
   "mimetype": "text/x-python",
   "name": "python",
   "nbconvert_exporter": "python",
   "pygments_lexer": "ipython3",
   "version": "3.11.8"
  }
 },
 "nbformat": 4,
 "nbformat_minor": 2
}
