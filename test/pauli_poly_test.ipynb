{
 "cells": [
  {
   "cell_type": "code",
   "execution_count": 1,
   "metadata": {},
   "outputs": [],
   "source": [
    "import os, sys\n",
    "sys.path.append(\"..\")"
   ]
  },
  {
   "cell_type": "markdown",
   "metadata": {},
   "source": [
    "# Optimization of Pauli Poly\n",
    "\n",
    "There are two measure to estimate performances of `PauliPoly`.\n",
    "\n",
    "- Naive `PauliPoly` implementation.\n",
    "- Qiskit `SparsePauliOp` and `PauliList`.\n",
    "- \n",
    "The PauliPoly in the origial OptTrot library was a naive implementation written by python.\n",
    "In here, we will optimize the routine as soon as possible using scipy and numba routines."
   ]
  },
  {
   "cell_type": "code",
   "execution_count": 2,
   "metadata": {},
   "outputs": [],
   "source": [
    "from opttrot.pauli import PauliElement\n",
    "from opttrot.pauli import PauliPoly\n",
    "\n",
    "import numpy as np\n",
    "import matplotlib.pyplot as plt"
   ]
  },
  {
   "cell_type": "code",
   "execution_count": 3,
   "metadata": {},
   "outputs": [],
   "source": [
    "from importlib import reload\n",
    "import paulipoly\n",
    "reload(paulipoly)\n",
    "from paulipoly import PauliPoly as NewPauliPoly\n",
    "import ten_con\n",
    "reload(ten_con)\n",
    "from ten_con import _mat_to_coef_mat, _coef_to_mat"
   ]
  },
  {
   "cell_type": "code",
   "execution_count": 4,
   "metadata": {},
   "outputs": [],
   "source": [
    "from scipy.sparse import coo_matrix, csr_matrix"
   ]
  },
  {
   "cell_type": "code",
   "execution_count": 5,
   "metadata": {},
   "outputs": [],
   "source": [
    "from qiskit.quantum_info import Pauli, PauliList, SparsePauliOp"
   ]
  },
  {
   "cell_type": "code",
   "execution_count": 6,
   "metadata": {},
   "outputs": [],
   "source": [
    "n = 5\n",
    "plist1 = [\n",
    "    PauliElement(3, 5, n, 3),\n",
    "    PauliElement(3, 1, n, 3),\n",
    "    PauliElement(0, 4, n, 3),\n",
    "    PauliElement(4, 2, n, 3),\n",
    "]\n",
    "plist2 = [\n",
    "    PauliElement(2, 3, n, 3),\n",
    "    PauliElement(2, 0, n, 3),\n",
    "    PauliElement(0, 3, n, 3),\n",
    "    PauliElement(3, 1, n, 3),\n",
    "]\n",
    "plist3 = [\n",
    "    PauliElement(1, 1, n, 1),\n",
    "    PauliElement(3, 0, n, 1),\n",
    "    PauliElement(2, 2, n, 1),\n",
    "    PauliElement(2, 5, n, 1),\n",
    "    PauliElement(4, 4, n, 1),\n",
    "    PauliElement(3, 5, n, 1),\n",
    "    PauliElement(3, 1, n, 1),\n",
    "]"
   ]
  },
  {
   "cell_type": "code",
   "execution_count": 7,
   "metadata": {},
   "outputs": [],
   "source": [
    "qubits = 2\n",
    "ndim = int(2**qubits)\n",
    "A = np.random.rand(ndim,ndim)\n",
    "B = np.random.rand(ndim,ndim)\n",
    "A[A<0.4] = 0.\n",
    "B[B<0.9] = 0.\n",
    "test_ppoly = PauliPoly.from_coef_mat(A)"
   ]
  },
  {
   "cell_type": "code",
   "execution_count": 8,
   "metadata": {},
   "outputs": [
    {
     "data": {
      "text/plain": [
       "0.000762939453125"
      ]
     },
     "execution_count": 8,
     "metadata": {},
     "output_type": "execute_result"
    }
   ],
   "source": [
    "#plist = list(test_ppoly._terms.values())\n",
    "coef_mat = test_ppoly.coef_matrix\n",
    "mat = test_ppoly.matrix\n",
    "cmat = csr_matrix(coef_mat)\n",
    "100*cmat.data.size/(1024**2)"
   ]
  },
  {
   "cell_type": "markdown",
   "metadata": {},
   "source": [
    "## Coef matrix to PauliPoly"
   ]
  },
  {
   "cell_type": "code",
   "execution_count": 9,
   "metadata": {},
   "outputs": [
    {
     "name": "stdout",
     "output_type": "stream",
     "text": [
      "18.6 μs ± 51 ns per loop (mean ± std. dev. of 7 runs, 10,000 loops each)\n"
     ]
    }
   ],
   "source": [
    "%%timeit\n",
    "cmat + cmat"
   ]
  },
  {
   "cell_type": "code",
   "execution_count": 10,
   "metadata": {},
   "outputs": [
    {
     "name": "stdout",
     "output_type": "stream",
     "text": [
      "258 ns ± 2.37 ns per loop (mean ± std. dev. of 7 runs, 1,000,000 loops each)\n"
     ]
    }
   ],
   "source": [
    "%%timeit\n",
    "mat+mat"
   ]
  },
  {
   "cell_type": "code",
   "execution_count": 11,
   "metadata": {},
   "outputs": [
    {
     "name": "stdout",
     "output_type": "stream",
     "text": [
      "125 μs ± 1.07 μs per loop (mean ± std. dev. of 7 runs, 10,000 loops each)\n"
     ]
    }
   ],
   "source": [
    "%%timeit\n",
    "PauliPoly.from_coef_mat(coef_mat) # Naive"
   ]
  },
  {
   "cell_type": "code",
   "execution_count": 12,
   "metadata": {},
   "outputs": [
    {
     "name": "stdout",
     "output_type": "stream",
     "text": [
      "2.81 μs ± 26.8 ns per loop (mean ± std. dev. of 7 runs, 100,000 loops each)\n"
     ]
    }
   ],
   "source": [
    "%%timeit\n",
    "NewPauliPoly(coef_mat) # scipy sparse routine."
   ]
  },
  {
   "cell_type": "markdown",
   "metadata": {},
   "source": [
    "## Hermit matrix to PauliPoly"
   ]
  },
  {
   "cell_type": "code",
   "execution_count": 13,
   "metadata": {},
   "outputs": [
    {
     "name": "stdout",
     "output_type": "stream",
     "text": [
      "CPU times: user 445 ms, sys: 8.32 ms, total: 453 ms\n",
      "Wall time: 479 ms\n"
     ]
    },
    {
     "data": {
      "text/plain": [
       "PauliPoly(terms:12)[\n",
       "((2.514195213000494-0.5012783154285163j), 'IZ'),\n",
       "((-9.841316208e-314+4.9202767387e-314j), 'ZZ'),\n",
       "((0.5012783154285163+2.514195213000494j), 'IX'),\n",
       "((2.885131629128014+3.815730075531865j), 'IY'),\n",
       "((4.9202761576e-314-5.4197e-319j), 'ZX'),\n",
       "((4.2980049263e-314+4.2980049243e-314j), 'ZY'),\n",
       "((-4.9202761576e-314+5.4197e-319j), 'XZ'),\n",
       "((3.1565381181072274+1.9771689517718696j), 'YI'),\n",
       "((-0.8758669697823427-1.0037000468825044j), 'YZ'),\n",
       "((-9.841316208e-314+4.9202767387e-314j), 'XX'),\n",
       "((-4.2980049243e-314+4.2980049263e-314j), 'XY'),\n",
       "((1.0898910524694672+2.969458069134314j), 'YX')\n",
       "]"
      ]
     },
     "execution_count": 13,
     "metadata": {},
     "output_type": "execute_result"
    }
   ],
   "source": [
    "%%time\n",
    "PauliPoly.from_matrix(mat)"
   ]
  },
  {
   "cell_type": "code",
   "execution_count": 14,
   "metadata": {},
   "outputs": [
    {
     "name": "stdout",
     "output_type": "stream",
     "text": [
      "6.27 μs ± 12.4 ns per loop (mean ± std. dev. of 7 runs, 100,000 loops each)\n"
     ]
    }
   ],
   "source": [
    "%%timeit\n",
    "NewPauliPoly.from_matrix(mat)"
   ]
  },
  {
   "cell_type": "code",
   "execution_count": 15,
   "metadata": {},
   "outputs": [
    {
     "name": "stdout",
     "output_type": "stream",
     "text": [
      "6.95 μs ± 12.9 ns per loop (mean ± std. dev. of 7 runs, 100,000 loops each)\n"
     ]
    }
   ],
   "source": [
    "%%timeit\n",
    "SparsePauliOp.from_operator(mat)"
   ]
  },
  {
   "cell_type": "markdown",
   "metadata": {},
   "source": [
    "## Test"
   ]
  },
  {
   "cell_type": "markdown",
   "metadata": {},
   "source": [
    "## PauliPoly to Hermit"
   ]
  },
  {
   "cell_type": "code",
   "execution_count": 16,
   "metadata": {},
   "outputs": [],
   "source": [
    "# Naive\n",
    "#pp001 = PauliPoly.from_coef_mat(A)\n",
    "#pp002 = PauliPoly.from_coef_mat(B)\n",
    "# Improved\n",
    "npp001 = NewPauliPoly(A)\n",
    "npp002 = NewPauliPoly(B)\n",
    "\n",
    "# Qiskit\n",
    "spa001 = SparsePauliOp.from_operator(A)\n",
    "spa002 = SparsePauliOp.from_operator(B)\n"
   ]
  },
  {
   "cell_type": "code",
   "execution_count": 17,
   "metadata": {},
   "outputs": [
    {
     "name": "stdout",
     "output_type": "stream",
     "text": [
      "2.48 μs ± 9.94 ns per loop (mean ± std. dev. of 7 runs, 100,000 loops each)\n"
     ]
    }
   ],
   "source": [
    "%%timeit\n",
    "npp001.matrix"
   ]
  },
  {
   "cell_type": "code",
   "execution_count": 18,
   "metadata": {},
   "outputs": [
    {
     "name": "stdout",
     "output_type": "stream",
     "text": [
      "15.4 μs ± 86.1 ns per loop (mean ± std. dev. of 7 runs, 10,000 loops each)\n"
     ]
    }
   ],
   "source": [
    "%%timeit\n",
    "spa001.to_matrix()"
   ]
  },
  {
   "cell_type": "markdown",
   "metadata": {},
   "source": [
    "## Addition"
   ]
  },
  {
   "cell_type": "markdown",
   "metadata": {},
   "source": [
    "**Comparsion: Matrix and set methods**\n",
    "\n",
    "Qubits = 5\n",
    "\n",
    "- Matrix: 58.3 ms ± 2.4 ms\n",
    "- Set: 13.2 ms ± 111 µs\n",
    "\n",
    "Qubits = 8\n",
    "\n",
    "- Matrix: 3.68 s ± 67 ms per loop\n",
    "- Set: 2 s ± 74.5 ms"
   ]
  },
  {
   "cell_type": "code",
   "execution_count": 19,
   "metadata": {},
   "outputs": [
    {
     "name": "stdout",
     "output_type": "stream",
     "text": [
      "3.61 μs ± 6.56 ns per loop (mean ± std. dev. of 7 runs, 100,000 loops each)\n"
     ]
    }
   ],
   "source": [
    "%%timeit\n",
    "npp001+npp002"
   ]
  },
  {
   "cell_type": "code",
   "execution_count": 20,
   "metadata": {},
   "outputs": [
    {
     "name": "stdout",
     "output_type": "stream",
     "text": [
      "8.53 μs ± 195 ns per loop (mean ± std. dev. of 7 runs, 100,000 loops each)\n"
     ]
    }
   ],
   "source": [
    "%%timeit\n",
    "spa001+spa002"
   ]
  },
  {
   "cell_type": "markdown",
   "metadata": {},
   "source": [
    "### Mat multiplication"
   ]
  },
  {
   "cell_type": "code",
   "execution_count": 21,
   "metadata": {},
   "outputs": [],
   "source": [
    "#%%time\n",
    "#pp001@pp002"
   ]
  },
  {
   "cell_type": "code",
   "execution_count": 22,
   "metadata": {},
   "outputs": [],
   "source": [
    "from opttrot.pauli_utils import mat_decompose"
   ]
  },
  {
   "cell_type": "code",
   "execution_count": 27,
   "metadata": {},
   "outputs": [
    {
     "data": {
      "text/plain": [
       "matrix([[ 1.23638907+1.09440271j,  1.21890716+1.17418355j,\n",
       "         -0.45495916-0.75333112j,  0.4240466 +0.57535726j],\n",
       "        [-0.20537751-1.17418355j, -0.2917245 -1.09440271j,\n",
       "         -0.4240466 +0.18919779j,  0.45495916-0.20177139j],\n",
       "        [ 0.45495916-1.645464j  ,  0.4240466 -1.53252571j,\n",
       "         -1.23638907+0.20741865j,  1.21890716-0.22253926j],\n",
       "        [-0.4240466 -1.14636624j, -0.45495916-1.09390426j,\n",
       "         -0.20537751+0.22253926j,  0.2917245 -0.20741865j]])"
      ]
     },
     "execution_count": 27,
     "metadata": {},
     "output_type": "execute_result"
    }
   ],
   "source": [
    "mat = npp001.matrix@npp002.matrix\n",
    "mat"
   ]
  },
  {
   "cell_type": "code",
   "execution_count": 28,
   "metadata": {},
   "outputs": [
    {
     "data": {
      "text/plain": [
       "matrix([[ 0.        +0.j        ,  1.48617002+1.36239932j,\n",
       "         -2.73936826-0.95510251j, -0.49523473+1.7217235j ],\n",
       "        [ 3.38945862+0.54088927j,  0.        +2.60364273j,\n",
       "         -1.7217235 -1.41910217j, -1.46147806-1.46147806j],\n",
       "        [ 2.73936826-0.95510251j,  1.7217235 +0.27708422j,\n",
       "          1.88932913+0.j        , -1.39672281+1.39672281j],\n",
       "        [ 2.19142112+1.7217235j , -0.35835858+0.35835858j,\n",
       "          1.39672281+1.39672281j,  3.05622714+1.77396813j]])"
      ]
     },
     "execution_count": 28,
     "metadata": {},
     "output_type": "execute_result"
    }
   ],
   "source": [
    "mat_decompose(mat)"
   ]
  },
  {
   "cell_type": "code",
   "execution_count": 72,
   "metadata": {},
   "outputs": [
    {
     "data": {
      "text/plain": [
       "(8, 8)"
      ]
     },
     "execution_count": 72,
     "metadata": {},
     "output_type": "execute_result"
    }
   ],
   "source": [
    "mat.shape"
   ]
  },
  {
   "cell_type": "code",
   "execution_count": 29,
   "metadata": {},
   "outputs": [
    {
     "data": {
      "text/plain": [
       "PauliPoly(terms:15)[\n",
       "((1.4861700191891107+1.3623993234247673j), 'IZ'),\n",
       "((-2.739368259433303-0.9551025067477077j), 'ZI'),\n",
       "((-0.49523473287859854+1.721723499947384j), 'ZZ'),\n",
       "((3.389458617396053+0.5408892747821747j), 'IX'),\n",
       "(2.603642725235898j, 'IY'),\n",
       "((-1.721723499947384-1.4191021692419628j), 'ZX'),\n",
       "((-1.4614780553605702-1.4614780553605704j), 'ZY'),\n",
       "((2.739368259433303-0.9551025067477077j), 'XI'),\n",
       "((1.7217234999473838+0.27708421619925194j), 'XZ'),\n",
       "((1.8893291316118757+0j), 'YI'),\n",
       "((-1.3967228091876893+1.3967228091876893j), 'YZ'),\n",
       "((2.1914211183198136+1.7217234999473843j), 'XX'),\n",
       "((-0.35835858368115425+0.35835858368115403j), 'XY'),\n",
       "((1.3967228091876893+1.3967228091876893j), 'YX'),\n",
       "((3.056227135788077+1.7739681346035872j), 'YY')\n",
       "]"
      ]
     },
     "execution_count": 29,
     "metadata": {},
     "output_type": "execute_result"
    }
   ],
   "source": [
    "npp001@npp002"
   ]
  },
  {
   "cell_type": "code",
   "execution_count": 62,
   "metadata": {},
   "outputs": [],
   "source": [
    "from numpy import kron"
   ]
  },
  {
   "cell_type": "code",
   "execution_count": 63,
   "metadata": {},
   "outputs": [
    {
     "data": {
      "text/plain": [
       "matrix([[36. +0.j, 18.-18.j, 18.-18.j,  0.-18.j],\n",
       "        [18.+18.j,  0. +0.j, 18. +0.j,  0. +0.j],\n",
       "        [18.+18.j, 18. +0.j,  0. +0.j,  0. +0.j],\n",
       "        [ 0.+18.j,  0. +0.j,  0. +0.j,  0. +0.j]])"
      ]
     },
     "execution_count": 63,
     "metadata": {},
     "output_type": "execute_result"
    }
   ],
   "source": [
    "l = np.matrix([[3, 3],[3, 3]], dtype=complex)\n",
    "mat_decompose(kron(l, l))"
   ]
  },
  {
   "cell_type": "code",
   "execution_count": 30,
   "metadata": {},
   "outputs": [
    {
     "name": "stdout",
     "output_type": "stream",
     "text": [
      "14.4 μs ± 140 ns per loop (mean ± std. dev. of 7 runs, 100,000 loops each)\n"
     ]
    }
   ],
   "source": [
    "%%timeit\n",
    "npp001@npp002"
   ]
  },
  {
   "cell_type": "code",
   "execution_count": 32,
   "metadata": {},
   "outputs": [
    {
     "name": "stdout",
     "output_type": "stream",
     "text": [
      "21.9 μs ± 1.03 μs per loop (mean ± std. dev. of 7 runs, 10,000 loops each)\n"
     ]
    }
   ],
   "source": [
    "%%timeit\n",
    "spa001@spa002"
   ]
  },
  {
   "cell_type": "code",
   "execution_count": 49,
   "metadata": {},
   "outputs": [
    {
     "data": {
      "text/plain": [
       "48"
      ]
     },
     "execution_count": 49,
     "metadata": {},
     "output_type": "execute_result"
    }
   ],
   "source": [
    "sys.getsizeof(npp001@npp002)"
   ]
  },
  {
   "cell_type": "code",
   "execution_count": 50,
   "metadata": {},
   "outputs": [
    {
     "data": {
      "text/plain": [
       "48"
      ]
     },
     "execution_count": 50,
     "metadata": {},
     "output_type": "execute_result"
    }
   ],
   "source": [
    "sys.getsizeof(spa001@spa002)"
   ]
  },
  {
   "cell_type": "code",
   "execution_count": null,
   "metadata": {},
   "outputs": [],
   "source": []
  }
 ],
 "metadata": {
  "kernelspec": {
   "display_name": "opttrot",
   "language": "python",
   "name": "python3"
  },
  "language_info": {
   "codemirror_mode": {
    "name": "ipython",
    "version": 3
   },
   "file_extension": ".py",
   "mimetype": "text/x-python",
   "name": "python",
   "nbconvert_exporter": "python",
   "pygments_lexer": "ipython3",
   "version": "3.12.4"
  }
 },
 "nbformat": 4,
 "nbformat_minor": 2
}
