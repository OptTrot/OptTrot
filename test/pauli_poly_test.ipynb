{
 "cells": [
  {
   "cell_type": "code",
   "execution_count": 1,
   "metadata": {},
   "outputs": [
    {
     "name": "stdout",
     "output_type": "stream",
     "text": [
      "First: /Users/hyunseongkim/Documents/GitHub/Org_OptTrot/OptTrot\n",
      "/Users/hyunseongkim/Documents/GitHub/Org_OptTrot/OptTrot/opttrot\n",
      "running build\n",
      "running build_py\n",
      "file /Users/hyunseongkim/Documents/GitHub/Org_OptTrot/OptTrot/opttrot/opttrot.py (for module opttrot) not found\n",
      "copying /Users/hyunseongkim/Documents/GitHub/Org_OptTrot/OptTrot/opttrot/graph_algs/dwave.py -> build/lib.macosx-11.1-arm64-cpython-312/graph_algs\n",
      "copying /Users/hyunseongkim/Documents/GitHub/Org_OptTrot/OptTrot/opttrot/graph_algs/graph_opts.py -> build/lib.macosx-11.1-arm64-cpython-312/graph_algs\n",
      "copying /Users/hyunseongkim/Documents/GitHub/Org_OptTrot/OptTrot/opttrot/graph_algs/__init__.py -> build/lib.macosx-11.1-arm64-cpython-312/graph_algs\n",
      "file /Users/hyunseongkim/Documents/GitHub/Org_OptTrot/OptTrot/opttrot/opttrot.py (for module opttrot) not found\n",
      "running build_ext\n",
      "building 'c_utils' extension\n",
      "clang -fno-strict-overflow -DNDEBUG -O2 -Wall -fPIC -O2 -isystem /Users/hyunseongkim/miniconda3/envs/opttrot/include -arch arm64 -fPIC -O2 -isystem /Users/hyunseongkim/miniconda3/envs/opttrot/include -arch arm64 -I/Users/hyunseongkim/Documents/GitHub/Org_OptTrot/OptTrot/opttrot -I/Users/hyunseongkim/Documents/GitHub/Org_OptTrot/OptTrot/opttrot/c_src -I/Users/hyunseongkim/Documents/GitHub/Org_OptTrot/OptTrot/opttrot/c_src/bn -I/Users/hyunseongkim/Documents/GitHub/Org_OptTrot/OptTrot/opttrot/c_src/pauli_bn -I/Users/hyunseongkim/miniconda3/envs/opttrot/lib/python3.12/site-packages/numpy/core/include -I/Users/hyunseongkim/miniconda3/envs/opttrot/include/python3.12 -c /Users/hyunseongkim/Documents/GitHub/Org_OptTrot/OptTrot/opttrot/c_src/c_utils.c -o build/temp.macosx-11.1-arm64-cpython-312/Users/hyunseongkim/Documents/GitHub/Org_OptTrot/OptTrot/opttrot/c_src/c_utils.o\n",
      "In file included from /Users/hyunseongkim/Documents/GitHub/Org_OptTrot/OptTrot/opttrot/c_src/c_utils.c:1:\n",
      "In file included from /Users/hyunseongkim/Documents/GitHub/Org_OptTrot/OptTrot/opttrot/c_src/c_utils.h:5:\n",
      "In file included from /Users/hyunseongkim/miniconda3/envs/opttrot/lib/python3.12/site-packages/numpy/core/include/numpy/ndarrayobject.h:12:\n",
      "In file included from /Users/hyunseongkim/miniconda3/envs/opttrot/lib/python3.12/site-packages/numpy/core/include/numpy/ndarraytypes.h:1929:\n",
      "\u001b[1m/Users/hyunseongkim/miniconda3/envs/opttrot/lib/python3.12/site-packages/numpy/core/include/numpy/npy_1_7_deprecated_api.h:17:2: \u001b[0m\u001b[0;1;35mwarning: \u001b[0m\u001b[1m\"Using deprecated NumPy API, disable it with \"          \"#define NPY_NO_DEPRECATED_API NPY_1_7_API_VERSION\" [-W#warnings]\u001b[0m\n",
      "#warning \"Using deprecated NumPy API, disable it with \" \\\n",
      "\u001b[0;1;32m ^\n",
      "\u001b[0m1 warning generated.\n",
      "clang -bundle -undefined dynamic_lookup -Wl,-rpath,/Users/hyunseongkim/miniconda3/envs/opttrot/lib -L/Users/hyunseongkim/miniconda3/envs/opttrot/lib -Wl,-rpath,/Users/hyunseongkim/miniconda3/envs/opttrot/lib -L/Users/hyunseongkim/miniconda3/envs/opttrot/lib build/temp.macosx-11.1-arm64-cpython-312/Users/hyunseongkim/Documents/GitHub/Org_OptTrot/OptTrot/opttrot/c_src/c_utils.o -o build/lib.macosx-11.1-arm64-cpython-312/c_utils.cpython-312-darwin.so\n",
      "ld: warning: duplicate -rpath '/Users/hyunseongkim/miniconda3/envs/opttrot/lib' ignored\n",
      "First: /Users/hyunseongkim/Documents/GitHub/Org_OptTrot/OptTrot\n",
      "/Users/hyunseongkim/Documents/GitHub/Org_OptTrot/OptTrot/opttrot\n",
      "running build_ext\n",
      "copying build/lib.macosx-11.1-arm64-cpython-312/pauli_c.cpython-312-darwin.so -> /Users/hyunseongkim/Documents/GitHub/Org_OptTrot/OptTrot/opttrot\n",
      "copying build/lib.macosx-11.1-arm64-cpython-312/c_utils.cpython-312-darwin.so -> /Users/hyunseongkim/Documents/GitHub/Org_OptTrot/OptTrot/opttrot\n"
     ]
    }
   ],
   "source": [
    "!python ../setup.py build \n",
    "!python ../setup.py build_ext --inplace"
   ]
  },
  {
   "cell_type": "code",
   "execution_count": 1,
   "metadata": {},
   "outputs": [],
   "source": [
    "import os, sys\n",
    "sys.path.append(\"..\")"
   ]
  },
  {
   "cell_type": "markdown",
   "metadata": {},
   "source": [
    "## Vectorized commute"
   ]
  },
  {
   "cell_type": "code",
   "execution_count": 4,
   "metadata": {},
   "outputs": [],
   "source": [
    "import opttrot\n",
    "from opttrot.pauli import PauliElement, PauliPoly\n",
    "from opttrot.pauli import get_commutes, get_commutes_sparse\n",
    "import numpy as np"
   ]
  },
  {
   "cell_type": "code",
   "execution_count": 5,
   "metadata": {},
   "outputs": [
    {
     "data": {
      "text/plain": [
       "array([18446744073709551617], dtype=object)"
      ]
     },
     "execution_count": 5,
     "metadata": {},
     "output_type": "execute_result"
    }
   ],
   "source": [
    "arr = np.array([2**64+1])\n",
    "arr"
   ]
  },
  {
   "cell_type": "code",
   "execution_count": 6,
   "metadata": {},
   "outputs": [
    {
     "data": {
      "text/plain": [
       "(PauliElement(n=2, weight=1.000000+(0.000000)j, IZ),\n",
       " PauliElement(n=2, weight=1.000000+(0.000000)j, XZ),\n",
       " PauliElement(n=2, weight=1.000000+(0.000000)j, XX))"
      ]
     },
     "execution_count": 6,
     "metadata": {},
     "output_type": "execute_result"
    }
   ],
   "source": [
    "a = PauliElement(0, 1, 2, 1.)\n",
    "b = PauliElement(2, 1, 2, 1.)\n",
    "c = PauliElement(3, 0, 2, 1)\n",
    "d = PauliElement(0,0,2,1)\n",
    "a, b, c"
   ]
  },
  {
   "cell_type": "code",
   "execution_count": 7,
   "metadata": {},
   "outputs": [],
   "source": [
    "ppoly = PauliPoly.from_iterables((a,b,c, d))"
   ]
  },
  {
   "cell_type": "code",
   "execution_count": 8,
   "metadata": {},
   "outputs": [
    {
     "data": {
      "text/plain": [
       "array([PauliElement(n=2, weight=1.000000+(0.000000)j, II),\n",
       "       PauliElement(n=2, weight=1.000000+(0.000000)j, XX),\n",
       "       PauliElement(n=2, weight=1.000000+(0.000000)j, IZ),\n",
       "       PauliElement(n=2, weight=1.000000+(0.000000)j, XZ)], dtype=object)"
      ]
     },
     "execution_count": 8,
     "metadata": {},
     "output_type": "execute_result"
    }
   ],
   "source": [
    "ppoly.poly"
   ]
  },
  {
   "cell_type": "code",
   "execution_count": 9,
   "metadata": {},
   "outputs": [
    {
     "data": {
      "text/plain": [
       "(True, True, False)"
      ]
     },
     "execution_count": 9,
     "metadata": {},
     "output_type": "execute_result"
    }
   ],
   "source": [
    "a.commute(a), a.commute(b), a.commute(c)"
   ]
  },
  {
   "cell_type": "code",
   "execution_count": 10,
   "metadata": {},
   "outputs": [
    {
     "data": {
      "text/plain": [
       "array([ True, False,  True,  True])"
      ]
     },
     "execution_count": 10,
     "metadata": {},
     "output_type": "execute_result"
    }
   ],
   "source": [
    "get_commutes(ppoly.poly, a)"
   ]
  },
  {
   "cell_type": "code",
   "execution_count": 11,
   "metadata": {},
   "outputs": [],
   "source": [
    "from scipy.sparse import coo_matrix\n",
    "import numpy as np"
   ]
  },
  {
   "cell_type": "code",
   "execution_count": 12,
   "metadata": {},
   "outputs": [],
   "source": [
    "coo = coo_matrix(ppoly.coef_matrix)"
   ]
  },
  {
   "cell_type": "code",
   "execution_count": 13,
   "metadata": {},
   "outputs": [
    {
     "name": "stdout",
     "output_type": "stream",
     "text": [
      "213 ns ± 1.94 ns per loop (mean ± std. dev. of 7 runs, 1,000,000 loops each)\n"
     ]
    }
   ],
   "source": [
    "%%timeit\n",
    "a.commute(b)"
   ]
  },
  {
   "cell_type": "code",
   "execution_count": 14,
   "metadata": {},
   "outputs": [
    {
     "data": {
      "text/plain": [
       "array([ True, False,  True,  True])"
      ]
     },
     "execution_count": 14,
     "metadata": {},
     "output_type": "execute_result"
    }
   ],
   "source": [
    "get_commutes_sparse(coo.row.astype(np.uint64), coo.col.astype(np.uint64), a)"
   ]
  },
  {
   "cell_type": "code",
   "execution_count": 15,
   "metadata": {},
   "outputs": [],
   "source": [
    "nx_s = np.bitwise_xor(coo.row, coo.col)\n",
    "nz_s = coo.col"
   ]
  },
  {
   "cell_type": "code",
   "execution_count": 16,
   "metadata": {},
   "outputs": [],
   "source": [
    "nx, nz = a.sym_code"
   ]
  },
  {
   "cell_type": "code",
   "execution_count": 17,
   "metadata": {},
   "outputs": [],
   "source": [
    "from opttrot.utils import np_bitwise_count"
   ]
  },
  {
   "cell_type": "code",
   "execution_count": 18,
   "metadata": {},
   "outputs": [],
   "source": [
    "commute_arr = np.bitwise_xor(np.bitwise_and(nx_s, nz), np.bitwise_and(nz_s, nx))\n",
    "if commute_arr.max() !=1:\n",
    "    commute_arr = np_bitwise_count(commute_arr)"
   ]
  },
  {
   "cell_type": "code",
   "execution_count": 19,
   "metadata": {},
   "outputs": [
    {
     "data": {
      "text/plain": [
       "array([0, 0, 0])"
      ]
     },
     "execution_count": 19,
     "metadata": {},
     "output_type": "execute_result"
    }
   ],
   "source": [
    "np.bitwise_xor(np.array([1,1,1]), 1)"
   ]
  },
  {
   "cell_type": "code",
   "execution_count": 20,
   "metadata": {},
   "outputs": [
    {
     "name": "stdout",
     "output_type": "stream",
     "text": [
      "954 ns ± 13.6 ns per loop (mean ± std. dev. of 7 runs, 1,000,000 loops each)\n"
     ]
    }
   ],
   "source": [
    "%%timeit\n",
    "get_commutes(ppoly.poly, a)"
   ]
  },
  {
   "cell_type": "code",
   "execution_count": 21,
   "metadata": {},
   "outputs": [
    {
     "name": "stdout",
     "output_type": "stream",
     "text": [
      "1.67 μs ± 20.6 ns per loop (mean ± std. dev. of 7 runs, 100,000 loops each)\n"
     ]
    }
   ],
   "source": [
    "%%timeit\n",
    "get_commutes_sparse(coo.row.astype(np.uint64), coo.col.astype(np.uint64), a)"
   ]
  },
  {
   "cell_type": "code",
   "execution_count": 22,
   "metadata": {},
   "outputs": [
    {
     "name": "stdout",
     "output_type": "stream",
     "text": [
      "1.32 μs ± 23.8 ns per loop (mean ± std. dev. of 7 runs, 1,000,000 loops each)\n"
     ]
    }
   ],
   "source": [
    "%%timeit\n",
    "p = ppoly.poly\n",
    "n = np.zeros(len(p))\n",
    "for i in range(len(p)):\n",
    "    n[i] = a.commute(p[i])"
   ]
  },
  {
   "cell_type": "markdown",
   "metadata": {},
   "source": [
    "# Optimization of Pauli Poly\n",
    "\n",
    "There are two measure to estimate performances of `PauliPoly`.\n",
    "\n",
    "- Naive `PauliPoly` implementation.\n",
    "- Qiskit `SparsePauliOp` and `PauliList`.\n",
    "- \n",
    "The PauliPoly in the origial OptTrot library was a naive implementation written by python.\n",
    "In here, we will optimize the routine as soon as possible using scipy and numba routines."
   ]
  },
  {
   "cell_type": "code",
   "execution_count": 23,
   "metadata": {},
   "outputs": [],
   "source": [
    "import opttrot"
   ]
  },
  {
   "cell_type": "code",
   "execution_count": 24,
   "metadata": {},
   "outputs": [],
   "source": [
    "from opttrot.pauli_c import get_paulilist_from_coefs"
   ]
  },
  {
   "cell_type": "code",
   "execution_count": 25,
   "metadata": {},
   "outputs": [],
   "source": [
    "from opttrot.pauli_c import PauliElement\n",
    "from opttrot.pauli_c import get_commutes"
   ]
  },
  {
   "cell_type": "code",
   "execution_count": 26,
   "metadata": {},
   "outputs": [],
   "source": [
    "from opttrot.pauli import PauliElement\n",
    "from opttrot.pauli import PauliPoly\n",
    "\n",
    "import numpy as np\n",
    "import matplotlib.pyplot as plt"
   ]
  },
  {
   "cell_type": "code",
   "execution_count": 27,
   "metadata": {},
   "outputs": [],
   "source": [
    "from importlib import reload\n",
    "#import paulipoly\n",
    "#reload(paulipoly)\n",
    "#from paulipoly import PauliPoly as NewPauliPoly\n",
    "#import ten_con\n",
    "#reload(ten_con)\n",
    "#from ten_con import _mat_to_coef_mat, _coef_to_mat"
   ]
  },
  {
   "cell_type": "code",
   "execution_count": 28,
   "metadata": {},
   "outputs": [],
   "source": [
    "from scipy.sparse import coo_matrix, csr_matrix"
   ]
  },
  {
   "cell_type": "code",
   "execution_count": 29,
   "metadata": {},
   "outputs": [],
   "source": [
    "from qiskit.quantum_info import Pauli, PauliList, SparsePauliOp"
   ]
  },
  {
   "cell_type": "code",
   "execution_count": 30,
   "metadata": {},
   "outputs": [],
   "source": [
    "from copy import deepcopy"
   ]
  },
  {
   "cell_type": "code",
   "execution_count": 31,
   "metadata": {},
   "outputs": [],
   "source": [
    "qubits = 4\n",
    "def get_test_hermit(qubits, tol= 0.5):\n",
    "    ndim = int(2**qubits)\n",
    "    A = np.random.rand(ndim, ndim)\n",
    "    A[A<tol] = 0.\n",
    "    H = A + 1j*A\n",
    "    H = H.conj().T@H\n",
    "    return H\n"
   ]
  },
  {
   "cell_type": "code",
   "execution_count": 32,
   "metadata": {},
   "outputs": [],
   "source": [
    "A = np.sqrt(get_test_hermit(qubits, 0.96))\n",
    "B = np.sqrt(get_test_hermit(qubits, 0.8))\n"
   ]
  },
  {
   "cell_type": "code",
   "execution_count": 33,
   "metadata": {},
   "outputs": [],
   "source": [
    "test_ppoly = PauliPoly.from_matrix(A)"
   ]
  },
  {
   "cell_type": "code",
   "execution_count": 34,
   "metadata": {},
   "outputs": [
    {
     "data": {
      "text/plain": [
       "[((0.6841421933386542-1.0613673619882273e-18j), 'IIII'),\n",
       " ((0.1739606185042296-9.131559250095902e-19j), 'IIXI'),\n",
       " ((0.15798951542683504-4.413262847088973e-18j), 'IIIZ'),\n",
       " ((0.1739606185042296-9.131559250095902e-19j), 'IIXZ'),\n",
       " ((-0.2594954596351013-2.223976572674116e-18j), 'IIZI'),\n",
       " ((0.2666572182767179+1.12791891242663e-18j), 'IIZZ'),\n",
       " ((-0.1568075909944165+2.460764882443115e-19j), 'IZII'),\n",
       " ((-0.1739606185042296+9.131559250095902e-19j), 'IZXI'),\n",
       " ((-0.33289520614816404+7.153269704083757e-19j), 'IZIZ'),\n",
       " ((-0.1739606185042296+9.131559250095902e-19j), 'IZXZ'),\n",
       " ((0.08458976891377235-1.4739593040064815e-18j), 'IZZI'),\n",
       " ((0.2606773840675199-1.943209786170546e-18j), 'IZZZ'),\n",
       " ((-0.08768812241260611-1.1147544403641606e-18j), 'ZIII'),\n",
       " ((-0.1739606185042296+9.131559250095902e-19j), 'ZIXI'),\n",
       " ((0.08971508475602215+7.870602262344152e-19j), 'ZIIZ'),\n",
       " ((-0.1739606185042296+9.131559250095902e-19j), 'ZIXZ'),\n",
       " ((0.015470300331961964-1.1312837539800942e-19j), 'ZIZI'),\n",
       " ((-0.16193290683666628-2.0149430419965855e-18j), 'ZIZZ'),\n",
       " ((0.26153190243446806-1.133100617814267e-18j), 'ZZII'),\n",
       " ((0.1739606185042296-9.131559250095902e-19j), 'ZZXI'),\n",
       " ((0.08887004684502467-3.0524319184805013e-18j), 'ZZIZ'),\n",
       " ((0.1739606185042296-9.131559250095902e-19j), 'ZZXZ'),\n",
       " ((0.16311483126908488-2.152243316848077e-18j), 'ZZZI'),\n",
       " ((0.33577668685852824-2.3291201618184255e-19j), 'ZZZZ')]"
      ]
     },
     "execution_count": 34,
     "metadata": {},
     "output_type": "execute_result"
    }
   ],
   "source": [
    "test_ppoly.terms"
   ]
  },
  {
   "cell_type": "code",
   "execution_count": 35,
   "metadata": {},
   "outputs": [
    {
     "data": {
      "text/plain": [
       "5.46875"
      ]
     },
     "execution_count": 35,
     "metadata": {},
     "output_type": "execute_result"
    }
   ],
   "source": [
    "#plist = list(test_ppoly._terms.values())\n",
    "coef_mat = test_ppoly.coef_matrix\n",
    "mat = test_ppoly.matrix\n",
    "coef_mat[coef_mat<0.05] = 0.\n",
    "cmat = csr_matrix(coef_mat)\n",
    "100*cmat.data.size/(4**qubits)"
   ]
  },
  {
   "cell_type": "code",
   "execution_count": 36,
   "metadata": {},
   "outputs": [],
   "source": [
    "from opttrot.pauli import PauliElement"
   ]
  },
  {
   "cell_type": "code",
   "execution_count": 37,
   "metadata": {},
   "outputs": [],
   "source": [
    "a = PauliElement(3, 4, 5, 0.5)\n",
    "b = PauliElement(1, 2, 5, 0.5)\n",
    "c = PauliElement(2, 2, 5, 0.1)"
   ]
  },
  {
   "cell_type": "code",
   "execution_count": 38,
   "metadata": {},
   "outputs": [
    {
     "name": "stdout",
     "output_type": "stream",
     "text": [
      "[PauliElement(n=5, weight=0.500000+(0.000000)j, IIZXX)\n",
      " PauliElement(n=5, weight=0.500000+(0.000000)j, IIIZX)\n",
      " PauliElement(n=5, weight=0.100000+(0.000000)j, IIIYI)]\n"
     ]
    }
   ],
   "source": [
    "parr = np.array([a,b, c])\n",
    "print(parr)"
   ]
  },
  {
   "cell_type": "code",
   "execution_count": 39,
   "metadata": {},
   "outputs": [],
   "source": [
    "ppoly = PauliPoly.from_iterables(parr)"
   ]
  },
  {
   "cell_type": "code",
   "execution_count": 40,
   "metadata": {},
   "outputs": [
    {
     "data": {
      "text/plain": [
       "array([PauliElement(n=5, weight=0.100000+(0.000000)j, IIIYI),\n",
       "       PauliElement(n=5, weight=0.500000+(0.000000)j, IIIZX),\n",
       "       PauliElement(n=5, weight=0.500000+(0.000000)j, IIZXX)],\n",
       "      dtype=object)"
      ]
     },
     "execution_count": 40,
     "metadata": {},
     "output_type": "execute_result"
    }
   ],
   "source": [
    "ppoly.poly"
   ]
  },
  {
   "cell_type": "code",
   "execution_count": 41,
   "metadata": {},
   "outputs": [
    {
     "data": {
      "text/plain": [
       "False"
      ]
     },
     "execution_count": 41,
     "metadata": {},
     "output_type": "execute_result"
    }
   ],
   "source": [
    "a.commute(b)"
   ]
  },
  {
   "cell_type": "code",
   "execution_count": 42,
   "metadata": {},
   "outputs": [
    {
     "data": {
      "text/plain": [
       "PauliElement(n=5, weight=0.500000+(0.000000)j, IIZXX)"
      ]
     },
     "execution_count": 42,
     "metadata": {},
     "output_type": "execute_result"
    }
   ],
   "source": [
    "a+b"
   ]
  },
  {
   "cell_type": "code",
   "execution_count": 43,
   "metadata": {},
   "outputs": [
    {
     "data": {
      "text/plain": [
       "(False, False)"
      ]
     },
     "execution_count": 43,
     "metadata": {},
     "output_type": "execute_result"
    }
   ],
   "source": [
    "c.commute(a), c.commute(b)"
   ]
  },
  {
   "cell_type": "code",
   "execution_count": 44,
   "metadata": {},
   "outputs": [
    {
     "data": {
      "text/plain": [
       "False"
      ]
     },
     "execution_count": 44,
     "metadata": {},
     "output_type": "execute_result"
    }
   ],
   "source": [
    "c.commute(ppoly)"
   ]
  },
  {
   "cell_type": "markdown",
   "metadata": {},
   "source": [
    "## Coef matrix to PauliPoly"
   ]
  },
  {
   "cell_type": "code",
   "execution_count": 45,
   "metadata": {},
   "outputs": [
    {
     "name": "stdout",
     "output_type": "stream",
     "text": [
      "3.53 μs ± 87.5 ns per loop (mean ± std. dev. of 7 runs, 100,000 loops each)\n"
     ]
    }
   ],
   "source": [
    "%%timeit\n",
    "PauliPoly(coef_mat)"
   ]
  },
  {
   "cell_type": "markdown",
   "metadata": {},
   "source": [
    "## Hermit matrix to PauliPoly"
   ]
  },
  {
   "cell_type": "code",
   "execution_count": 46,
   "metadata": {},
   "outputs": [
    {
     "name": "stdout",
     "output_type": "stream",
     "text": [
      "28.1 μs ± 326 ns per loop (mean ± std. dev. of 7 runs, 10,000 loops each)\n"
     ]
    }
   ],
   "source": [
    "%%timeit\n",
    "PauliPoly.from_matrix(mat)"
   ]
  },
  {
   "cell_type": "code",
   "execution_count": 47,
   "metadata": {},
   "outputs": [
    {
     "name": "stdout",
     "output_type": "stream",
     "text": [
      "10.8 μs ± 22.7 ns per loop (mean ± std. dev. of 7 runs, 100,000 loops each)\n"
     ]
    }
   ],
   "source": [
    "%%timeit\n",
    "SparsePauliOp.from_operator(mat)"
   ]
  },
  {
   "cell_type": "markdown",
   "metadata": {},
   "source": [
    "## Test"
   ]
  },
  {
   "cell_type": "markdown",
   "metadata": {},
   "source": [
    "## PauliPoly to Hermit"
   ]
  },
  {
   "cell_type": "code",
   "execution_count": 48,
   "metadata": {},
   "outputs": [],
   "source": [
    "# PauliPoly\n",
    "pp001 = PauliPoly.from_matrix(A)\n",
    "pp002 = PauliPoly.from_matrix(B)\n",
    "\n",
    "# Qiskit\n",
    "spa001 = SparsePauliOp.from_operator(A)\n",
    "spa002 = SparsePauliOp.from_operator(B)"
   ]
  },
  {
   "cell_type": "code",
   "execution_count": 49,
   "metadata": {},
   "outputs": [
    {
     "name": "stdout",
     "output_type": "stream",
     "text": [
      "17.9 μs ± 328 ns per loop (mean ± std. dev. of 7 runs, 10,000 loops each)\n"
     ]
    }
   ],
   "source": [
    "%%timeit\n",
    "pp001.matrix"
   ]
  },
  {
   "cell_type": "code",
   "execution_count": 50,
   "metadata": {},
   "outputs": [
    {
     "name": "stdout",
     "output_type": "stream",
     "text": [
      "22.6 μs ± 224 ns per loop (mean ± std. dev. of 7 runs, 10,000 loops each)\n"
     ]
    }
   ],
   "source": [
    "%%timeit\n",
    "spa001.to_matrix() "
   ]
  },
  {
   "cell_type": "markdown",
   "metadata": {},
   "source": [
    "Tset: Qubit 12 (Matrix construction)\n",
    "\n",
    "- PauliPoly: 3.48 s ± 12.3 ms\n",
    "- Qiskit: 33.2 s ± 1.98 s"
   ]
  },
  {
   "cell_type": "code",
   "execution_count": 51,
   "metadata": {},
   "outputs": [
    {
     "name": "stdout",
     "output_type": "stream",
     "text": [
      "19.1 μs ± 3.12 μs per loop (mean ± std. dev. of 7 runs, 10,000 loops each)\n"
     ]
    }
   ],
   "source": [
    "%%timeit\n",
    "pp002.matrix"
   ]
  },
  {
   "cell_type": "code",
   "execution_count": 26,
   "metadata": {},
   "outputs": [
    {
     "name": "stdout",
     "output_type": "stream",
     "text": [
      "96.8 µs ± 561 ns per loop (mean ± std. dev. of 7 runs, 10,000 loops each)\n"
     ]
    }
   ],
   "source": [
    "%%timeit\n",
    "spa002.to_matrix()"
   ]
  },
  {
   "cell_type": "markdown",
   "metadata": {},
   "source": [
    "## PauliElement generation"
   ]
  },
  {
   "cell_type": "code",
   "execution_count": 52,
   "metadata": {},
   "outputs": [
    {
     "data": {
      "text/plain": [
       "matrix([[ 1.40971565e+00-1.80529070e-17j,\n",
       "          0.00000000e+00+0.00000000e+00j,\n",
       "          0.00000000e+00+0.00000000e+00j,\n",
       "          0.00000000e+00+0.00000000e+00j,\n",
       "          0.00000000e+00+0.00000000e+00j,\n",
       "          0.00000000e+00+0.00000000e+00j,\n",
       "          0.00000000e+00+0.00000000e+00j,\n",
       "          0.00000000e+00+0.00000000e+00j,\n",
       "          0.00000000e+00+0.00000000e+00j,\n",
       "          0.00000000e+00+0.00000000e+00j,\n",
       "          0.00000000e+00+0.00000000e+00j,\n",
       "          0.00000000e+00+0.00000000e+00j,\n",
       "          0.00000000e+00+0.00000000e+00j,\n",
       "          0.00000000e+00+0.00000000e+00j,\n",
       "          0.00000000e+00+0.00000000e+00j,\n",
       "          0.00000000e+00+0.00000000e+00j],\n",
       "        [ 0.00000000e+00+0.00000000e+00j,\n",
       "          2.77555756e-17-7.70371978e-34j,\n",
       "          0.00000000e+00+0.00000000e+00j,\n",
       "          0.00000000e+00+0.00000000e+00j,\n",
       "          0.00000000e+00+0.00000000e+00j,\n",
       "          0.00000000e+00+0.00000000e+00j,\n",
       "          0.00000000e+00+0.00000000e+00j,\n",
       "          0.00000000e+00+0.00000000e+00j,\n",
       "          0.00000000e+00+0.00000000e+00j,\n",
       "          0.00000000e+00+0.00000000e+00j,\n",
       "          0.00000000e+00+0.00000000e+00j,\n",
       "          0.00000000e+00+0.00000000e+00j,\n",
       "          0.00000000e+00+0.00000000e+00j,\n",
       "          0.00000000e+00+0.00000000e+00j,\n",
       "          0.00000000e+00+0.00000000e+00j,\n",
       "          0.00000000e+00+0.00000000e+00j],\n",
       "        [ 0.00000000e+00+0.00000000e+00j,\n",
       "          0.00000000e+00+0.00000000e+00j,\n",
       "         -1.11022302e-16+0.00000000e+00j,\n",
       "          0.00000000e+00+0.00000000e+00j,\n",
       "          0.00000000e+00+0.00000000e+00j,\n",
       "          0.00000000e+00+0.00000000e+00j,\n",
       "          0.00000000e+00+0.00000000e+00j,\n",
       "          0.00000000e+00+0.00000000e+00j,\n",
       "          0.00000000e+00+0.00000000e+00j,\n",
       "          0.00000000e+00+0.00000000e+00j,\n",
       "          0.00000000e+00+0.00000000e+00j,\n",
       "          0.00000000e+00+0.00000000e+00j,\n",
       "          0.00000000e+00+0.00000000e+00j,\n",
       "          0.00000000e+00+0.00000000e+00j,\n",
       "          0.00000000e+00+0.00000000e+00j,\n",
       "          0.00000000e+00+0.00000000e+00j],\n",
       "        [ 0.00000000e+00+0.00000000e+00j,\n",
       "          0.00000000e+00+0.00000000e+00j,\n",
       "          0.00000000e+00+0.00000000e+00j,\n",
       "          1.39499788e+00+5.80032327e-18j,\n",
       "          0.00000000e+00+0.00000000e+00j,\n",
       "          0.00000000e+00+0.00000000e+00j,\n",
       "          0.00000000e+00+0.00000000e+00j,\n",
       "          0.00000000e+00+0.00000000e+00j,\n",
       "          0.00000000e+00+0.00000000e+00j,\n",
       "          0.00000000e+00+0.00000000e+00j,\n",
       "          0.00000000e+00+0.00000000e+00j,\n",
       "          0.00000000e+00+0.00000000e+00j,\n",
       "          0.00000000e+00+0.00000000e+00j,\n",
       "          0.00000000e+00+0.00000000e+00j,\n",
       "          0.00000000e+00+0.00000000e+00j,\n",
       "          0.00000000e+00+0.00000000e+00j],\n",
       "        [ 0.00000000e+00+0.00000000e+00j,\n",
       "          0.00000000e+00+0.00000000e+00j,\n",
       "          0.00000000e+00+0.00000000e+00j,\n",
       "          0.00000000e+00+0.00000000e+00j,\n",
       "          0.00000000e+00+2.31111593e-33j,\n",
       "          0.00000000e+00+0.00000000e+00j,\n",
       "          0.00000000e+00+0.00000000e+00j,\n",
       "          0.00000000e+00+0.00000000e+00j,\n",
       "          0.00000000e+00+0.00000000e+00j,\n",
       "          0.00000000e+00+0.00000000e+00j,\n",
       "          0.00000000e+00+0.00000000e+00j,\n",
       "          0.00000000e+00+0.00000000e+00j,\n",
       "          0.00000000e+00+0.00000000e+00j,\n",
       "          0.00000000e+00+0.00000000e+00j,\n",
       "          0.00000000e+00+0.00000000e+00j,\n",
       "          0.00000000e+00+0.00000000e+00j],\n",
       "        [ 0.00000000e+00+0.00000000e+00j,\n",
       "          0.00000000e+00+0.00000000e+00j,\n",
       "          0.00000000e+00+0.00000000e+00j,\n",
       "          0.00000000e+00+0.00000000e+00j,\n",
       "          0.00000000e+00+0.00000000e+00j,\n",
       "         -8.32667268e-17+0.00000000e+00j,\n",
       "          0.00000000e+00+0.00000000e+00j,\n",
       "          0.00000000e+00+0.00000000e+00j,\n",
       "          0.00000000e+00+0.00000000e+00j,\n",
       "          0.00000000e+00+0.00000000e+00j,\n",
       "          0.00000000e+00+0.00000000e+00j,\n",
       "          0.00000000e+00+0.00000000e+00j,\n",
       "          0.00000000e+00+0.00000000e+00j,\n",
       "          0.00000000e+00+0.00000000e+00j,\n",
       "          0.00000000e+00+0.00000000e+00j,\n",
       "          0.00000000e+00+0.00000000e+00j],\n",
       "        [ 0.00000000e+00+0.00000000e+00j,\n",
       "          0.00000000e+00+0.00000000e+00j,\n",
       "          0.00000000e+00+0.00000000e+00j,\n",
       "          0.00000000e+00+0.00000000e+00j,\n",
       "          0.00000000e+00+0.00000000e+00j,\n",
       "          0.00000000e+00+0.00000000e+00j,\n",
       "          1.96691904e+00-5.15639069e-18j,\n",
       "          0.00000000e+00+0.00000000e+00j,\n",
       "          0.00000000e+00+0.00000000e+00j,\n",
       "          0.00000000e+00+0.00000000e+00j,\n",
       "          0.00000000e+00+0.00000000e+00j,\n",
       "          0.00000000e+00+0.00000000e+00j,\n",
       "          0.00000000e+00+0.00000000e+00j,\n",
       "          0.00000000e+00+0.00000000e+00j,\n",
       "          0.00000000e+00+0.00000000e+00j,\n",
       "          0.00000000e+00+0.00000000e+00j],\n",
       "        [ 0.00000000e+00+0.00000000e+00j,\n",
       "          0.00000000e+00+0.00000000e+00j,\n",
       "          0.00000000e+00+0.00000000e+00j,\n",
       "          0.00000000e+00+0.00000000e+00j,\n",
       "          0.00000000e+00+0.00000000e+00j,\n",
       "          0.00000000e+00+0.00000000e+00j,\n",
       "          0.00000000e+00+0.00000000e+00j,\n",
       "          0.00000000e+00-1.54074396e-33j,\n",
       "          0.00000000e+00+0.00000000e+00j,\n",
       "          0.00000000e+00+0.00000000e+00j,\n",
       "          0.00000000e+00+0.00000000e+00j,\n",
       "          0.00000000e+00+0.00000000e+00j,\n",
       "          0.00000000e+00+0.00000000e+00j,\n",
       "          0.00000000e+00+0.00000000e+00j,\n",
       "          0.00000000e+00+0.00000000e+00j,\n",
       "          0.00000000e+00+0.00000000e+00j],\n",
       "        [ 0.00000000e+00+0.00000000e+00j,\n",
       "          0.00000000e+00+0.00000000e+00j,\n",
       "          0.00000000e+00+0.00000000e+00j,\n",
       "          0.00000000e+00+0.00000000e+00j,\n",
       "          0.00000000e+00+0.00000000e+00j,\n",
       "          0.00000000e+00+0.00000000e+00j,\n",
       "          0.00000000e+00+0.00000000e+00j,\n",
       "          0.00000000e+00+0.00000000e+00j,\n",
       "          0.00000000e+00+0.00000000e+00j,\n",
       "          0.00000000e+00+0.00000000e+00j,\n",
       "          0.00000000e+00+0.00000000e+00j,\n",
       "          0.00000000e+00+0.00000000e+00j,\n",
       "          0.00000000e+00+0.00000000e+00j,\n",
       "          0.00000000e+00+0.00000000e+00j,\n",
       "          0.00000000e+00+0.00000000e+00j,\n",
       "          0.00000000e+00+0.00000000e+00j],\n",
       "        [ 0.00000000e+00+0.00000000e+00j,\n",
       "          0.00000000e+00+0.00000000e+00j,\n",
       "          0.00000000e+00+0.00000000e+00j,\n",
       "          0.00000000e+00+0.00000000e+00j,\n",
       "          0.00000000e+00+0.00000000e+00j,\n",
       "          0.00000000e+00+0.00000000e+00j,\n",
       "          0.00000000e+00+0.00000000e+00j,\n",
       "          0.00000000e+00+0.00000000e+00j,\n",
       "          0.00000000e+00+0.00000000e+00j,\n",
       "         -2.77555756e-17-7.70371978e-34j,\n",
       "          0.00000000e+00+0.00000000e+00j,\n",
       "          0.00000000e+00+0.00000000e+00j,\n",
       "          0.00000000e+00+0.00000000e+00j,\n",
       "          0.00000000e+00+0.00000000e+00j,\n",
       "          0.00000000e+00+0.00000000e+00j,\n",
       "          0.00000000e+00+0.00000000e+00j],\n",
       "        [ 0.00000000e+00+0.00000000e+00j,\n",
       "          0.00000000e+00+0.00000000e+00j,\n",
       "          0.00000000e+00+0.00000000e+00j,\n",
       "          0.00000000e+00+0.00000000e+00j,\n",
       "          0.00000000e+00+0.00000000e+00j,\n",
       "          0.00000000e+00+0.00000000e+00j,\n",
       "          0.00000000e+00+0.00000000e+00j,\n",
       "          0.00000000e+00+0.00000000e+00j,\n",
       "          0.00000000e+00+0.00000000e+00j,\n",
       "          0.00000000e+00+0.00000000e+00j,\n",
       "         -1.11022302e-16+0.00000000e+00j,\n",
       "          0.00000000e+00+0.00000000e+00j,\n",
       "          0.00000000e+00+0.00000000e+00j,\n",
       "          0.00000000e+00+0.00000000e+00j,\n",
       "          0.00000000e+00+0.00000000e+00j,\n",
       "          0.00000000e+00+0.00000000e+00j],\n",
       "        [ 0.00000000e+00+0.00000000e+00j,\n",
       "          0.00000000e+00+0.00000000e+00j,\n",
       "          0.00000000e+00+0.00000000e+00j,\n",
       "          0.00000000e+00+0.00000000e+00j,\n",
       "          0.00000000e+00+0.00000000e+00j,\n",
       "          0.00000000e+00+0.00000000e+00j,\n",
       "          0.00000000e+00+0.00000000e+00j,\n",
       "          0.00000000e+00+0.00000000e+00j,\n",
       "          0.00000000e+00+0.00000000e+00j,\n",
       "          0.00000000e+00+0.00000000e+00j,\n",
       "          0.00000000e+00+0.00000000e+00j,\n",
       "          1.41396329e+00+5.73025674e-18j,\n",
       "          0.00000000e+00+0.00000000e+00j,\n",
       "          0.00000000e+00+0.00000000e+00j,\n",
       "          0.00000000e+00+0.00000000e+00j,\n",
       "          0.00000000e+00+0.00000000e+00j],\n",
       "        [ 0.00000000e+00+0.00000000e+00j,\n",
       "          0.00000000e+00+0.00000000e+00j,\n",
       "          0.00000000e+00+0.00000000e+00j,\n",
       "          0.00000000e+00+0.00000000e+00j,\n",
       "          0.00000000e+00+0.00000000e+00j,\n",
       "          0.00000000e+00+0.00000000e+00j,\n",
       "          0.00000000e+00+0.00000000e+00j,\n",
       "          0.00000000e+00+0.00000000e+00j,\n",
       "          0.00000000e+00+0.00000000e+00j,\n",
       "          0.00000000e+00+0.00000000e+00j,\n",
       "          0.00000000e+00+0.00000000e+00j,\n",
       "          0.00000000e+00+0.00000000e+00j,\n",
       "          1.98745822e+00-8.22984448e-18j,\n",
       "          0.00000000e+00+0.00000000e+00j,\n",
       "          1.39168495e+00-7.30524740e-18j,\n",
       "          0.00000000e+00+0.00000000e+00j],\n",
       "        [ 0.00000000e+00+0.00000000e+00j,\n",
       "          0.00000000e+00+0.00000000e+00j,\n",
       "          0.00000000e+00+0.00000000e+00j,\n",
       "          0.00000000e+00+0.00000000e+00j,\n",
       "          0.00000000e+00+0.00000000e+00j,\n",
       "          0.00000000e+00+0.00000000e+00j,\n",
       "          0.00000000e+00+0.00000000e+00j,\n",
       "          0.00000000e+00+0.00000000e+00j,\n",
       "          0.00000000e+00+0.00000000e+00j,\n",
       "          0.00000000e+00+0.00000000e+00j,\n",
       "          0.00000000e+00+0.00000000e+00j,\n",
       "          0.00000000e+00+0.00000000e+00j,\n",
       "          0.00000000e+00+0.00000000e+00j,\n",
       "          8.32667268e-17-1.54074396e-33j,\n",
       "          0.00000000e+00+0.00000000e+00j,\n",
       "          0.00000000e+00+0.00000000e+00j],\n",
       "        [ 0.00000000e+00+0.00000000e+00j,\n",
       "          0.00000000e+00+0.00000000e+00j,\n",
       "          0.00000000e+00+0.00000000e+00j,\n",
       "          0.00000000e+00+0.00000000e+00j,\n",
       "          0.00000000e+00+0.00000000e+00j,\n",
       "          0.00000000e+00+0.00000000e+00j,\n",
       "          0.00000000e+00+0.00000000e+00j,\n",
       "          0.00000000e+00+0.00000000e+00j,\n",
       "          0.00000000e+00+0.00000000e+00j,\n",
       "          0.00000000e+00+0.00000000e+00j,\n",
       "          0.00000000e+00+0.00000000e+00j,\n",
       "          0.00000000e+00+0.00000000e+00j,\n",
       "          1.39168495e+00-7.30524740e-18j,\n",
       "          0.00000000e+00+0.00000000e+00j,\n",
       "          1.37296076e+00-1.23578995e-17j,\n",
       "          0.00000000e+00+0.00000000e+00j],\n",
       "        [ 0.00000000e+00+0.00000000e+00j,\n",
       "          0.00000000e+00+0.00000000e+00j,\n",
       "          0.00000000e+00+0.00000000e+00j,\n",
       "          0.00000000e+00+0.00000000e+00j,\n",
       "          0.00000000e+00+0.00000000e+00j,\n",
       "          0.00000000e+00+0.00000000e+00j,\n",
       "          0.00000000e+00+0.00000000e+00j,\n",
       "          0.00000000e+00+0.00000000e+00j,\n",
       "          0.00000000e+00+0.00000000e+00j,\n",
       "          0.00000000e+00+0.00000000e+00j,\n",
       "          0.00000000e+00+0.00000000e+00j,\n",
       "          0.00000000e+00+0.00000000e+00j,\n",
       "          0.00000000e+00+0.00000000e+00j,\n",
       "          0.00000000e+00+0.00000000e+00j,\n",
       "          0.00000000e+00+0.00000000e+00j,\n",
       "          1.40026025e+00+1.52845839e-17j]])"
      ]
     },
     "execution_count": 52,
     "metadata": {},
     "output_type": "execute_result"
    }
   ],
   "source": [
    "pp001.matrix"
   ]
  },
  {
   "cell_type": "code",
   "execution_count": 53,
   "metadata": {},
   "outputs": [],
   "source": [
    "ps = pp001.poly"
   ]
  },
  {
   "cell_type": "code",
   "execution_count": 54,
   "metadata": {},
   "outputs": [
    {
     "data": {
      "text/plain": [
       "array([PauliElement(n=4, weight=0.684142+(-0.000000)j, IIII),\n",
       "       PauliElement(n=4, weight=0.173961+(-0.000000)j, IIXI),\n",
       "       PauliElement(n=4, weight=0.157990+(-0.000000)j, IIIZ),\n",
       "       PauliElement(n=4, weight=0.173961+(-0.000000)j, IIXZ),\n",
       "       PauliElement(n=4, weight=-0.259495+(-0.000000)j, IIZI),\n",
       "       PauliElement(n=4, weight=0.266657+(0.000000)j, IIZZ),\n",
       "       PauliElement(n=4, weight=-0.156808+(0.000000)j, IZII),\n",
       "       PauliElement(n=4, weight=-0.173961+(0.000000)j, IZXI),\n",
       "       PauliElement(n=4, weight=-0.332895+(0.000000)j, IZIZ),\n",
       "       PauliElement(n=4, weight=-0.173961+(0.000000)j, IZXZ),\n",
       "       PauliElement(n=4, weight=0.084590+(-0.000000)j, IZZI),\n",
       "       PauliElement(n=4, weight=0.260677+(-0.000000)j, IZZZ),\n",
       "       PauliElement(n=4, weight=-0.087688+(-0.000000)j, ZIII),\n",
       "       PauliElement(n=4, weight=-0.173961+(0.000000)j, ZIXI),\n",
       "       PauliElement(n=4, weight=0.089715+(0.000000)j, ZIIZ),\n",
       "       PauliElement(n=4, weight=-0.173961+(0.000000)j, ZIXZ),\n",
       "       PauliElement(n=4, weight=0.015470+(-0.000000)j, ZIZI),\n",
       "       PauliElement(n=4, weight=-0.161933+(-0.000000)j, ZIZZ),\n",
       "       PauliElement(n=4, weight=0.261532+(-0.000000)j, ZZII),\n",
       "       PauliElement(n=4, weight=0.173961+(-0.000000)j, ZZXI),\n",
       "       PauliElement(n=4, weight=0.088870+(-0.000000)j, ZZIZ),\n",
       "       PauliElement(n=4, weight=0.173961+(-0.000000)j, ZZXZ),\n",
       "       PauliElement(n=4, weight=0.163115+(-0.000000)j, ZZZI),\n",
       "       PauliElement(n=4, weight=0.335777+(-0.000000)j, ZZZZ)],\n",
       "      dtype=object)"
      ]
     },
     "execution_count": 54,
     "metadata": {},
     "output_type": "execute_result"
    }
   ],
   "source": [
    "ps"
   ]
  },
  {
   "cell_type": "code",
   "execution_count": 55,
   "metadata": {},
   "outputs": [
    {
     "data": {
      "text/plain": [
       "matrix([[ 0.68414219-1.06136736e-18j,  0.        +0.00000000e+00j,\n",
       "          0.17396062-9.13155925e-19j,  0.        +0.00000000e+00j,\n",
       "          0.        +0.00000000e+00j,  0.        +0.00000000e+00j,\n",
       "          0.        +0.00000000e+00j,  0.        +0.00000000e+00j,\n",
       "          0.        +0.00000000e+00j,  0.        +0.00000000e+00j,\n",
       "          0.        +0.00000000e+00j,  0.        +0.00000000e+00j,\n",
       "          0.        +0.00000000e+00j,  0.        +0.00000000e+00j,\n",
       "          0.        +0.00000000e+00j,  0.        +0.00000000e+00j],\n",
       "        [ 0.        +0.00000000e+00j,  0.15798952-4.41326285e-18j,\n",
       "          0.        +0.00000000e+00j,  0.17396062-9.13155925e-19j,\n",
       "          0.        +0.00000000e+00j,  0.        +0.00000000e+00j,\n",
       "          0.        +0.00000000e+00j,  0.        +0.00000000e+00j,\n",
       "          0.        +0.00000000e+00j,  0.        +0.00000000e+00j,\n",
       "          0.        +0.00000000e+00j,  0.        +0.00000000e+00j,\n",
       "          0.        +0.00000000e+00j,  0.        +0.00000000e+00j,\n",
       "          0.        +0.00000000e+00j,  0.        +0.00000000e+00j],\n",
       "        [ 0.        +0.00000000e+00j,  0.        +0.00000000e+00j,\n",
       "         -0.25949546-2.22397657e-18j,  0.        +0.00000000e+00j,\n",
       "          0.        +0.00000000e+00j,  0.        +0.00000000e+00j,\n",
       "          0.        +0.00000000e+00j,  0.        +0.00000000e+00j,\n",
       "          0.        +0.00000000e+00j,  0.        +0.00000000e+00j,\n",
       "          0.        +0.00000000e+00j,  0.        +0.00000000e+00j,\n",
       "          0.        +0.00000000e+00j,  0.        +0.00000000e+00j,\n",
       "          0.        +0.00000000e+00j,  0.        +0.00000000e+00j],\n",
       "        [ 0.        +0.00000000e+00j,  0.        +0.00000000e+00j,\n",
       "          0.        +0.00000000e+00j,  0.26665722+1.12791891e-18j,\n",
       "          0.        +0.00000000e+00j,  0.        +0.00000000e+00j,\n",
       "          0.        +0.00000000e+00j,  0.        +0.00000000e+00j,\n",
       "          0.        +0.00000000e+00j,  0.        +0.00000000e+00j,\n",
       "          0.        +0.00000000e+00j,  0.        +0.00000000e+00j,\n",
       "          0.        +0.00000000e+00j,  0.        +0.00000000e+00j,\n",
       "          0.        +0.00000000e+00j,  0.        +0.00000000e+00j],\n",
       "        [ 0.        +0.00000000e+00j,  0.        +0.00000000e+00j,\n",
       "          0.        +0.00000000e+00j,  0.        +0.00000000e+00j,\n",
       "         -0.15680759+2.46076488e-19j,  0.        +0.00000000e+00j,\n",
       "         -0.17396062+9.13155925e-19j,  0.        +0.00000000e+00j,\n",
       "          0.        +0.00000000e+00j,  0.        +0.00000000e+00j,\n",
       "          0.        +0.00000000e+00j,  0.        +0.00000000e+00j,\n",
       "          0.        +0.00000000e+00j,  0.        +0.00000000e+00j,\n",
       "          0.        +0.00000000e+00j,  0.        +0.00000000e+00j],\n",
       "        [ 0.        +0.00000000e+00j,  0.        +0.00000000e+00j,\n",
       "          0.        +0.00000000e+00j,  0.        +0.00000000e+00j,\n",
       "          0.        +0.00000000e+00j, -0.33289521+7.15326970e-19j,\n",
       "          0.        +0.00000000e+00j, -0.17396062+9.13155925e-19j,\n",
       "          0.        +0.00000000e+00j,  0.        +0.00000000e+00j,\n",
       "          0.        +0.00000000e+00j,  0.        +0.00000000e+00j,\n",
       "          0.        +0.00000000e+00j,  0.        +0.00000000e+00j,\n",
       "          0.        +0.00000000e+00j,  0.        +0.00000000e+00j],\n",
       "        [ 0.        +0.00000000e+00j,  0.        +0.00000000e+00j,\n",
       "          0.        +0.00000000e+00j,  0.        +0.00000000e+00j,\n",
       "          0.        +0.00000000e+00j,  0.        +0.00000000e+00j,\n",
       "          0.08458977-1.47395930e-18j,  0.        +0.00000000e+00j,\n",
       "          0.        +0.00000000e+00j,  0.        +0.00000000e+00j,\n",
       "          0.        +0.00000000e+00j,  0.        +0.00000000e+00j,\n",
       "          0.        +0.00000000e+00j,  0.        +0.00000000e+00j,\n",
       "          0.        +0.00000000e+00j,  0.        +0.00000000e+00j],\n",
       "        [ 0.        +0.00000000e+00j,  0.        +0.00000000e+00j,\n",
       "          0.        +0.00000000e+00j,  0.        +0.00000000e+00j,\n",
       "          0.        +0.00000000e+00j,  0.        +0.00000000e+00j,\n",
       "          0.        +0.00000000e+00j,  0.26067738-1.94320979e-18j,\n",
       "          0.        +0.00000000e+00j,  0.        +0.00000000e+00j,\n",
       "          0.        +0.00000000e+00j,  0.        +0.00000000e+00j,\n",
       "          0.        +0.00000000e+00j,  0.        +0.00000000e+00j,\n",
       "          0.        +0.00000000e+00j,  0.        +0.00000000e+00j],\n",
       "        [ 0.        +0.00000000e+00j,  0.        +0.00000000e+00j,\n",
       "          0.        +0.00000000e+00j,  0.        +0.00000000e+00j,\n",
       "          0.        +0.00000000e+00j,  0.        +0.00000000e+00j,\n",
       "          0.        +0.00000000e+00j,  0.        +0.00000000e+00j,\n",
       "         -0.08768812-1.11475444e-18j,  0.        +0.00000000e+00j,\n",
       "         -0.17396062+9.13155925e-19j,  0.        +0.00000000e+00j,\n",
       "          0.        +0.00000000e+00j,  0.        +0.00000000e+00j,\n",
       "          0.        +0.00000000e+00j,  0.        +0.00000000e+00j],\n",
       "        [ 0.        +0.00000000e+00j,  0.        +0.00000000e+00j,\n",
       "          0.        +0.00000000e+00j,  0.        +0.00000000e+00j,\n",
       "          0.        +0.00000000e+00j,  0.        +0.00000000e+00j,\n",
       "          0.        +0.00000000e+00j,  0.        +0.00000000e+00j,\n",
       "          0.        +0.00000000e+00j,  0.08971508+7.87060226e-19j,\n",
       "          0.        +0.00000000e+00j, -0.17396062+9.13155925e-19j,\n",
       "          0.        +0.00000000e+00j,  0.        +0.00000000e+00j,\n",
       "          0.        +0.00000000e+00j,  0.        +0.00000000e+00j],\n",
       "        [ 0.        +0.00000000e+00j,  0.        +0.00000000e+00j,\n",
       "          0.        +0.00000000e+00j,  0.        +0.00000000e+00j,\n",
       "          0.        +0.00000000e+00j,  0.        +0.00000000e+00j,\n",
       "          0.        +0.00000000e+00j,  0.        +0.00000000e+00j,\n",
       "          0.        +0.00000000e+00j,  0.        +0.00000000e+00j,\n",
       "          0.0154703 -1.13128375e-19j,  0.        +0.00000000e+00j,\n",
       "          0.        +0.00000000e+00j,  0.        +0.00000000e+00j,\n",
       "          0.        +0.00000000e+00j,  0.        +0.00000000e+00j],\n",
       "        [ 0.        +0.00000000e+00j,  0.        +0.00000000e+00j,\n",
       "          0.        +0.00000000e+00j,  0.        +0.00000000e+00j,\n",
       "          0.        +0.00000000e+00j,  0.        +0.00000000e+00j,\n",
       "          0.        +0.00000000e+00j,  0.        +0.00000000e+00j,\n",
       "          0.        +0.00000000e+00j,  0.        +0.00000000e+00j,\n",
       "          0.        +0.00000000e+00j, -0.16193291-2.01494304e-18j,\n",
       "          0.        +0.00000000e+00j,  0.        +0.00000000e+00j,\n",
       "          0.        +0.00000000e+00j,  0.        +0.00000000e+00j],\n",
       "        [ 0.        +0.00000000e+00j,  0.        +0.00000000e+00j,\n",
       "          0.        +0.00000000e+00j,  0.        +0.00000000e+00j,\n",
       "          0.        +0.00000000e+00j,  0.        +0.00000000e+00j,\n",
       "          0.        +0.00000000e+00j,  0.        +0.00000000e+00j,\n",
       "          0.        +0.00000000e+00j,  0.        +0.00000000e+00j,\n",
       "          0.        +0.00000000e+00j,  0.        +0.00000000e+00j,\n",
       "          0.2615319 -1.13310062e-18j,  0.        +0.00000000e+00j,\n",
       "          0.17396062-9.13155925e-19j,  0.        +0.00000000e+00j],\n",
       "        [ 0.        +0.00000000e+00j,  0.        +0.00000000e+00j,\n",
       "          0.        +0.00000000e+00j,  0.        +0.00000000e+00j,\n",
       "          0.        +0.00000000e+00j,  0.        +0.00000000e+00j,\n",
       "          0.        +0.00000000e+00j,  0.        +0.00000000e+00j,\n",
       "          0.        +0.00000000e+00j,  0.        +0.00000000e+00j,\n",
       "          0.        +0.00000000e+00j,  0.        +0.00000000e+00j,\n",
       "          0.        +0.00000000e+00j,  0.08887005-3.05243192e-18j,\n",
       "          0.        +0.00000000e+00j,  0.17396062-9.13155925e-19j],\n",
       "        [ 0.        +0.00000000e+00j,  0.        +0.00000000e+00j,\n",
       "          0.        +0.00000000e+00j,  0.        +0.00000000e+00j,\n",
       "          0.        +0.00000000e+00j,  0.        +0.00000000e+00j,\n",
       "          0.        +0.00000000e+00j,  0.        +0.00000000e+00j,\n",
       "          0.        +0.00000000e+00j,  0.        +0.00000000e+00j,\n",
       "          0.        +0.00000000e+00j,  0.        +0.00000000e+00j,\n",
       "          0.        +0.00000000e+00j,  0.        +0.00000000e+00j,\n",
       "          0.16311483-2.15224332e-18j,  0.        +0.00000000e+00j],\n",
       "        [ 0.        +0.00000000e+00j,  0.        +0.00000000e+00j,\n",
       "          0.        +0.00000000e+00j,  0.        +0.00000000e+00j,\n",
       "          0.        +0.00000000e+00j,  0.        +0.00000000e+00j,\n",
       "          0.        +0.00000000e+00j,  0.        +0.00000000e+00j,\n",
       "          0.        +0.00000000e+00j,  0.        +0.00000000e+00j,\n",
       "          0.        +0.00000000e+00j,  0.        +0.00000000e+00j,\n",
       "          0.        +0.00000000e+00j,  0.        +0.00000000e+00j,\n",
       "          0.        +0.00000000e+00j,  0.33577669-2.32912016e-19j]])"
      ]
     },
     "execution_count": 55,
     "metadata": {},
     "output_type": "execute_result"
    }
   ],
   "source": [
    "pp001.coef_matrix"
   ]
  },
  {
   "cell_type": "markdown",
   "metadata": {},
   "source": [
    "## Addition"
   ]
  },
  {
   "cell_type": "markdown",
   "metadata": {},
   "source": [
    "**Comparsion: Matrix and set methods**\n",
    "\n",
    "Qubits = 5\n",
    "\n",
    "- Matrix: 58.3 ms ± 2.4 ms\n",
    "- Set: 13.2 ms ± 111 µs\n",
    "\n",
    "Qubits = 8\n",
    "\n",
    "- Matrix: 3.68 s ± 67 ms per loop\n",
    "- Set: 2 s ± 74.5 ms"
   ]
  },
  {
   "cell_type": "code",
   "execution_count": 30,
   "metadata": {},
   "outputs": [
    {
     "name": "stdout",
     "output_type": "stream",
     "text": [
      "18.3 µs ± 279 ns per loop (mean ± std. dev. of 7 runs, 10,000 loops each)\n"
     ]
    }
   ],
   "source": [
    "%%timeit\n",
    "pp001+pp002"
   ]
  },
  {
   "cell_type": "code",
   "execution_count": 31,
   "metadata": {},
   "outputs": [
    {
     "name": "stdout",
     "output_type": "stream",
     "text": [
      "40 µs ± 422 ns per loop (mean ± std. dev. of 7 runs, 10,000 loops each)\n"
     ]
    }
   ],
   "source": [
    "%%timeit\n",
    "spa001+spa002"
   ]
  },
  {
   "cell_type": "markdown",
   "metadata": {},
   "source": [
    "### Mat multiplication"
   ]
  },
  {
   "cell_type": "code",
   "execution_count": 12,
   "metadata": {},
   "outputs": [
    {
     "ename": "NameError",
     "evalue": "name 'pp001' is not defined",
     "output_type": "error",
     "traceback": [
      "\u001b[1;31m---------------------------------------------------------------------------\u001b[0m",
      "\u001b[1;31mNameError\u001b[0m                                 Traceback (most recent call last)",
      "Cell \u001b[1;32mIn[12], line 1\u001b[0m\n\u001b[1;32m----> 1\u001b[0m \u001b[43mget_ipython\u001b[49m\u001b[43m(\u001b[49m\u001b[43m)\u001b[49m\u001b[38;5;241;43m.\u001b[39;49m\u001b[43mrun_cell_magic\u001b[49m\u001b[43m(\u001b[49m\u001b[38;5;124;43m'\u001b[39;49m\u001b[38;5;124;43mtimeit\u001b[39;49m\u001b[38;5;124;43m'\u001b[39;49m\u001b[43m,\u001b[49m\u001b[43m \u001b[49m\u001b[38;5;124;43m'\u001b[39;49m\u001b[38;5;124;43m'\u001b[39;49m\u001b[43m,\u001b[49m\u001b[43m \u001b[49m\u001b[38;5;124;43m'\u001b[39;49m\u001b[38;5;124;43mpp001@pp002\u001b[39;49m\u001b[38;5;130;43;01m\\n\u001b[39;49;00m\u001b[38;5;124;43m'\u001b[39;49m\u001b[43m)\u001b[49m\n",
      "File \u001b[1;32mc:\\Users\\cmat411a\\anaconda3\\envs\\QC\\Lib\\site-packages\\IPython\\core\\interactiveshell.py:2541\u001b[0m, in \u001b[0;36mInteractiveShell.run_cell_magic\u001b[1;34m(self, magic_name, line, cell)\u001b[0m\n\u001b[0;32m   2539\u001b[0m \u001b[38;5;28;01mwith\u001b[39;00m \u001b[38;5;28mself\u001b[39m\u001b[38;5;241m.\u001b[39mbuiltin_trap:\n\u001b[0;32m   2540\u001b[0m     args \u001b[38;5;241m=\u001b[39m (magic_arg_s, cell)\n\u001b[1;32m-> 2541\u001b[0m     result \u001b[38;5;241m=\u001b[39m \u001b[43mfn\u001b[49m\u001b[43m(\u001b[49m\u001b[38;5;241;43m*\u001b[39;49m\u001b[43margs\u001b[49m\u001b[43m,\u001b[49m\u001b[43m \u001b[49m\u001b[38;5;241;43m*\u001b[39;49m\u001b[38;5;241;43m*\u001b[39;49m\u001b[43mkwargs\u001b[49m\u001b[43m)\u001b[49m\n\u001b[0;32m   2543\u001b[0m \u001b[38;5;66;03m# The code below prevents the output from being displayed\u001b[39;00m\n\u001b[0;32m   2544\u001b[0m \u001b[38;5;66;03m# when using magics with decorator @output_can_be_silenced\u001b[39;00m\n\u001b[0;32m   2545\u001b[0m \u001b[38;5;66;03m# when the last Python token in the expression is a ';'.\u001b[39;00m\n\u001b[0;32m   2546\u001b[0m \u001b[38;5;28;01mif\u001b[39;00m \u001b[38;5;28mgetattr\u001b[39m(fn, magic\u001b[38;5;241m.\u001b[39mMAGIC_OUTPUT_CAN_BE_SILENCED, \u001b[38;5;28;01mFalse\u001b[39;00m):\n",
      "File \u001b[1;32mc:\\Users\\cmat411a\\anaconda3\\envs\\QC\\Lib\\site-packages\\IPython\\core\\magics\\execution.py:1185\u001b[0m, in \u001b[0;36mExecutionMagics.timeit\u001b[1;34m(self, line, cell, local_ns)\u001b[0m\n\u001b[0;32m   1183\u001b[0m \u001b[38;5;28;01mfor\u001b[39;00m index \u001b[38;5;129;01min\u001b[39;00m \u001b[38;5;28mrange\u001b[39m(\u001b[38;5;241m0\u001b[39m, \u001b[38;5;241m10\u001b[39m):\n\u001b[0;32m   1184\u001b[0m     number \u001b[38;5;241m=\u001b[39m \u001b[38;5;241m10\u001b[39m \u001b[38;5;241m*\u001b[39m\u001b[38;5;241m*\u001b[39m index\n\u001b[1;32m-> 1185\u001b[0m     time_number \u001b[38;5;241m=\u001b[39m \u001b[43mtimer\u001b[49m\u001b[38;5;241;43m.\u001b[39;49m\u001b[43mtimeit\u001b[49m\u001b[43m(\u001b[49m\u001b[43mnumber\u001b[49m\u001b[43m)\u001b[49m\n\u001b[0;32m   1186\u001b[0m     \u001b[38;5;28;01mif\u001b[39;00m time_number \u001b[38;5;241m>\u001b[39m\u001b[38;5;241m=\u001b[39m \u001b[38;5;241m0.2\u001b[39m:\n\u001b[0;32m   1187\u001b[0m         \u001b[38;5;28;01mbreak\u001b[39;00m\n",
      "File \u001b[1;32mc:\\Users\\cmat411a\\anaconda3\\envs\\QC\\Lib\\site-packages\\IPython\\core\\magics\\execution.py:173\u001b[0m, in \u001b[0;36mTimer.timeit\u001b[1;34m(self, number)\u001b[0m\n\u001b[0;32m    171\u001b[0m gc\u001b[38;5;241m.\u001b[39mdisable()\n\u001b[0;32m    172\u001b[0m \u001b[38;5;28;01mtry\u001b[39;00m:\n\u001b[1;32m--> 173\u001b[0m     timing \u001b[38;5;241m=\u001b[39m \u001b[38;5;28;43mself\u001b[39;49m\u001b[38;5;241;43m.\u001b[39;49m\u001b[43minner\u001b[49m\u001b[43m(\u001b[49m\u001b[43mit\u001b[49m\u001b[43m,\u001b[49m\u001b[43m \u001b[49m\u001b[38;5;28;43mself\u001b[39;49m\u001b[38;5;241;43m.\u001b[39;49m\u001b[43mtimer\u001b[49m\u001b[43m)\u001b[49m\n\u001b[0;32m    174\u001b[0m \u001b[38;5;28;01mfinally\u001b[39;00m:\n\u001b[0;32m    175\u001b[0m     \u001b[38;5;28;01mif\u001b[39;00m gcold:\n",
      "File \u001b[1;32m<magic-timeit>:1\u001b[0m, in \u001b[0;36minner\u001b[1;34m(_it, _timer)\u001b[0m\n",
      "\u001b[1;31mNameError\u001b[0m: name 'pp001' is not defined"
     ]
    }
   ],
   "source": [
    "%%timeit\n",
    "pp001@pp002"
   ]
  },
  {
   "cell_type": "code",
   "execution_count": 36,
   "metadata": {},
   "outputs": [
    {
     "name": "stdout",
     "output_type": "stream",
     "text": [
      "138 ms ± 5.14 ms per loop (mean ± std. dev. of 7 runs, 10 loops each)\n"
     ]
    }
   ],
   "source": [
    "%%timeit\n",
    "spa001@spa002 # Unable to multiplicate."
   ]
  },
  {
   "cell_type": "markdown",
   "metadata": {},
   "source": [
    "### Summary\n",
    "\n",
    "A(xN.N): B took N.N times more slower than A.\n",
    "\n",
    "|Opeartion|Faster|\n",
    "|:-------:|:----:|\n",
    "|o->mat   | Qiskit(x1.2) | \n",
    "|mat->o   | PauliPoly(x2-1.2) | \n",
    "|Addition | PauliPoly(x2) |\n",
    "|Mat Mul  | PauliPoly(x Exponential) |\n"
   ]
  },
  {
   "cell_type": "markdown",
   "metadata": {},
   "source": []
  }
 ],
 "metadata": {
  "kernelspec": {
   "display_name": "opttrot",
   "language": "python",
   "name": "python3"
  },
  "language_info": {
   "codemirror_mode": {
    "name": "ipython",
    "version": 3
   },
   "file_extension": ".py",
   "mimetype": "text/x-python",
   "name": "python",
   "nbconvert_exporter": "python",
   "pygments_lexer": "ipython3",
   "version": "3.12.4"
  }
 },
 "nbformat": 4,
 "nbformat_minor": 2
}
