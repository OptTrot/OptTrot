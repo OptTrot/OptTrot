{
 "cells": [
  {
   "cell_type": "code",
   "execution_count": 1,
   "metadata": {},
   "outputs": [
    {
     "name": "stdout",
     "output_type": "stream",
     "text": [
      "First: /Users/hyunseongkim/Documents/GitHub/Org_OptTrot/OptTrot\n",
      "/Users/hyunseongkim/Documents/GitHub/Org_OptTrot/OptTrot/opttrot\n",
      "running build\n",
      "running build_py\n",
      "file /Users/hyunseongkim/Documents/GitHub/Org_OptTrot/OptTrot/opttrot/opttrot.py (for module opttrot) not found\n",
      "copying /Users/hyunseongkim/Documents/GitHub/Org_OptTrot/OptTrot/opttrot/graph_algs/dwave.py -> build/lib.macosx-11.1-arm64-cpython-312/graph_algs\n",
      "copying /Users/hyunseongkim/Documents/GitHub/Org_OptTrot/OptTrot/opttrot/graph_algs/graph_opts.py -> build/lib.macosx-11.1-arm64-cpython-312/graph_algs\n",
      "copying /Users/hyunseongkim/Documents/GitHub/Org_OptTrot/OptTrot/opttrot/graph_algs/__init__.py -> build/lib.macosx-11.1-arm64-cpython-312/graph_algs\n",
      "file /Users/hyunseongkim/Documents/GitHub/Org_OptTrot/OptTrot/opttrot/opttrot.py (for module opttrot) not found\n",
      "running build_ext\n",
      "building 'c_utils' extension\n",
      "clang -fno-strict-overflow -DNDEBUG -O2 -Wall -fPIC -O2 -isystem /Users/hyunseongkim/miniconda3/envs/opttrot/include -arch arm64 -fPIC -O2 -isystem /Users/hyunseongkim/miniconda3/envs/opttrot/include -arch arm64 -I/Users/hyunseongkim/Documents/GitHub/Org_OptTrot/OptTrot/opttrot -I/Users/hyunseongkim/Documents/GitHub/Org_OptTrot/OptTrot/opttrot/c_src -I/Users/hyunseongkim/Documents/GitHub/Org_OptTrot/OptTrot/opttrot/c_src/bn -I/Users/hyunseongkim/Documents/GitHub/Org_OptTrot/OptTrot/opttrot/c_src/pauli_bn -I/Users/hyunseongkim/miniconda3/envs/opttrot/lib/python3.12/site-packages/numpy/core/include -I/Users/hyunseongkim/miniconda3/envs/opttrot/include/python3.12 -c /Users/hyunseongkim/Documents/GitHub/Org_OptTrot/OptTrot/opttrot/c_src/c_utils.c -o build/temp.macosx-11.1-arm64-cpython-312/Users/hyunseongkim/Documents/GitHub/Org_OptTrot/OptTrot/opttrot/c_src/c_utils.o\n",
      "In file included from /Users/hyunseongkim/Documents/GitHub/Org_OptTrot/OptTrot/opttrot/c_src/c_utils.c:1:\n",
      "In file included from /Users/hyunseongkim/Documents/GitHub/Org_OptTrot/OptTrot/opttrot/c_src/c_utils.h:5:\n",
      "In file included from /Users/hyunseongkim/miniconda3/envs/opttrot/lib/python3.12/site-packages/numpy/core/include/numpy/ndarrayobject.h:12:\n",
      "In file included from /Users/hyunseongkim/miniconda3/envs/opttrot/lib/python3.12/site-packages/numpy/core/include/numpy/ndarraytypes.h:1929:\n",
      "\u001b[1m/Users/hyunseongkim/miniconda3/envs/opttrot/lib/python3.12/site-packages/numpy/core/include/numpy/npy_1_7_deprecated_api.h:17:2: \u001b[0m\u001b[0;1;35mwarning: \u001b[0m\u001b[1m\"Using deprecated NumPy API, disable it with \"          \"#define NPY_NO_DEPRECATED_API NPY_1_7_API_VERSION\" [-W#warnings]\u001b[0m\n",
      "#warning \"Using deprecated NumPy API, disable it with \" \\\n",
      "\u001b[0;1;32m ^\n",
      "\u001b[0m1 warning generated.\n",
      "clang -bundle -undefined dynamic_lookup -Wl,-rpath,/Users/hyunseongkim/miniconda3/envs/opttrot/lib -L/Users/hyunseongkim/miniconda3/envs/opttrot/lib -Wl,-rpath,/Users/hyunseongkim/miniconda3/envs/opttrot/lib -L/Users/hyunseongkim/miniconda3/envs/opttrot/lib build/temp.macosx-11.1-arm64-cpython-312/Users/hyunseongkim/Documents/GitHub/Org_OptTrot/OptTrot/opttrot/c_src/c_utils.o -o build/lib.macosx-11.1-arm64-cpython-312/c_utils.cpython-312-darwin.so\n",
      "ld: warning: duplicate -rpath '/Users/hyunseongkim/miniconda3/envs/opttrot/lib' ignored\n",
      "First: /Users/hyunseongkim/Documents/GitHub/Org_OptTrot/OptTrot\n",
      "/Users/hyunseongkim/Documents/GitHub/Org_OptTrot/OptTrot/opttrot\n",
      "running build_ext\n",
      "copying build/lib.macosx-11.1-arm64-cpython-312/pauli_c.cpython-312-darwin.so -> /Users/hyunseongkim/Documents/GitHub/Org_OptTrot/OptTrot/opttrot\n",
      "copying build/lib.macosx-11.1-arm64-cpython-312/c_utils.cpython-312-darwin.so -> /Users/hyunseongkim/Documents/GitHub/Org_OptTrot/OptTrot/opttrot\n"
     ]
    }
   ],
   "source": [
    "!python ../setup.py build \n",
    "!python ../setup.py build_ext --inplace"
   ]
  },
  {
   "cell_type": "code",
   "execution_count": 2,
   "metadata": {},
   "outputs": [],
   "source": [
    "import os, sys\n",
    "sys.path.append(\"..\")"
   ]
  },
  {
   "cell_type": "markdown",
   "metadata": {},
   "source": [
    "## Vectorized commute"
   ]
  },
  {
   "cell_type": "code",
   "execution_count": 21,
   "metadata": {},
   "outputs": [],
   "source": [
    "import opttrot\n",
    "from opttrot.pauli import PauliElement, PauliPoly\n",
    "from opttrot.pauli import get_commutes, get_commutes_sparse"
   ]
  },
  {
   "cell_type": "code",
   "execution_count": 22,
   "metadata": {},
   "outputs": [
    {
     "data": {
      "text/plain": [
       "array([18446744073709551617], dtype=object)"
      ]
     },
     "execution_count": 22,
     "metadata": {},
     "output_type": "execute_result"
    }
   ],
   "source": [
    "arr = np.array([2**64+1])\n",
    "arr"
   ]
  },
  {
   "cell_type": "code",
   "execution_count": 23,
   "metadata": {},
   "outputs": [
    {
     "data": {
      "text/plain": [
       "(PauliElement(n=2, weight=1.000000+(0.000000)j, IZ),\n",
       " PauliElement(n=2, weight=1.000000+(0.000000)j, XZ),\n",
       " PauliElement(n=2, weight=1.000000+(0.000000)j, XX))"
      ]
     },
     "execution_count": 23,
     "metadata": {},
     "output_type": "execute_result"
    }
   ],
   "source": [
    "a = PauliElement(0, 1, 2, 1.)\n",
    "b = PauliElement(2, 1, 2, 1.)\n",
    "c = PauliElement(3, 0, 2, 1)\n",
    "d = PauliElement(0,0,2,1)\n",
    "a, b, c"
   ]
  },
  {
   "cell_type": "code",
   "execution_count": 24,
   "metadata": {},
   "outputs": [],
   "source": [
    "ppoly = PauliPoly.from_iterables((a,b,c, d))"
   ]
  },
  {
   "cell_type": "code",
   "execution_count": 25,
   "metadata": {},
   "outputs": [
    {
     "data": {
      "text/plain": [
       "array([PauliElement(n=2, weight=1.000000+(0.000000)j, II),\n",
       "       PauliElement(n=2, weight=1.000000+(0.000000)j, XX),\n",
       "       PauliElement(n=2, weight=1.000000+(0.000000)j, IZ),\n",
       "       PauliElement(n=2, weight=1.000000+(0.000000)j, XZ)], dtype=object)"
      ]
     },
     "execution_count": 25,
     "metadata": {},
     "output_type": "execute_result"
    }
   ],
   "source": [
    "ppoly.poly"
   ]
  },
  {
   "cell_type": "code",
   "execution_count": 26,
   "metadata": {},
   "outputs": [
    {
     "data": {
      "text/plain": [
       "(True, True, False)"
      ]
     },
     "execution_count": 26,
     "metadata": {},
     "output_type": "execute_result"
    }
   ],
   "source": [
    "a.commute(a), a.commute(b), a.commute(c)"
   ]
  },
  {
   "cell_type": "code",
   "execution_count": 27,
   "metadata": {},
   "outputs": [
    {
     "data": {
      "text/plain": [
       "array([ True, False,  True,  True])"
      ]
     },
     "execution_count": 27,
     "metadata": {},
     "output_type": "execute_result"
    }
   ],
   "source": [
    "get_commutes(ppoly.poly, a)"
   ]
  },
  {
   "cell_type": "code",
   "execution_count": 28,
   "metadata": {},
   "outputs": [],
   "source": [
    "from scipy.sparse import coo_matrix\n",
    "import numpy as np"
   ]
  },
  {
   "cell_type": "code",
   "execution_count": 29,
   "metadata": {},
   "outputs": [],
   "source": [
    "coo = coo_matrix(ppoly.coef_matrix)"
   ]
  },
  {
   "cell_type": "code",
   "execution_count": 30,
   "metadata": {},
   "outputs": [
    {
     "name": "stdout",
     "output_type": "stream",
     "text": [
      "216 ns ± 2.9 ns per loop (mean ± std. dev. of 7 runs, 1,000,000 loops each)\n"
     ]
    }
   ],
   "source": [
    "%%timeit\n",
    "a.commute(b)"
   ]
  },
  {
   "cell_type": "code",
   "execution_count": 31,
   "metadata": {},
   "outputs": [
    {
     "data": {
      "text/plain": [
       "array([ True, False,  True,  True])"
      ]
     },
     "execution_count": 31,
     "metadata": {},
     "output_type": "execute_result"
    }
   ],
   "source": [
    "get_commutes_sparse(coo.row.astype(np.uint64), coo.col.astype(np.uint64), a)"
   ]
  },
  {
   "cell_type": "code",
   "execution_count": 32,
   "metadata": {},
   "outputs": [],
   "source": [
    "nx_s = np.bitwise_xor(coo.row, coo.col)\n",
    "nz_s = coo.col"
   ]
  },
  {
   "cell_type": "code",
   "execution_count": 33,
   "metadata": {},
   "outputs": [],
   "source": [
    "nx, nz = a.sym_code"
   ]
  },
  {
   "cell_type": "code",
   "execution_count": 35,
   "metadata": {},
   "outputs": [],
   "source": [
    "from opttrot.utils import np_bitwise_count"
   ]
  },
  {
   "cell_type": "code",
   "execution_count": 36,
   "metadata": {},
   "outputs": [
    {
     "name": "stdout",
     "output_type": "stream",
     "text": [
      "version is 1.26\n",
      "Parsing\n"
     ]
    },
    {
     "data": {
      "text/plain": [
       "array([0, 1, 0, 0], dtype=uint64)"
      ]
     },
     "execution_count": 36,
     "metadata": {},
     "output_type": "execute_result"
    }
   ],
   "source": [
    "commute_arr = np.bitwise_xor(np.bitwise_and(nx_s, nz), np.bitwise_and(nz_s, nx))\n",
    "if commute_arr.max() !=1:\n",
    "    commute_arr = np_bitwise_count(commute_arr)"
   ]
  },
  {
   "cell_type": "code",
   "execution_count": 37,
   "metadata": {},
   "outputs": [
    {
     "data": {
      "text/plain": [
       "array([0, 0, 0])"
      ]
     },
     "execution_count": 37,
     "metadata": {},
     "output_type": "execute_result"
    }
   ],
   "source": [
    "np.bitwise_xor(np.array([1,1,1]), 1)"
   ]
  },
  {
   "cell_type": "code",
   "execution_count": 45,
   "metadata": {},
   "outputs": [
    {
     "name": "stdout",
     "output_type": "stream",
     "text": [
      "1.01 μs ± 9.37 ns per loop (mean ± std. dev. of 7 runs, 1,000,000 loops each)\n"
     ]
    }
   ],
   "source": [
    "%%timeit\n",
    "get_commutes(ppoly.poly, a)"
   ]
  },
  {
   "cell_type": "code",
   "execution_count": 47,
   "metadata": {},
   "outputs": [
    {
     "name": "stdout",
     "output_type": "stream",
     "text": [
      "1.63 μs ± 8.6 ns per loop (mean ± std. dev. of 7 runs, 1,000,000 loops each)\n"
     ]
    }
   ],
   "source": [
    "%%timeit\n",
    "get_commutes_sparse(coo.row.astype(np.uint64), coo.col.astype(np.uint64), a)"
   ]
  },
  {
   "cell_type": "code",
   "execution_count": 46,
   "metadata": {},
   "outputs": [
    {
     "name": "stdout",
     "output_type": "stream",
     "text": [
      "1.3 μs ± 8.29 ns per loop (mean ± std. dev. of 7 runs, 1,000,000 loops each)\n"
     ]
    }
   ],
   "source": [
    "%%timeit\n",
    "p = ppoly.poly\n",
    "n = np.zeros(len(p))\n",
    "for i in range(len(p)):\n",
    "    n[i] = a.commute(p[i])"
   ]
  },
  {
   "cell_type": "markdown",
   "metadata": {},
   "source": [
    "# Optimization of Pauli Poly\n",
    "\n",
    "There are two measure to estimate performances of `PauliPoly`.\n",
    "\n",
    "- Naive `PauliPoly` implementation.\n",
    "- Qiskit `SparsePauliOp` and `PauliList`.\n",
    "- \n",
    "The PauliPoly in the origial OptTrot library was a naive implementation written by python.\n",
    "In here, we will optimize the routine as soon as possible using scipy and numba routines."
   ]
  },
  {
   "cell_type": "code",
   "execution_count": 3,
   "metadata": {},
   "outputs": [],
   "source": [
    "import opttrot"
   ]
  },
  {
   "cell_type": "code",
   "execution_count": 4,
   "metadata": {},
   "outputs": [],
   "source": [
    "from opttrot.pauli_c import get_paulilist_from_coefs"
   ]
  },
  {
   "cell_type": "code",
   "execution_count": 5,
   "metadata": {},
   "outputs": [],
   "source": [
    "from opttrot.pauli_c import PauliElement\n",
    "from opttrot.pauli_c import get_commutes"
   ]
  },
  {
   "cell_type": "code",
   "execution_count": 6,
   "metadata": {},
   "outputs": [],
   "source": [
    "from opttrot.pauli import PauliElement\n",
    "from opttrot.pauli import PauliPoly\n",
    "\n",
    "import numpy as np\n",
    "import matplotlib.pyplot as plt"
   ]
  },
  {
   "cell_type": "code",
   "execution_count": 11,
   "metadata": {},
   "outputs": [],
   "source": [
    "from importlib import reload\n",
    "#import paulipoly\n",
    "#reload(paulipoly)\n",
    "#from paulipoly import PauliPoly as NewPauliPoly\n",
    "#import ten_con\n",
    "#reload(ten_con)\n",
    "#from ten_con import _mat_to_coef_mat, _coef_to_mat"
   ]
  },
  {
   "cell_type": "code",
   "execution_count": 12,
   "metadata": {},
   "outputs": [],
   "source": [
    "from scipy.sparse import coo_matrix, csr_matrix"
   ]
  },
  {
   "cell_type": "code",
   "execution_count": 13,
   "metadata": {},
   "outputs": [],
   "source": [
    "from qiskit.quantum_info import Pauli, PauliList, SparsePauliOp"
   ]
  },
  {
   "cell_type": "code",
   "execution_count": 14,
   "metadata": {},
   "outputs": [],
   "source": [
    "from copy import deepcopy"
   ]
  },
  {
   "cell_type": "code",
   "execution_count": 15,
   "metadata": {},
   "outputs": [],
   "source": [
    "qubits = 4\n",
    "def get_test_hermit(qubits, tol= 0.5):\n",
    "    ndim = int(2**qubits)\n",
    "    A = np.random.rand(ndim, ndim)\n",
    "    A[A<tol] = 0.\n",
    "    H = A + 1j*A\n",
    "    H = H.conj().T@H\n",
    "    return H\n"
   ]
  },
  {
   "cell_type": "code",
   "execution_count": 11,
   "metadata": {},
   "outputs": [],
   "source": [
    "A = np.sqrt(get_test_hermit(qubits, 0.96))\n",
    "B = np.sqrt(get_test_hermit(qubits, 0.8))\n"
   ]
  },
  {
   "cell_type": "code",
   "execution_count": 12,
   "metadata": {},
   "outputs": [],
   "source": [
    "test_ppoly = PauliPoly.from_matrix(A)"
   ]
  },
  {
   "cell_type": "code",
   "execution_count": 13,
   "metadata": {},
   "outputs": [
    {
     "data": {
      "text/plain": [
       "[((0.46814521442164375-4.699665136611769e-19j), 'IIII'),\n",
       " ((0.29591769496285136+5.422126478591218e-19j), 'IIIY'),\n",
       " ((-0.05277454759431581+3.6435990233084064e-19j), 'IIYI'),\n",
       " ((-0.22500206705310816+1.3765390638511395e-18j), 'IIYY'),\n",
       " ((-0.12260744408633287-2.7991520058422565e-19j), 'IYII'),\n",
       " ((0.04962007537245949-1.2920943621045244e-18j), 'IYIY'),\n",
       " ((-0.2927632227409951+3.85521811914562e-19j), 'IYYI'),\n",
       " ((-0.12053570328220273-6.266573496057367e-19j), 'IYYY'),\n",
       " ((0.11811312558204645-3.2165542045477387e-19j), 'YIII'),\n",
       " ((-0.05411439387674591+6.905237410655249e-19j), 'YIIY'),\n",
       " ((0.29725754124528153+2.1604880912443751e-19j), 'YIYI'),\n",
       " ((0.12503002178648917+1.2282279706447362e-18j), 'YIYY'),\n",
       " ((-0.12187554956463287-3.004935108710524e-19j), 'YYII'),\n",
       " ((0.05035196989415949-1.3126726723913512e-18j), 'YYIY'),\n",
       " ((-0.2934951172626951+4.0610012220138877e-19j), 'YYYI'),\n",
       " ((-0.12126759780390275-6.0607903931891e-19j), 'YYYY')]"
      ]
     },
     "execution_count": 13,
     "metadata": {},
     "output_type": "execute_result"
    }
   ],
   "source": [
    "test_ppoly.terms"
   ]
  },
  {
   "cell_type": "code",
   "execution_count": 14,
   "metadata": {},
   "outputs": [
    {
     "data": {
      "text/plain": [
       "2.34375"
      ]
     },
     "execution_count": 14,
     "metadata": {},
     "output_type": "execute_result"
    }
   ],
   "source": [
    "#plist = list(test_ppoly._terms.values())\n",
    "coef_mat = test_ppoly.coef_matrix\n",
    "mat = test_ppoly.matrix\n",
    "coef_mat[coef_mat<0.05] = 0.\n",
    "cmat = csr_matrix(coef_mat)\n",
    "100*cmat.data.size/(4**qubits)"
   ]
  },
  {
   "cell_type": "code",
   "execution_count": 15,
   "metadata": {},
   "outputs": [],
   "source": [
    "from opttrot.pauli import PauliElement"
   ]
  },
  {
   "cell_type": "code",
   "execution_count": 90,
   "metadata": {},
   "outputs": [],
   "source": [
    "a = PauliElement(3, 4, 5, 0.5)\n",
    "b = PauliElement(1, 2, 5, 0.5)\n",
    "c = PauliElement(2, 2, 5, 0.1)"
   ]
  },
  {
   "cell_type": "code",
   "execution_count": 91,
   "metadata": {},
   "outputs": [
    {
     "name": "stdout",
     "output_type": "stream",
     "text": [
      "[PauliElement(n=5, weight=0.500000+(0.000000)j, IIZXX)\n",
      " PauliElement(n=5, weight=0.500000+(0.000000)j, IIIZX)\n",
      " PauliElement(n=5, weight=0.100000+(0.000000)j, IIIYI)]\n"
     ]
    }
   ],
   "source": [
    "parr = np.array([a,b, c])\n",
    "print(parr)"
   ]
  },
  {
   "cell_type": "code",
   "execution_count": 92,
   "metadata": {},
   "outputs": [],
   "source": [
    "ppoly = PauliPoly.from_iterables(parr)"
   ]
  },
  {
   "cell_type": "code",
   "execution_count": 93,
   "metadata": {},
   "outputs": [
    {
     "data": {
      "text/plain": [
       "array([PauliElement(n=5, weight=0.100000+(0.000000)j, IIIXI),\n",
       "       PauliElement(n=5, weight=0.500000+(0.000000)j, IIIYZ),\n",
       "       PauliElement(n=5, weight=0.500000+(0.000000)j, IIYZZ)],\n",
       "      dtype=object)"
      ]
     },
     "execution_count": 93,
     "metadata": {},
     "output_type": "execute_result"
    }
   ],
   "source": [
    "ppoly.poly"
   ]
  },
  {
   "cell_type": "code",
   "execution_count": 79,
   "metadata": {},
   "outputs": [
    {
     "data": {
      "text/plain": [
       "False"
      ]
     },
     "execution_count": 79,
     "metadata": {},
     "output_type": "execute_result"
    }
   ],
   "source": [
    "a.commute(b)"
   ]
  },
  {
   "cell_type": "code",
   "execution_count": 80,
   "metadata": {},
   "outputs": [
    {
     "data": {
      "text/plain": [
       "PauliPoly(terms:2)[\n",
       "((0.5+0j), 'IIIYZ'),\n",
       "((0.5+0j), 'IIYZZ')\n",
       "]"
      ]
     },
     "execution_count": 80,
     "metadata": {},
     "output_type": "execute_result"
    }
   ],
   "source": [
    "a+b"
   ]
  },
  {
   "cell_type": "code",
   "execution_count": 48,
   "metadata": {},
   "outputs": [
    {
     "data": {
      "text/plain": [
       "(False, True)"
      ]
     },
     "execution_count": 48,
     "metadata": {},
     "output_type": "execute_result"
    }
   ],
   "source": [
    "c.commute(a), c.commute(b)"
   ]
  },
  {
   "cell_type": "code",
   "execution_count": 49,
   "metadata": {},
   "outputs": [
    {
     "data": {
      "text/plain": [
       "array([False,  True])"
      ]
     },
     "execution_count": 49,
     "metadata": {},
     "output_type": "execute_result"
    }
   ],
   "source": [
    "c.commute(ppoly)"
   ]
  },
  {
   "cell_type": "markdown",
   "metadata": {},
   "source": [
    "## Coef matrix to PauliPoly"
   ]
  },
  {
   "cell_type": "code",
   "execution_count": 15,
   "metadata": {},
   "outputs": [
    {
     "name": "stdout",
     "output_type": "stream",
     "text": [
      "2.9 μs ± 122 ns per loop (mean ± std. dev. of 7 runs, 100,000 loops each)\n"
     ]
    }
   ],
   "source": [
    "%%timeit\n",
    "PauliPoly(coef_mat)"
   ]
  },
  {
   "cell_type": "markdown",
   "metadata": {},
   "source": [
    "## Hermit matrix to PauliPoly"
   ]
  },
  {
   "cell_type": "code",
   "execution_count": 16,
   "metadata": {},
   "outputs": [
    {
     "name": "stdout",
     "output_type": "stream",
     "text": [
      "26.8 μs ± 385 ns per loop (mean ± std. dev. of 7 runs, 10,000 loops each)\n"
     ]
    }
   ],
   "source": [
    "%%timeit\n",
    "PauliPoly.from_matrix(mat)"
   ]
  },
  {
   "cell_type": "code",
   "execution_count": 17,
   "metadata": {},
   "outputs": [
    {
     "name": "stdout",
     "output_type": "stream",
     "text": [
      "13.7 μs ± 278 ns per loop (mean ± std. dev. of 7 runs, 100,000 loops each)\n"
     ]
    }
   ],
   "source": [
    "%%timeit\n",
    "SparsePauliOp.from_operator(mat)"
   ]
  },
  {
   "cell_type": "markdown",
   "metadata": {},
   "source": [
    "## Test"
   ]
  },
  {
   "cell_type": "markdown",
   "metadata": {},
   "source": [
    "## PauliPoly to Hermit"
   ]
  },
  {
   "cell_type": "code",
   "execution_count": 18,
   "metadata": {},
   "outputs": [],
   "source": [
    "# PauliPoly\n",
    "pp001 = PauliPoly.from_matrix(A)\n",
    "pp002 = PauliPoly.from_matrix(B)\n",
    "\n",
    "# Qiskit\n",
    "spa001 = SparsePauliOp.from_operator(A)\n",
    "spa002 = SparsePauliOp.from_operator(B)"
   ]
  },
  {
   "cell_type": "code",
   "execution_count": 19,
   "metadata": {},
   "outputs": [
    {
     "name": "stdout",
     "output_type": "stream",
     "text": [
      "15.4 μs ± 391 ns per loop (mean ± std. dev. of 7 runs, 100,000 loops each)\n"
     ]
    }
   ],
   "source": [
    "%%timeit\n",
    "pp001.matrix"
   ]
  },
  {
   "cell_type": "code",
   "execution_count": 20,
   "metadata": {},
   "outputs": [
    {
     "name": "stdout",
     "output_type": "stream",
     "text": [
      "23.6 μs ± 2.21 μs per loop (mean ± std. dev. of 7 runs, 10,000 loops each)\n"
     ]
    }
   ],
   "source": [
    "%%timeit\n",
    "spa001.to_matrix() "
   ]
  },
  {
   "cell_type": "markdown",
   "metadata": {},
   "source": [
    "Tset: Qubit 12 (Matrix construction)\n",
    "\n",
    "- PauliPoly: 3.48 s ± 12.3 ms\n",
    "- Qiskit: 33.2 s ± 1.98 s"
   ]
  },
  {
   "cell_type": "code",
   "execution_count": 25,
   "metadata": {},
   "outputs": [
    {
     "name": "stdout",
     "output_type": "stream",
     "text": [
      "44 µs ± 587 ns per loop (mean ± std. dev. of 7 runs, 10,000 loops each)\n"
     ]
    }
   ],
   "source": [
    "%%timeit\n",
    "pp002.matrix"
   ]
  },
  {
   "cell_type": "code",
   "execution_count": 26,
   "metadata": {},
   "outputs": [
    {
     "name": "stdout",
     "output_type": "stream",
     "text": [
      "96.8 µs ± 561 ns per loop (mean ± std. dev. of 7 runs, 10,000 loops each)\n"
     ]
    }
   ],
   "source": [
    "%%timeit\n",
    "spa002.to_matrix()"
   ]
  },
  {
   "cell_type": "markdown",
   "metadata": {},
   "source": [
    "## PauliElement generation"
   ]
  },
  {
   "cell_type": "code",
   "execution_count": 21,
   "metadata": {},
   "outputs": [
    {
     "data": {
      "text/plain": [
       "matrix([[ 0.00000000e+00+0.00000000e+00j,\n",
       "          0.00000000e+00+0.00000000e+00j,\n",
       "          0.00000000e+00+0.00000000e+00j,\n",
       "          0.00000000e+00+0.00000000e+00j,\n",
       "          0.00000000e+00+0.00000000e+00j,\n",
       "          0.00000000e+00+0.00000000e+00j,\n",
       "          0.00000000e+00+0.00000000e+00j,\n",
       "          0.00000000e+00+0.00000000e+00j,\n",
       "          0.00000000e+00+0.00000000e+00j,\n",
       "          0.00000000e+00+0.00000000e+00j,\n",
       "          0.00000000e+00+0.00000000e+00j,\n",
       "          0.00000000e+00+0.00000000e+00j,\n",
       "          0.00000000e+00+0.00000000e+00j,\n",
       "          0.00000000e+00+0.00000000e+00j,\n",
       "          0.00000000e+00+0.00000000e+00j,\n",
       "          0.00000000e+00+0.00000000e+00j],\n",
       "        [ 0.00000000e+00+0.00000000e+00j,\n",
       "          1.39188187e+00+6.44026808e-19j,\n",
       "          0.00000000e+00+0.00000000e+00j,\n",
       "          0.00000000e+00+0.00000000e+00j,\n",
       "          0.00000000e+00+0.00000000e+00j,\n",
       "          1.40240774e+00-1.95582036e-17j,\n",
       "          0.00000000e+00+0.00000000e+00j,\n",
       "          0.00000000e+00+0.00000000e+00j,\n",
       "          0.00000000e+00+0.00000000e+00j,\n",
       "          0.00000000e+00+0.00000000e+00j,\n",
       "          0.00000000e+00+0.00000000e+00j,\n",
       "          0.00000000e+00+0.00000000e+00j,\n",
       "          0.00000000e+00+0.00000000e+00j,\n",
       "          0.00000000e+00+0.00000000e+00j,\n",
       "          0.00000000e+00+0.00000000e+00j,\n",
       "          0.00000000e+00+0.00000000e+00j],\n",
       "        [ 0.00000000e+00+0.00000000e+00j,\n",
       "          0.00000000e+00+0.00000000e+00j,\n",
       "          1.37340021e+00+2.99363023e-18j,\n",
       "          0.00000000e+00+0.00000000e+00j,\n",
       "          0.00000000e+00+0.00000000e+00j,\n",
       "          0.00000000e+00+0.00000000e+00j,\n",
       "          0.00000000e+00+0.00000000e+00j,\n",
       "          0.00000000e+00+0.00000000e+00j,\n",
       "          0.00000000e+00+0.00000000e+00j,\n",
       "          0.00000000e+00+0.00000000e+00j,\n",
       "          0.00000000e+00+0.00000000e+00j,\n",
       "          0.00000000e+00+0.00000000e+00j,\n",
       "          0.00000000e+00+0.00000000e+00j,\n",
       "          0.00000000e+00+0.00000000e+00j,\n",
       "          0.00000000e+00+0.00000000e+00j,\n",
       "          0.00000000e+00+0.00000000e+00j],\n",
       "        [ 0.00000000e+00+0.00000000e+00j,\n",
       "          0.00000000e+00+0.00000000e+00j,\n",
       "          0.00000000e+00+0.00000000e+00j,\n",
       "          0.00000000e+00+1.54074396e-33j,\n",
       "          0.00000000e+00+0.00000000e+00j,\n",
       "          0.00000000e+00+0.00000000e+00j,\n",
       "          0.00000000e+00+0.00000000e+00j,\n",
       "          0.00000000e+00+0.00000000e+00j,\n",
       "          0.00000000e+00+0.00000000e+00j,\n",
       "          0.00000000e+00+0.00000000e+00j,\n",
       "          0.00000000e+00+0.00000000e+00j,\n",
       "          0.00000000e+00+0.00000000e+00j,\n",
       "          0.00000000e+00+0.00000000e+00j,\n",
       "          0.00000000e+00+0.00000000e+00j,\n",
       "          0.00000000e+00+0.00000000e+00j,\n",
       "          0.00000000e+00+0.00000000e+00j],\n",
       "        [ 0.00000000e+00+0.00000000e+00j,\n",
       "          0.00000000e+00+0.00000000e+00j,\n",
       "          0.00000000e+00+0.00000000e+00j,\n",
       "          0.00000000e+00+0.00000000e+00j,\n",
       "         -2.22044605e-16+0.00000000e+00j,\n",
       "          0.00000000e+00+0.00000000e+00j,\n",
       "          0.00000000e+00+0.00000000e+00j,\n",
       "          0.00000000e+00+0.00000000e+00j,\n",
       "          0.00000000e+00+0.00000000e+00j,\n",
       "          0.00000000e+00+0.00000000e+00j,\n",
       "          0.00000000e+00+0.00000000e+00j,\n",
       "          0.00000000e+00+0.00000000e+00j,\n",
       "          0.00000000e+00+0.00000000e+00j,\n",
       "          0.00000000e+00+0.00000000e+00j,\n",
       "          0.00000000e+00+0.00000000e+00j,\n",
       "          0.00000000e+00+0.00000000e+00j],\n",
       "        [ 0.00000000e+00+0.00000000e+00j,\n",
       "          1.40240774e+00-1.95582036e-17j,\n",
       "          0.00000000e+00+0.00000000e+00j,\n",
       "          0.00000000e+00+0.00000000e+00j,\n",
       "          0.00000000e+00+0.00000000e+00j,\n",
       "          2.41586184e+00-2.42504852e-17j,\n",
       "          0.00000000e+00+0.00000000e+00j,\n",
       "          0.00000000e+00+0.00000000e+00j,\n",
       "          0.00000000e+00+0.00000000e+00j,\n",
       "          0.00000000e+00+0.00000000e+00j,\n",
       "          0.00000000e+00+0.00000000e+00j,\n",
       "          0.00000000e+00+0.00000000e+00j,\n",
       "          1.37769092e+00+9.96783809e-18j,\n",
       "          0.00000000e+00+0.00000000e+00j,\n",
       "          0.00000000e+00+0.00000000e+00j,\n",
       "          0.00000000e+00+0.00000000e+00j],\n",
       "        [ 0.00000000e+00+0.00000000e+00j,\n",
       "          0.00000000e+00+0.00000000e+00j,\n",
       "          0.00000000e+00+0.00000000e+00j,\n",
       "          0.00000000e+00+0.00000000e+00j,\n",
       "          0.00000000e+00+0.00000000e+00j,\n",
       "          0.00000000e+00+0.00000000e+00j,\n",
       "         -1.11022302e-16+7.70371978e-34j,\n",
       "          0.00000000e+00+0.00000000e+00j,\n",
       "          0.00000000e+00+0.00000000e+00j,\n",
       "          0.00000000e+00+0.00000000e+00j,\n",
       "          0.00000000e+00+0.00000000e+00j,\n",
       "          0.00000000e+00+0.00000000e+00j,\n",
       "          0.00000000e+00+0.00000000e+00j,\n",
       "          0.00000000e+00+0.00000000e+00j,\n",
       "          0.00000000e+00+0.00000000e+00j,\n",
       "          0.00000000e+00+0.00000000e+00j],\n",
       "        [ 0.00000000e+00+0.00000000e+00j,\n",
       "          0.00000000e+00+0.00000000e+00j,\n",
       "          0.00000000e+00+0.00000000e+00j,\n",
       "          0.00000000e+00+0.00000000e+00j,\n",
       "          0.00000000e+00+0.00000000e+00j,\n",
       "          0.00000000e+00+0.00000000e+00j,\n",
       "          0.00000000e+00+0.00000000e+00j,\n",
       "          2.22044605e-16+0.00000000e+00j,\n",
       "          0.00000000e+00+0.00000000e+00j,\n",
       "          0.00000000e+00+0.00000000e+00j,\n",
       "          0.00000000e+00+0.00000000e+00j,\n",
       "          0.00000000e+00+0.00000000e+00j,\n",
       "          0.00000000e+00+0.00000000e+00j,\n",
       "          0.00000000e+00+0.00000000e+00j,\n",
       "          0.00000000e+00+0.00000000e+00j,\n",
       "          0.00000000e+00+0.00000000e+00j],\n",
       "        [ 0.00000000e+00+0.00000000e+00j,\n",
       "          0.00000000e+00+0.00000000e+00j,\n",
       "          0.00000000e+00+0.00000000e+00j,\n",
       "          0.00000000e+00+0.00000000e+00j,\n",
       "          0.00000000e+00+0.00000000e+00j,\n",
       "          0.00000000e+00+0.00000000e+00j,\n",
       "          0.00000000e+00+0.00000000e+00j,\n",
       "          0.00000000e+00+0.00000000e+00j,\n",
       "          1.37135583e+00-5.59044068e-19j,\n",
       "          0.00000000e+00+0.00000000e+00j,\n",
       "          0.00000000e+00+0.00000000e+00j,\n",
       "          0.00000000e+00+0.00000000e+00j,\n",
       "          0.00000000e+00+0.00000000e+00j,\n",
       "          0.00000000e+00+0.00000000e+00j,\n",
       "          0.00000000e+00+0.00000000e+00j,\n",
       "          0.00000000e+00+0.00000000e+00j],\n",
       "        [ 0.00000000e+00+0.00000000e+00j,\n",
       "          0.00000000e+00+0.00000000e+00j,\n",
       "          0.00000000e+00+0.00000000e+00j,\n",
       "          0.00000000e+00+0.00000000e+00j,\n",
       "          0.00000000e+00+0.00000000e+00j,\n",
       "          0.00000000e+00+0.00000000e+00j,\n",
       "          0.00000000e+00+0.00000000e+00j,\n",
       "          0.00000000e+00+0.00000000e+00j,\n",
       "          0.00000000e+00+0.00000000e+00j,\n",
       "          1.36054068e+00+7.85863749e-19j,\n",
       "          0.00000000e+00+0.00000000e+00j,\n",
       "          0.00000000e+00+0.00000000e+00j,\n",
       "          0.00000000e+00+0.00000000e+00j,\n",
       "          0.00000000e+00+0.00000000e+00j,\n",
       "          0.00000000e+00+0.00000000e+00j,\n",
       "          0.00000000e+00+0.00000000e+00j],\n",
       "        [ 0.00000000e+00+0.00000000e+00j,\n",
       "          0.00000000e+00+0.00000000e+00j,\n",
       "          0.00000000e+00+0.00000000e+00j,\n",
       "          0.00000000e+00+0.00000000e+00j,\n",
       "          0.00000000e+00+0.00000000e+00j,\n",
       "          0.00000000e+00+0.00000000e+00j,\n",
       "          0.00000000e+00+0.00000000e+00j,\n",
       "          0.00000000e+00+0.00000000e+00j,\n",
       "          0.00000000e+00+0.00000000e+00j,\n",
       "          0.00000000e+00+0.00000000e+00j,\n",
       "         -2.22044605e-16+0.00000000e+00j,\n",
       "          0.00000000e+00+0.00000000e+00j,\n",
       "          0.00000000e+00+0.00000000e+00j,\n",
       "          0.00000000e+00+0.00000000e+00j,\n",
       "          0.00000000e+00+0.00000000e+00j,\n",
       "          0.00000000e+00+0.00000000e+00j],\n",
       "        [ 0.00000000e+00+0.00000000e+00j,\n",
       "          0.00000000e+00+0.00000000e+00j,\n",
       "          0.00000000e+00+0.00000000e+00j,\n",
       "          0.00000000e+00+0.00000000e+00j,\n",
       "          0.00000000e+00+0.00000000e+00j,\n",
       "          0.00000000e+00+0.00000000e+00j,\n",
       "          0.00000000e+00+0.00000000e+00j,\n",
       "          0.00000000e+00+0.00000000e+00j,\n",
       "          0.00000000e+00+0.00000000e+00j,\n",
       "          0.00000000e+00+0.00000000e+00j,\n",
       "          0.00000000e+00+0.00000000e+00j,\n",
       "          0.00000000e+00+0.00000000e+00j,\n",
       "          0.00000000e+00+0.00000000e+00j,\n",
       "          0.00000000e+00+0.00000000e+00j,\n",
       "          0.00000000e+00+0.00000000e+00j,\n",
       "          0.00000000e+00+0.00000000e+00j],\n",
       "        [ 0.00000000e+00+0.00000000e+00j,\n",
       "          0.00000000e+00+0.00000000e+00j,\n",
       "          0.00000000e+00+0.00000000e+00j,\n",
       "          0.00000000e+00+0.00000000e+00j,\n",
       "          0.00000000e+00+0.00000000e+00j,\n",
       "          1.37769092e+00+9.96783809e-18j,\n",
       "          0.00000000e+00+0.00000000e+00j,\n",
       "          0.00000000e+00+0.00000000e+00j,\n",
       "          0.00000000e+00+0.00000000e+00j,\n",
       "          0.00000000e+00+0.00000000e+00j,\n",
       "          0.00000000e+00+0.00000000e+00j,\n",
       "          0.00000000e+00+0.00000000e+00j,\n",
       "          2.41101723e+00+1.33629081e-17j,\n",
       "          0.00000000e+00+0.00000000e+00j,\n",
       "          0.00000000e+00+0.00000000e+00j,\n",
       "          0.00000000e+00+0.00000000e+00j],\n",
       "        [ 0.00000000e+00+0.00000000e+00j,\n",
       "          0.00000000e+00+0.00000000e+00j,\n",
       "          0.00000000e+00+0.00000000e+00j,\n",
       "          0.00000000e+00+0.00000000e+00j,\n",
       "          0.00000000e+00+0.00000000e+00j,\n",
       "          0.00000000e+00+0.00000000e+00j,\n",
       "          0.00000000e+00+0.00000000e+00j,\n",
       "          0.00000000e+00+0.00000000e+00j,\n",
       "          0.00000000e+00+0.00000000e+00j,\n",
       "          0.00000000e+00+0.00000000e+00j,\n",
       "          0.00000000e+00+0.00000000e+00j,\n",
       "          0.00000000e+00+0.00000000e+00j,\n",
       "          0.00000000e+00+0.00000000e+00j,\n",
       "          0.00000000e+00+0.00000000e+00j,\n",
       "          0.00000000e+00+0.00000000e+00j,\n",
       "          0.00000000e+00+0.00000000e+00j],\n",
       "        [ 0.00000000e+00+0.00000000e+00j,\n",
       "          0.00000000e+00+0.00000000e+00j,\n",
       "          0.00000000e+00+0.00000000e+00j,\n",
       "          0.00000000e+00+0.00000000e+00j,\n",
       "          0.00000000e+00+0.00000000e+00j,\n",
       "          0.00000000e+00+0.00000000e+00j,\n",
       "          0.00000000e+00+0.00000000e+00j,\n",
       "          0.00000000e+00+0.00000000e+00j,\n",
       "          0.00000000e+00+0.00000000e+00j,\n",
       "          0.00000000e+00+0.00000000e+00j,\n",
       "          0.00000000e+00+0.00000000e+00j,\n",
       "          0.00000000e+00+0.00000000e+00j,\n",
       "          0.00000000e+00+0.00000000e+00j,\n",
       "          0.00000000e+00+0.00000000e+00j,\n",
       "         -3.33066907e-16+0.00000000e+00j,\n",
       "          0.00000000e+00+0.00000000e+00j],\n",
       "        [ 0.00000000e+00+0.00000000e+00j,\n",
       "          0.00000000e+00+0.00000000e+00j,\n",
       "          0.00000000e+00+0.00000000e+00j,\n",
       "          0.00000000e+00+0.00000000e+00j,\n",
       "          0.00000000e+00+0.00000000e+00j,\n",
       "          0.00000000e+00+0.00000000e+00j,\n",
       "          0.00000000e+00+0.00000000e+00j,\n",
       "          0.00000000e+00+0.00000000e+00j,\n",
       "          0.00000000e+00+0.00000000e+00j,\n",
       "          0.00000000e+00+0.00000000e+00j,\n",
       "          0.00000000e+00+0.00000000e+00j,\n",
       "          0.00000000e+00+0.00000000e+00j,\n",
       "          0.00000000e+00+0.00000000e+00j,\n",
       "          0.00000000e+00+0.00000000e+00j,\n",
       "          0.00000000e+00+0.00000000e+00j,\n",
       "          1.40952978e+00-9.04816323e-18j]])"
      ]
     },
     "execution_count": 21,
     "metadata": {},
     "output_type": "execute_result"
    }
   ],
   "source": [
    "pp001.matrix"
   ]
  },
  {
   "cell_type": "code",
   "execution_count": 22,
   "metadata": {},
   "outputs": [],
   "source": [
    "ps = pp001.poly"
   ]
  },
  {
   "cell_type": "code",
   "execution_count": 23,
   "metadata": {},
   "outputs": [
    {
     "data": {
      "text/plain": [
       "array([PauliElement(n=4, weight=nan+(nan)j, IIII),\n",
       "       PauliElement(n=4, weight=nan+(nan)j, IZII),\n",
       "       PauliElement(n=4, weight=nan+(nan)j, IZIZ),\n",
       "       PauliElement(n=4, weight=nan+(nan)j, IZZZ),\n",
       "       PauliElement(n=4, weight=nan+(nan)j, ZIIZ),\n",
       "       PauliElement(n=4, weight=nan+(nan)j, ZZIZ),\n",
       "       PauliElement(n=4, weight=nan+(nan)j, IIIY),\n",
       "       PauliElement(n=4, weight=nan+(nan)j, IZIX),\n",
       "       PauliElement(n=4, weight=nan+(nan)j, IZIY),\n",
       "       PauliElement(n=4, weight=nan+(nan)j, IZZX),\n",
       "       PauliElement(n=4, weight=nan+(nan)j, ZIIX),\n",
       "       PauliElement(n=4, weight=nan+(nan)j, ZZIX),\n",
       "       PauliElement(n=4, weight=nan+(nan)j, IIYI),\n",
       "       PauliElement(n=4, weight=nan+(nan)j, IZXZ),\n",
       "       PauliElement(n=4, weight=nan+(nan)j, IZYI),\n",
       "       PauliElement(n=4, weight=nan+(nan)j, IZYZ),\n",
       "       PauliElement(n=4, weight=nan+(nan)j, ZIYZ),\n",
       "       PauliElement(n=4, weight=nan+(nan)j, ZZYZ),\n",
       "       PauliElement(n=4, weight=nan+(nan)j, IIYY),\n",
       "       PauliElement(n=4, weight=nan+(nan)j, IZXX),\n",
       "       PauliElement(n=4, weight=nan+(nan)j, IZYX),\n",
       "       PauliElement(n=4, weight=nan+(nan)j, IZYY),\n",
       "       PauliElement(n=4, weight=nan+(nan)j, ZIYX),\n",
       "       PauliElement(n=4, weight=nan+(nan)j, ZZYX),\n",
       "       PauliElement(n=4, weight=nan+(nan)j, IXII),\n",
       "       PauliElement(n=4, weight=nan+(nan)j, IXIZ),\n",
       "       PauliElement(n=4, weight=nan+(nan)j, IXZZ),\n",
       "       PauliElement(n=4, weight=nan+(nan)j, IYII),\n",
       "       PauliElement(n=4, weight=nan+(nan)j, ZXIZ),\n",
       "       PauliElement(n=4, weight=nan+(nan)j, ZYIZ),\n",
       "       PauliElement(n=4, weight=nan+(nan)j, IXIX),\n",
       "       PauliElement(n=4, weight=nan+(nan)j, IXIY),\n",
       "       PauliElement(n=4, weight=nan+(nan)j, IXZX),\n",
       "       PauliElement(n=4, weight=nan+(nan)j, IYIY),\n",
       "       PauliElement(n=4, weight=nan+(nan)j, ZXIX),\n",
       "       PauliElement(n=4, weight=nan+(nan)j, ZYIX),\n",
       "       PauliElement(n=4, weight=nan+(nan)j, IXXZ),\n",
       "       PauliElement(n=4, weight=nan+(nan)j, IXYI),\n",
       "       PauliElement(n=4, weight=nan+(nan)j, IXYZ),\n",
       "       PauliElement(n=4, weight=nan+(nan)j, IYYI),\n",
       "       PauliElement(n=4, weight=nan+(nan)j, ZXYZ),\n",
       "       PauliElement(n=4, weight=nan+(nan)j, ZYYZ),\n",
       "       PauliElement(n=4, weight=nan+(nan)j, IXXX),\n",
       "       PauliElement(n=4, weight=nan+(nan)j, IXYX),\n",
       "       PauliElement(n=4, weight=nan+(nan)j, IXYY),\n",
       "       PauliElement(n=4, weight=nan+(nan)j, IYYY),\n",
       "       PauliElement(n=4, weight=nan+(nan)j, ZXYX),\n",
       "       PauliElement(n=4, weight=nan+(nan)j, ZYYX),\n",
       "       PauliElement(n=4, weight=nan+(nan)j, XIIZ),\n",
       "       PauliElement(n=4, weight=nan+(nan)j, XZIZ),\n",
       "       PauliElement(n=4, weight=nan+(nan)j, YIII),\n",
       "       PauliElement(n=4, weight=nan+(nan)j, YZII),\n",
       "       PauliElement(n=4, weight=nan+(nan)j, YZIZ),\n",
       "       PauliElement(n=4, weight=nan+(nan)j, YZZZ),\n",
       "       PauliElement(n=4, weight=nan+(nan)j, XIIX),\n",
       "       PauliElement(n=4, weight=nan+(nan)j, XZIX),\n",
       "       PauliElement(n=4, weight=nan+(nan)j, YIIY),\n",
       "       PauliElement(n=4, weight=nan+(nan)j, YZIX),\n",
       "       PauliElement(n=4, weight=nan+(nan)j, YZIY),\n",
       "       PauliElement(n=4, weight=nan+(nan)j, YZZX),\n",
       "       PauliElement(n=4, weight=nan+(nan)j, XIYZ),\n",
       "       PauliElement(n=4, weight=nan+(nan)j, XZYZ),\n",
       "       PauliElement(n=4, weight=nan+(nan)j, YIYI),\n",
       "       PauliElement(n=4, weight=nan+(nan)j, YZXZ),\n",
       "       PauliElement(n=4, weight=nan+(nan)j, YZYI),\n",
       "       PauliElement(n=4, weight=nan+(nan)j, YZYZ),\n",
       "       PauliElement(n=4, weight=nan+(nan)j, XIYX),\n",
       "       PauliElement(n=4, weight=nan+(nan)j, XZYX),\n",
       "       PauliElement(n=4, weight=nan+(nan)j, YIYY),\n",
       "       PauliElement(n=4, weight=nan+(nan)j, YZXX),\n",
       "       PauliElement(n=4, weight=nan+(nan)j, YZYX),\n",
       "       PauliElement(n=4, weight=nan+(nan)j, YZYY),\n",
       "       PauliElement(n=4, weight=nan+(nan)j, XXIZ),\n",
       "       PauliElement(n=4, weight=nan+(nan)j, XYIZ),\n",
       "       PauliElement(n=4, weight=nan+(nan)j, YXII),\n",
       "       PauliElement(n=4, weight=nan+(nan)j, YXIZ),\n",
       "       PauliElement(n=4, weight=nan+(nan)j, YXZZ),\n",
       "       PauliElement(n=4, weight=nan+(nan)j, YYII),\n",
       "       PauliElement(n=4, weight=nan+(nan)j, XXIX),\n",
       "       PauliElement(n=4, weight=nan+(nan)j, XYIX),\n",
       "       PauliElement(n=4, weight=nan+(nan)j, YXIX),\n",
       "       PauliElement(n=4, weight=nan+(nan)j, YXIY),\n",
       "       PauliElement(n=4, weight=nan+(nan)j, YXZX),\n",
       "       PauliElement(n=4, weight=nan+(nan)j, YYIY),\n",
       "       PauliElement(n=4, weight=nan+(nan)j, XXYZ),\n",
       "       PauliElement(n=4, weight=nan+(nan)j, XYYZ),\n",
       "       PauliElement(n=4, weight=nan+(nan)j, YXXZ),\n",
       "       PauliElement(n=4, weight=nan+(nan)j, YXYI),\n",
       "       PauliElement(n=4, weight=nan+(nan)j, YXYZ),\n",
       "       PauliElement(n=4, weight=nan+(nan)j, YYYI),\n",
       "       PauliElement(n=4, weight=nan+(nan)j, XXYX),\n",
       "       PauliElement(n=4, weight=nan+(nan)j, XYYX),\n",
       "       PauliElement(n=4, weight=nan+(nan)j, YXXX),\n",
       "       PauliElement(n=4, weight=nan+(nan)j, YXYX),\n",
       "       PauliElement(n=4, weight=nan+(nan)j, YXYY),\n",
       "       PauliElement(n=4, weight=nan+(nan)j, YYYY)], dtype=object)"
      ]
     },
     "execution_count": 23,
     "metadata": {},
     "output_type": "execute_result"
    }
   ],
   "source": [
    "ps"
   ]
  },
  {
   "cell_type": "code",
   "execution_count": 24,
   "metadata": {},
   "outputs": [
    {
     "data": {
      "text/plain": [
       "matrix([[nan+nanj,  0. +0.j,  0. +0.j,  0. +0.j, nan+nanj, nan+nanj,\n",
       "          0. +0.j, nan+nanj,  0. +0.j, nan+nanj,  0. +0.j,  0. +0.j,\n",
       "          0. +0.j, nan+nanj,  0. +0.j,  0. +0.j],\n",
       "        [ 0. +0.j, nan+nanj,  0. +0.j,  0. +0.j, nan+nanj, nan+nanj,\n",
       "         nan+nanj,  0. +0.j, nan+nanj,  0. +0.j,  0. +0.j,  0. +0.j,\n",
       "         nan+nanj,  0. +0.j,  0. +0.j,  0. +0.j],\n",
       "        [ 0. +0.j,  0. +0.j, nan+nanj,  0. +0.j,  0. +0.j, nan+nanj,\n",
       "         nan+nanj, nan+nanj,  0. +0.j,  0. +0.j,  0. +0.j, nan+nanj,\n",
       "          0. +0.j,  0. +0.j,  0. +0.j, nan+nanj],\n",
       "        [ 0. +0.j,  0. +0.j,  0. +0.j, nan+nanj, nan+nanj,  0. +0.j,\n",
       "         nan+nanj, nan+nanj,  0. +0.j,  0. +0.j, nan+nanj,  0. +0.j,\n",
       "          0. +0.j,  0. +0.j, nan+nanj,  0. +0.j],\n",
       "        [nan+nanj, nan+nanj,  0. +0.j, nan+nanj, nan+nanj,  0. +0.j,\n",
       "          0. +0.j,  0. +0.j,  0. +0.j, nan+nanj,  0. +0.j,  0. +0.j,\n",
       "          0. +0.j, nan+nanj,  0. +0.j,  0. +0.j],\n",
       "        [nan+nanj, nan+nanj, nan+nanj,  0. +0.j,  0. +0.j, nan+nanj,\n",
       "          0. +0.j,  0. +0.j, nan+nanj,  0. +0.j,  0. +0.j,  0. +0.j,\n",
       "         nan+nanj,  0. +0.j,  0. +0.j,  0. +0.j],\n",
       "        [ 0. +0.j, nan+nanj, nan+nanj, nan+nanj,  0. +0.j,  0. +0.j,\n",
       "         nan+nanj,  0. +0.j,  0. +0.j,  0. +0.j,  0. +0.j, nan+nanj,\n",
       "          0. +0.j,  0. +0.j,  0. +0.j, nan+nanj],\n",
       "        [nan+nanj,  0. +0.j, nan+nanj, nan+nanj,  0. +0.j,  0. +0.j,\n",
       "          0. +0.j, nan+nanj,  0. +0.j,  0. +0.j, nan+nanj,  0. +0.j,\n",
       "          0. +0.j,  0. +0.j, nan+nanj,  0. +0.j],\n",
       "        [ 0. +0.j, nan+nanj,  0. +0.j,  0. +0.j,  0. +0.j, nan+nanj,\n",
       "          0. +0.j,  0. +0.j, nan+nanj,  0. +0.j,  0. +0.j,  0. +0.j,\n",
       "         nan+nanj, nan+nanj,  0. +0.j, nan+nanj],\n",
       "        [nan+nanj,  0. +0.j,  0. +0.j,  0. +0.j, nan+nanj,  0. +0.j,\n",
       "          0. +0.j,  0. +0.j,  0. +0.j, nan+nanj,  0. +0.j,  0. +0.j,\n",
       "         nan+nanj, nan+nanj, nan+nanj,  0. +0.j],\n",
       "        [ 0. +0.j,  0. +0.j,  0. +0.j, nan+nanj,  0. +0.j,  0. +0.j,\n",
       "          0. +0.j, nan+nanj,  0. +0.j,  0. +0.j, nan+nanj,  0. +0.j,\n",
       "          0. +0.j, nan+nanj, nan+nanj, nan+nanj],\n",
       "        [ 0. +0.j,  0. +0.j, nan+nanj,  0. +0.j,  0. +0.j,  0. +0.j,\n",
       "         nan+nanj,  0. +0.j,  0. +0.j,  0. +0.j,  0. +0.j, nan+nanj,\n",
       "         nan+nanj,  0. +0.j, nan+nanj, nan+nanj],\n",
       "        [ 0. +0.j, nan+nanj,  0. +0.j,  0. +0.j,  0. +0.j, nan+nanj,\n",
       "          0. +0.j,  0. +0.j, nan+nanj, nan+nanj,  0. +0.j, nan+nanj,\n",
       "         nan+nanj,  0. +0.j,  0. +0.j,  0. +0.j],\n",
       "        [nan+nanj,  0. +0.j,  0. +0.j,  0. +0.j, nan+nanj,  0. +0.j,\n",
       "          0. +0.j,  0. +0.j, nan+nanj, nan+nanj, nan+nanj,  0. +0.j,\n",
       "          0. +0.j, nan+nanj,  0. +0.j,  0. +0.j],\n",
       "        [ 0. +0.j,  0. +0.j,  0. +0.j, nan+nanj,  0. +0.j,  0. +0.j,\n",
       "          0. +0.j, nan+nanj,  0. +0.j, nan+nanj, nan+nanj, nan+nanj,\n",
       "          0. +0.j,  0. +0.j, nan+nanj,  0. +0.j],\n",
       "        [ 0. +0.j,  0. +0.j, nan+nanj,  0. +0.j,  0. +0.j,  0. +0.j,\n",
       "         nan+nanj,  0. +0.j, nan+nanj,  0. +0.j, nan+nanj, nan+nanj,\n",
       "          0. +0.j,  0. +0.j,  0. +0.j, nan+nanj]])"
      ]
     },
     "execution_count": 24,
     "metadata": {},
     "output_type": "execute_result"
    }
   ],
   "source": [
    "pp001.coef_matrix"
   ]
  },
  {
   "cell_type": "markdown",
   "metadata": {},
   "source": [
    "## Addition"
   ]
  },
  {
   "cell_type": "markdown",
   "metadata": {},
   "source": [
    "**Comparsion: Matrix and set methods**\n",
    "\n",
    "Qubits = 5\n",
    "\n",
    "- Matrix: 58.3 ms ± 2.4 ms\n",
    "- Set: 13.2 ms ± 111 µs\n",
    "\n",
    "Qubits = 8\n",
    "\n",
    "- Matrix: 3.68 s ± 67 ms per loop\n",
    "- Set: 2 s ± 74.5 ms"
   ]
  },
  {
   "cell_type": "code",
   "execution_count": 30,
   "metadata": {},
   "outputs": [
    {
     "name": "stdout",
     "output_type": "stream",
     "text": [
      "18.3 µs ± 279 ns per loop (mean ± std. dev. of 7 runs, 10,000 loops each)\n"
     ]
    }
   ],
   "source": [
    "%%timeit\n",
    "pp001+pp002"
   ]
  },
  {
   "cell_type": "code",
   "execution_count": 31,
   "metadata": {},
   "outputs": [
    {
     "name": "stdout",
     "output_type": "stream",
     "text": [
      "40 µs ± 422 ns per loop (mean ± std. dev. of 7 runs, 10,000 loops each)\n"
     ]
    }
   ],
   "source": [
    "%%timeit\n",
    "spa001+spa002"
   ]
  },
  {
   "cell_type": "markdown",
   "metadata": {},
   "source": [
    "### Mat multiplication"
   ]
  },
  {
   "cell_type": "code",
   "execution_count": 12,
   "metadata": {},
   "outputs": [
    {
     "ename": "NameError",
     "evalue": "name 'pp001' is not defined",
     "output_type": "error",
     "traceback": [
      "\u001b[1;31m---------------------------------------------------------------------------\u001b[0m",
      "\u001b[1;31mNameError\u001b[0m                                 Traceback (most recent call last)",
      "Cell \u001b[1;32mIn[12], line 1\u001b[0m\n\u001b[1;32m----> 1\u001b[0m \u001b[43mget_ipython\u001b[49m\u001b[43m(\u001b[49m\u001b[43m)\u001b[49m\u001b[38;5;241;43m.\u001b[39;49m\u001b[43mrun_cell_magic\u001b[49m\u001b[43m(\u001b[49m\u001b[38;5;124;43m'\u001b[39;49m\u001b[38;5;124;43mtimeit\u001b[39;49m\u001b[38;5;124;43m'\u001b[39;49m\u001b[43m,\u001b[49m\u001b[43m \u001b[49m\u001b[38;5;124;43m'\u001b[39;49m\u001b[38;5;124;43m'\u001b[39;49m\u001b[43m,\u001b[49m\u001b[43m \u001b[49m\u001b[38;5;124;43m'\u001b[39;49m\u001b[38;5;124;43mpp001@pp002\u001b[39;49m\u001b[38;5;130;43;01m\\n\u001b[39;49;00m\u001b[38;5;124;43m'\u001b[39;49m\u001b[43m)\u001b[49m\n",
      "File \u001b[1;32mc:\\Users\\cmat411a\\anaconda3\\envs\\QC\\Lib\\site-packages\\IPython\\core\\interactiveshell.py:2541\u001b[0m, in \u001b[0;36mInteractiveShell.run_cell_magic\u001b[1;34m(self, magic_name, line, cell)\u001b[0m\n\u001b[0;32m   2539\u001b[0m \u001b[38;5;28;01mwith\u001b[39;00m \u001b[38;5;28mself\u001b[39m\u001b[38;5;241m.\u001b[39mbuiltin_trap:\n\u001b[0;32m   2540\u001b[0m     args \u001b[38;5;241m=\u001b[39m (magic_arg_s, cell)\n\u001b[1;32m-> 2541\u001b[0m     result \u001b[38;5;241m=\u001b[39m \u001b[43mfn\u001b[49m\u001b[43m(\u001b[49m\u001b[38;5;241;43m*\u001b[39;49m\u001b[43margs\u001b[49m\u001b[43m,\u001b[49m\u001b[43m \u001b[49m\u001b[38;5;241;43m*\u001b[39;49m\u001b[38;5;241;43m*\u001b[39;49m\u001b[43mkwargs\u001b[49m\u001b[43m)\u001b[49m\n\u001b[0;32m   2543\u001b[0m \u001b[38;5;66;03m# The code below prevents the output from being displayed\u001b[39;00m\n\u001b[0;32m   2544\u001b[0m \u001b[38;5;66;03m# when using magics with decorator @output_can_be_silenced\u001b[39;00m\n\u001b[0;32m   2545\u001b[0m \u001b[38;5;66;03m# when the last Python token in the expression is a ';'.\u001b[39;00m\n\u001b[0;32m   2546\u001b[0m \u001b[38;5;28;01mif\u001b[39;00m \u001b[38;5;28mgetattr\u001b[39m(fn, magic\u001b[38;5;241m.\u001b[39mMAGIC_OUTPUT_CAN_BE_SILENCED, \u001b[38;5;28;01mFalse\u001b[39;00m):\n",
      "File \u001b[1;32mc:\\Users\\cmat411a\\anaconda3\\envs\\QC\\Lib\\site-packages\\IPython\\core\\magics\\execution.py:1185\u001b[0m, in \u001b[0;36mExecutionMagics.timeit\u001b[1;34m(self, line, cell, local_ns)\u001b[0m\n\u001b[0;32m   1183\u001b[0m \u001b[38;5;28;01mfor\u001b[39;00m index \u001b[38;5;129;01min\u001b[39;00m \u001b[38;5;28mrange\u001b[39m(\u001b[38;5;241m0\u001b[39m, \u001b[38;5;241m10\u001b[39m):\n\u001b[0;32m   1184\u001b[0m     number \u001b[38;5;241m=\u001b[39m \u001b[38;5;241m10\u001b[39m \u001b[38;5;241m*\u001b[39m\u001b[38;5;241m*\u001b[39m index\n\u001b[1;32m-> 1185\u001b[0m     time_number \u001b[38;5;241m=\u001b[39m \u001b[43mtimer\u001b[49m\u001b[38;5;241;43m.\u001b[39;49m\u001b[43mtimeit\u001b[49m\u001b[43m(\u001b[49m\u001b[43mnumber\u001b[49m\u001b[43m)\u001b[49m\n\u001b[0;32m   1186\u001b[0m     \u001b[38;5;28;01mif\u001b[39;00m time_number \u001b[38;5;241m>\u001b[39m\u001b[38;5;241m=\u001b[39m \u001b[38;5;241m0.2\u001b[39m:\n\u001b[0;32m   1187\u001b[0m         \u001b[38;5;28;01mbreak\u001b[39;00m\n",
      "File \u001b[1;32mc:\\Users\\cmat411a\\anaconda3\\envs\\QC\\Lib\\site-packages\\IPython\\core\\magics\\execution.py:173\u001b[0m, in \u001b[0;36mTimer.timeit\u001b[1;34m(self, number)\u001b[0m\n\u001b[0;32m    171\u001b[0m gc\u001b[38;5;241m.\u001b[39mdisable()\n\u001b[0;32m    172\u001b[0m \u001b[38;5;28;01mtry\u001b[39;00m:\n\u001b[1;32m--> 173\u001b[0m     timing \u001b[38;5;241m=\u001b[39m \u001b[38;5;28;43mself\u001b[39;49m\u001b[38;5;241;43m.\u001b[39;49m\u001b[43minner\u001b[49m\u001b[43m(\u001b[49m\u001b[43mit\u001b[49m\u001b[43m,\u001b[49m\u001b[43m \u001b[49m\u001b[38;5;28;43mself\u001b[39;49m\u001b[38;5;241;43m.\u001b[39;49m\u001b[43mtimer\u001b[49m\u001b[43m)\u001b[49m\n\u001b[0;32m    174\u001b[0m \u001b[38;5;28;01mfinally\u001b[39;00m:\n\u001b[0;32m    175\u001b[0m     \u001b[38;5;28;01mif\u001b[39;00m gcold:\n",
      "File \u001b[1;32m<magic-timeit>:1\u001b[0m, in \u001b[0;36minner\u001b[1;34m(_it, _timer)\u001b[0m\n",
      "\u001b[1;31mNameError\u001b[0m: name 'pp001' is not defined"
     ]
    }
   ],
   "source": [
    "%%timeit\n",
    "pp001@pp002"
   ]
  },
  {
   "cell_type": "code",
   "execution_count": 36,
   "metadata": {},
   "outputs": [
    {
     "name": "stdout",
     "output_type": "stream",
     "text": [
      "138 ms ± 5.14 ms per loop (mean ± std. dev. of 7 runs, 10 loops each)\n"
     ]
    }
   ],
   "source": [
    "%%timeit\n",
    "spa001@spa002 # Unable to multiplicate."
   ]
  },
  {
   "cell_type": "markdown",
   "metadata": {},
   "source": [
    "### Summary\n",
    "\n",
    "A(xN.N): B took N.N times more slower than A.\n",
    "\n",
    "|Opeartion|Faster|\n",
    "|:-------:|:----:|\n",
    "|o->mat   | Qiskit(x1.2) | \n",
    "|mat->o   | PauliPoly(x2-1.2) | \n",
    "|Addition | PauliPoly(x2) |\n",
    "|Mat Mul  | PauliPoly(x Exponential) |\n"
   ]
  },
  {
   "cell_type": "markdown",
   "metadata": {},
   "source": []
  }
 ],
 "metadata": {
  "kernelspec": {
   "display_name": "opttrot",
   "language": "python",
   "name": "python3"
  },
  "language_info": {
   "codemirror_mode": {
    "name": "ipython",
    "version": 3
   },
   "file_extension": ".py",
   "mimetype": "text/x-python",
   "name": "python",
   "nbconvert_exporter": "python",
   "pygments_lexer": "ipython3",
   "version": "3.12.4"
  }
 },
 "nbformat": 4,
 "nbformat_minor": 2
}
